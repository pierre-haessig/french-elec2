{
 "cells": [
  {
   "cell_type": "markdown",
   "metadata": {},
   "source": [
    "# Cleveland Dot plot for capacity and energy representation\n",
    "\n",
    "for the French power system\n",
    "\n",
    "PH, Oct 2019\n",
    "\n",
    "\n",
    "Some references, apart from Cleveland book:\n",
    "\n",
    "* “Cleveland (Dot Plot) Rocks! (with Tableau)”\n",
    "https://spencerbaucke.com/2019/09/12/cleveland-dot-plot-rocks/\n",
    "\n",
    "* UC Business Analytics R Programming Guide, “Cleveland Dot Plots” page\n",
    "http://uc-r.github.io/cleveland-dot-plots\n",
    "\n",
    "* https://www.jstor.org/stable/2288400\n",
    "Graphical Perception: Theory, Experimentation, and Application to the Development of Graphical Methods\n",
    "William S. Cleveland and Robert McGill\n",
    "Journal of the American Statistical Association\n",
    "Vol. 79, No. 387 (Sep., 1984), pp. 531-554 "
   ]
  },
  {
   "cell_type": "code",
   "execution_count": 2,
   "metadata": {},
   "outputs": [],
   "source": [
    "import numpy as np\n",
    "from numpy import log2, nan\n",
    "\n",
    "import pandas as pd\n",
    "\n",
    "import matplotlib.pyplot as plt\n",
    "from matplotlib.ticker import FuncFormatter\n",
    "from matplotlib import cm\n",
    "%matplotlib inline"
   ]
  },
  {
   "cell_type": "markdown",
   "metadata": {},
   "source": [
    "Read eCO2mix data (adapted from [RTE_explore_concat.ipynb](RTE_explore_concat.ipynb) Notebook)"
   ]
  },
  {
   "cell_type": "code",
   "execution_count": 3,
   "metadata": {},
   "outputs": [],
   "source": [
    "columns_FR = [\n",
    "    'Consommation',\n",
    "    'Fioul', 'Charbon', 'Gaz', 'Nucléaire',\n",
    "    'Eolien', 'Solaire',\n",
    "    'Hydraulique', 'Pompage', 'Bioénergies',\n",
    "    'Ech. physiques',\n",
    "]"
   ]
  },
  {
   "cell_type": "markdown",
   "metadata": {},
   "source": [
    "Translation of column names"
   ]
  },
  {
   "cell_type": "code",
   "execution_count": 7,
   "metadata": {},
   "outputs": [],
   "source": [
    "columns = [\n",
    "    'Load',\n",
    "    'Oil', 'Coal', 'Gas', 'Nuclear',\n",
    "    'Wind', 'Solar',\n",
    "    'Hydro', 'Pump', 'Bio',\n",
    "    'Exchanges',\n",
    "]"
   ]
  },
  {
   "cell_type": "code",
   "execution_count": 8,
   "metadata": {},
   "outputs": [],
   "source": [
    "def read_eCO2mix(fname, columns):\n",
    "    \"\"\"read eCO2mix data file. keep only `columns`\"\"\"\n",
    "    df = pd.read_csv(fname, compression='xz', encoding='windows-1252',\n",
    "                 sep='\\t', skipfooter=2,engine='python',\n",
    "                 index_col=False, parse_dates={'date':[2,3]})\n",
    "    # keep only data at 30 min step\n",
    "    df = df.iloc[::2,:]\n",
    "    # set date as the index\n",
    "    df.set_index('date', verify_integrity=True, inplace=True)\n",
    "    df.index.name = ''\n",
    "    # select columns\n",
    "    return df.loc[:, columns]"
   ]
  },
  {
   "cell_type": "markdown",
   "metadata": {},
   "source": [
    "Read only the main columns (not the detailed ones). Year 2017 as an example"
   ]
  },
  {
   "cell_type": "code",
   "execution_count": 9,
   "metadata": {},
   "outputs": [
    {
     "data": {
      "text/html": [
       "<div>\n",
       "<style scoped>\n",
       "    .dataframe tbody tr th:only-of-type {\n",
       "        vertical-align: middle;\n",
       "    }\n",
       "\n",
       "    .dataframe tbody tr th {\n",
       "        vertical-align: top;\n",
       "    }\n",
       "\n",
       "    .dataframe thead th {\n",
       "        text-align: right;\n",
       "    }\n",
       "</style>\n",
       "<table border=\"1\" class=\"dataframe\">\n",
       "  <thead>\n",
       "    <tr style=\"text-align: right;\">\n",
       "      <th></th>\n",
       "      <th>Load</th>\n",
       "      <th>Oil</th>\n",
       "      <th>Coal</th>\n",
       "      <th>Gas</th>\n",
       "      <th>Nuclear</th>\n",
       "      <th>Wind</th>\n",
       "      <th>Solar</th>\n",
       "      <th>Hydro</th>\n",
       "      <th>Pump</th>\n",
       "      <th>Bio</th>\n",
       "      <th>Exchanges</th>\n",
       "    </tr>\n",
       "    <tr>\n",
       "      <th></th>\n",
       "      <th></th>\n",
       "      <th></th>\n",
       "      <th></th>\n",
       "      <th></th>\n",
       "      <th></th>\n",
       "      <th></th>\n",
       "      <th></th>\n",
       "      <th></th>\n",
       "      <th></th>\n",
       "      <th></th>\n",
       "      <th></th>\n",
       "    </tr>\n",
       "  </thead>\n",
       "  <tbody>\n",
       "    <tr>\n",
       "      <td>2017-12-31 22:30:00</td>\n",
       "      <td>57239.0</td>\n",
       "      <td>164.0</td>\n",
       "      <td>37.0</td>\n",
       "      <td>2447.0</td>\n",
       "      <td>42271.0</td>\n",
       "      <td>10698.0</td>\n",
       "      <td>-1.0</td>\n",
       "      <td>6845.0</td>\n",
       "      <td>-1937.0</td>\n",
       "      <td>1171.0</td>\n",
       "      <td>-4456.0</td>\n",
       "    </tr>\n",
       "    <tr>\n",
       "      <td>2017-12-31 23:00:00</td>\n",
       "      <td>60642.0</td>\n",
       "      <td>164.0</td>\n",
       "      <td>37.0</td>\n",
       "      <td>2450.0</td>\n",
       "      <td>42718.0</td>\n",
       "      <td>10712.0</td>\n",
       "      <td>-1.0</td>\n",
       "      <td>8353.0</td>\n",
       "      <td>-1186.0</td>\n",
       "      <td>1161.0</td>\n",
       "      <td>-3766.0</td>\n",
       "    </tr>\n",
       "    <tr>\n",
       "      <td>2017-12-31 23:30:00</td>\n",
       "      <td>60479.0</td>\n",
       "      <td>165.0</td>\n",
       "      <td>37.0</td>\n",
       "      <td>2464.0</td>\n",
       "      <td>42064.0</td>\n",
       "      <td>10720.0</td>\n",
       "      <td>-1.0</td>\n",
       "      <td>7712.0</td>\n",
       "      <td>-1052.0</td>\n",
       "      <td>1163.0</td>\n",
       "      <td>-2793.0</td>\n",
       "    </tr>\n",
       "  </tbody>\n",
       "</table>\n",
       "</div>"
      ],
      "text/plain": [
       "                        Load    Oil  Coal     Gas  Nuclear     Wind  Solar  \\\n",
       "                                                                             \n",
       "2017-12-31 22:30:00  57239.0  164.0  37.0  2447.0  42271.0  10698.0   -1.0   \n",
       "2017-12-31 23:00:00  60642.0  164.0  37.0  2450.0  42718.0  10712.0   -1.0   \n",
       "2017-12-31 23:30:00  60479.0  165.0  37.0  2464.0  42064.0  10720.0   -1.0   \n",
       "\n",
       "                      Hydro    Pump     Bio  Exchanges  \n",
       "                                                        \n",
       "2017-12-31 22:30:00  6845.0 -1937.0  1171.0    -4456.0  \n",
       "2017-12-31 23:00:00  8353.0 -1186.0  1161.0    -3766.0  \n",
       "2017-12-31 23:30:00  7712.0 -1052.0  1163.0    -2793.0  "
      ]
     },
     "execution_count": 9,
     "metadata": {},
     "output_type": "execute_result"
    }
   ],
   "source": [
    "df = read_eCO2mix('data/eCO2mix_RTE_Annuel-Definitif_2017.xls.xz', columns_FR)\n",
    "# translate names:\n",
    "df = df.rename(dict(zip(columns_FR, columns)), axis=1)\n",
    "\n",
    "df.tail(3)"
   ]
  },
  {
   "cell_type": "markdown",
   "metadata": {},
   "source": [
    "### Post processing RTE data"
   ]
  },
  {
   "cell_type": "markdown",
   "metadata": {},
   "source": [
    "Notes:\n",
    "* Pompage is always negative\n",
    "* 'Ech. physiques' is negative and positive"
   ]
  },
  {
   "cell_type": "code",
   "execution_count": 12,
   "metadata": {},
   "outputs": [
    {
     "data": {
      "text/plain": [
       "(-3595.0, -3.0)"
      ]
     },
     "execution_count": 12,
     "metadata": {},
     "output_type": "execute_result"
    }
   ],
   "source": [
    "df.Pump.min(), df.Pump.max()"
   ]
  },
  {
   "cell_type": "code",
   "execution_count": 13,
   "metadata": {},
   "outputs": [
    {
     "data": {
      "text/plain": [
       "(-17230.0, 10011.0)"
      ]
     },
     "execution_count": 13,
     "metadata": {},
     "output_type": "execute_result"
    }
   ],
   "source": [
    "df.Exchanges.min(), df.Exchanges.max()"
   ]
  },
  {
   "cell_type": "markdown",
   "metadata": {},
   "source": [
    "For physical exchanges: split into two positive variables: Import and Export"
   ]
  },
  {
   "cell_type": "code",
   "execution_count": 14,
   "metadata": {},
   "outputs": [],
   "source": [
    "pos = lambda x:  x if x >= 0 else 0\n",
    "neg = lambda x: -x if x  < 0 else 0"
   ]
  },
  {
   "cell_type": "code",
   "execution_count": 15,
   "metadata": {},
   "outputs": [],
   "source": [
    "df['Import'] = df['Exchanges'].map(pos)\n",
    "df['Export'] = df['Exchanges'].map(neg)"
   ]
  },
  {
   "cell_type": "code",
   "execution_count": 16,
   "metadata": {},
   "outputs": [],
   "source": [
    "del df['Exchanges']"
   ]
  },
  {
   "cell_type": "markdown",
   "metadata": {},
   "source": [
    "For pumped hydro: flip the sign"
   ]
  },
  {
   "cell_type": "code",
   "execution_count": 17,
   "metadata": {},
   "outputs": [],
   "source": [
    "df.Pump *= -1"
   ]
  },
  {
   "cell_type": "markdown",
   "metadata": {},
   "source": [
    "### Residual negative values\n",
    "\n",
    "negative values are probably the self-consumption of Coal and Solar"
   ]
  },
  {
   "cell_type": "code",
   "execution_count": 18,
   "metadata": {},
   "outputs": [
    {
     "data": {
      "text/plain": [
       "Load          0\n",
       "Oil           0\n",
       "Coal       1342\n",
       "Gas           0\n",
       "Nuclear       0\n",
       "Wind          0\n",
       "Solar      8279\n",
       "Hydro         0\n",
       "Pump          0\n",
       "Bio           0\n",
       "Import        0\n",
       "Export        0\n",
       "dtype: int64"
      ]
     },
     "execution_count": 18,
     "metadata": {},
     "output_type": "execute_result"
    }
   ],
   "source": [
    "(df < 0).sum()"
   ]
  },
  {
   "cell_type": "code",
   "execution_count": 19,
   "metadata": {},
   "outputs": [
    {
     "data": {
      "text/plain": [
       "count    17520.000000\n",
       "mean      1026.673402\n",
       "std       1452.396534\n",
       "min         -2.000000\n",
       "25%         -1.000000\n",
       "50%         14.000000\n",
       "75%       1917.000000\n",
       "max       5528.000000\n",
       "Name: Solar, dtype: float64"
      ]
     },
     "execution_count": 19,
     "metadata": {},
     "output_type": "execute_result"
    }
   ],
   "source": [
    "df.Solar.describe()"
   ]
  },
  {
   "cell_type": "code",
   "execution_count": 20,
   "metadata": {},
   "outputs": [
    {
     "data": {
      "text/plain": [
       "count    17520.00000\n",
       "mean      1111.32911\n",
       "std        839.51716\n",
       "min        -67.00000\n",
       "25%        362.00000\n",
       "50%       1051.00000\n",
       "75%       1831.00000\n",
       "max       2951.00000\n",
       "Name: Coal, dtype: float64"
      ]
     },
     "execution_count": 20,
     "metadata": {},
     "output_type": "execute_result"
    }
   ],
   "source": [
    "df.Coal.describe()"
   ]
  },
  {
   "cell_type": "markdown",
   "metadata": {},
   "source": [
    "Conversion MW → GW"
   ]
  },
  {
   "cell_type": "code",
   "execution_count": 21,
   "metadata": {},
   "outputs": [],
   "source": [
    "df /= 1000"
   ]
  },
  {
   "cell_type": "markdown",
   "metadata": {},
   "source": [
    "### Aggregation\n",
    "\n",
    "* mean power\n",
    "* max power (i.e. a proxy for the capacity)"
   ]
  },
  {
   "cell_type": "code",
   "execution_count": 22,
   "metadata": {},
   "outputs": [],
   "source": [
    "stats = pd.DataFrame(data={'avg': df.mean(), 'max': df.max()})"
   ]
  },
  {
   "cell_type": "markdown",
   "metadata": {},
   "source": [
    "Sort: by mean or by max?"
   ]
  },
  {
   "cell_type": "code",
   "execution_count": 23,
   "metadata": {},
   "outputs": [
    {
     "data": {
      "text/html": [
       "<div>\n",
       "<style scoped>\n",
       "    .dataframe tbody tr th:only-of-type {\n",
       "        vertical-align: middle;\n",
       "    }\n",
       "\n",
       "    .dataframe tbody tr th {\n",
       "        vertical-align: top;\n",
       "    }\n",
       "\n",
       "    .dataframe thead th {\n",
       "        text-align: right;\n",
       "    }\n",
       "</style>\n",
       "<table border=\"1\" class=\"dataframe\">\n",
       "  <thead>\n",
       "    <tr style=\"text-align: right;\">\n",
       "      <th></th>\n",
       "      <th>avg</th>\n",
       "      <th>max</th>\n",
       "    </tr>\n",
       "  </thead>\n",
       "  <tbody>\n",
       "    <tr>\n",
       "      <td>Bio</td>\n",
       "      <td>1.077469</td>\n",
       "      <td>1.364</td>\n",
       "    </tr>\n",
       "    <tr>\n",
       "      <td>Coal</td>\n",
       "      <td>1.111329</td>\n",
       "      <td>2.951</td>\n",
       "    </tr>\n",
       "    <tr>\n",
       "      <td>Pump</td>\n",
       "      <td>0.817413</td>\n",
       "      <td>3.595</td>\n",
       "    </tr>\n",
       "    <tr>\n",
       "      <td>Oil</td>\n",
       "      <td>0.397095</td>\n",
       "      <td>4.231</td>\n",
       "    </tr>\n",
       "    <tr>\n",
       "      <td>Solar</td>\n",
       "      <td>1.026673</td>\n",
       "      <td>5.528</td>\n",
       "    </tr>\n",
       "    <tr>\n",
       "      <td>Gas</td>\n",
       "      <td>4.513795</td>\n",
       "      <td>9.583</td>\n",
       "    </tr>\n",
       "    <tr>\n",
       "      <td>Import</td>\n",
       "      <td>0.415179</td>\n",
       "      <td>10.011</td>\n",
       "    </tr>\n",
       "    <tr>\n",
       "      <td>Wind</td>\n",
       "      <td>2.750865</td>\n",
       "      <td>11.249</td>\n",
       "    </tr>\n",
       "    <tr>\n",
       "      <td>Hydro</td>\n",
       "      <td>6.051790</td>\n",
       "      <td>14.954</td>\n",
       "    </tr>\n",
       "    <tr>\n",
       "      <td>Export</td>\n",
       "      <td>5.093133</td>\n",
       "      <td>17.230</td>\n",
       "    </tr>\n",
       "    <tr>\n",
       "      <td>Nuclear</td>\n",
       "      <td>43.251854</td>\n",
       "      <td>56.885</td>\n",
       "    </tr>\n",
       "    <tr>\n",
       "      <td>Load</td>\n",
       "      <td>54.685462</td>\n",
       "      <td>94.236</td>\n",
       "    </tr>\n",
       "  </tbody>\n",
       "</table>\n",
       "</div>"
      ],
      "text/plain": [
       "               avg     max\n",
       "Bio       1.077469   1.364\n",
       "Coal      1.111329   2.951\n",
       "Pump      0.817413   3.595\n",
       "Oil       0.397095   4.231\n",
       "Solar     1.026673   5.528\n",
       "Gas       4.513795   9.583\n",
       "Import    0.415179  10.011\n",
       "Wind      2.750865  11.249\n",
       "Hydro     6.051790  14.954\n",
       "Export    5.093133  17.230\n",
       "Nuclear  43.251854  56.885\n",
       "Load     54.685462  94.236"
      ]
     },
     "execution_count": 23,
     "metadata": {},
     "output_type": "execute_result"
    }
   ],
   "source": [
    "stats.sort_values('max', inplace=True)\n",
    "stats"
   ]
  },
  {
   "cell_type": "code",
   "execution_count": 24,
   "metadata": {},
   "outputs": [
    {
     "data": {
      "image/png": "[encoded data removed]",
      "text/plain": [
       "<Figure size 432x360 with 2 Axes>"
      ]
     },
     "metadata": {
      "needs_background": "light"
     },
     "output_type": "display_data"
    }
   ],
   "source": [
    "fig, ax = plt.subplots(1,1, figsize=(6,5))\n",
    "\n",
    "# twin ax with shared scale\n",
    "# cf. @ImportanceOfBeingErnest at https://stackoverflow.com/questions/55907892/matplotlib-secondary-axis-with-values-mapped-from-primary-axis\n",
    "ax2 = ax.twiny()\n",
    "ax.get_shared_x_axes().join(ax, ax2)\n",
    "\n",
    "markers = {\n",
    "    'avg': 'o',\n",
    "    'max': '^'}\n",
    "\n",
    "for col in stats.columns:\n",
    "    ax.plot(log2(stats[col]), stats.index, label=col,\n",
    "            ls='', marker=markers[col])\n",
    "\n",
    "ax.grid(axis='x', ls='-')\n",
    "ax.grid(axis='y', ls=':', lw=2, alpha=0.5)\n",
    "ax.set(\n",
    "    xlabel='log₂ Power (GW)',\n",
    "    title='French power system in 2017'\n",
    ")\n",
    "\n",
    "ax.legend(loc='lower right')\n",
    "\n",
    "ax2.xaxis.set_major_formatter(FuncFormatter(lambda x,pos: f'{2**x:.4g}'))\n",
    "ax2.set_xlabel('Power (GW)')\n",
    "\n",
    "fig.tight_layout()\n",
    "fig.savefig('Dot-plot capa energy.png', dpi=150)"
   ]
  },
  {
   "cell_type": "markdown",
   "metadata": {},
   "source": [
    "## Automate for other years"
   ]
  },
  {
   "cell_type": "markdown",
   "metadata": {},
   "source": [
    "### Stats for each available year"
   ]
  },
  {
   "cell_type": "code",
   "execution_count": 25,
   "metadata": {},
   "outputs": [],
   "source": [
    "def power_stats(year):\n",
    "    df = read_eCO2mix(f'data/eCO2mix_RTE_Annuel-Definitif_{year}.xls.xz', columns_FR)\n",
    "    # translate names:\n",
    "    df = df.rename(dict(zip(columns_FR, columns)), axis=1)\n",
    "\n",
    "    # Sign flip for pumped hydro\n",
    "    df.Pump *= -1\n",
    "    \n",
    "    # Split of imports and exports\n",
    "    pos = lambda x:  x if x >= 0 else 0\n",
    "    neg = lambda x: -x if x  < 0 else 0\n",
    "    \n",
    "    df['Import'] = df['Exchanges'].map(pos)\n",
    "    df['Export'] = df['Exchanges'].map(neg)\n",
    "    \n",
    "    del df['Exchanges']\n",
    "    \n",
    "    stats = pd.DataFrame(data={'avg': df.mean(), 'max': df.max()})\n",
    "    # MW → GW\n",
    "    stats /= 1000\n",
    "    return stats"
   ]
  },
  {
   "cell_type": "code",
   "execution_count": 26,
   "metadata": {},
   "outputs": [],
   "source": [
    "stats_y = {y: power_stats(y) for y in range(2012, 2019)}"
   ]
  },
  {
   "cell_type": "markdown",
   "metadata": {},
   "source": [
    "Concat the yearly stats (create a multi index)"
   ]
  },
  {
   "cell_type": "code",
   "execution_count": 27,
   "metadata": {},
   "outputs": [],
   "source": [
    "stats_y = pd.concat(stats_y, axis=1)"
   ]
  },
  {
   "cell_type": "markdown",
   "metadata": {},
   "source": [
    "Sort: by max of last year (2018)"
   ]
  },
  {
   "cell_type": "code",
   "execution_count": 28,
   "metadata": {},
   "outputs": [
    {
     "data": {
      "text/html": [
       "<div>\n",
       "<style scoped>\n",
       "    .dataframe tbody tr th:only-of-type {\n",
       "        vertical-align: middle;\n",
       "    }\n",
       "\n",
       "    .dataframe tbody tr th {\n",
       "        vertical-align: top;\n",
       "    }\n",
       "\n",
       "    .dataframe thead tr th {\n",
       "        text-align: left;\n",
       "    }\n",
       "</style>\n",
       "<table border=\"1\" class=\"dataframe\">\n",
       "  <thead>\n",
       "    <tr>\n",
       "      <th></th>\n",
       "      <th colspan=\"2\" halign=\"left\">2012</th>\n",
       "      <th colspan=\"2\" halign=\"left\">2013</th>\n",
       "      <th colspan=\"2\" halign=\"left\">2014</th>\n",
       "      <th colspan=\"2\" halign=\"left\">2015</th>\n",
       "      <th colspan=\"2\" halign=\"left\">2016</th>\n",
       "      <th colspan=\"2\" halign=\"left\">2017</th>\n",
       "      <th colspan=\"2\" halign=\"left\">2018</th>\n",
       "    </tr>\n",
       "    <tr>\n",
       "      <th></th>\n",
       "      <th>avg</th>\n",
       "      <th>max</th>\n",
       "      <th>avg</th>\n",
       "      <th>max</th>\n",
       "      <th>avg</th>\n",
       "      <th>max</th>\n",
       "      <th>avg</th>\n",
       "      <th>max</th>\n",
       "      <th>avg</th>\n",
       "      <th>max</th>\n",
       "      <th>avg</th>\n",
       "      <th>max</th>\n",
       "      <th>avg</th>\n",
       "      <th>max</th>\n",
       "    </tr>\n",
       "  </thead>\n",
       "  <tbody>\n",
       "    <tr>\n",
       "      <td>Bio</td>\n",
       "      <td>0.664442</td>\n",
       "      <td>0.799</td>\n",
       "      <td>0.707971</td>\n",
       "      <td>0.835</td>\n",
       "      <td>0.857310</td>\n",
       "      <td>1.049</td>\n",
       "      <td>0.903689</td>\n",
       "      <td>1.161</td>\n",
       "      <td>0.991731</td>\n",
       "      <td>1.261</td>\n",
       "      <td>1.077469</td>\n",
       "      <td>1.364</td>\n",
       "      <td>1.089724</td>\n",
       "      <td>1.286</td>\n",
       "    </tr>\n",
       "    <tr>\n",
       "      <td>Oil</td>\n",
       "      <td>0.517325</td>\n",
       "      <td>5.926</td>\n",
       "      <td>0.453910</td>\n",
       "      <td>3.914</td>\n",
       "      <td>0.272259</td>\n",
       "      <td>2.008</td>\n",
       "      <td>0.302985</td>\n",
       "      <td>3.430</td>\n",
       "      <td>0.196102</td>\n",
       "      <td>3.058</td>\n",
       "      <td>0.397095</td>\n",
       "      <td>4.231</td>\n",
       "      <td>0.234531</td>\n",
       "      <td>2.507</td>\n",
       "    </tr>\n",
       "    <tr>\n",
       "      <td>Coal</td>\n",
       "      <td>1.986089</td>\n",
       "      <td>5.436</td>\n",
       "      <td>2.251811</td>\n",
       "      <td>6.265</td>\n",
       "      <td>0.949289</td>\n",
       "      <td>4.532</td>\n",
       "      <td>0.982870</td>\n",
       "      <td>3.580</td>\n",
       "      <td>0.831307</td>\n",
       "      <td>2.806</td>\n",
       "      <td>1.111329</td>\n",
       "      <td>2.951</td>\n",
       "      <td>0.656297</td>\n",
       "      <td>2.931</td>\n",
       "    </tr>\n",
       "    <tr>\n",
       "      <td>Pump</td>\n",
       "      <td>0.763865</td>\n",
       "      <td>3.376</td>\n",
       "      <td>0.821367</td>\n",
       "      <td>3.637</td>\n",
       "      <td>0.912476</td>\n",
       "      <td>3.615</td>\n",
       "      <td>0.786741</td>\n",
       "      <td>3.603</td>\n",
       "      <td>0.768689</td>\n",
       "      <td>3.362</td>\n",
       "      <td>0.817413</td>\n",
       "      <td>3.595</td>\n",
       "      <td>0.844763</td>\n",
       "      <td>3.651</td>\n",
       "    </tr>\n",
       "    <tr>\n",
       "      <td>Solar</td>\n",
       "      <td>0.430648</td>\n",
       "      <td>2.489</td>\n",
       "      <td>0.519008</td>\n",
       "      <td>2.950</td>\n",
       "      <td>0.664259</td>\n",
       "      <td>3.615</td>\n",
       "      <td>0.831773</td>\n",
       "      <td>4.371</td>\n",
       "      <td>0.940439</td>\n",
       "      <td>5.231</td>\n",
       "      <td>1.026673</td>\n",
       "      <td>5.528</td>\n",
       "      <td>1.208082</td>\n",
       "      <td>6.430</td>\n",
       "    </tr>\n",
       "    <tr>\n",
       "      <td>Import</td>\n",
       "      <td>0.146497</td>\n",
       "      <td>9.289</td>\n",
       "      <td>0.087988</td>\n",
       "      <td>4.930</td>\n",
       "      <td>0.001561</td>\n",
       "      <td>1.939</td>\n",
       "      <td>0.001788</td>\n",
       "      <td>2.204</td>\n",
       "      <td>0.281877</td>\n",
       "      <td>8.468</td>\n",
       "      <td>0.415179</td>\n",
       "      <td>10.011</td>\n",
       "      <td>0.109121</td>\n",
       "      <td>9.574</td>\n",
       "    </tr>\n",
       "    <tr>\n",
       "      <td>Gas</td>\n",
       "      <td>2.850610</td>\n",
       "      <td>8.625</td>\n",
       "      <td>2.282787</td>\n",
       "      <td>8.329</td>\n",
       "      <td>1.627784</td>\n",
       "      <td>7.366</td>\n",
       "      <td>2.522096</td>\n",
       "      <td>8.052</td>\n",
       "      <td>4.026467</td>\n",
       "      <td>9.504</td>\n",
       "      <td>4.513795</td>\n",
       "      <td>9.583</td>\n",
       "      <td>3.446567</td>\n",
       "      <td>9.700</td>\n",
       "    </tr>\n",
       "    <tr>\n",
       "      <td>Wind</td>\n",
       "      <td>1.696575</td>\n",
       "      <td>6.198</td>\n",
       "      <td>1.816477</td>\n",
       "      <td>6.531</td>\n",
       "      <td>1.947372</td>\n",
       "      <td>7.379</td>\n",
       "      <td>2.408021</td>\n",
       "      <td>8.331</td>\n",
       "      <td>2.381363</td>\n",
       "      <td>8.647</td>\n",
       "      <td>2.750865</td>\n",
       "      <td>11.249</td>\n",
       "      <td>3.211288</td>\n",
       "      <td>12.287</td>\n",
       "    </tr>\n",
       "    <tr>\n",
       "      <td>Export</td>\n",
       "      <td>5.400491</td>\n",
       "      <td>13.594</td>\n",
       "      <td>5.694872</td>\n",
       "      <td>13.198</td>\n",
       "      <td>7.749328</td>\n",
       "      <td>13.878</td>\n",
       "      <td>7.374533</td>\n",
       "      <td>16.163</td>\n",
       "      <td>5.092918</td>\n",
       "      <td>16.227</td>\n",
       "      <td>5.093133</td>\n",
       "      <td>17.230</td>\n",
       "      <td>7.383905</td>\n",
       "      <td>16.577</td>\n",
       "    </tr>\n",
       "    <tr>\n",
       "      <td>Hydro</td>\n",
       "      <td>7.213284</td>\n",
       "      <td>16.380</td>\n",
       "      <td>8.521735</td>\n",
       "      <td>16.805</td>\n",
       "      <td>7.689527</td>\n",
       "      <td>16.615</td>\n",
       "      <td>6.680557</td>\n",
       "      <td>15.649</td>\n",
       "      <td>7.213065</td>\n",
       "      <td>16.253</td>\n",
       "      <td>6.051790</td>\n",
       "      <td>14.954</td>\n",
       "      <td>7.695196</td>\n",
       "      <td>17.434</td>\n",
       "    </tr>\n",
       "    <tr>\n",
       "      <td>Nuclear</td>\n",
       "      <td>46.055824</td>\n",
       "      <td>60.811</td>\n",
       "      <td>46.058161</td>\n",
       "      <td>59.107</td>\n",
       "      <td>47.432007</td>\n",
       "      <td>61.232</td>\n",
       "      <td>47.540451</td>\n",
       "      <td>61.712</td>\n",
       "      <td>43.682177</td>\n",
       "      <td>59.461</td>\n",
       "      <td>43.251854</td>\n",
       "      <td>56.885</td>\n",
       "      <td>44.861127</td>\n",
       "      <td>58.640</td>\n",
       "    </tr>\n",
       "    <tr>\n",
       "      <td>Load</td>\n",
       "      <td>55.396962</td>\n",
       "      <td>102.098</td>\n",
       "      <td>56.185530</td>\n",
       "      <td>92.629</td>\n",
       "      <td>52.779499</td>\n",
       "      <td>82.607</td>\n",
       "      <td>54.012878</td>\n",
       "      <td>91.934</td>\n",
       "      <td>54.681288</td>\n",
       "      <td>88.731</td>\n",
       "      <td>54.685462</td>\n",
       "      <td>94.236</td>\n",
       "      <td>54.283220</td>\n",
       "      <td>96.272</td>\n",
       "    </tr>\n",
       "  </tbody>\n",
       "</table>\n",
       "</div>"
      ],
      "text/plain": [
       "              2012                2013               2014               2015  \\\n",
       "               avg      max        avg     max        avg     max        avg   \n",
       "Bio       0.664442    0.799   0.707971   0.835   0.857310   1.049   0.903689   \n",
       "Oil       0.517325    5.926   0.453910   3.914   0.272259   2.008   0.302985   \n",
       "Coal      1.986089    5.436   2.251811   6.265   0.949289   4.532   0.982870   \n",
       "Pump      0.763865    3.376   0.821367   3.637   0.912476   3.615   0.786741   \n",
       "Solar     0.430648    2.489   0.519008   2.950   0.664259   3.615   0.831773   \n",
       "Import    0.146497    9.289   0.087988   4.930   0.001561   1.939   0.001788   \n",
       "Gas       2.850610    8.625   2.282787   8.329   1.627784   7.366   2.522096   \n",
       "Wind      1.696575    6.198   1.816477   6.531   1.947372   7.379   2.408021   \n",
       "Export    5.400491   13.594   5.694872  13.198   7.749328  13.878   7.374533   \n",
       "Hydro     7.213284   16.380   8.521735  16.805   7.689527  16.615   6.680557   \n",
       "Nuclear  46.055824   60.811  46.058161  59.107  47.432007  61.232  47.540451   \n",
       "Load     55.396962  102.098  56.185530  92.629  52.779499  82.607  54.012878   \n",
       "\n",
       "                      2016               2017               2018          \n",
       "            max        avg     max        avg     max        avg     max  \n",
       "Bio       1.161   0.991731   1.261   1.077469   1.364   1.089724   1.286  \n",
       "Oil       3.430   0.196102   3.058   0.397095   4.231   0.234531   2.507  \n",
       "Coal      3.580   0.831307   2.806   1.111329   2.951   0.656297   2.931  \n",
       "Pump      3.603   0.768689   3.362   0.817413   3.595   0.844763   3.651  \n",
       "Solar     4.371   0.940439   5.231   1.026673   5.528   1.208082   6.430  \n",
       "Import    2.204   0.281877   8.468   0.415179  10.011   0.109121   9.574  \n",
       "Gas       8.052   4.026467   9.504   4.513795   9.583   3.446567   9.700  \n",
       "Wind      8.331   2.381363   8.647   2.750865  11.249   3.211288  12.287  \n",
       "Export   16.163   5.092918  16.227   5.093133  17.230   7.383905  16.577  \n",
       "Hydro    15.649   7.213065  16.253   6.051790  14.954   7.695196  17.434  \n",
       "Nuclear  61.712  43.682177  59.461  43.251854  56.885  44.861127  58.640  \n",
       "Load     91.934  54.681288  88.731  54.685462  94.236  54.283220  96.272  "
      ]
     },
     "execution_count": 28,
     "metadata": {},
     "output_type": "execute_result"
    }
   ],
   "source": [
    "stats_y.sort_values((2018,'max'), inplace=True)\n",
    "stats_y"
   ]
  },
  {
   "cell_type": "markdown",
   "metadata": {},
   "source": [
    "### Plot"
   ]
  },
  {
   "cell_type": "code",
   "execution_count": 71,
   "metadata": {},
   "outputs": [
    {
     "data": {
      "image/png": "[encoded data removed]",
      "text/plain": [
       "<Figure size 504x360 with 2 Axes>"
      ]
     },
     "metadata": {
      "needs_background": "light"
     },
     "output_type": "display_data"
    }
   ],
   "source": [
    "def dotplot_power_stats(stats_y, years):\n",
    "    fig, ax = plt.subplots(1,1, figsize=(7,5))\n",
    "    \n",
    "    # twin ax with shared scale\n",
    "    # cf. @ImportanceOfBeingErnest at https://stackoverflow.com/questions/55907892/matplotlib-secondary-axis-with-values-mapped-from-primary-axis\n",
    "    ax2 = ax.twiny()\n",
    "    ax.get_shared_x_axes().join(ax, ax2)\n",
    "\n",
    "    markers = {\n",
    "        'avg': 'o',\n",
    "        'max': '^'}\n",
    "    \n",
    "    for year in years:\n",
    "        for s in ['avg', 'max']:\n",
    "            col = (year, s)\n",
    "            #if year == 2016: continue # keep only 2014 and 2018\n",
    "            ym = min(years)\n",
    "            yM = max(years)\n",
    "            if yM>ym:\n",
    "                a = (year - ym)/(yM-ym)\n",
    "                a = 0.25 + a*0.75#(a-0.5)*0.7 + 0.5\n",
    "            else:\n",
    "                a = 0.7\n",
    "            if s == 'avg':\n",
    "                color = cm.Blues(a)\n",
    "            elif s == 'max':\n",
    "                color = cm.Reds(a)\n",
    "            \n",
    "            if year == ym or year == yM:\n",
    "                label = f'{year} {s}'\n",
    "            else:\n",
    "                label = ''\n",
    "            ax.plot(log2(stats_y[col]), stats_y.index, label=label,\n",
    "                    ls='', marker=markers[s], color=color)\n",
    "\n",
    "    ax.grid(axis='x', ls='-')\n",
    "    ax.grid(axis='y', ls=':', lw=2, alpha=0.5)\n",
    "    ax.set(\n",
    "        xlabel='log₂ Power (GW)'\n",
    "    )\n",
    "    ax.set_xlim(-1.5, 6.7)\n",
    "    ax.locator_params('x', nbins=10)\n",
    "    \n",
    "    ax2.xaxis.set_major_formatter(FuncFormatter(lambda x,pos: f'{2**x:.4g}'))\n",
    "    ax2.set_xlabel('Power (GW)')\n",
    "    \n",
    "    ncol = 2 if yM > ym else 1\n",
    "    ax.legend(loc='lower right', ncol=ncol)\n",
    "    \n",
    "\n",
    "    fig.tight_layout(rect=(0,0.1,1,1))\n",
    "    years_txt = '20' + '-'.join(str(y)[2:] for y in years)\n",
    "    fig.savefig(f'Dot-plot capa energy {years_txt}.png', dpi=300, bbox_inches='tight')\n",
    "\n",
    "dotplot_power_stats(stats_y, range(2012, 2019))"
   ]
  },
  {
   "cell_type": "code",
   "execution_count": 73,
   "metadata": {},
   "outputs": [
    {
     "data": {
      "image/png": "[encoded data removed]",
      "text/plain": [
       "<Figure size 504x360 with 2 Axes>"
      ]
     },
     "metadata": {
      "needs_background": "light"
     },
     "output_type": "display_data"
    }
   ],
   "source": [
    "dotplot_power_stats(stats_y, [2012, 2018])"
   ]
  },
  {
   "cell_type": "code",
   "execution_count": 74,
   "metadata": {},
   "outputs": [
    {
     "data": {
      "image/png": "[encoded data removed]",
      "text/plain": [
       "<Figure size 504x360 with 2 Axes>"
      ]
     },
     "metadata": {
      "needs_background": "light"
     },
     "output_type": "display_data"
    }
   ],
   "source": [
    "dotplot_power_stats(stats_y, [2012, 2015, 2018])"
   ]
  },
  {
   "cell_type": "markdown",
   "metadata": {},
   "source": [
    "Generate the individual plot for each year"
   ]
  },
  {
   "cell_type": "code",
   "execution_count": 75,
   "metadata": {},
   "outputs": [
    {
     "data": {
      "image/png": "[encoded data removed]",
      "text/plain": [
       "<Figure size 504x360 with 2 Axes>"
      ]
     },
     "metadata": {
      "needs_background": "light"
     },
     "output_type": "display_data"
    },
    {
     "data": {
      "image/png": "[encoded data removed]",
      "text/plain": [
       "<Figure size 504x360 with 2 Axes>"
      ]
     },
     "metadata": {
      "needs_background": "light"
     },
     "output_type": "display_data"
    },
    {
     "data": {
      "image/png": "[encoded data removed]",
      "text/plain": [
       "<Figure size 504x360 with 2 Axes>"
      ]
     },
     "metadata": {
      "needs_background": "light"
     },
     "output_type": "display_data"
    },
    {
     "data": {
      "image/png": "[encoded data removed]",
      "text/plain": [
       "<Figure size 504x360 with 2 Axes>"
      ]
     },
     "metadata": {
      "needs_background": "light"
     },
     "output_type": "display_data"
    },
    {
     "data": {
      "image/png": "[encoded data removed]",
      "text/plain": [
       "<Figure size 504x360 with 2 Axes>"
      ]
     },
     "metadata": {
      "needs_background": "light"
     },
     "output_type": "display_data"
    },
    {
     "data": {
      "image/png": "[encoded data removed]",
      "text/plain": [
       "<Figure size 504x360 with 2 Axes>"
      ]
     },
     "metadata": {
      "needs_background": "light"
     },
     "output_type": "display_data"
    },
    {
     "data": {
      "image/png": "[encoded data removed]",
      "text/plain": [
       "<Figure size 504x360 with 2 Axes>"
      ]
     },
     "metadata": {
      "needs_background": "light"
     },
     "output_type": "display_data"
    }
   ],
   "source": [
    "for year in range(2012, 2019):\n",
    "    dotplot_power_stats(stats_y, [year])"
   ]
  },
  {
   "cell_type": "markdown",
   "metadata": {},
   "source": [
    "## Plot with altair"
   ]
  },
  {
   "cell_type": "code",
   "execution_count": 34,
   "metadata": {},
   "outputs": [],
   "source": [
    "import altair as alt"
   ]
  },
  {
   "cell_type": "markdown",
   "metadata": {},
   "source": [
    "reshaping data to from wide to [long-form](https://altair-viz.github.io/user_guide/data.html#long-form-vs-wide-form-data) with `DataFrame.melt`:"
   ]
  },
  {
   "cell_type": "code",
   "execution_count": 56,
   "metadata": {},
   "outputs": [
    {
     "data": {
      "text/html": [
       "<div>\n",
       "<style scoped>\n",
       "    .dataframe tbody tr th:only-of-type {\n",
       "        vertical-align: middle;\n",
       "    }\n",
       "\n",
       "    .dataframe tbody tr th {\n",
       "        vertical-align: top;\n",
       "    }\n",
       "\n",
       "    .dataframe thead th {\n",
       "        text-align: right;\n",
       "    }\n",
       "</style>\n",
       "<table border=\"1\" class=\"dataframe\">\n",
       "  <thead>\n",
       "    <tr style=\"text-align: right;\">\n",
       "      <th></th>\n",
       "      <th>type</th>\n",
       "      <th>year</th>\n",
       "      <th>stat</th>\n",
       "      <th>value</th>\n",
       "      <th>log2</th>\n",
       "    </tr>\n",
       "  </thead>\n",
       "  <tbody>\n",
       "    <tr>\n",
       "      <td>0</td>\n",
       "      <td>Bio</td>\n",
       "      <td>2012</td>\n",
       "      <td>avg</td>\n",
       "      <td>0.664442</td>\n",
       "      <td>-0.589785</td>\n",
       "    </tr>\n",
       "    <tr>\n",
       "      <td>1</td>\n",
       "      <td>Oil</td>\n",
       "      <td>2012</td>\n",
       "      <td>avg</td>\n",
       "      <td>0.517325</td>\n",
       "      <td>-0.950856</td>\n",
       "    </tr>\n",
       "    <tr>\n",
       "      <td>2</td>\n",
       "      <td>Coal</td>\n",
       "      <td>2012</td>\n",
       "      <td>avg</td>\n",
       "      <td>1.986089</td>\n",
       "      <td>0.989930</td>\n",
       "    </tr>\n",
       "    <tr>\n",
       "      <td>3</td>\n",
       "      <td>Pump</td>\n",
       "      <td>2012</td>\n",
       "      <td>avg</td>\n",
       "      <td>0.763865</td>\n",
       "      <td>-0.388610</td>\n",
       "    </tr>\n",
       "    <tr>\n",
       "      <td>4</td>\n",
       "      <td>Solar</td>\n",
       "      <td>2012</td>\n",
       "      <td>avg</td>\n",
       "      <td>0.430648</td>\n",
       "      <td>-1.215420</td>\n",
       "    </tr>\n",
       "    <tr>\n",
       "      <td>...</td>\n",
       "      <td>...</td>\n",
       "      <td>...</td>\n",
       "      <td>...</td>\n",
       "      <td>...</td>\n",
       "      <td>...</td>\n",
       "    </tr>\n",
       "    <tr>\n",
       "      <td>163</td>\n",
       "      <td>Wind</td>\n",
       "      <td>2018</td>\n",
       "      <td>max</td>\n",
       "      <td>12.287000</td>\n",
       "      <td>3.619061</td>\n",
       "    </tr>\n",
       "    <tr>\n",
       "      <td>164</td>\n",
       "      <td>Export</td>\n",
       "      <td>2018</td>\n",
       "      <td>max</td>\n",
       "      <td>16.577000</td>\n",
       "      <td>4.051111</td>\n",
       "    </tr>\n",
       "    <tr>\n",
       "      <td>165</td>\n",
       "      <td>Hydro</td>\n",
       "      <td>2018</td>\n",
       "      <td>max</td>\n",
       "      <td>17.434000</td>\n",
       "      <td>4.123832</td>\n",
       "    </tr>\n",
       "    <tr>\n",
       "      <td>166</td>\n",
       "      <td>Nuclear</td>\n",
       "      <td>2018</td>\n",
       "      <td>max</td>\n",
       "      <td>58.640000</td>\n",
       "      <td>5.873813</td>\n",
       "    </tr>\n",
       "    <tr>\n",
       "      <td>167</td>\n",
       "      <td>Load</td>\n",
       "      <td>2018</td>\n",
       "      <td>max</td>\n",
       "      <td>96.272000</td>\n",
       "      <td>6.589044</td>\n",
       "    </tr>\n",
       "  </tbody>\n",
       "</table>\n",
       "<p>168 rows × 5 columns</p>\n",
       "</div>"
      ],
      "text/plain": [
       "        type  year stat      value      log2\n",
       "0        Bio  2012  avg   0.664442 -0.589785\n",
       "1        Oil  2012  avg   0.517325 -0.950856\n",
       "2       Coal  2012  avg   1.986089  0.989930\n",
       "3       Pump  2012  avg   0.763865 -0.388610\n",
       "4      Solar  2012  avg   0.430648 -1.215420\n",
       "..       ...   ...  ...        ...       ...\n",
       "163     Wind  2018  max  12.287000  3.619061\n",
       "164   Export  2018  max  16.577000  4.051111\n",
       "165    Hydro  2018  max  17.434000  4.123832\n",
       "166  Nuclear  2018  max  58.640000  5.873813\n",
       "167     Load  2018  max  96.272000  6.589044\n",
       "\n",
       "[168 rows x 5 columns]"
      ]
     },
     "execution_count": 56,
     "metadata": {},
     "output_type": "execute_result"
    }
   ],
   "source": [
    "stats_yl = stats_y.reset_index().melt('index', var_name=['year', 'stat'])\n",
    "stats_yl.rename(columns={'index':'type'}, inplace=True)\n",
    "# log2 transform\n",
    "stats_yl['log2'] = np.log2(stats_yl.value)\n",
    "stats_yl"
   ]
  },
  {
   "cell_type": "markdown",
   "metadata": {},
   "source": [
    "Year column, for selection"
   ]
  },
  {
   "cell_type": "code",
   "execution_count": 58,
   "metadata": {},
   "outputs": [],
   "source": [
    "y = stats_yl.year"
   ]
  },
  {
   "cell_type": "code",
   "execution_count": 75,
   "metadata": {},
   "outputs": [],
   "source": [
    "sorted_types = stats_y.index.values\n",
    "sorted_types = list(sorted_types)\n",
    "sorted_types.reverse()"
   ]
  },
  {
   "cell_type": "markdown",
   "metadata": {},
   "source": [
    "### For a single year\n",
    "\n",
    "TODO: \n",
    "* find a better way to customize the color and the shape without breaking the legend → DONE"
   ]
  },
  {
   "cell_type": "code",
   "execution_count": 104,
   "metadata": {},
   "outputs": [
    {
     "data": {
      "text/plain": [
       "{'config': {'view': {'width': 400, 'height': 300}, 'mark': {'tooltip': None}}}"
      ]
     },
     "execution_count": 104,
     "metadata": {},
     "output_type": "execute_result"
    }
   ],
   "source": [
    "alt.themes.get()()"
   ]
  },
  {
   "cell_type": "code",
   "execution_count": 178,
   "metadata": {},
   "outputs": [
    {
     "data": {
      "application/vnd.vegalite.v3+json": {
       "$schema": "https://vega.github.io/schema/vega-lite/v3.4.0.json",
       "config": {
        "mark": {
         "tooltip": null
        },
        "view": {
         "height": 300,
         "width": 400
        }
       },
       "data": {
        "name": "data-1dda8526f6d35ef331b14fe6eba71ff3"
       },
       "datasets": {
        "data-1dda8526f6d35ef331b14fe6eba71ff3": [
         {
          "log2": 0.12396282177146631,
          "stat": "avg",
          "type": "Bio",
          "value": 1.0897240296803652,
          "year": 2018
         },
         {
          "log2": -2.0921484548149123,
          "stat": "avg",
          "type": "Oil",
          "value": 0.23453116438356164,
          "year": 2018
         },
         {
          "log2": -0.6075789352729759,
          "stat": "avg",
          "type": "Coal",
          "value": 0.6562971461187215,
          "year": 2018
         },
         {
          "log2": -0.24338230169764885,
          "stat": "avg",
          "type": "Pump",
          "value": 0.8447625000000001,
          "year": 2018
         },
         {
          "log2": 0.2727189524616399,
          "stat": "avg",
          "type": "Solar",
          "value": 1.2080824771689498,
          "year": 2018
         },
         {
          "log2": -3.196000773178093,
          "stat": "avg",
          "type": "Import",
          "value": 0.1091208904109589,
          "year": 2018
         },
         {
          "log2": 1.785160208226843,
          "stat": "avg",
          "type": "Gas",
          "value": 3.4465673515981736,
          "year": 2018
         },
         {
          "log2": 1.683151858023809,
          "stat": "avg",
          "type": "Wind",
          "value": 3.2112875570776254,
          "year": 2018
         },
         {
          "log2": 2.8843840184118354,
          "stat": "avg",
          "type": "Export",
          "value": 7.383905136986301,
          "year": 2018
         },
         {
          "log2": 2.943958148856137,
          "stat": "avg",
          "type": "Hydro",
          "value": 7.695196404109589,
          "year": 2018
         },
         {
          "log2": 5.487393960874133,
          "stat": "avg",
          "type": "Nuclear",
          "value": 44.86112705479452,
          "year": 2018
         },
         {
          "log2": 5.762434383967369,
          "stat": "avg",
          "type": "Load",
          "value": 54.283219520547945,
          "year": 2018
         },
         {
          "log2": 0.36289064266586035,
          "stat": "max",
          "type": "Bio",
          "value": 1.286,
          "year": 2018
         },
         {
          "log2": 1.3259619961718523,
          "stat": "max",
          "type": "Oil",
          "value": 2.507,
          "year": 2018
         },
         {
          "log2": 1.5513929680274543,
          "stat": "max",
          "type": "Coal",
          "value": 2.931,
          "year": 2018
         },
         {
          "log2": 1.8682916687727975,
          "stat": "max",
          "type": "Pump",
          "value": 3.651,
          "year": 2018
         },
         {
          "log2": 2.6848187375532224,
          "stat": "max",
          "type": "Solar",
          "value": 6.43,
          "year": 2018
         },
         {
          "log2": 3.259121806057679,
          "stat": "max",
          "type": "Import",
          "value": 9.574,
          "year": 2018
         },
         {
          "log2": 3.277984747299765,
          "stat": "max",
          "type": "Gas",
          "value": 9.7,
          "year": 2018
         },
         {
          "log2": 3.6190608044585253,
          "stat": "max",
          "type": "Wind",
          "value": 12.287,
          "year": 2018
         },
         {
          "log2": 4.051111035573034,
          "stat": "max",
          "type": "Export",
          "value": 16.577,
          "year": 2018
         },
         {
          "log2": 4.1238317095660175,
          "stat": "max",
          "type": "Hydro",
          "value": 17.434,
          "year": 2018
         },
         {
          "log2": 5.8738131983590876,
          "stat": "max",
          "type": "Nuclear",
          "value": 58.64,
          "year": 2018
         },
         {
          "log2": 6.589044356767767,
          "stat": "max",
          "type": "Load",
          "value": 96.272,
          "year": 2018
         }
        ]
       },
       "encoding": {
        "color": {
         "field": "stat",
         "scale": {
          "domain": [
           "avg",
           "max"
          ],
          "range": [
           "blue",
           "red"
          ]
         },
         "type": "nominal"
        },
        "shape": {
         "field": "stat",
         "scale": {
          "domain": [
           "avg",
           "max"
          ],
          "range": [
           "circle",
           "triangle"
          ]
         },
         "type": "nominal"
        },
        "tooltip": [
         {
          "field": "year",
          "type": "quantitative"
         },
         {
          "field": "value",
          "type": "quantitative"
         }
        ],
        "x": {
         "axis": {
          "title": "log₂ Power (GW)"
         },
         "field": "log2",
         "scale": {
          "clamp": true,
          "domain": [
           -2,
           7
          ]
         },
         "type": "quantitative"
        },
        "y": {
         "field": "type",
         "sort": [
          "Load",
          "Nuclear",
          "Hydro",
          "Export",
          "Wind",
          "Gas",
          "Import",
          "Solar",
          "Pump",
          "Coal",
          "Oil",
          "Bio"
         ],
         "type": "nominal"
        }
       },
       "mark": {
        "filled": true,
        "opacity": 1,
        "size": 50,
        "type": "point"
       },
       "selection": {
        "selector103": {
         "bind": "scales",
         "encodings": [
          "x",
          "y"
         ],
         "type": "interval"
        }
       }
      },
      "image/png": "[encoded data removed]",
      "text/plain": [
       "<VegaLite 3 object>\n",
       "\n",
       "If you see this message, it means the renderer has not been properly enabled\n",
       "for the frontend that you are using. For more information, see\n",
       "https://altair-viz.github.io/user_guide/troubleshooting.html\n"
      ]
     },
     "execution_count": 178,
     "metadata": {},
     "output_type": "execute_result"
    }
   ],
   "source": [
    "#shape_scale = alt.Scale(domain=['avg', 'max'], range=['circle', 'triangle'])\n",
    "\n",
    "color_scale = alt.Scale(domain=['avg', 'max'], range=['blue', 'red'])\n",
    "\n",
    "alt.Chart(stats_yl[y==2018]).mark_point(filled=True, size=50, opacity=1).encode(\n",
    "    x=alt.X('log2', \n",
    "        scale = alt.Scale(\n",
    "            domain=(-2,7),\n",
    "            clamp=True # nice for interactive charts. otherwise, clip=True may be better\n",
    "        ),\n",
    "        axis=alt.Axis(title='log₂ Power (GW)')\n",
    "    ),\n",
    "    y=alt.Y('type', sort=sorted_types),\n",
    "    color=alt.Color('stat',\n",
    "        scale=color_scale\n",
    "    ),\n",
    "    shape=alt.Shape(\n",
    "        'stat', \n",
    "        scale=shape_scale\n",
    "    ),\n",
    "    tooltip=['year', 'value']\n",
    ").interactive()"
   ]
  },
  {
   "cell_type": "markdown",
   "metadata": {},
   "source": [
    "### For all years"
   ]
  },
  {
   "cell_type": "code",
   "execution_count": 90,
   "metadata": {},
   "outputs": [],
   "source": [
    "out = stats_yl.log2 < -1.5 # outliers"
   ]
  },
  {
   "cell_type": "code",
   "execution_count": 165,
   "metadata": {},
   "outputs": [
    {
     "data": {
      "application/vnd.vegalite.v3+json": {
       "$schema": "https://vega.github.io/schema/vega-lite/v3.4.0.json",
       "config": {
        "mark": {
         "tooltip": null
        },
        "view": {
         "height": 300,
         "width": 400
        }
       },
       "data": {
        "name": "data-bdfe554aa52ee3a567769044a9ab6a49"
       },
       "datasets": {
        "data-bdfe554aa52ee3a567769044a9ab6a49": [
         {
          "log2": -0.5897849551170182,
          "stat": "avg",
          "type": "Bio",
          "value": 0.6644419398907104,
          "year": 2012
         },
         {
          "log2": -0.9508560079900215,
          "stat": "avg",
          "type": "Oil",
          "value": 0.5173254212204007,
          "year": 2012
         },
         {
          "log2": 0.9899300030029694,
          "stat": "avg",
          "type": "Coal",
          "value": 1.9860886270491804,
          "year": 2012
         },
         {
          "log2": -0.3886096874869855,
          "stat": "avg",
          "type": "Pump",
          "value": 0.7638653802367942,
          "year": 2012
         },
         {
          "log2": -1.2154195479949164,
          "stat": "avg",
          "type": "Solar",
          "value": 0.43064782559198544,
          "year": 2012
         },
         {
          "log2": -2.7710548974661457,
          "stat": "avg",
          "type": "Import",
          "value": 0.14649721083788708,
          "year": 2012
         },
         {
          "log2": 1.511270717384349,
          "stat": "avg",
          "type": "Gas",
          "value": 2.8506100865209474,
          "year": 2012
         },
         {
          "log2": 0.7626251308147106,
          "stat": "avg",
          "type": "Wind",
          "value": 1.6965749089253188,
          "year": 2012
         },
         {
          "log2": 2.4330905509859395,
          "stat": "avg",
          "type": "Export",
          "value": 5.4004908925318755,
          "year": 2012
         },
         {
          "log2": 2.8506562228844636,
          "stat": "avg",
          "type": "Hydro",
          "value": 7.213283982240438,
          "year": 2012
         },
         {
          "log2": 5.5253117008049255,
          "stat": "avg",
          "type": "Nuclear",
          "value": 46.05582405510018,
          "year": 2012
         },
         {
          "log2": 5.791734950074245,
          "stat": "avg",
          "type": "Load",
          "value": 55.396961805555556,
          "year": 2012
         },
         {
          "log2": -0.3237325917341102,
          "stat": "max",
          "type": "Bio",
          "value": 0.799,
          "year": 2012
         },
         {
          "log2": 2.5670586262991955,
          "stat": "max",
          "type": "Oil",
          "value": 5.926,
          "year": 2012
         },
         {
          "log2": 2.442545456105304,
          "stat": "max",
          "type": "Coal",
          "value": 5.436,
          "year": 2012
         },
         {
          "log2": 1.755314904045098,
          "stat": "max",
          "type": "Pump",
          "value": 3.376,
          "year": 2012
         },
         {
          "log2": 1.3155662303189486,
          "stat": "max",
          "type": "Solar",
          "value": 2.489,
          "year": 2012
         },
         {
          "log2": 3.2155232927657105,
          "stat": "max",
          "type": "Import",
          "value": 9.289,
          "year": 2012
         },
         {
          "log2": 3.108524456778169,
          "stat": "max",
          "type": "Gas",
          "value": 8.625,
          "year": 2012
         },
         {
          "log2": 2.631802754924129,
          "stat": "max",
          "type": "Wind",
          "value": 6.198,
          "year": 2012
         },
         {
          "log2": 3.764898122814709,
          "stat": "max",
          "type": "Export",
          "value": 13.594,
          "year": 2012
         },
         {
          "log2": 4.033863451866284,
          "stat": "max",
          "type": "Hydro",
          "value": 16.38,
          "year": 2012
         },
         {
          "log2": 5.9262604088530395,
          "stat": "max",
          "type": "Nuclear",
          "value": 60.811,
          "year": 2012
         },
         {
          "log2": 6.673810795281893,
          "stat": "max",
          "type": "Load",
          "value": 102.098,
          "year": 2012
         },
         {
          "log2": -0.498237005740741,
          "stat": "avg",
          "type": "Bio",
          "value": 0.707971404109589,
          "year": 2013
         },
         {
          "log2": -1.1395233101320745,
          "stat": "avg",
          "type": "Oil",
          "value": 0.45390953196347034,
          "year": 2013
         },
         {
          "log2": 1.1710855344067073,
          "stat": "avg",
          "type": "Coal",
          "value": 2.251810673515982,
          "year": 2013
         },
         {
          "log2": -0.2839013941782226,
          "stat": "avg",
          "type": "Pump",
          "value": 0.8213668378995433,
          "year": 2013
         },
         {
          "log2": -0.9461722957452827,
          "stat": "avg",
          "type": "Solar",
          "value": 0.5190076484018264,
          "year": 2013
         },
         {
          "log2": -3.5065548012208922,
          "stat": "avg",
          "type": "Import",
          "value": 0.08798767123287671,
          "year": 2013
         },
         {
          "log2": 1.1907959550638008,
          "stat": "avg",
          "type": "Gas",
          "value": 2.282786529680365,
          "year": 2013
         },
         {
          "log2": 0.8611430968352154,
          "stat": "avg",
          "type": "Wind",
          "value": 1.816476997716895,
          "year": 2013
         },
         {
          "log2": 2.509663539537197,
          "stat": "avg",
          "type": "Export",
          "value": 5.694872488584475,
          "year": 2013
         },
         {
          "log2": 3.091147109555891,
          "stat": "avg",
          "type": "Hydro",
          "value": 8.52173453196347,
          "year": 2013
         },
         {
          "log2": 5.5253849094258145,
          "stat": "avg",
          "type": "Nuclear",
          "value": 46.05816118721461,
          "year": 2013
         },
         {
          "log2": 5.812126718227922,
          "stat": "avg",
          "type": "Load",
          "value": 56.18552985159817,
          "year": 2013
         },
         {
          "log2": -0.26015189730067256,
          "stat": "max",
          "type": "Bio",
          "value": 0.835,
          "year": 2013
         },
         {
          "log2": 1.968643755964717,
          "stat": "max",
          "type": "Oil",
          "value": 3.914,
          "year": 2013
         },
         {
          "log2": 2.6473145095471358,
          "stat": "max",
          "type": "Coal",
          "value": 6.265,
          "year": 2013
         },
         {
          "log2": 1.86274892579353,
          "stat": "max",
          "type": "Pump",
          "value": 3.637,
          "year": 2013
         },
         {
          "log2": 1.560714954474479,
          "stat": "max",
          "type": "Solar",
          "value": 2.95,
          "year": 2013
         },
         {
          "log2": 2.3015876466031866,
          "stat": "max",
          "type": "Import",
          "value": 4.93,
          "year": 2013
         },
         {
          "log2": 3.0581432925122924,
          "stat": "max",
          "type": "Gas",
          "value": 8.329,
          "year": 2013
         },
         {
          "log2": 2.7073039082472756,
          "stat": "max",
          "type": "Wind",
          "value": 6.531,
          "year": 2013
         },
         {
          "log2": 3.722247417751847,
          "stat": "max",
          "type": "Export",
          "value": 13.198,
          "year": 2013
         },
         {
          "log2": 4.070818637533277,
          "stat": "max",
          "type": "Hydro",
          "value": 16.805,
          "year": 2013
         },
         {
          "log2": 5.885257092756531,
          "stat": "max",
          "type": "Nuclear",
          "value": 59.107,
          "year": 2013
         },
         {
          "log2": 6.533392033580457,
          "stat": "max",
          "type": "Load",
          "value": 92.629,
          "year": 2013
         },
         {
          "log2": -0.22211162269519066,
          "stat": "avg",
          "type": "Bio",
          "value": 0.857309703196347,
          "year": 2014
         },
         {
          "log2": -1.8769476526441542,
          "stat": "avg",
          "type": "Oil",
          "value": 0.2722591324200913,
          "year": 2014
         },
         {
          "log2": -0.07508101355995753,
          "stat": "avg",
          "type": "Coal",
          "value": 0.9492888127853881,
          "year": 2014
         },
         {
          "log2": -0.13214107706855632,
          "stat": "avg",
          "type": "Pump",
          "value": 0.9124762557077626,
          "year": 2014
         },
         {
          "log2": -0.5901826812575737,
          "stat": "avg",
          "type": "Solar",
          "value": 0.6642587899543378,
          "year": 2014
         },
         {
          "log2": -9.323298976909346,
          "stat": "avg",
          "type": "Import",
          "value": 0.00156101598173516,
          "year": 2014
         },
         {
          "log2": 0.7029094913589631,
          "stat": "avg",
          "type": "Gas",
          "value": 1.6277842465753425,
          "year": 2014
         },
         {
          "log2": 0.9615281467327609,
          "stat": "avg",
          "type": "Wind",
          "value": 1.9473715182648403,
          "year": 2014
         },
         {
          "log2": 2.9540712884000873,
          "stat": "avg",
          "type": "Export",
          "value": 7.749328424657534,
          "year": 2014
         },
         {
          "log2": 2.9428949106341245,
          "stat": "avg",
          "type": "Hydro",
          "value": 7.689527283105022,
          "year": 2014
         },
         {
          "log2": 5.567789008529102,
          "stat": "avg",
          "type": "Nuclear",
          "value": 47.432006963470315,
          "year": 2014
         },
         {
          "log2": 5.721905755022308,
          "stat": "avg",
          "type": "Load",
          "value": 52.779499143835615,
          "year": 2014
         },
         {
          "log2": 0.06901467791518046,
          "stat": "max",
          "type": "Bio",
          "value": 1.049,
          "year": 2014
         },
         {
          "log2": 1.005759269288685,
          "stat": "max",
          "type": "Oil",
          "value": 2.008,
          "year": 2014
         },
         {
          "log2": 2.180147861158429,
          "stat": "max",
          "type": "Coal",
          "value": 4.532,
          "year": 2014
         },
         {
          "log2": 1.8539956471763932,
          "stat": "max",
          "type": "Pump",
          "value": 3.615,
          "year": 2014
         },
         {
          "log2": 1.8539956471763932,
          "stat": "max",
          "type": "Solar",
          "value": 3.615,
          "year": 2014
         },
         {
          "log2": 0.9553128034447055,
          "stat": "max",
          "type": "Import",
          "value": 1.939,
          "year": 2014
         },
         {
          "log2": 2.880881397237651,
          "stat": "max",
          "type": "Gas",
          "value": 7.366,
          "year": 2014
         },
         {
          "log2": 2.883425315907177,
          "stat": "max",
          "type": "Wind",
          "value": 7.379,
          "year": 2014
         },
         {
          "log2": 3.7947277666952597,
          "stat": "max",
          "type": "Export",
          "value": 13.878,
          "year": 2014
         },
         {
          "log2": 4.054414387917307,
          "stat": "max",
          "type": "Hydro",
          "value": 16.615,
          "year": 2014
         },
         {
          "log2": 5.9362139010064086,
          "stat": "max",
          "type": "Nuclear",
          "value": 61.232,
          "year": 2014
         },
         {
          "log2": 6.368192133643371,
          "stat": "max",
          "type": "Load",
          "value": 82.607,
          "year": 2014
         },
         {
          "log2": -0.14610221415898939,
          "stat": "avg",
          "type": "Bio",
          "value": 0.903688698630137,
          "year": 2015
         },
         {
          "log2": -1.7226812342976474,
          "stat": "avg",
          "type": "Oil",
          "value": 0.302985102739726,
          "year": 2015
         },
         {
          "log2": -0.024927769644124166,
          "stat": "avg",
          "type": "Coal",
          "value": 0.982869805936073,
          "year": 2015
         },
         {
          "log2": -0.34603967261274077,
          "stat": "avg",
          "type": "Pump",
          "value": 0.7867408105022832,
          "year": 2015
         },
         {
          "log2": -0.26573784018838914,
          "stat": "avg",
          "type": "Solar",
          "value": 0.8317732305936073,
          "year": 2015
         },
         {
          "log2": -9.12784104277106,
          "stat": "avg",
          "type": "Import",
          "value": 0.0017875,
          "year": 2015
         },
         {
          "log2": 1.3346232587590563,
          "stat": "avg",
          "type": "Gas",
          "value": 2.522096118721461,
          "year": 2015
         },
         {
          "log2": 1.267848249992297,
          "stat": "avg",
          "type": "Wind",
          "value": 2.408021461187215,
          "year": 2015
         },
         {
          "log2": 2.882551634467401,
          "stat": "avg",
          "type": "Export",
          "value": 7.374532705479452,
          "year": 2015
         },
         {
          "log2": 2.739968398699176,
          "stat": "avg",
          "type": "Hydro",
          "value": 6.680557020547945,
          "year": 2015
         },
         {
          "log2": 5.5710836732936855,
          "stat": "avg",
          "type": "Nuclear",
          "value": 47.540450627853886,
          "year": 2015
         },
         {
          "log2": 5.755231511767753,
          "stat": "avg",
          "type": "Load",
          "value": 54.01287779680365,
          "year": 2015
         },
         {
          "log2": 0.21536797220347947,
          "stat": "max",
          "type": "Bio",
          "value": 1.161,
          "year": 2015
         },
         {
          "log2": 1.7782085763980877,
          "stat": "max",
          "type": "Oil",
          "value": 3.43,
          "year": 2015
         },
         {
          "log2": 1.8399595874895318,
          "stat": "max",
          "type": "Coal",
          "value": 3.58,
          "year": 2015
         },
         {
          "log2": 1.8491986517647032,
          "stat": "max",
          "type": "Pump",
          "value": 3.603,
          "year": 2015
         },
         {
          "log2": 2.127963378123582,
          "stat": "max",
          "type": "Solar",
          "value": 4.371,
          "year": 2015
         },
         {
          "log2": 1.1401242239090708,
          "stat": "max",
          "type": "Import",
          "value": 2.204,
          "year": 2015
         },
         {
          "log2": 3.0093471722592526,
          "stat": "max",
          "type": "Gas",
          "value": 8.052,
          "year": 2015
         },
         {
          "log2": 3.058489677877915,
          "stat": "max",
          "type": "Wind",
          "value": 8.331,
          "year": 2015
         },
         {
          "log2": 4.0146230951696324,
          "stat": "max",
          "type": "Export",
          "value": 16.163,
          "year": 2015
         },
         {
          "log2": 3.967998564113285,
          "stat": "max",
          "type": "Hydro",
          "value": 15.649,
          "year": 2015
         },
         {
          "log2": 5.947479145966675,
          "stat": "max",
          "type": "Nuclear",
          "value": 61.712,
          "year": 2015
         },
         {
          "log2": 6.5225266077605015,
          "stat": "max",
          "type": "Load",
          "value": 91.934,
          "year": 2015
         },
         {
          "log2": -0.011979259234496583,
          "stat": "avg",
          "type": "Bio",
          "value": 0.9917309881602914,
          "year": 2016
         },
         {
          "log2": -2.350325912586089,
          "stat": "avg",
          "type": "Oil",
          "value": 0.19610171903460838,
          "year": 2016
         },
         {
          "log2": -0.2665467722610178,
          "stat": "avg",
          "type": "Coal",
          "value": 0.8313069785974498,
          "year": 2016
         },
         {
          "log2": -0.37952810896013917,
          "stat": "avg",
          "type": "Pump",
          "value": 0.7686889799635701,
          "year": 2016
         },
         {
          "log2": -0.08859297094385367,
          "stat": "avg",
          "type": "Solar",
          "value": 0.9404394922586521,
          "year": 2016
         },
         {
          "log2": -1.826860621751431,
          "stat": "avg",
          "type": "Import",
          "value": 0.2818773337887067,
          "year": 2016
         },
         {
          "log2": 2.009514626595499,
          "stat": "avg",
          "type": "Gas",
          "value": 4.026467326958106,
          "year": 2016
         },
         {
          "log2": 1.2517875463853516,
          "stat": "avg",
          "type": "Wind",
          "value": 2.3813629895264117,
          "year": 2016
         },
         {
          "log2": 2.348492627176939,
          "stat": "avg",
          "type": "Export",
          "value": 5.092918488160292,
          "year": 2016
         },
         {
          "log2": 2.8506125052161972,
          "stat": "avg",
          "type": "Hydro",
          "value": 7.213065403005465,
          "year": 2016
         },
         {
          "log2": 5.4489728688162336,
          "stat": "avg",
          "type": "Nuclear",
          "value": 43.68217748178507,
          "year": 2016
         },
         {
          "log2": 5.77297531356096,
          "stat": "avg",
          "type": "Load",
          "value": 54.68128773907104,
          "year": 2016
         },
         {
          "log2": 0.33456827566613273,
          "stat": "max",
          "type": "Bio",
          "value": 1.261,
          "year": 2016
         },
         {
          "log2": 1.6125884066987175,
          "stat": "max",
          "type": "Oil",
          "value": 3.058,
          "year": 2016
         },
         {
          "log2": 1.488515008957812,
          "stat": "max",
          "type": "Coal",
          "value": 2.806,
          "year": 2016
         },
         {
          "log2": 1.7493197245740804,
          "stat": "max",
          "type": "Pump",
          "value": 3.362,
          "year": 2016
         },
         {
          "log2": 2.387086770015909,
          "stat": "max",
          "type": "Solar",
          "value": 5.231,
          "year": 2016
         },
         {
          "log2": 3.0820212693455025,
          "stat": "max",
          "type": "Import",
          "value": 8.468,
          "year": 2016
         },
         {
          "log2": 3.2485348361386785,
          "stat": "max",
          "type": "Gas",
          "value": 9.504,
          "year": 2016
         },
         {
          "log2": 3.112199689300664,
          "stat": "max",
          "type": "Wind",
          "value": 8.647,
          "year": 2016
         },
         {
          "log2": 4.020324398212567,
          "stat": "max",
          "type": "Export",
          "value": 16.227,
          "year": 2016
         },
         {
          "log2": 4.022634132145764,
          "stat": "max",
          "type": "Hydro",
          "value": 16.253,
          "year": 2016
         },
         {
          "log2": 5.893871821215822,
          "stat": "max",
          "type": "Nuclear",
          "value": 59.461,
          "year": 2016
         },
         {
          "log2": 6.471366322669757,
          "stat": "max",
          "type": "Load",
          "value": 88.731,
          "year": 2016
         },
         {
          "log2": 0.10764621826672749,
          "stat": "avg",
          "type": "Bio",
          "value": 1.0774688926940639,
          "year": 2017
         },
         {
          "log2": -1.3324456414358279,
          "stat": "avg",
          "type": "Oil",
          "value": 0.3970945205479452,
          "year": 2017
         },
         {
          "log2": 0.1522861204719283,
          "stat": "avg",
          "type": "Coal",
          "value": 1.1113291095890412,
          "year": 2017
         },
         {
          "log2": -0.2908627820483441,
          "stat": "avg",
          "type": "Pump",
          "value": 0.8174130707762557,
          "year": 2017
         },
         {
          "log2": 0.03797731456570503,
          "stat": "avg",
          "type": "Solar",
          "value": 1.026673401826484,
          "year": 2017
         },
         {
          "log2": -1.268195629272122,
          "stat": "avg",
          "type": "Import",
          "value": 0.4151787100456621,
          "year": 2017
         },
         {
          "log2": 2.1743409272935237,
          "stat": "avg",
          "type": "Gas",
          "value": 4.5137950913242015,
          "year": 2017
         },
         {
          "log2": 1.4598851967650512,
          "stat": "avg",
          "type": "Wind",
          "value": 2.7508647260273973,
          "year": 2017
         },
         {
          "log2": 2.3485532597472196,
          "stat": "avg",
          "type": "Export",
          "value": 5.093132534246576,
          "year": 2017
         },
         {
          "log2": 2.59736199697252,
          "stat": "avg",
          "type": "Hydro",
          "value": 6.051790296803653,
          "year": 2017
         },
         {
          "log2": 5.434690060722972,
          "stat": "avg",
          "type": "Nuclear",
          "value": 43.25185371004566,
          "year": 2017
         },
         {
          "log2": 5.773085442976695,
          "stat": "avg",
          "type": "Load",
          "value": 54.685462043379,
          "year": 2017
         },
         {
          "log2": 0.4478436443620855,
          "stat": "max",
          "type": "Bio",
          "value": 1.364,
          "year": 2017
         },
         {
          "log2": 2.0809986856942633,
          "stat": "max",
          "type": "Oil",
          "value": 4.231,
          "year": 2017
         },
         {
          "log2": 1.5612039207699202,
          "stat": "max",
          "type": "Coal",
          "value": 2.951,
          "year": 2017
         },
         {
          "log2": 1.8459917706645732,
          "stat": "max",
          "type": "Pump",
          "value": 3.595,
          "year": 2017
         },
         {
          "log2": 2.4667576157261712,
          "stat": "max",
          "type": "Solar",
          "value": 5.528,
          "year": 2017
         },
         {
          "log2": 3.3235141872413885,
          "stat": "max",
          "type": "Import",
          "value": 10.011,
          "year": 2017
         },
         {
          "log2": 3.2604773686534165,
          "stat": "max",
          "type": "Gas",
          "value": 9.583,
          "year": 2017
         },
         {
          "log2": 3.491724851070611,
          "stat": "max",
          "type": "Wind",
          "value": 11.249,
          "year": 2017
         },
         {
          "log2": 4.106850796450224,
          "stat": "max",
          "type": "Export",
          "value": 17.23,
          "year": 2017
         },
         {
          "log2": 3.9024595330425496,
          "stat": "max",
          "type": "Hydro",
          "value": 14.954,
          "year": 2017
         },
         {
          "log2": 5.829976373455363,
          "stat": "max",
          "type": "Nuclear",
          "value": 56.885,
          "year": 2017
         },
         {
          "log2": 6.558206397822323,
          "stat": "max",
          "type": "Load",
          "value": 94.236,
          "year": 2017
         },
         {
          "log2": 0.12396282177146631,
          "stat": "avg",
          "type": "Bio",
          "value": 1.0897240296803652,
          "year": 2018
         },
         {
          "log2": -2.0921484548149123,
          "stat": "avg",
          "type": "Oil",
          "value": 0.23453116438356164,
          "year": 2018
         },
         {
          "log2": -0.6075789352729759,
          "stat": "avg",
          "type": "Coal",
          "value": 0.6562971461187215,
          "year": 2018
         },
         {
          "log2": -0.24338230169764885,
          "stat": "avg",
          "type": "Pump",
          "value": 0.8447625000000001,
          "year": 2018
         },
         {
          "log2": 0.2727189524616399,
          "stat": "avg",
          "type": "Solar",
          "value": 1.2080824771689498,
          "year": 2018
         },
         {
          "log2": -3.196000773178093,
          "stat": "avg",
          "type": "Import",
          "value": 0.1091208904109589,
          "year": 2018
         },
         {
          "log2": 1.785160208226843,
          "stat": "avg",
          "type": "Gas",
          "value": 3.4465673515981736,
          "year": 2018
         },
         {
          "log2": 1.683151858023809,
          "stat": "avg",
          "type": "Wind",
          "value": 3.2112875570776254,
          "year": 2018
         },
         {
          "log2": 2.8843840184118354,
          "stat": "avg",
          "type": "Export",
          "value": 7.383905136986301,
          "year": 2018
         },
         {
          "log2": 2.943958148856137,
          "stat": "avg",
          "type": "Hydro",
          "value": 7.695196404109589,
          "year": 2018
         },
         {
          "log2": 5.487393960874133,
          "stat": "avg",
          "type": "Nuclear",
          "value": 44.86112705479452,
          "year": 2018
         },
         {
          "log2": 5.762434383967369,
          "stat": "avg",
          "type": "Load",
          "value": 54.283219520547945,
          "year": 2018
         },
         {
          "log2": 0.36289064266586035,
          "stat": "max",
          "type": "Bio",
          "value": 1.286,
          "year": 2018
         },
         {
          "log2": 1.3259619961718523,
          "stat": "max",
          "type": "Oil",
          "value": 2.507,
          "year": 2018
         },
         {
          "log2": 1.5513929680274543,
          "stat": "max",
          "type": "Coal",
          "value": 2.931,
          "year": 2018
         },
         {
          "log2": 1.8682916687727975,
          "stat": "max",
          "type": "Pump",
          "value": 3.651,
          "year": 2018
         },
         {
          "log2": 2.6848187375532224,
          "stat": "max",
          "type": "Solar",
          "value": 6.43,
          "year": 2018
         },
         {
          "log2": 3.259121806057679,
          "stat": "max",
          "type": "Import",
          "value": 9.574,
          "year": 2018
         },
         {
          "log2": 3.277984747299765,
          "stat": "max",
          "type": "Gas",
          "value": 9.7,
          "year": 2018
         },
         {
          "log2": 3.6190608044585253,
          "stat": "max",
          "type": "Wind",
          "value": 12.287,
          "year": 2018
         },
         {
          "log2": 4.051111035573034,
          "stat": "max",
          "type": "Export",
          "value": 16.577,
          "year": 2018
         },
         {
          "log2": 4.1238317095660175,
          "stat": "max",
          "type": "Hydro",
          "value": 17.434,
          "year": 2018
         },
         {
          "log2": 5.8738131983590876,
          "stat": "max",
          "type": "Nuclear",
          "value": 58.64,
          "year": 2018
         },
         {
          "log2": 6.589044356767767,
          "stat": "max",
          "type": "Load",
          "value": 96.272,
          "year": 2018
         }
        ]
       },
       "encoding": {
        "color": {
         "field": "stat",
         "type": "nominal"
        },
        "shape": {
         "field": "stat",
         "type": "nominal"
        },
        "tooltip": [
         {
          "field": "year",
          "type": "quantitative"
         },
         {
          "field": "value",
          "type": "quantitative"
         }
        ],
        "x": {
         "axis": {
          "title": "log₂ Power (GW)"
         },
         "field": "log2",
         "scale": {
          "clamp": true,
          "domain": [
           -2,
           7
          ]
         },
         "type": "quantitative"
        },
        "y": {
         "field": "type",
         "sort": [
          "Load",
          "Nuclear",
          "Hydro",
          "Export",
          "Wind",
          "Gas",
          "Import",
          "Solar",
          "Pump",
          "Coal",
          "Oil",
          "Bio"
         ],
         "type": "nominal"
        }
       },
       "mark": "point",
       "selection": {
        "selector087": {
         "bind": "scales",
         "encodings": [
          "x",
          "y"
         ],
         "type": "interval"
        }
       }
      },
      "image/png": "[encoded data removed]",
      "text/plain": [
       "<VegaLite 3 object>\n",
       "\n",
       "If you see this message, it means the renderer has not been properly enabled\n",
       "for the frontend that you are using. For more information, see\n",
       "https://altair-viz.github.io/user_guide/troubleshooting.html\n"
      ]
     },
     "execution_count": 165,
     "metadata": {},
     "output_type": "execute_result"
    }
   ],
   "source": [
    "alt.Chart(stats_yl).mark_point().encode(\n",
    "    x=alt.X('log2', \n",
    "        scale = alt.Scale(\n",
    "            domain=(-2,7),\n",
    "            clamp=True # nice for interactive charts. otherwise, clip=True may be better\n",
    "        ),\n",
    "        axis=alt.Axis(title='log₂ Power (GW)')\n",
    "    ),\n",
    "    y=alt.Y('type', sort=sorted_types),\n",
    "    color='stat',\n",
    "    shape='stat',\n",
    "    tooltip=['year', 'value']\n",
    ").interactive()"
   ]
  },
  {
   "cell_type": "markdown",
   "metadata": {},
   "source": [
    "### All years - with interactive selection\n"
   ]
  },
  {
   "cell_type": "code",
   "execution_count": 183,
   "metadata": {},
   "outputs": [
    {
     "data": {
      "application/vnd.vegalite.v3+json": {
       "$schema": "https://vega.github.io/schema/vega-lite/v3.4.0.json",
       "config": {
        "mark": {
         "tooltip": null
        },
        "view": {
         "height": 300,
         "width": 400
        }
       },
       "data": {
        "name": "data-bdfe554aa52ee3a567769044a9ab6a49"
       },
       "datasets": {
        "data-bdfe554aa52ee3a567769044a9ab6a49": [
         {
          "log2": -0.5897849551170182,
          "stat": "avg",
          "type": "Bio",
          "value": 0.6644419398907104,
          "year": 2012
         },
         {
          "log2": -0.9508560079900215,
          "stat": "avg",
          "type": "Oil",
          "value": 0.5173254212204007,
          "year": 2012
         },
         {
          "log2": 0.9899300030029694,
          "stat": "avg",
          "type": "Coal",
          "value": 1.9860886270491804,
          "year": 2012
         },
         {
          "log2": -0.3886096874869855,
          "stat": "avg",
          "type": "Pump",
          "value": 0.7638653802367942,
          "year": 2012
         },
         {
          "log2": -1.2154195479949164,
          "stat": "avg",
          "type": "Solar",
          "value": 0.43064782559198544,
          "year": 2012
         },
         {
          "log2": -2.7710548974661457,
          "stat": "avg",
          "type": "Import",
          "value": 0.14649721083788708,
          "year": 2012
         },
         {
          "log2": 1.511270717384349,
          "stat": "avg",
          "type": "Gas",
          "value": 2.8506100865209474,
          "year": 2012
         },
         {
          "log2": 0.7626251308147106,
          "stat": "avg",
          "type": "Wind",
          "value": 1.6965749089253188,
          "year": 2012
         },
         {
          "log2": 2.4330905509859395,
          "stat": "avg",
          "type": "Export",
          "value": 5.4004908925318755,
          "year": 2012
         },
         {
          "log2": 2.8506562228844636,
          "stat": "avg",
          "type": "Hydro",
          "value": 7.213283982240438,
          "year": 2012
         },
         {
          "log2": 5.5253117008049255,
          "stat": "avg",
          "type": "Nuclear",
          "value": 46.05582405510018,
          "year": 2012
         },
         {
          "log2": 5.791734950074245,
          "stat": "avg",
          "type": "Load",
          "value": 55.396961805555556,
          "year": 2012
         },
         {
          "log2": -0.3237325917341102,
          "stat": "max",
          "type": "Bio",
          "value": 0.799,
          "year": 2012
         },
         {
          "log2": 2.5670586262991955,
          "stat": "max",
          "type": "Oil",
          "value": 5.926,
          "year": 2012
         },
         {
          "log2": 2.442545456105304,
          "stat": "max",
          "type": "Coal",
          "value": 5.436,
          "year": 2012
         },
         {
          "log2": 1.755314904045098,
          "stat": "max",
          "type": "Pump",
          "value": 3.376,
          "year": 2012
         },
         {
          "log2": 1.3155662303189486,
          "stat": "max",
          "type": "Solar",
          "value": 2.489,
          "year": 2012
         },
         {
          "log2": 3.2155232927657105,
          "stat": "max",
          "type": "Import",
          "value": 9.289,
          "year": 2012
         },
         {
          "log2": 3.108524456778169,
          "stat": "max",
          "type": "Gas",
          "value": 8.625,
          "year": 2012
         },
         {
          "log2": 2.631802754924129,
          "stat": "max",
          "type": "Wind",
          "value": 6.198,
          "year": 2012
         },
         {
          "log2": 3.764898122814709,
          "stat": "max",
          "type": "Export",
          "value": 13.594,
          "year": 2012
         },
         {
          "log2": 4.033863451866284,
          "stat": "max",
          "type": "Hydro",
          "value": 16.38,
          "year": 2012
         },
         {
          "log2": 5.9262604088530395,
          "stat": "max",
          "type": "Nuclear",
          "value": 60.811,
          "year": 2012
         },
         {
          "log2": 6.673810795281893,
          "stat": "max",
          "type": "Load",
          "value": 102.098,
          "year": 2012
         },
         {
          "log2": -0.498237005740741,
          "stat": "avg",
          "type": "Bio",
          "value": 0.707971404109589,
          "year": 2013
         },
         {
          "log2": -1.1395233101320745,
          "stat": "avg",
          "type": "Oil",
          "value": 0.45390953196347034,
          "year": 2013
         },
         {
          "log2": 1.1710855344067073,
          "stat": "avg",
          "type": "Coal",
          "value": 2.251810673515982,
          "year": 2013
         },
         {
          "log2": -0.2839013941782226,
          "stat": "avg",
          "type": "Pump",
          "value": 0.8213668378995433,
          "year": 2013
         },
         {
          "log2": -0.9461722957452827,
          "stat": "avg",
          "type": "Solar",
          "value": 0.5190076484018264,
          "year": 2013
         },
         {
          "log2": -3.5065548012208922,
          "stat": "avg",
          "type": "Import",
          "value": 0.08798767123287671,
          "year": 2013
         },
         {
          "log2": 1.1907959550638008,
          "stat": "avg",
          "type": "Gas",
          "value": 2.282786529680365,
          "year": 2013
         },
         {
          "log2": 0.8611430968352154,
          "stat": "avg",
          "type": "Wind",
          "value": 1.816476997716895,
          "year": 2013
         },
         {
          "log2": 2.509663539537197,
          "stat": "avg",
          "type": "Export",
          "value": 5.694872488584475,
          "year": 2013
         },
         {
          "log2": 3.091147109555891,
          "stat": "avg",
          "type": "Hydro",
          "value": 8.52173453196347,
          "year": 2013
         },
         {
          "log2": 5.5253849094258145,
          "stat": "avg",
          "type": "Nuclear",
          "value": 46.05816118721461,
          "year": 2013
         },
         {
          "log2": 5.812126718227922,
          "stat": "avg",
          "type": "Load",
          "value": 56.18552985159817,
          "year": 2013
         },
         {
          "log2": -0.26015189730067256,
          "stat": "max",
          "type": "Bio",
          "value": 0.835,
          "year": 2013
         },
         {
          "log2": 1.968643755964717,
          "stat": "max",
          "type": "Oil",
          "value": 3.914,
          "year": 2013
         },
         {
          "log2": 2.6473145095471358,
          "stat": "max",
          "type": "Coal",
          "value": 6.265,
          "year": 2013
         },
         {
          "log2": 1.86274892579353,
          "stat": "max",
          "type": "Pump",
          "value": 3.637,
          "year": 2013
         },
         {
          "log2": 1.560714954474479,
          "stat": "max",
          "type": "Solar",
          "value": 2.95,
          "year": 2013
         },
         {
          "log2": 2.3015876466031866,
          "stat": "max",
          "type": "Import",
          "value": 4.93,
          "year": 2013
         },
         {
          "log2": 3.0581432925122924,
          "stat": "max",
          "type": "Gas",
          "value": 8.329,
          "year": 2013
         },
         {
          "log2": 2.7073039082472756,
          "stat": "max",
          "type": "Wind",
          "value": 6.531,
          "year": 2013
         },
         {
          "log2": 3.722247417751847,
          "stat": "max",
          "type": "Export",
          "value": 13.198,
          "year": 2013
         },
         {
          "log2": 4.070818637533277,
          "stat": "max",
          "type": "Hydro",
          "value": 16.805,
          "year": 2013
         },
         {
          "log2": 5.885257092756531,
          "stat": "max",
          "type": "Nuclear",
          "value": 59.107,
          "year": 2013
         },
         {
          "log2": 6.533392033580457,
          "stat": "max",
          "type": "Load",
          "value": 92.629,
          "year": 2013
         },
         {
          "log2": -0.22211162269519066,
          "stat": "avg",
          "type": "Bio",
          "value": 0.857309703196347,
          "year": 2014
         },
         {
          "log2": -1.8769476526441542,
          "stat": "avg",
          "type": "Oil",
          "value": 0.2722591324200913,
          "year": 2014
         },
         {
          "log2": -0.07508101355995753,
          "stat": "avg",
          "type": "Coal",
          "value": 0.9492888127853881,
          "year": 2014
         },
         {
          "log2": -0.13214107706855632,
          "stat": "avg",
          "type": "Pump",
          "value": 0.9124762557077626,
          "year": 2014
         },
         {
          "log2": -0.5901826812575737,
          "stat": "avg",
          "type": "Solar",
          "value": 0.6642587899543378,
          "year": 2014
         },
         {
          "log2": -9.323298976909346,
          "stat": "avg",
          "type": "Import",
          "value": 0.00156101598173516,
          "year": 2014
         },
         {
          "log2": 0.7029094913589631,
          "stat": "avg",
          "type": "Gas",
          "value": 1.6277842465753425,
          "year": 2014
         },
         {
          "log2": 0.9615281467327609,
          "stat": "avg",
          "type": "Wind",
          "value": 1.9473715182648403,
          "year": 2014
         },
         {
          "log2": 2.9540712884000873,
          "stat": "avg",
          "type": "Export",
          "value": 7.749328424657534,
          "year": 2014
         },
         {
          "log2": 2.9428949106341245,
          "stat": "avg",
          "type": "Hydro",
          "value": 7.689527283105022,
          "year": 2014
         },
         {
          "log2": 5.567789008529102,
          "stat": "avg",
          "type": "Nuclear",
          "value": 47.432006963470315,
          "year": 2014
         },
         {
          "log2": 5.721905755022308,
          "stat": "avg",
          "type": "Load",
          "value": 52.779499143835615,
          "year": 2014
         },
         {
          "log2": 0.06901467791518046,
          "stat": "max",
          "type": "Bio",
          "value": 1.049,
          "year": 2014
         },
         {
          "log2": 1.005759269288685,
          "stat": "max",
          "type": "Oil",
          "value": 2.008,
          "year": 2014
         },
         {
          "log2": 2.180147861158429,
          "stat": "max",
          "type": "Coal",
          "value": 4.532,
          "year": 2014
         },
         {
          "log2": 1.8539956471763932,
          "stat": "max",
          "type": "Pump",
          "value": 3.615,
          "year": 2014
         },
         {
          "log2": 1.8539956471763932,
          "stat": "max",
          "type": "Solar",
          "value": 3.615,
          "year": 2014
         },
         {
          "log2": 0.9553128034447055,
          "stat": "max",
          "type": "Import",
          "value": 1.939,
          "year": 2014
         },
         {
          "log2": 2.880881397237651,
          "stat": "max",
          "type": "Gas",
          "value": 7.366,
          "year": 2014
         },
         {
          "log2": 2.883425315907177,
          "stat": "max",
          "type": "Wind",
          "value": 7.379,
          "year": 2014
         },
         {
          "log2": 3.7947277666952597,
          "stat": "max",
          "type": "Export",
          "value": 13.878,
          "year": 2014
         },
         {
          "log2": 4.054414387917307,
          "stat": "max",
          "type": "Hydro",
          "value": 16.615,
          "year": 2014
         },
         {
          "log2": 5.9362139010064086,
          "stat": "max",
          "type": "Nuclear",
          "value": 61.232,
          "year": 2014
         },
         {
          "log2": 6.368192133643371,
          "stat": "max",
          "type": "Load",
          "value": 82.607,
          "year": 2014
         },
         {
          "log2": -0.14610221415898939,
          "stat": "avg",
          "type": "Bio",
          "value": 0.903688698630137,
          "year": 2015
         },
         {
          "log2": -1.7226812342976474,
          "stat": "avg",
          "type": "Oil",
          "value": 0.302985102739726,
          "year": 2015
         },
         {
          "log2": -0.024927769644124166,
          "stat": "avg",
          "type": "Coal",
          "value": 0.982869805936073,
          "year": 2015
         },
         {
          "log2": -0.34603967261274077,
          "stat": "avg",
          "type": "Pump",
          "value": 0.7867408105022832,
          "year": 2015
         },
         {
          "log2": -0.26573784018838914,
          "stat": "avg",
          "type": "Solar",
          "value": 0.8317732305936073,
          "year": 2015
         },
         {
          "log2": -9.12784104277106,
          "stat": "avg",
          "type": "Import",
          "value": 0.0017875,
          "year": 2015
         },
         {
          "log2": 1.3346232587590563,
          "stat": "avg",
          "type": "Gas",
          "value": 2.522096118721461,
          "year": 2015
         },
         {
          "log2": 1.267848249992297,
          "stat": "avg",
          "type": "Wind",
          "value": 2.408021461187215,
          "year": 2015
         },
         {
          "log2": 2.882551634467401,
          "stat": "avg",
          "type": "Export",
          "value": 7.374532705479452,
          "year": 2015
         },
         {
          "log2": 2.739968398699176,
          "stat": "avg",
          "type": "Hydro",
          "value": 6.680557020547945,
          "year": 2015
         },
         {
          "log2": 5.5710836732936855,
          "stat": "avg",
          "type": "Nuclear",
          "value": 47.540450627853886,
          "year": 2015
         },
         {
          "log2": 5.755231511767753,
          "stat": "avg",
          "type": "Load",
          "value": 54.01287779680365,
          "year": 2015
         },
         {
          "log2": 0.21536797220347947,
          "stat": "max",
          "type": "Bio",
          "value": 1.161,
          "year": 2015
         },
         {
          "log2": 1.7782085763980877,
          "stat": "max",
          "type": "Oil",
          "value": 3.43,
          "year": 2015
         },
         {
          "log2": 1.8399595874895318,
          "stat": "max",
          "type": "Coal",
          "value": 3.58,
          "year": 2015
         },
         {
          "log2": 1.8491986517647032,
          "stat": "max",
          "type": "Pump",
          "value": 3.603,
          "year": 2015
         },
         {
          "log2": 2.127963378123582,
          "stat": "max",
          "type": "Solar",
          "value": 4.371,
          "year": 2015
         },
         {
          "log2": 1.1401242239090708,
          "stat": "max",
          "type": "Import",
          "value": 2.204,
          "year": 2015
         },
         {
          "log2": 3.0093471722592526,
          "stat": "max",
          "type": "Gas",
          "value": 8.052,
          "year": 2015
         },
         {
          "log2": 3.058489677877915,
          "stat": "max",
          "type": "Wind",
          "value": 8.331,
          "year": 2015
         },
         {
          "log2": 4.0146230951696324,
          "stat": "max",
          "type": "Export",
          "value": 16.163,
          "year": 2015
         },
         {
          "log2": 3.967998564113285,
          "stat": "max",
          "type": "Hydro",
          "value": 15.649,
          "year": 2015
         },
         {
          "log2": 5.947479145966675,
          "stat": "max",
          "type": "Nuclear",
          "value": 61.712,
          "year": 2015
         },
         {
          "log2": 6.5225266077605015,
          "stat": "max",
          "type": "Load",
          "value": 91.934,
          "year": 2015
         },
         {
          "log2": -0.011979259234496583,
          "stat": "avg",
          "type": "Bio",
          "value": 0.9917309881602914,
          "year": 2016
         },
         {
          "log2": -2.350325912586089,
          "stat": "avg",
          "type": "Oil",
          "value": 0.19610171903460838,
          "year": 2016
         },
         {
          "log2": -0.2665467722610178,
          "stat": "avg",
          "type": "Coal",
          "value": 0.8313069785974498,
          "year": 2016
         },
         {
          "log2": -0.37952810896013917,
          "stat": "avg",
          "type": "Pump",
          "value": 0.7686889799635701,
          "year": 2016
         },
         {
          "log2": -0.08859297094385367,
          "stat": "avg",
          "type": "Solar",
          "value": 0.9404394922586521,
          "year": 2016
         },
         {
          "log2": -1.826860621751431,
          "stat": "avg",
          "type": "Import",
          "value": 0.2818773337887067,
          "year": 2016
         },
         {
          "log2": 2.009514626595499,
          "stat": "avg",
          "type": "Gas",
          "value": 4.026467326958106,
          "year": 2016
         },
         {
          "log2": 1.2517875463853516,
          "stat": "avg",
          "type": "Wind",
          "value": 2.3813629895264117,
          "year": 2016
         },
         {
          "log2": 2.348492627176939,
          "stat": "avg",
          "type": "Export",
          "value": 5.092918488160292,
          "year": 2016
         },
         {
          "log2": 2.8506125052161972,
          "stat": "avg",
          "type": "Hydro",
          "value": 7.213065403005465,
          "year": 2016
         },
         {
          "log2": 5.4489728688162336,
          "stat": "avg",
          "type": "Nuclear",
          "value": 43.68217748178507,
          "year": 2016
         },
         {
          "log2": 5.77297531356096,
          "stat": "avg",
          "type": "Load",
          "value": 54.68128773907104,
          "year": 2016
         },
         {
          "log2": 0.33456827566613273,
          "stat": "max",
          "type": "Bio",
          "value": 1.261,
          "year": 2016
         },
         {
          "log2": 1.6125884066987175,
          "stat": "max",
          "type": "Oil",
          "value": 3.058,
          "year": 2016
         },
         {
          "log2": 1.488515008957812,
          "stat": "max",
          "type": "Coal",
          "value": 2.806,
          "year": 2016
         },
         {
          "log2": 1.7493197245740804,
          "stat": "max",
          "type": "Pump",
          "value": 3.362,
          "year": 2016
         },
         {
          "log2": 2.387086770015909,
          "stat": "max",
          "type": "Solar",
          "value": 5.231,
          "year": 2016
         },
         {
          "log2": 3.0820212693455025,
          "stat": "max",
          "type": "Import",
          "value": 8.468,
          "year": 2016
         },
         {
          "log2": 3.2485348361386785,
          "stat": "max",
          "type": "Gas",
          "value": 9.504,
          "year": 2016
         },
         {
          "log2": 3.112199689300664,
          "stat": "max",
          "type": "Wind",
          "value": 8.647,
          "year": 2016
         },
         {
          "log2": 4.020324398212567,
          "stat": "max",
          "type": "Export",
          "value": 16.227,
          "year": 2016
         },
         {
          "log2": 4.022634132145764,
          "stat": "max",
          "type": "Hydro",
          "value": 16.253,
          "year": 2016
         },
         {
          "log2": 5.893871821215822,
          "stat": "max",
          "type": "Nuclear",
          "value": 59.461,
          "year": 2016
         },
         {
          "log2": 6.471366322669757,
          "stat": "max",
          "type": "Load",
          "value": 88.731,
          "year": 2016
         },
         {
          "log2": 0.10764621826672749,
          "stat": "avg",
          "type": "Bio",
          "value": 1.0774688926940639,
          "year": 2017
         },
         {
          "log2": -1.3324456414358279,
          "stat": "avg",
          "type": "Oil",
          "value": 0.3970945205479452,
          "year": 2017
         },
         {
          "log2": 0.1522861204719283,
          "stat": "avg",
          "type": "Coal",
          "value": 1.1113291095890412,
          "year": 2017
         },
         {
          "log2": -0.2908627820483441,
          "stat": "avg",
          "type": "Pump",
          "value": 0.8174130707762557,
          "year": 2017
         },
         {
          "log2": 0.03797731456570503,
          "stat": "avg",
          "type": "Solar",
          "value": 1.026673401826484,
          "year": 2017
         },
         {
          "log2": -1.268195629272122,
          "stat": "avg",
          "type": "Import",
          "value": 0.4151787100456621,
          "year": 2017
         },
         {
          "log2": 2.1743409272935237,
          "stat": "avg",
          "type": "Gas",
          "value": 4.5137950913242015,
          "year": 2017
         },
         {
          "log2": 1.4598851967650512,
          "stat": "avg",
          "type": "Wind",
          "value": 2.7508647260273973,
          "year": 2017
         },
         {
          "log2": 2.3485532597472196,
          "stat": "avg",
          "type": "Export",
          "value": 5.093132534246576,
          "year": 2017
         },
         {
          "log2": 2.59736199697252,
          "stat": "avg",
          "type": "Hydro",
          "value": 6.051790296803653,
          "year": 2017
         },
         {
          "log2": 5.434690060722972,
          "stat": "avg",
          "type": "Nuclear",
          "value": 43.25185371004566,
          "year": 2017
         },
         {
          "log2": 5.773085442976695,
          "stat": "avg",
          "type": "Load",
          "value": 54.685462043379,
          "year": 2017
         },
         {
          "log2": 0.4478436443620855,
          "stat": "max",
          "type": "Bio",
          "value": 1.364,
          "year": 2017
         },
         {
          "log2": 2.0809986856942633,
          "stat": "max",
          "type": "Oil",
          "value": 4.231,
          "year": 2017
         },
         {
          "log2": 1.5612039207699202,
          "stat": "max",
          "type": "Coal",
          "value": 2.951,
          "year": 2017
         },
         {
          "log2": 1.8459917706645732,
          "stat": "max",
          "type": "Pump",
          "value": 3.595,
          "year": 2017
         },
         {
          "log2": 2.4667576157261712,
          "stat": "max",
          "type": "Solar",
          "value": 5.528,
          "year": 2017
         },
         {
          "log2": 3.3235141872413885,
          "stat": "max",
          "type": "Import",
          "value": 10.011,
          "year": 2017
         },
         {
          "log2": 3.2604773686534165,
          "stat": "max",
          "type": "Gas",
          "value": 9.583,
          "year": 2017
         },
         {
          "log2": 3.491724851070611,
          "stat": "max",
          "type": "Wind",
          "value": 11.249,
          "year": 2017
         },
         {
          "log2": 4.106850796450224,
          "stat": "max",
          "type": "Export",
          "value": 17.23,
          "year": 2017
         },
         {
          "log2": 3.9024595330425496,
          "stat": "max",
          "type": "Hydro",
          "value": 14.954,
          "year": 2017
         },
         {
          "log2": 5.829976373455363,
          "stat": "max",
          "type": "Nuclear",
          "value": 56.885,
          "year": 2017
         },
         {
          "log2": 6.558206397822323,
          "stat": "max",
          "type": "Load",
          "value": 94.236,
          "year": 2017
         },
         {
          "log2": 0.12396282177146631,
          "stat": "avg",
          "type": "Bio",
          "value": 1.0897240296803652,
          "year": 2018
         },
         {
          "log2": -2.0921484548149123,
          "stat": "avg",
          "type": "Oil",
          "value": 0.23453116438356164,
          "year": 2018
         },
         {
          "log2": -0.6075789352729759,
          "stat": "avg",
          "type": "Coal",
          "value": 0.6562971461187215,
          "year": 2018
         },
         {
          "log2": -0.24338230169764885,
          "stat": "avg",
          "type": "Pump",
          "value": 0.8447625000000001,
          "year": 2018
         },
         {
          "log2": 0.2727189524616399,
          "stat": "avg",
          "type": "Solar",
          "value": 1.2080824771689498,
          "year": 2018
         },
         {
          "log2": -3.196000773178093,
          "stat": "avg",
          "type": "Import",
          "value": 0.1091208904109589,
          "year": 2018
         },
         {
          "log2": 1.785160208226843,
          "stat": "avg",
          "type": "Gas",
          "value": 3.4465673515981736,
          "year": 2018
         },
         {
          "log2": 1.683151858023809,
          "stat": "avg",
          "type": "Wind",
          "value": 3.2112875570776254,
          "year": 2018
         },
         {
          "log2": 2.8843840184118354,
          "stat": "avg",
          "type": "Export",
          "value": 7.383905136986301,
          "year": 2018
         },
         {
          "log2": 2.943958148856137,
          "stat": "avg",
          "type": "Hydro",
          "value": 7.695196404109589,
          "year": 2018
         },
         {
          "log2": 5.487393960874133,
          "stat": "avg",
          "type": "Nuclear",
          "value": 44.86112705479452,
          "year": 2018
         },
         {
          "log2": 5.762434383967369,
          "stat": "avg",
          "type": "Load",
          "value": 54.283219520547945,
          "year": 2018
         },
         {
          "log2": 0.36289064266586035,
          "stat": "max",
          "type": "Bio",
          "value": 1.286,
          "year": 2018
         },
         {
          "log2": 1.3259619961718523,
          "stat": "max",
          "type": "Oil",
          "value": 2.507,
          "year": 2018
         },
         {
          "log2": 1.5513929680274543,
          "stat": "max",
          "type": "Coal",
          "value": 2.931,
          "year": 2018
         },
         {
          "log2": 1.8682916687727975,
          "stat": "max",
          "type": "Pump",
          "value": 3.651,
          "year": 2018
         },
         {
          "log2": 2.6848187375532224,
          "stat": "max",
          "type": "Solar",
          "value": 6.43,
          "year": 2018
         },
         {
          "log2": 3.259121806057679,
          "stat": "max",
          "type": "Import",
          "value": 9.574,
          "year": 2018
         },
         {
          "log2": 3.277984747299765,
          "stat": "max",
          "type": "Gas",
          "value": 9.7,
          "year": 2018
         },
         {
          "log2": 3.6190608044585253,
          "stat": "max",
          "type": "Wind",
          "value": 12.287,
          "year": 2018
         },
         {
          "log2": 4.051111035573034,
          "stat": "max",
          "type": "Export",
          "value": 16.577,
          "year": 2018
         },
         {
          "log2": 4.1238317095660175,
          "stat": "max",
          "type": "Hydro",
          "value": 17.434,
          "year": 2018
         },
         {
          "log2": 5.8738131983590876,
          "stat": "max",
          "type": "Nuclear",
          "value": 58.64,
          "year": 2018
         },
         {
          "log2": 6.589044356767767,
          "stat": "max",
          "type": "Load",
          "value": 96.272,
          "year": 2018
         }
        ]
       },
       "vconcat": [
        {
         "encoding": {
          "fill": {
           "condition": {
            "field": "stat",
            "selection": "selector111",
            "type": "nominal"
           },
           "value": "lightgray"
          },
          "fillOpacity": {
           "condition": {
            "selection": "selector111",
            "value": 1
           },
           "value": 0
          },
          "opacity": {
           "condition": {
            "selection": "selector111",
            "value": 1
           },
           "value": 0.7
          },
          "shape": {
           "field": "stat",
           "type": "nominal"
          },
          "size": {
           "condition": {
            "selection": "selector111",
            "value": 50
           },
           "value": 25
          },
          "stroke": {
           "condition": {
            "field": "stat",
            "selection": "selector111",
            "type": "nominal"
           },
           "value": "lightgray"
          },
          "tooltip": [
           {
            "field": "year",
            "type": "quantitative"
           },
           {
            "field": "value",
            "type": "quantitative"
           }
          ],
          "x": {
           "axis": {
            "title": "log₂ Power (GW)"
           },
           "field": "log2",
           "scale": {
            "clamp": true,
            "domain": [
             -2,
             7
            ]
           },
           "type": "quantitative"
          },
          "y": {
           "field": "type",
           "sort": [
            "Load",
            "Nuclear",
            "Hydro",
            "Export",
            "Wind",
            "Gas",
            "Import",
            "Solar",
            "Pump",
            "Coal",
            "Oil",
            "Bio"
           ],
           "type": "nominal"
          }
         },
         "mark": "point",
         "selection": {
          "selector111": {
           "empty": "none",
           "fields": [
            "year"
           ],
           "nearest": true,
           "on": "mouseover",
           "type": "single"
          },
          "selector112": {
           "bind": "scales",
           "encodings": [
            "x",
            "y"
           ],
           "type": "interval"
          }
         },
         "width": 400
        },
        {
         "encoding": {
          "color": {
           "condition": {
            "selection": "selector111",
            "value": "green"
           },
           "value": "lightgray"
          },
          "x": {
           "field": "year",
           "type": "ordinal"
          }
         },
         "mark": {
          "filled": true,
          "size": 100,
          "type": "point"
         },
         "selection": {
          "selector111": {
           "empty": "none",
           "fields": [
            "year"
           ],
           "nearest": true,
           "on": "mouseover",
           "type": "single"
          }
         },
         "width": 400
        }
       ]
      },
      "image/png": "[encoded data removed]",
      "text/plain": [
       "<VegaLite 3 object>\n",
       "\n",
       "If you see this message, it means the renderer has not been properly enabled\n",
       "for the frontend that you are using. For more information, see\n",
       "https://altair-viz.github.io/user_guide/troubleshooting.html\n"
      ]
     },
     "execution_count": 183,
     "metadata": {},
     "output_type": "execute_result"
    }
   ],
   "source": [
    "selector = alt.selection_single(\n",
    "    fields=['year'],\n",
    "    empty='none',\n",
    "    on='mouseover',\n",
    "    nearest=True\n",
    ")\n",
    "\n",
    "base = alt.Chart(stats_yl).properties(\n",
    "    width=400,\n",
    ").add_selection(selector)\n",
    "\n",
    "# The Dot plot\n",
    "values  = base.mark_point().encode(\n",
    "    x=alt.X('log2', \n",
    "        scale = alt.Scale(\n",
    "            domain=(-2,7),\n",
    "            clamp=True # nice for interactive charts. otherwise, clip=True may be better\n",
    "        ),\n",
    "        axis=alt.Axis(title='log₂ Power (GW)')\n",
    "    ),\n",
    "    y=alt.Y('type', sort=sorted_types),\n",
    "    shape=alt.Shape(\n",
    "        'stat', \n",
    "        #scale=shape_scale\n",
    "    ),\n",
    "    # Make color, size, etc... interactive\n",
    "    fill=alt.condition(selector,\n",
    "                        'stat',\n",
    "                        alt.value('lightgray')),\n",
    "    stroke=alt.condition(selector,\n",
    "                        'stat',\n",
    "                        alt.value('lightgray')),\n",
    "    fillOpacity=alt.condition(selector,\n",
    "                        alt.value(1),\n",
    "                        alt.value(0)),\n",
    "    opacity=alt.condition(selector,\n",
    "                        alt.value(1),\n",
    "                        alt.value(0.7)),\n",
    "    size=alt.condition(selector,\n",
    "                       alt.value(50),\n",
    "                       alt.value(25)),\n",
    "    tooltip=['year', 'value']\n",
    ").interactive()\n",
    "\n",
    "# Year selector\n",
    "years = base.mark_point(filled=True, size=100).encode(\n",
    "    x='year:O',\n",
    "    color=alt.condition(selector,\n",
    "                        alt.value('green'),\n",
    "                        alt.value('lightgray')),\n",
    ")\n",
    "\n",
    "chart = values & years\n",
    "chart"
   ]
  },
  {
   "cell_type": "code",
   "execution_count": 170,
   "metadata": {},
   "outputs": [],
   "source": [
    "chart.save('Dot-plot-interactive.html')\n",
    "chart.save('Dot-plot-interactive.json')"
   ]
  }
 ],
 "metadata": {
  "kernelspec": {
   "display_name": "Python 3",
   "language": "python",
   "name": "python3"
  },
  "language_info": {
   "codemirror_mode": {
    "name": "ipython",
    "version": 3
   },
   "file_extension": ".py",
   "mimetype": "text/x-python",
   "name": "python",
   "nbconvert_exporter": "python",
   "pygments_lexer": "ipython3",
   "version": "3.7.4"
  }
 },
 "nbformat": 4,
 "nbformat_minor": 4
}
