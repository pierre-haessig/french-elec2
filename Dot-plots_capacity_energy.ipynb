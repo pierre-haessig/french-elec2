{
 "cells": [
  {
   "cell_type": "markdown",
   "metadata": {},
   "source": [
    "# Cleveland Dot plot for capacity and energy representation\n",
    "\n",
    "for the French power system\n",
    "\n",
    "PH, Oct 2019\n",
    "\n",
    "\n",
    "Some references on Dot Plots, apart from Cleveland book [The Elements of Graphing Data](https://www.goodreads.com/book/show/18619.Elements_of_Graphing_Data):\n",
    "\n",
    "* “Cleveland (Dot Plot) Rocks! (with Tableau)”\n",
    "https://spencerbaucke.com/2019/09/12/cleveland-dot-plot-rocks/\n",
    "\n",
    "* UC Business Analytics R Programming Guide, “Cleveland Dot Plots” page\n",
    "http://uc-r.github.io/cleveland-dot-plots\n",
    "\n",
    "* https://www.jstor.org/stable/2288400\n",
    "Graphical Perception: Theory, Experimentation, and Application to the Development of Graphical Methods\n",
    "William S. Cleveland and Robert McGill\n",
    "Journal of the American Statistical Association\n",
    "Vol. 79, No. 387 (Sep., 1984), pp. 531-554 "
   ]
  },
  {
   "cell_type": "code",
   "execution_count": 1,
   "metadata": {},
   "outputs": [],
   "source": [
    "import numpy as np\n",
    "from numpy import log2, nan\n",
    "\n",
    "import pandas as pd\n",
    "\n",
    "import matplotlib.pyplot as plt\n",
    "from matplotlib.ticker import FuncFormatter\n",
    "from matplotlib import cm\n",
    "%matplotlib inline"
   ]
  },
  {
   "cell_type": "markdown",
   "metadata": {},
   "source": [
    "## For one single year"
   ]
  },
  {
   "cell_type": "markdown",
   "metadata": {},
   "source": [
    "Read eCO2mix data (adapted from [RTE_explore_concat.ipynb](RTE_explore_concat.ipynb) Notebook)"
   ]
  },
  {
   "cell_type": "code",
   "execution_count": 2,
   "metadata": {},
   "outputs": [],
   "source": [
    "columns_FR = [\n",
    "    'Consommation',\n",
    "    'Fioul', 'Charbon', 'Gaz', 'Nucléaire',\n",
    "    'Eolien', 'Solaire',\n",
    "    'Hydraulique', 'Pompage', 'Bioénergies',\n",
    "    'Ech. physiques',\n",
    "]"
   ]
  },
  {
   "cell_type": "markdown",
   "metadata": {},
   "source": [
    "Translation of column names"
   ]
  },
  {
   "cell_type": "code",
   "execution_count": 3,
   "metadata": {},
   "outputs": [],
   "source": [
    "columns = [\n",
    "    'Load',\n",
    "    'Oil', 'Coal', 'Gas', 'Nuclear',\n",
    "    'Wind', 'Solar',\n",
    "    'Hydro', 'Pump', 'Bio',\n",
    "    'Exchanges',\n",
    "]"
   ]
  },
  {
   "cell_type": "code",
   "execution_count": 4,
   "metadata": {},
   "outputs": [],
   "source": [
    "def read_eCO2mix(fname, columns):\n",
    "    \"\"\"read eCO2mix data file. keep only `columns`\"\"\"\n",
    "    df = pd.read_csv(fname, compression='xz', encoding='windows-1252',\n",
    "                 sep='\\t', skipfooter=2,engine='python',\n",
    "                 index_col=False, parse_dates={'date':[2,3]})\n",
    "    # keep only data at 30 min step\n",
    "    df = df.iloc[::2,:]\n",
    "    # set date as the index\n",
    "    df.set_index('date', verify_integrity=True, inplace=True)\n",
    "    df.index.name = ''\n",
    "    # select columns\n",
    "    return df.loc[:, columns]"
   ]
  },
  {
   "cell_type": "markdown",
   "metadata": {},
   "source": [
    "### Read year 2017 as an example"
   ]
  },
  {
   "cell_type": "markdown",
   "metadata": {},
   "source": [
    "Read only the main columns (not the detailed ones)"
   ]
  },
  {
   "cell_type": "code",
   "execution_count": 5,
   "metadata": {},
   "outputs": [
    {
     "data": {
      "text/html": [
       "<div>\n",
       "<style scoped>\n",
       "    .dataframe tbody tr th:only-of-type {\n",
       "        vertical-align: middle;\n",
       "    }\n",
       "\n",
       "    .dataframe tbody tr th {\n",
       "        vertical-align: top;\n",
       "    }\n",
       "\n",
       "    .dataframe thead th {\n",
       "        text-align: right;\n",
       "    }\n",
       "</style>\n",
       "<table border=\"1\" class=\"dataframe\">\n",
       "  <thead>\n",
       "    <tr style=\"text-align: right;\">\n",
       "      <th></th>\n",
       "      <th>Load</th>\n",
       "      <th>Oil</th>\n",
       "      <th>Coal</th>\n",
       "      <th>Gas</th>\n",
       "      <th>Nuclear</th>\n",
       "      <th>Wind</th>\n",
       "      <th>Solar</th>\n",
       "      <th>Hydro</th>\n",
       "      <th>Pump</th>\n",
       "      <th>Bio</th>\n",
       "      <th>Exchanges</th>\n",
       "    </tr>\n",
       "    <tr>\n",
       "      <th></th>\n",
       "      <th></th>\n",
       "      <th></th>\n",
       "      <th></th>\n",
       "      <th></th>\n",
       "      <th></th>\n",
       "      <th></th>\n",
       "      <th></th>\n",
       "      <th></th>\n",
       "      <th></th>\n",
       "      <th></th>\n",
       "      <th></th>\n",
       "    </tr>\n",
       "  </thead>\n",
       "  <tbody>\n",
       "    <tr>\n",
       "      <td>2017-12-31 22:30:00</td>\n",
       "      <td>57239.0</td>\n",
       "      <td>164.0</td>\n",
       "      <td>37.0</td>\n",
       "      <td>2447.0</td>\n",
       "      <td>42271.0</td>\n",
       "      <td>10698.0</td>\n",
       "      <td>-1.0</td>\n",
       "      <td>6845.0</td>\n",
       "      <td>-1937.0</td>\n",
       "      <td>1171.0</td>\n",
       "      <td>-4456.0</td>\n",
       "    </tr>\n",
       "    <tr>\n",
       "      <td>2017-12-31 23:00:00</td>\n",
       "      <td>60642.0</td>\n",
       "      <td>164.0</td>\n",
       "      <td>37.0</td>\n",
       "      <td>2450.0</td>\n",
       "      <td>42718.0</td>\n",
       "      <td>10712.0</td>\n",
       "      <td>-1.0</td>\n",
       "      <td>8353.0</td>\n",
       "      <td>-1186.0</td>\n",
       "      <td>1161.0</td>\n",
       "      <td>-3766.0</td>\n",
       "    </tr>\n",
       "    <tr>\n",
       "      <td>2017-12-31 23:30:00</td>\n",
       "      <td>60479.0</td>\n",
       "      <td>165.0</td>\n",
       "      <td>37.0</td>\n",
       "      <td>2464.0</td>\n",
       "      <td>42064.0</td>\n",
       "      <td>10720.0</td>\n",
       "      <td>-1.0</td>\n",
       "      <td>7712.0</td>\n",
       "      <td>-1052.0</td>\n",
       "      <td>1163.0</td>\n",
       "      <td>-2793.0</td>\n",
       "    </tr>\n",
       "  </tbody>\n",
       "</table>\n",
       "</div>"
      ],
      "text/plain": [
       "                        Load    Oil  Coal     Gas  Nuclear     Wind  Solar  \\\n",
       "                                                                             \n",
       "2017-12-31 22:30:00  57239.0  164.0  37.0  2447.0  42271.0  10698.0   -1.0   \n",
       "2017-12-31 23:00:00  60642.0  164.0  37.0  2450.0  42718.0  10712.0   -1.0   \n",
       "2017-12-31 23:30:00  60479.0  165.0  37.0  2464.0  42064.0  10720.0   -1.0   \n",
       "\n",
       "                      Hydro    Pump     Bio  Exchanges  \n",
       "                                                        \n",
       "2017-12-31 22:30:00  6845.0 -1937.0  1171.0    -4456.0  \n",
       "2017-12-31 23:00:00  8353.0 -1186.0  1161.0    -3766.0  \n",
       "2017-12-31 23:30:00  7712.0 -1052.0  1163.0    -2793.0  "
      ]
     },
     "execution_count": 5,
     "metadata": {},
     "output_type": "execute_result"
    }
   ],
   "source": [
    "df = read_eCO2mix('data/eCO2mix_RTE_Annuel-Definitif_2017.xls.xz', columns_FR)\n",
    "# translate names:\n",
    "df = df.rename(dict(zip(columns_FR, columns)), axis=1)\n",
    "\n",
    "df.tail(3)"
   ]
  },
  {
   "cell_type": "markdown",
   "metadata": {
    "toc-hr-collapsed": false
   },
   "source": [
    "### Pre-processing RTE data"
   ]
  },
  {
   "cell_type": "markdown",
   "metadata": {},
   "source": [
    "The problem lies with negative values:\n",
    "* **Pump** is always negative\n",
    "* **Exchanges** is negative and positive"
   ]
  },
  {
   "cell_type": "code",
   "execution_count": 6,
   "metadata": {},
   "outputs": [
    {
     "data": {
      "text/plain": [
       "(-3595.0, -3.0)"
      ]
     },
     "execution_count": 6,
     "metadata": {},
     "output_type": "execute_result"
    }
   ],
   "source": [
    "df.Pump.min(), df.Pump.max()"
   ]
  },
  {
   "cell_type": "code",
   "execution_count": 7,
   "metadata": {},
   "outputs": [
    {
     "data": {
      "text/plain": [
       "(-17230.0, 10011.0)"
      ]
     },
     "execution_count": 7,
     "metadata": {},
     "output_type": "execute_result"
    }
   ],
   "source": [
    "df.Exchanges.min(), df.Exchanges.max()"
   ]
  },
  {
   "cell_type": "markdown",
   "metadata": {},
   "source": [
    "#### Splitting exchanges"
   ]
  },
  {
   "cell_type": "markdown",
   "metadata": {},
   "source": [
    "For physical exchanges: split into two positive variables: Import and Export"
   ]
  },
  {
   "cell_type": "code",
   "execution_count": 9,
   "metadata": {},
   "outputs": [],
   "source": [
    "pos = lambda x:  x if x >= 0 else 0\n",
    "neg = lambda x: -x if x  < 0 else 0"
   ]
  },
  {
   "cell_type": "code",
   "execution_count": 10,
   "metadata": {},
   "outputs": [],
   "source": [
    "df['Import'] = df['Exchanges'].map(pos)\n",
    "df['Export'] = df['Exchanges'].map(neg)"
   ]
  },
  {
   "cell_type": "code",
   "execution_count": 11,
   "metadata": {},
   "outputs": [],
   "source": [
    "del df['Exchanges']"
   ]
  },
  {
   "cell_type": "markdown",
   "metadata": {},
   "source": [
    "#### Flipping pumped hydro power\n",
    "\n",
    "For pumped hydro: flip the sign"
   ]
  },
  {
   "cell_type": "code",
   "execution_count": 12,
   "metadata": {},
   "outputs": [],
   "source": [
    "df.Pump *= -1"
   ]
  },
  {
   "cell_type": "markdown",
   "metadata": {},
   "source": [
    "#### Residual negative values\n",
    "\n",
    "negative values are probably the self-consumption of Coal and Solar"
   ]
  },
  {
   "cell_type": "code",
   "execution_count": 13,
   "metadata": {},
   "outputs": [
    {
     "data": {
      "text/plain": [
       "Load          0\n",
       "Oil           0\n",
       "Coal       1342\n",
       "Gas           0\n",
       "Nuclear       0\n",
       "Wind          0\n",
       "Solar      8279\n",
       "Hydro         0\n",
       "Pump          0\n",
       "Bio           0\n",
       "Import        0\n",
       "Export        0\n",
       "dtype: int64"
      ]
     },
     "execution_count": 13,
     "metadata": {},
     "output_type": "execute_result"
    }
   ],
   "source": [
    "(df < 0).sum()"
   ]
  },
  {
   "cell_type": "code",
   "execution_count": 14,
   "metadata": {},
   "outputs": [
    {
     "data": {
      "text/plain": [
       "count    17520.000000\n",
       "mean      1026.673402\n",
       "std       1452.396534\n",
       "min         -2.000000\n",
       "25%         -1.000000\n",
       "50%         14.000000\n",
       "75%       1917.000000\n",
       "max       5528.000000\n",
       "Name: Solar, dtype: float64"
      ]
     },
     "execution_count": 14,
     "metadata": {},
     "output_type": "execute_result"
    }
   ],
   "source": [
    "df.Solar.describe()"
   ]
  },
  {
   "cell_type": "code",
   "execution_count": 15,
   "metadata": {},
   "outputs": [
    {
     "data": {
      "text/plain": [
       "count    17520.00000\n",
       "mean      1111.32911\n",
       "std        839.51716\n",
       "min        -67.00000\n",
       "25%        362.00000\n",
       "50%       1051.00000\n",
       "75%       1831.00000\n",
       "max       2951.00000\n",
       "Name: Coal, dtype: float64"
      ]
     },
     "execution_count": 15,
     "metadata": {},
     "output_type": "execute_result"
    }
   ],
   "source": [
    "df.Coal.describe()"
   ]
  },
  {
   "cell_type": "markdown",
   "metadata": {},
   "source": [
    "#### Conversion MW → GW"
   ]
  },
  {
   "cell_type": "code",
   "execution_count": 16,
   "metadata": {},
   "outputs": [],
   "source": [
    "df /= 1000"
   ]
  },
  {
   "cell_type": "markdown",
   "metadata": {},
   "source": [
    "### Statistical Aggregation"
   ]
  },
  {
   "cell_type": "markdown",
   "metadata": {},
   "source": [
    "#### Average and Max\n",
    "* mean power\n",
    "* max power (i.e. a proxy for the capacity)"
   ]
  },
  {
   "cell_type": "code",
   "execution_count": 17,
   "metadata": {},
   "outputs": [],
   "source": [
    "stats = pd.DataFrame(data={'avg': df.mean(), 'max': df.max()})"
   ]
  },
  {
   "cell_type": "markdown",
   "metadata": {},
   "source": [
    "#### Sort by max\n",
    "\n",
    "sort by mean could be also interesting"
   ]
  },
  {
   "cell_type": "code",
   "execution_count": 18,
   "metadata": {},
   "outputs": [
    {
     "data": {
      "text/html": [
       "<div>\n",
       "<style scoped>\n",
       "    .dataframe tbody tr th:only-of-type {\n",
       "        vertical-align: middle;\n",
       "    }\n",
       "\n",
       "    .dataframe tbody tr th {\n",
       "        vertical-align: top;\n",
       "    }\n",
       "\n",
       "    .dataframe thead th {\n",
       "        text-align: right;\n",
       "    }\n",
       "</style>\n",
       "<table border=\"1\" class=\"dataframe\">\n",
       "  <thead>\n",
       "    <tr style=\"text-align: right;\">\n",
       "      <th></th>\n",
       "      <th>avg</th>\n",
       "      <th>max</th>\n",
       "    </tr>\n",
       "  </thead>\n",
       "  <tbody>\n",
       "    <tr>\n",
       "      <td>Bio</td>\n",
       "      <td>1.077469</td>\n",
       "      <td>1.364</td>\n",
       "    </tr>\n",
       "    <tr>\n",
       "      <td>Coal</td>\n",
       "      <td>1.111329</td>\n",
       "      <td>2.951</td>\n",
       "    </tr>\n",
       "    <tr>\n",
       "      <td>Pump</td>\n",
       "      <td>0.817413</td>\n",
       "      <td>3.595</td>\n",
       "    </tr>\n",
       "    <tr>\n",
       "      <td>Oil</td>\n",
       "      <td>0.397095</td>\n",
       "      <td>4.231</td>\n",
       "    </tr>\n",
       "    <tr>\n",
       "      <td>Solar</td>\n",
       "      <td>1.026673</td>\n",
       "      <td>5.528</td>\n",
       "    </tr>\n",
       "    <tr>\n",
       "      <td>Gas</td>\n",
       "      <td>4.513795</td>\n",
       "      <td>9.583</td>\n",
       "    </tr>\n",
       "    <tr>\n",
       "      <td>Import</td>\n",
       "      <td>0.415179</td>\n",
       "      <td>10.011</td>\n",
       "    </tr>\n",
       "    <tr>\n",
       "      <td>Wind</td>\n",
       "      <td>2.750865</td>\n",
       "      <td>11.249</td>\n",
       "    </tr>\n",
       "    <tr>\n",
       "      <td>Hydro</td>\n",
       "      <td>6.051790</td>\n",
       "      <td>14.954</td>\n",
       "    </tr>\n",
       "    <tr>\n",
       "      <td>Export</td>\n",
       "      <td>5.093133</td>\n",
       "      <td>17.230</td>\n",
       "    </tr>\n",
       "    <tr>\n",
       "      <td>Nuclear</td>\n",
       "      <td>43.251854</td>\n",
       "      <td>56.885</td>\n",
       "    </tr>\n",
       "    <tr>\n",
       "      <td>Load</td>\n",
       "      <td>54.685462</td>\n",
       "      <td>94.236</td>\n",
       "    </tr>\n",
       "  </tbody>\n",
       "</table>\n",
       "</div>"
      ],
      "text/plain": [
       "               avg     max\n",
       "Bio       1.077469   1.364\n",
       "Coal      1.111329   2.951\n",
       "Pump      0.817413   3.595\n",
       "Oil       0.397095   4.231\n",
       "Solar     1.026673   5.528\n",
       "Gas       4.513795   9.583\n",
       "Import    0.415179  10.011\n",
       "Wind      2.750865  11.249\n",
       "Hydro     6.051790  14.954\n",
       "Export    5.093133  17.230\n",
       "Nuclear  43.251854  56.885\n",
       "Load     54.685462  94.236"
      ]
     },
     "execution_count": 18,
     "metadata": {},
     "output_type": "execute_result"
    }
   ],
   "source": [
    "stats.sort_values('max', inplace=True)\n",
    "stats"
   ]
  },
  {
   "cell_type": "markdown",
   "metadata": {},
   "source": [
    "#### Off times\n",
    "\n",
    "Some plants spend a significant fraction of the year with *close to zero production*.\n",
    "This is visible on a cumulated histogram of normalized power"
   ]
  },
  {
   "cell_type": "code",
   "execution_count": 42,
   "metadata": {},
   "outputs": [],
   "source": [
    "df_norm = df / df.max() # production scaled to the max."
   ]
  },
  {
   "cell_type": "code",
   "execution_count": 41,
   "metadata": {},
   "outputs": [
    {
     "data": {
      "image/png": "[encoded data removed]",
      "text/plain": [
       "<Figure size 720x720 with 12 Axes>"
      ]
     },
     "metadata": {
      "needs_background": "light"
     },
     "output_type": "display_data"
    }
   ],
   "source": [
    "df_norm.hist(cumulative=True, density=True, bins=100,\n",
    "        figsize=(10,10), sharex=True, sharey=True)\n",
    "plt.tight_layout()"
   ]
  },
  {
   "cell_type": "markdown",
   "metadata": {},
   "source": [
    "Average off time:\n",
    "\n",
    "apart for wind, the off time is significant"
   ]
  },
  {
   "cell_type": "code",
   "execution_count": 52,
   "metadata": {},
   "outputs": [
    {
     "data": {
      "text/plain": [
       "Coal      0.186644\n",
       "Wind      0.001427\n",
       "Solar     0.520833\n",
       "Pump      0.346290\n",
       "Import    0.859018\n",
       "Export    0.150228\n",
       "dtype: float64"
      ]
     },
     "execution_count": 52,
     "metadata": {},
     "output_type": "execute_result"
    }
   ],
   "source": [
    "df_zero = df_norm<0.01\n",
    "stat_off = df_zero.mean()\n",
    "stat_off[stat_off > 0]"
   ]
  },
  {
   "cell_type": "code",
   "execution_count": 50,
   "metadata": {},
   "outputs": [
    {
     "data": {
      "image/png": "[encoded data removed]",
      "text/plain": [
       "<Figure size 432x288 with 1 Axes>"
      ]
     },
     "metadata": {
      "needs_background": "light"
     },
     "output_type": "display_data"
    }
   ],
   "source": [
    "stat_off.plot.bar()\n",
    "plt.grid()"
   ]
  },
  {
   "cell_type": "markdown",
   "metadata": {},
   "source": [
    "Appending the off time statistic"
   ]
  },
  {
   "cell_type": "code",
   "execution_count": 55,
   "metadata": {},
   "outputs": [
    {
     "data": {
      "text/html": [
       "<div>\n",
       "<style scoped>\n",
       "    .dataframe tbody tr th:only-of-type {\n",
       "        vertical-align: middle;\n",
       "    }\n",
       "\n",
       "    .dataframe tbody tr th {\n",
       "        vertical-align: top;\n",
       "    }\n",
       "\n",
       "    .dataframe thead th {\n",
       "        text-align: right;\n",
       "    }\n",
       "</style>\n",
       "<table border=\"1\" class=\"dataframe\">\n",
       "  <thead>\n",
       "    <tr style=\"text-align: right;\">\n",
       "      <th></th>\n",
       "      <th>avg</th>\n",
       "      <th>max</th>\n",
       "      <th>off</th>\n",
       "    </tr>\n",
       "  </thead>\n",
       "  <tbody>\n",
       "    <tr>\n",
       "      <td>Bio</td>\n",
       "      <td>1.077469</td>\n",
       "      <td>1.364</td>\n",
       "      <td>0.000000</td>\n",
       "    </tr>\n",
       "    <tr>\n",
       "      <td>Coal</td>\n",
       "      <td>1.111329</td>\n",
       "      <td>2.951</td>\n",
       "      <td>0.186644</td>\n",
       "    </tr>\n",
       "    <tr>\n",
       "      <td>Pump</td>\n",
       "      <td>0.817413</td>\n",
       "      <td>3.595</td>\n",
       "      <td>0.346290</td>\n",
       "    </tr>\n",
       "  </tbody>\n",
       "</table>\n",
       "</div>"
      ],
      "text/plain": [
       "           avg    max       off\n",
       "Bio   1.077469  1.364  0.000000\n",
       "Coal  1.111329  2.951  0.186644\n",
       "Pump  0.817413  3.595  0.346290"
      ]
     },
     "execution_count": 55,
     "metadata": {},
     "output_type": "execute_result"
    }
   ],
   "source": [
    "stats['off'] = stat_off\n",
    "stats.head(3)"
   ]
  },
  {
   "cell_type": "markdown",
   "metadata": {},
   "source": [
    "#### Quantiles for non zero values\n",
    "\n",
    "comparing with and without removal of zero values"
   ]
  },
  {
   "cell_type": "code",
   "execution_count": 59,
   "metadata": {},
   "outputs": [
    {
     "data": {
      "text/plain": [
       "Load       0.422905\n",
       "Oil        0.031435\n",
       "Coal       0.000678\n",
       "Gas        0.107263\n",
       "Nuclear    0.643525\n",
       "Wind       0.063383\n",
       "Solar     -0.000181\n",
       "Hydro      0.203424\n",
       "Pump       0.001947\n",
       "Bio        0.714809\n",
       "Import     0.000000\n",
       "Export     0.000000\n",
       "Name: 0.1, dtype: float64"
      ]
     },
     "execution_count": 59,
     "metadata": {},
     "output_type": "execute_result"
    }
   ],
   "source": [
    "df_norm.quantile(0.1)"
   ]
  },
  {
   "cell_type": "code",
   "execution_count": 58,
   "metadata": {},
   "outputs": [
    {
     "data": {
      "text/plain": [
       "Load       0.422905\n",
       "Oil        0.031435\n",
       "Coal       0.133853\n",
       "Gas        0.107263\n",
       "Nuclear    0.643525\n",
       "Wind       0.063739\n",
       "Solar      0.053148\n",
       "Hydro      0.203424\n",
       "Pump       0.016412\n",
       "Bio        0.714809\n",
       "Import     0.054430\n",
       "Export     0.115485\n",
       "Name: 0.1, dtype: float64"
      ]
     },
     "execution_count": 58,
     "metadata": {},
     "output_type": "execute_result"
    }
   ],
   "source": [
    "df_norm[~df_zero].quantile(0.1)"
   ]
  },
  {
   "cell_type": "code",
   "execution_count": 63,
   "metadata": {},
   "outputs": [
    {
     "data": {
      "text/html": [
       "<div>\n",
       "<style scoped>\n",
       "    .dataframe tbody tr th:only-of-type {\n",
       "        vertical-align: middle;\n",
       "    }\n",
       "\n",
       "    .dataframe tbody tr th {\n",
       "        vertical-align: top;\n",
       "    }\n",
       "\n",
       "    .dataframe thead th {\n",
       "        text-align: right;\n",
       "    }\n",
       "</style>\n",
       "<table border=\"1\" class=\"dataframe\">\n",
       "  <thead>\n",
       "    <tr style=\"text-align: right;\">\n",
       "      <th></th>\n",
       "      <th>Load</th>\n",
       "      <th>Oil</th>\n",
       "      <th>Coal</th>\n",
       "      <th>Gas</th>\n",
       "      <th>Nuclear</th>\n",
       "      <th>Wind</th>\n",
       "      <th>Solar</th>\n",
       "      <th>Hydro</th>\n",
       "      <th>Pump</th>\n",
       "      <th>Bio</th>\n",
       "      <th>Import</th>\n",
       "      <th>Export</th>\n",
       "    </tr>\n",
       "  </thead>\n",
       "  <tbody>\n",
       "    <tr>\n",
       "      <td>0.05</td>\n",
       "      <td>37.43085</td>\n",
       "      <td>0.130</td>\n",
       "      <td>0.333</td>\n",
       "      <td>0.69000</td>\n",
       "      <td>35.36000</td>\n",
       "      <td>0.5060</td>\n",
       "      <td>0.1530</td>\n",
       "      <td>2.54895</td>\n",
       "      <td>0.048</td>\n",
       "      <td>0.954</td>\n",
       "      <td>0.32800</td>\n",
       "      <td>1.23135</td>\n",
       "    </tr>\n",
       "    <tr>\n",
       "      <td>0.25</td>\n",
       "      <td>45.21900</td>\n",
       "      <td>0.143</td>\n",
       "      <td>0.729</td>\n",
       "      <td>2.40100</td>\n",
       "      <td>38.54675</td>\n",
       "      <td>1.2230</td>\n",
       "      <td>0.9010</td>\n",
       "      <td>4.11300</td>\n",
       "      <td>0.226</td>\n",
       "      <td>1.017</td>\n",
       "      <td>1.25050</td>\n",
       "      <td>3.80275</td>\n",
       "    </tr>\n",
       "    <tr>\n",
       "      <td>0.75</td>\n",
       "      <td>63.06950</td>\n",
       "      <td>0.561</td>\n",
       "      <td>2.002</td>\n",
       "      <td>7.00425</td>\n",
       "      <td>47.59150</td>\n",
       "      <td>3.5390</td>\n",
       "      <td>3.2350</td>\n",
       "      <td>7.59150</td>\n",
       "      <td>2.144</td>\n",
       "      <td>1.129</td>\n",
       "      <td>4.38475</td>\n",
       "      <td>8.06500</td>\n",
       "    </tr>\n",
       "    <tr>\n",
       "      <td>0.95</td>\n",
       "      <td>78.30445</td>\n",
       "      <td>0.943</td>\n",
       "      <td>2.515</td>\n",
       "      <td>8.25700</td>\n",
       "      <td>54.43410</td>\n",
       "      <td>7.5753</td>\n",
       "      <td>4.6504</td>\n",
       "      <td>10.68415</td>\n",
       "      <td>2.961</td>\n",
       "      <td>1.226</td>\n",
       "      <td>6.61865</td>\n",
       "      <td>10.87765</td>\n",
       "    </tr>\n",
       "  </tbody>\n",
       "</table>\n",
       "</div>"
      ],
      "text/plain": [
       "          Load    Oil   Coal      Gas   Nuclear    Wind   Solar     Hydro  \\\n",
       "0.05  37.43085  0.130  0.333  0.69000  35.36000  0.5060  0.1530   2.54895   \n",
       "0.25  45.21900  0.143  0.729  2.40100  38.54675  1.2230  0.9010   4.11300   \n",
       "0.75  63.06950  0.561  2.002  7.00425  47.59150  3.5390  3.2350   7.59150   \n",
       "0.95  78.30445  0.943  2.515  8.25700  54.43410  7.5753  4.6504  10.68415   \n",
       "\n",
       "       Pump    Bio   Import    Export  \n",
       "0.05  0.048  0.954  0.32800   1.23135  \n",
       "0.25  0.226  1.017  1.25050   3.80275  \n",
       "0.75  2.144  1.129  4.38475   8.06500  \n",
       "0.95  2.961  1.226  6.61865  10.87765  "
      ]
     },
     "execution_count": 63,
     "metadata": {},
     "output_type": "execute_result"
    }
   ],
   "source": [
    "q_list = [0.05, 0.25, 0.75, 0.95]\n",
    "stats_q = df[~df_zero].quantile(q_list)\n",
    "stats_q"
   ]
  },
  {
   "cell_type": "markdown",
   "metadata": {},
   "source": [
    "Appending to the main `stat` DataFrame"
   ]
  },
  {
   "cell_type": "code",
   "execution_count": 73,
   "metadata": {},
   "outputs": [
    {
     "data": {
      "text/html": [
       "<div>\n",
       "<style scoped>\n",
       "    .dataframe tbody tr th:only-of-type {\n",
       "        vertical-align: middle;\n",
       "    }\n",
       "\n",
       "    .dataframe tbody tr th {\n",
       "        vertical-align: top;\n",
       "    }\n",
       "\n",
       "    .dataframe thead th {\n",
       "        text-align: right;\n",
       "    }\n",
       "</style>\n",
       "<table border=\"1\" class=\"dataframe\">\n",
       "  <thead>\n",
       "    <tr style=\"text-align: right;\">\n",
       "      <th></th>\n",
       "      <th>avg</th>\n",
       "      <th>max</th>\n",
       "      <th>off</th>\n",
       "      <th>q05</th>\n",
       "      <th>q25</th>\n",
       "      <th>q75</th>\n",
       "      <th>q95</th>\n",
       "    </tr>\n",
       "  </thead>\n",
       "  <tbody>\n",
       "    <tr>\n",
       "      <td>Bio</td>\n",
       "      <td>1.077469</td>\n",
       "      <td>1.364</td>\n",
       "      <td>0.000000</td>\n",
       "      <td>0.954</td>\n",
       "      <td>1.017</td>\n",
       "      <td>1.129</td>\n",
       "      <td>1.226</td>\n",
       "    </tr>\n",
       "    <tr>\n",
       "      <td>Coal</td>\n",
       "      <td>1.111329</td>\n",
       "      <td>2.951</td>\n",
       "      <td>0.186644</td>\n",
       "      <td>0.333</td>\n",
       "      <td>0.729</td>\n",
       "      <td>2.002</td>\n",
       "      <td>2.515</td>\n",
       "    </tr>\n",
       "    <tr>\n",
       "      <td>Pump</td>\n",
       "      <td>0.817413</td>\n",
       "      <td>3.595</td>\n",
       "      <td>0.346290</td>\n",
       "      <td>0.048</td>\n",
       "      <td>0.226</td>\n",
       "      <td>2.144</td>\n",
       "      <td>2.961</td>\n",
       "    </tr>\n",
       "  </tbody>\n",
       "</table>\n",
       "</div>"
      ],
      "text/plain": [
       "           avg    max       off    q05    q25    q75    q95\n",
       "Bio   1.077469  1.364  0.000000  0.954  1.017  1.129  1.226\n",
       "Coal  1.111329  2.951  0.186644  0.333  0.729  2.002  2.515\n",
       "Pump  0.817413  3.595  0.346290  0.048  0.226  2.144  2.961"
      ]
     },
     "execution_count": 73,
     "metadata": {},
     "output_type": "execute_result"
    }
   ],
   "source": [
    "for q in stats_q.index:\n",
    "    q_name = f'q{100*q:02.0f}' # ex: 'q25'\n",
    "    stats[q_name] = stats_q.loc[q]\n",
    "\n",
    "stats.head(3)"
   ]
  },
  {
   "cell_type": "markdown",
   "metadata": {},
   "source": [
    "### Dot plot for a single period"
   ]
  },
  {
   "cell_type": "markdown",
   "metadata": {},
   "source": [
    "Color and marker for max and avg stat:"
   ]
  },
  {
   "cell_type": "code",
   "execution_count": 151,
   "metadata": {},
   "outputs": [],
   "source": [
    "smarkers = {\n",
    "    'avg': 'o',\n",
    "    'max': '^'}\n",
    "\n",
    "scolors = {\n",
    "    'avg': 'tab:blue',\n",
    "    'max': 'tab:red'}"
   ]
  },
  {
   "cell_type": "markdown",
   "metadata": {},
   "source": [
    "Highlight range values for which the off time is significant:"
   ]
  },
  {
   "cell_type": "code",
   "execution_count": 149,
   "metadata": {},
   "outputs": [
    {
     "data": {
      "text/plain": [
       "['-', '--', '--', '-', '--', '-', '--', '-', '-', '--', '-', '-']"
      ]
     },
     "execution_count": 149,
     "metadata": {},
     "output_type": "execute_result"
    }
   ],
   "source": [
    "# Color highlight\n",
    "gray = (0.7,)*3\n",
    "rgray = (0.9, 0.75, 0.75) # reddish gray\n",
    "\n",
    "def qcolor(stats):\n",
    "    'color list for quantile range lines'\n",
    "    return [gray if stats.off[t] < 0.01 else rgray for t in stats.index]\n",
    "\n",
    "def qls(stats):\n",
    "    'line style lists for quantile range lines'\n",
    "    return ['-' if stats.off[t] < 0.01 else '--' for t in stats.index]\n",
    "\n",
    "qls(stats)"
   ]
  },
  {
   "cell_type": "markdown",
   "metadata": {},
   "source": [
    "Tweak the font:"
   ]
  },
  {
   "cell_type": "code",
   "execution_count": 150,
   "metadata": {},
   "outputs": [],
   "source": [
    "#font_sans_default = plt.rcParams['font.sans-serif']\n",
    "plt.rcParams['font.sans-serif'] = ['Lato']\n",
    "# Fixes weights to 'medium' rather than 'normal' due to bug with Matplotlib 3.1.1\n",
    "plt.rcParams['font.weight'] = 'medium'\n",
    "plt.rcParams['axes.labelweight'] = 'medium'\n",
    "plt.rcParams['axes.titleweight'] = 'medium'\n",
    "plt.rcParams['figure.titleweight'] = 'medium'"
   ]
  },
  {
   "cell_type": "code",
   "execution_count": 205,
   "metadata": {},
   "outputs": [
    {
     "data": {
      "image/png": "[encoded data removed]",
      "text/plain": [
       "<Figure size 468x324 with 2 Axes>"
      ]
     },
     "metadata": {
      "needs_background": "light"
     },
     "output_type": "display_data"
    }
   ],
   "source": [
    "def dotplot_powersys(stats, period, suffix=''):\n",
    "    \"\"\"Cleveland dot plot for power system data of a single `period` (str)\n",
    "    \n",
    "    `stats` DataFrame should contain power system items as index\n",
    "    and the following statistics as columns: max, avg, off, q05, q25, q75 and q95\n",
    "    \"\"\"\n",
    "    fig, ax = plt.subplots(1,1, figsize=(6.5,4.5))\n",
    "\n",
    "    # twin ax with shared scale\n",
    "    # cf. @ImportanceOfBeingErnest at https://stackoverflow.com/questions/55907892/matplotlib-secondary-axis-with-values-mapped-from-primary-axis\n",
    "    ax2 = ax.twiny()\n",
    "    ax.get_shared_x_axes().join(ax, ax2)\n",
    "\n",
    "    # Plot avg and max as dots\n",
    "    for col in ['avg', 'max']:\n",
    "        ax.plot(log2(stats[col]), stats.index, label=col,\n",
    "                ls='', marker=smarkers[col], color=scolors[col])\n",
    "\n",
    "    # Plot quantiles with lines\n",
    "    ax.hlines(stats.index, log2(stats.q05), log2(stats.q95), label='90% range',\n",
    "              lw=1, color=qcolor(stats), ls='-')\n",
    "    ax.hlines(stats.index, log2(stats.q25), log2(stats.q75), label='50% range',\n",
    "              lw=3, color=qcolor(stats), ls='-')\n",
    "\n",
    "\n",
    "    ax.grid(axis='x', ls='-')\n",
    "    ax.grid(axis='y', ls=':', lw=1, alpha=0.5)\n",
    "    ax.set(\n",
    "        xlabel='log₂ Power (GW)',\n",
    "        xlim=(-2, 7),\n",
    "        title=f'French power system data for {period} (RTE éCO₂mix)'\n",
    "    )\n",
    "\n",
    "    ax.legend(loc='lower right')\n",
    "\n",
    "    ax2.xaxis.set_major_formatter(FuncFormatter(lambda x,pos: f'{2**x:.4g}'))\n",
    "    ax2.set_xlabel('Power (GW)')\n",
    "\n",
    "    fig.tight_layout()\n",
    "    fig.savefig(f'Dotplot_Powersys_{period}_{suffix}.png', dpi=300, bbox_inches='tight')\n",
    "\n",
    "dotplot_powersys(stats, '2017', 'bymax')"
   ]
  },
  {
   "cell_type": "code",
   "execution_count": 176,
   "metadata": {},
   "outputs": [
    {
     "data": {
      "image/png": "[encoded data removed]",
      "text/plain": [
       "<Figure size 468x324 with 2 Axes>"
      ]
     },
     "metadata": {
      "needs_background": "light"
     },
     "output_type": "display_data"
    }
   ],
   "source": [
    "stats_byavg = stats.sort_values('avg')\n",
    "\n",
    "dotplot_powersys(stats_byavg, '2017', 'byavg')"
   ]
  },
  {
   "cell_type": "markdown",
   "metadata": {},
   "source": [
    "## Stats and plot for many years"
   ]
  },
  {
   "cell_type": "markdown",
   "metadata": {},
   "source": [
    "### Stats for each available year"
   ]
  },
  {
   "cell_type": "code",
   "execution_count": 167,
   "metadata": {},
   "outputs": [],
   "source": [
    "def preprocess(df):\n",
    "    'preprocess RTE eCO2mix data before statistical aggregation'\n",
    "    # translate names:\n",
    "    df = df.rename(dict(zip(columns_FR, columns)), axis=1)\n",
    "\n",
    "    # Sign flip for pumped hydro\n",
    "    df.Pump *= -1\n",
    "    \n",
    "    # Split of imports and exports\n",
    "    pos = lambda x:  x if x >= 0 else 0\n",
    "    neg = lambda x: -x if x  < 0 else 0\n",
    "    \n",
    "    df['Import'] = df['Exchanges'].map(pos)\n",
    "    df['Export'] = df['Exchanges'].map(neg)\n",
    "    \n",
    "    del df['Exchanges']\n",
    "    \n",
    "    # MW → GW\n",
    "    df /= 1000\n",
    "    \n",
    "    return df"
   ]
  },
  {
   "cell_type": "code",
   "execution_count": 168,
   "metadata": {},
   "outputs": [],
   "source": [
    "def power_stats(year):\n",
    "    df = read_eCO2mix(f'data/eCO2mix_RTE_Annuel-Definitif_{year}.xls.xz', columns_FR)\n",
    "    \n",
    "    df = preprocess(df)\n",
    "    \n",
    "    # Mean and max\n",
    "    stats = pd.DataFrame(data={'avg': df.mean(), 'max': df.max()})\n",
    "    \n",
    "    # Off time\n",
    "    df_norm = df / df.max()\n",
    "    df_zero = df_norm<0.01\n",
    "    stat_off = df_zero.mean()\n",
    "    stats['off'] = stat_off\n",
    "    \n",
    "    # Quantiles for nonzero values\n",
    "    q_list = [0.05, 0.25, 0.75, 0.95]\n",
    "    stats_q = df[~df_zero].quantile(q_list)\n",
    "    \n",
    "    for q in stats_q.index:\n",
    "        q_name = f'q{100*q:02.0f}' # ex: 'q25'\n",
    "        stats[q_name] = stats_q.loc[q]\n",
    "    \n",
    "    return stats"
   ]
  },
  {
   "cell_type": "markdown",
   "metadata": {},
   "source": [
    "Compute the stats for each year (takes some seconds…)"
   ]
  },
  {
   "cell_type": "code",
   "execution_count": 169,
   "metadata": {},
   "outputs": [],
   "source": [
    "stats_y = {y: power_stats(y) for y in range(2012, 2019)}"
   ]
  },
  {
   "cell_type": "markdown",
   "metadata": {},
   "source": [
    "Concat the yearly stats (create a multi index)"
   ]
  },
  {
   "cell_type": "code",
   "execution_count": 170,
   "metadata": {},
   "outputs": [],
   "source": [
    "stats_y = pd.concat(stats_y, axis=1)"
   ]
  },
  {
   "cell_type": "markdown",
   "metadata": {},
   "source": [
    "**Sort**: by max of last year (2018)"
   ]
  },
  {
   "cell_type": "code",
   "execution_count": 171,
   "metadata": {},
   "outputs": [
    {
     "data": {
      "text/html": [
       "<div>\n",
       "<style scoped>\n",
       "    .dataframe tbody tr th:only-of-type {\n",
       "        vertical-align: middle;\n",
       "    }\n",
       "\n",
       "    .dataframe tbody tr th {\n",
       "        vertical-align: top;\n",
       "    }\n",
       "\n",
       "    .dataframe thead tr th {\n",
       "        text-align: left;\n",
       "    }\n",
       "</style>\n",
       "<table border=\"1\" class=\"dataframe\">\n",
       "  <thead>\n",
       "    <tr>\n",
       "      <th></th>\n",
       "      <th colspan=\"7\" halign=\"left\">2012</th>\n",
       "      <th colspan=\"3\" halign=\"left\">2013</th>\n",
       "      <th>...</th>\n",
       "      <th colspan=\"3\" halign=\"left\">2017</th>\n",
       "      <th colspan=\"7\" halign=\"left\">2018</th>\n",
       "    </tr>\n",
       "    <tr>\n",
       "      <th></th>\n",
       "      <th>avg</th>\n",
       "      <th>max</th>\n",
       "      <th>off</th>\n",
       "      <th>q05</th>\n",
       "      <th>q25</th>\n",
       "      <th>q75</th>\n",
       "      <th>q95</th>\n",
       "      <th>avg</th>\n",
       "      <th>max</th>\n",
       "      <th>off</th>\n",
       "      <th>...</th>\n",
       "      <th>q25</th>\n",
       "      <th>q75</th>\n",
       "      <th>q95</th>\n",
       "      <th>avg</th>\n",
       "      <th>max</th>\n",
       "      <th>off</th>\n",
       "      <th>q05</th>\n",
       "      <th>q25</th>\n",
       "      <th>q75</th>\n",
       "      <th>q95</th>\n",
       "    </tr>\n",
       "  </thead>\n",
       "  <tbody>\n",
       "    <tr>\n",
       "      <td>Bio</td>\n",
       "      <td>0.664442</td>\n",
       "      <td>0.799</td>\n",
       "      <td>0.000000</td>\n",
       "      <td>0.56200</td>\n",
       "      <td>0.62400</td>\n",
       "      <td>0.71100</td>\n",
       "      <td>0.74700</td>\n",
       "      <td>0.707971</td>\n",
       "      <td>0.835</td>\n",
       "      <td>0.000000</td>\n",
       "      <td>...</td>\n",
       "      <td>1.01700</td>\n",
       "      <td>1.12900</td>\n",
       "      <td>1.22600</td>\n",
       "      <td>1.089724</td>\n",
       "      <td>1.286</td>\n",
       "      <td>0.000000</td>\n",
       "      <td>0.98200</td>\n",
       "      <td>1.04200</td>\n",
       "      <td>1.13200</td>\n",
       "      <td>1.20200</td>\n",
       "    </tr>\n",
       "    <tr>\n",
       "      <td>Oil</td>\n",
       "      <td>0.517325</td>\n",
       "      <td>5.926</td>\n",
       "      <td>0.000000</td>\n",
       "      <td>0.27600</td>\n",
       "      <td>0.29500</td>\n",
       "      <td>0.49200</td>\n",
       "      <td>1.09800</td>\n",
       "      <td>0.453910</td>\n",
       "      <td>3.914</td>\n",
       "      <td>0.000000</td>\n",
       "      <td>...</td>\n",
       "      <td>0.14300</td>\n",
       "      <td>0.56100</td>\n",
       "      <td>0.94300</td>\n",
       "      <td>0.234531</td>\n",
       "      <td>2.507</td>\n",
       "      <td>0.000057</td>\n",
       "      <td>0.07300</td>\n",
       "      <td>0.08400</td>\n",
       "      <td>0.47600</td>\n",
       "      <td>0.55700</td>\n",
       "    </tr>\n",
       "    <tr>\n",
       "      <td>Coal</td>\n",
       "      <td>1.986089</td>\n",
       "      <td>5.436</td>\n",
       "      <td>0.142304</td>\n",
       "      <td>0.35300</td>\n",
       "      <td>1.25300</td>\n",
       "      <td>3.28800</td>\n",
       "      <td>4.52765</td>\n",
       "      <td>2.251811</td>\n",
       "      <td>6.265</td>\n",
       "      <td>0.159874</td>\n",
       "      <td>...</td>\n",
       "      <td>0.72900</td>\n",
       "      <td>2.00200</td>\n",
       "      <td>2.51500</td>\n",
       "      <td>0.656297</td>\n",
       "      <td>2.931</td>\n",
       "      <td>0.293265</td>\n",
       "      <td>0.31900</td>\n",
       "      <td>0.51800</td>\n",
       "      <td>1.18400</td>\n",
       "      <td>1.95200</td>\n",
       "    </tr>\n",
       "    <tr>\n",
       "      <td>Pump</td>\n",
       "      <td>0.763865</td>\n",
       "      <td>3.376</td>\n",
       "      <td>0.420936</td>\n",
       "      <td>0.04800</td>\n",
       "      <td>0.36300</td>\n",
       "      <td>2.18600</td>\n",
       "      <td>2.92600</td>\n",
       "      <td>0.821367</td>\n",
       "      <td>3.637</td>\n",
       "      <td>0.400970</td>\n",
       "      <td>...</td>\n",
       "      <td>0.22600</td>\n",
       "      <td>2.14400</td>\n",
       "      <td>2.96100</td>\n",
       "      <td>0.844762</td>\n",
       "      <td>3.651</td>\n",
       "      <td>0.350342</td>\n",
       "      <td>0.05000</td>\n",
       "      <td>0.18100</td>\n",
       "      <td>2.26100</td>\n",
       "      <td>3.08900</td>\n",
       "    </tr>\n",
       "    <tr>\n",
       "      <td>Solar</td>\n",
       "      <td>0.430648</td>\n",
       "      <td>2.489</td>\n",
       "      <td>0.520719</td>\n",
       "      <td>0.06400</td>\n",
       "      <td>0.36100</td>\n",
       "      <td>1.36400</td>\n",
       "      <td>1.97005</td>\n",
       "      <td>0.519008</td>\n",
       "      <td>2.950</td>\n",
       "      <td>0.521918</td>\n",
       "      <td>...</td>\n",
       "      <td>0.90100</td>\n",
       "      <td>3.23500</td>\n",
       "      <td>4.65040</td>\n",
       "      <td>1.208082</td>\n",
       "      <td>6.430</td>\n",
       "      <td>0.519692</td>\n",
       "      <td>0.17400</td>\n",
       "      <td>0.97200</td>\n",
       "      <td>3.87450</td>\n",
       "      <td>5.60930</td>\n",
       "    </tr>\n",
       "    <tr>\n",
       "      <td>Import</td>\n",
       "      <td>0.146497</td>\n",
       "      <td>9.289</td>\n",
       "      <td>0.948372</td>\n",
       "      <td>0.26380</td>\n",
       "      <td>1.04550</td>\n",
       "      <td>4.33450</td>\n",
       "      <td>6.81300</td>\n",
       "      <td>0.087988</td>\n",
       "      <td>4.930</td>\n",
       "      <td>0.938813</td>\n",
       "      <td>...</td>\n",
       "      <td>1.25050</td>\n",
       "      <td>4.38475</td>\n",
       "      <td>6.61865</td>\n",
       "      <td>0.109121</td>\n",
       "      <td>9.574</td>\n",
       "      <td>0.956849</td>\n",
       "      <td>0.25925</td>\n",
       "      <td>0.88825</td>\n",
       "      <td>3.78700</td>\n",
       "      <td>6.22575</td>\n",
       "    </tr>\n",
       "    <tr>\n",
       "      <td>Gas</td>\n",
       "      <td>2.850610</td>\n",
       "      <td>8.625</td>\n",
       "      <td>0.000000</td>\n",
       "      <td>0.59100</td>\n",
       "      <td>0.82600</td>\n",
       "      <td>3.96000</td>\n",
       "      <td>7.50800</td>\n",
       "      <td>2.282787</td>\n",
       "      <td>8.329</td>\n",
       "      <td>0.000000</td>\n",
       "      <td>...</td>\n",
       "      <td>2.40100</td>\n",
       "      <td>7.00425</td>\n",
       "      <td>8.25700</td>\n",
       "      <td>3.446567</td>\n",
       "      <td>9.700</td>\n",
       "      <td>0.000000</td>\n",
       "      <td>0.52300</td>\n",
       "      <td>1.18800</td>\n",
       "      <td>4.85400</td>\n",
       "      <td>8.10805</td>\n",
       "    </tr>\n",
       "    <tr>\n",
       "      <td>Wind</td>\n",
       "      <td>1.696575</td>\n",
       "      <td>6.198</td>\n",
       "      <td>0.000683</td>\n",
       "      <td>0.32600</td>\n",
       "      <td>0.77475</td>\n",
       "      <td>2.32400</td>\n",
       "      <td>4.22850</td>\n",
       "      <td>1.816477</td>\n",
       "      <td>6.531</td>\n",
       "      <td>0.000571</td>\n",
       "      <td>...</td>\n",
       "      <td>1.22300</td>\n",
       "      <td>3.53900</td>\n",
       "      <td>7.57530</td>\n",
       "      <td>3.211288</td>\n",
       "      <td>12.287</td>\n",
       "      <td>0.000742</td>\n",
       "      <td>0.54430</td>\n",
       "      <td>1.33800</td>\n",
       "      <td>4.38300</td>\n",
       "      <td>8.71700</td>\n",
       "    </tr>\n",
       "    <tr>\n",
       "      <td>Export</td>\n",
       "      <td>5.400491</td>\n",
       "      <td>13.594</td>\n",
       "      <td>0.055499</td>\n",
       "      <td>1.61960</td>\n",
       "      <td>3.92100</td>\n",
       "      <td>7.43500</td>\n",
       "      <td>10.01240</td>\n",
       "      <td>5.694872</td>\n",
       "      <td>13.198</td>\n",
       "      <td>0.067352</td>\n",
       "      <td>...</td>\n",
       "      <td>3.80275</td>\n",
       "      <td>8.06500</td>\n",
       "      <td>10.87765</td>\n",
       "      <td>7.383905</td>\n",
       "      <td>16.577</td>\n",
       "      <td>0.047432</td>\n",
       "      <td>1.97740</td>\n",
       "      <td>5.26000</td>\n",
       "      <td>10.32900</td>\n",
       "      <td>13.22200</td>\n",
       "    </tr>\n",
       "    <tr>\n",
       "      <td>Hydro</td>\n",
       "      <td>7.213284</td>\n",
       "      <td>16.380</td>\n",
       "      <td>0.000000</td>\n",
       "      <td>3.33000</td>\n",
       "      <td>5.13900</td>\n",
       "      <td>9.06025</td>\n",
       "      <td>12.01930</td>\n",
       "      <td>8.521735</td>\n",
       "      <td>16.805</td>\n",
       "      <td>0.000000</td>\n",
       "      <td>...</td>\n",
       "      <td>4.11300</td>\n",
       "      <td>7.59150</td>\n",
       "      <td>10.68415</td>\n",
       "      <td>7.695196</td>\n",
       "      <td>17.434</td>\n",
       "      <td>0.000000</td>\n",
       "      <td>2.89700</td>\n",
       "      <td>5.18775</td>\n",
       "      <td>9.90925</td>\n",
       "      <td>12.66715</td>\n",
       "    </tr>\n",
       "    <tr>\n",
       "      <td>Nuclear</td>\n",
       "      <td>46.055824</td>\n",
       "      <td>60.811</td>\n",
       "      <td>0.000000</td>\n",
       "      <td>35.80600</td>\n",
       "      <td>39.45575</td>\n",
       "      <td>52.37925</td>\n",
       "      <td>58.93565</td>\n",
       "      <td>46.058161</td>\n",
       "      <td>59.107</td>\n",
       "      <td>0.000000</td>\n",
       "      <td>...</td>\n",
       "      <td>38.54675</td>\n",
       "      <td>47.59150</td>\n",
       "      <td>54.43410</td>\n",
       "      <td>44.861127</td>\n",
       "      <td>58.640</td>\n",
       "      <td>0.000000</td>\n",
       "      <td>35.73270</td>\n",
       "      <td>40.44075</td>\n",
       "      <td>49.87925</td>\n",
       "      <td>56.46905</td>\n",
       "    </tr>\n",
       "    <tr>\n",
       "      <td>Load</td>\n",
       "      <td>55.396962</td>\n",
       "      <td>102.098</td>\n",
       "      <td>0.000000</td>\n",
       "      <td>37.56035</td>\n",
       "      <td>45.90450</td>\n",
       "      <td>63.31200</td>\n",
       "      <td>80.30840</td>\n",
       "      <td>56.185530</td>\n",
       "      <td>92.629</td>\n",
       "      <td>0.000000</td>\n",
       "      <td>...</td>\n",
       "      <td>45.21900</td>\n",
       "      <td>63.06950</td>\n",
       "      <td>78.30445</td>\n",
       "      <td>54.283220</td>\n",
       "      <td>96.272</td>\n",
       "      <td>0.000000</td>\n",
       "      <td>36.98195</td>\n",
       "      <td>44.92975</td>\n",
       "      <td>63.06900</td>\n",
       "      <td>75.99780</td>\n",
       "    </tr>\n",
       "  </tbody>\n",
       "</table>\n",
       "<p>12 rows × 49 columns</p>\n",
       "</div>"
      ],
      "text/plain": [
       "              2012                                                             \\\n",
       "               avg      max       off       q05       q25       q75       q95   \n",
       "Bio       0.664442    0.799  0.000000   0.56200   0.62400   0.71100   0.74700   \n",
       "Oil       0.517325    5.926  0.000000   0.27600   0.29500   0.49200   1.09800   \n",
       "Coal      1.986089    5.436  0.142304   0.35300   1.25300   3.28800   4.52765   \n",
       "Pump      0.763865    3.376  0.420936   0.04800   0.36300   2.18600   2.92600   \n",
       "Solar     0.430648    2.489  0.520719   0.06400   0.36100   1.36400   1.97005   \n",
       "Import    0.146497    9.289  0.948372   0.26380   1.04550   4.33450   6.81300   \n",
       "Gas       2.850610    8.625  0.000000   0.59100   0.82600   3.96000   7.50800   \n",
       "Wind      1.696575    6.198  0.000683   0.32600   0.77475   2.32400   4.22850   \n",
       "Export    5.400491   13.594  0.055499   1.61960   3.92100   7.43500  10.01240   \n",
       "Hydro     7.213284   16.380  0.000000   3.33000   5.13900   9.06025  12.01930   \n",
       "Nuclear  46.055824   60.811  0.000000  35.80600  39.45575  52.37925  58.93565   \n",
       "Load     55.396962  102.098  0.000000  37.56035  45.90450  63.31200  80.30840   \n",
       "\n",
       "              2013                    ...      2017                      \\\n",
       "               avg     max       off  ...       q25       q75       q95   \n",
       "Bio       0.707971   0.835  0.000000  ...   1.01700   1.12900   1.22600   \n",
       "Oil       0.453910   3.914  0.000000  ...   0.14300   0.56100   0.94300   \n",
       "Coal      2.251811   6.265  0.159874  ...   0.72900   2.00200   2.51500   \n",
       "Pump      0.821367   3.637  0.400970  ...   0.22600   2.14400   2.96100   \n",
       "Solar     0.519008   2.950  0.521918  ...   0.90100   3.23500   4.65040   \n",
       "Import    0.087988   4.930  0.938813  ...   1.25050   4.38475   6.61865   \n",
       "Gas       2.282787   8.329  0.000000  ...   2.40100   7.00425   8.25700   \n",
       "Wind      1.816477   6.531  0.000571  ...   1.22300   3.53900   7.57530   \n",
       "Export    5.694872  13.198  0.067352  ...   3.80275   8.06500  10.87765   \n",
       "Hydro     8.521735  16.805  0.000000  ...   4.11300   7.59150  10.68415   \n",
       "Nuclear  46.058161  59.107  0.000000  ...  38.54675  47.59150  54.43410   \n",
       "Load     56.185530  92.629  0.000000  ...  45.21900  63.06950  78.30445   \n",
       "\n",
       "              2018                                                            \n",
       "               avg     max       off       q05       q25       q75       q95  \n",
       "Bio       1.089724   1.286  0.000000   0.98200   1.04200   1.13200   1.20200  \n",
       "Oil       0.234531   2.507  0.000057   0.07300   0.08400   0.47600   0.55700  \n",
       "Coal      0.656297   2.931  0.293265   0.31900   0.51800   1.18400   1.95200  \n",
       "Pump      0.844762   3.651  0.350342   0.05000   0.18100   2.26100   3.08900  \n",
       "Solar     1.208082   6.430  0.519692   0.17400   0.97200   3.87450   5.60930  \n",
       "Import    0.109121   9.574  0.956849   0.25925   0.88825   3.78700   6.22575  \n",
       "Gas       3.446567   9.700  0.000000   0.52300   1.18800   4.85400   8.10805  \n",
       "Wind      3.211288  12.287  0.000742   0.54430   1.33800   4.38300   8.71700  \n",
       "Export    7.383905  16.577  0.047432   1.97740   5.26000  10.32900  13.22200  \n",
       "Hydro     7.695196  17.434  0.000000   2.89700   5.18775   9.90925  12.66715  \n",
       "Nuclear  44.861127  58.640  0.000000  35.73270  40.44075  49.87925  56.46905  \n",
       "Load     54.283220  96.272  0.000000  36.98195  44.92975  63.06900  75.99780  \n",
       "\n",
       "[12 rows x 49 columns]"
      ]
     },
     "execution_count": 171,
     "metadata": {},
     "output_type": "execute_result"
    }
   ],
   "source": [
    "stats_y.sort_values((2018,'max'), inplace=True)\n",
    "stats_y"
   ]
  },
  {
   "cell_type": "markdown",
   "metadata": {},
   "source": [
    "### Multi year plots"
   ]
  },
  {
   "cell_type": "markdown",
   "metadata": {},
   "source": [
    "#### Off times over the years\n",
    "\n",
    "TO BE DONE"
   ]
  },
  {
   "cell_type": "markdown",
   "metadata": {},
   "source": [
    "#### Multi year dot plot"
   ]
  },
  {
   "cell_type": "code",
   "execution_count": 195,
   "metadata": {},
   "outputs": [
    {
     "data": {
      "image/png": "[encoded data removed]",
      "text/plain": [
       "<Figure size 432x108 with 1 Axes>"
      ]
     },
     "metadata": {
      "needs_background": "light"
     },
     "output_type": "display_data"
    }
   ],
   "source": [
    "def scolor(year, years, stat, am=0.3, aM=1.0):\n",
    "    \"\"\"color for a symbol of a given year, for a given stat (avg or max)\n",
    "    \n",
    "    Color is taken by evaluating a colormap linearly on years,\n",
    "    between lower value am and upper value aM.\n",
    "    \"\"\"\n",
    "    ym = min(years)\n",
    "    yM = max(years)\n",
    "    \n",
    "    if yM>ym:\n",
    "        a = (year - ym)/(yM-ym) # in [0,1]\n",
    "        a = am + a*(aM-am) # in [am, aM]\n",
    "    else:\n",
    "        a = 0.7\n",
    "    if stat == 'avg':\n",
    "        color = cm.Blues(a)\n",
    "    elif stat == 'max':\n",
    "        color = cm.Reds(a)\n",
    "    return color\n",
    "\n",
    "# Demo\n",
    "years = [2012, 2014, 2016, 2018]\n",
    "plt.figure(figsize=(6,1.5))\n",
    "plt.ylim(-1,2)\n",
    "for y in years:\n",
    "    plt.plot(y, 0, 'o', color=scolor(y, years, 'avg'))\n",
    "    plt.plot(y, 1, '^', color=scolor(y, years, 'max'))"
   ]
  },
  {
   "cell_type": "code",
   "execution_count": 206,
   "metadata": {},
   "outputs": [
    {
     "data": {
      "image/png": "[encoded data removed]",
      "text/plain": [
       "<Figure size 468x324 with 2 Axes>"
      ]
     },
     "metadata": {
      "needs_background": "light"
     },
     "output_type": "display_data"
    }
   ],
   "source": [
    "def dotplot_powersys_multi(stats_y, years, am=0.3, aM=1.0 ):\n",
    "    \"\"\"Cleveland dot plot for power system data over multiple `years` (list)\n",
    "    \n",
    "    `stats` DataFrame should contain power system items as index\n",
    "    and the following statistics as columns: max, avg\n",
    "    \"\"\"\n",
    "    fig, ax = plt.subplots(1,1, figsize=(6.5,4.5))\n",
    "    \n",
    "    # twin ax with shared scale\n",
    "    # cf. @ImportanceOfBeingErnest at https://stackoverflow.com/questions/55907892/matplotlib-secondary-axis-with-values-mapped-from-primary-axis\n",
    "    ax2 = ax.twiny()\n",
    "    ax.get_shared_x_axes().join(ax, ax2)\n",
    "\n",
    "    # Plot avg and max as dots\n",
    "    for year in years:\n",
    "        for s in ['avg', 'max']:\n",
    "            col = (year, s)\n",
    "            \n",
    "            color = scolor(year, years, s, am, aM)\n",
    "            \n",
    "            # label only first and last year:\n",
    "            label = f'{year} {s}'  if year == years[0] or year == years[-1] else ''\n",
    "            \n",
    "            ax.plot(log2(stats_y[col]), stats_y.index, label=label,\n",
    "                    ls='', marker=markers[s], color=color)\n",
    "\n",
    "    ax.grid(axis='x', ls='-')\n",
    "    ax.grid(axis='y', ls=':', lw=1, alpha=0.5)\n",
    "    period = f'{years[0]} – {years[-1]}' if years[0] !=  years[-1] else f'{years[0]}'\n",
    "    ax.set(\n",
    "        xlabel='log₂ Power (GW)',\n",
    "        xlim=(-2, 7),\n",
    "        title=f'French power system data for {period} (RTE éCO₂mix)'\n",
    "    )\n",
    "    ax.locator_params('x', nbins=10)\n",
    "    \n",
    "    ax2.xaxis.set_major_formatter(FuncFormatter(lambda x,pos: f'{2**x:.4g}'))\n",
    "    ax2.set_xlabel('Power (GW)')\n",
    "    \n",
    "    ncol = 2 if years[0] !=  years[-1] else 1\n",
    "    ax.legend(loc='lower right', ncol=ncol)\n",
    "\n",
    "    fig.tight_layout() # rect=(0,0.1,1,1) for when the legend is on the figure\n",
    "    years_txt = '20' + '-'.join(str(y)[2:] for y in years)\n",
    "    fig.savefig(f'Dotplot_Powersys_{years_txt}.png', dpi=300, bbox_inches='tight')\n",
    "\n",
    "dotplot_powersys_multi(stats_y, range(2012, 2019))"
   ]
  },
  {
   "cell_type": "markdown",
   "metadata": {},
   "source": [
    "Plot only first and last year:"
   ]
  },
  {
   "cell_type": "code",
   "execution_count": 207,
   "metadata": {},
   "outputs": [
    {
     "data": {
      "image/png": "[encoded data removed]",
      "text/plain": [
       "<Figure size 468x324 with 2 Axes>"
      ]
     },
     "metadata": {
      "needs_background": "light"
     },
     "output_type": "display_data"
    }
   ],
   "source": [
    "dotplot_powersys_multi(stats_y, [2012, 2018], am=0.35, aM=0.8)"
   ]
  },
  {
   "cell_type": "code",
   "execution_count": 208,
   "metadata": {},
   "outputs": [
    {
     "data": {
      "image/png": "[encoded data removed]",
      "text/plain": [
       "<Figure size 468x324 with 2 Axes>"
      ]
     },
     "metadata": {
      "needs_background": "light"
     },
     "output_type": "display_data"
    }
   ],
   "source": [
    "dotplot_powersys_multi(stats_y, [2012, 2015, 2018])"
   ]
  },
  {
   "cell_type": "markdown",
   "metadata": {},
   "source": [
    "Generate the individual plot for each year"
   ]
  },
  {
   "cell_type": "code",
   "execution_count": 202,
   "metadata": {},
   "outputs": [
    {
     "data": {
      "text/html": [
       "<div>\n",
       "<style scoped>\n",
       "    .dataframe tbody tr th:only-of-type {\n",
       "        vertical-align: middle;\n",
       "    }\n",
       "\n",
       "    .dataframe tbody tr th {\n",
       "        vertical-align: top;\n",
       "    }\n",
       "\n",
       "    .dataframe thead th {\n",
       "        text-align: right;\n",
       "    }\n",
       "</style>\n",
       "<table border=\"1\" class=\"dataframe\">\n",
       "  <thead>\n",
       "    <tr style=\"text-align: right;\">\n",
       "      <th></th>\n",
       "      <th>avg</th>\n",
       "      <th>max</th>\n",
       "      <th>off</th>\n",
       "      <th>q05</th>\n",
       "      <th>q25</th>\n",
       "      <th>q75</th>\n",
       "      <th>q95</th>\n",
       "    </tr>\n",
       "  </thead>\n",
       "  <tbody>\n",
       "    <tr>\n",
       "      <td>Bio</td>\n",
       "      <td>0.664442</td>\n",
       "      <td>0.799</td>\n",
       "      <td>0.000000</td>\n",
       "      <td>0.56200</td>\n",
       "      <td>0.62400</td>\n",
       "      <td>0.71100</td>\n",
       "      <td>0.74700</td>\n",
       "    </tr>\n",
       "    <tr>\n",
       "      <td>Oil</td>\n",
       "      <td>0.517325</td>\n",
       "      <td>5.926</td>\n",
       "      <td>0.000000</td>\n",
       "      <td>0.27600</td>\n",
       "      <td>0.29500</td>\n",
       "      <td>0.49200</td>\n",
       "      <td>1.09800</td>\n",
       "    </tr>\n",
       "    <tr>\n",
       "      <td>Coal</td>\n",
       "      <td>1.986089</td>\n",
       "      <td>5.436</td>\n",
       "      <td>0.142304</td>\n",
       "      <td>0.35300</td>\n",
       "      <td>1.25300</td>\n",
       "      <td>3.28800</td>\n",
       "      <td>4.52765</td>\n",
       "    </tr>\n",
       "    <tr>\n",
       "      <td>Pump</td>\n",
       "      <td>0.763865</td>\n",
       "      <td>3.376</td>\n",
       "      <td>0.420936</td>\n",
       "      <td>0.04800</td>\n",
       "      <td>0.36300</td>\n",
       "      <td>2.18600</td>\n",
       "      <td>2.92600</td>\n",
       "    </tr>\n",
       "    <tr>\n",
       "      <td>Solar</td>\n",
       "      <td>0.430648</td>\n",
       "      <td>2.489</td>\n",
       "      <td>0.520719</td>\n",
       "      <td>0.06400</td>\n",
       "      <td>0.36100</td>\n",
       "      <td>1.36400</td>\n",
       "      <td>1.97005</td>\n",
       "    </tr>\n",
       "    <tr>\n",
       "      <td>Import</td>\n",
       "      <td>0.146497</td>\n",
       "      <td>9.289</td>\n",
       "      <td>0.948372</td>\n",
       "      <td>0.26380</td>\n",
       "      <td>1.04550</td>\n",
       "      <td>4.33450</td>\n",
       "      <td>6.81300</td>\n",
       "    </tr>\n",
       "    <tr>\n",
       "      <td>Gas</td>\n",
       "      <td>2.850610</td>\n",
       "      <td>8.625</td>\n",
       "      <td>0.000000</td>\n",
       "      <td>0.59100</td>\n",
       "      <td>0.82600</td>\n",
       "      <td>3.96000</td>\n",
       "      <td>7.50800</td>\n",
       "    </tr>\n",
       "    <tr>\n",
       "      <td>Wind</td>\n",
       "      <td>1.696575</td>\n",
       "      <td>6.198</td>\n",
       "      <td>0.000683</td>\n",
       "      <td>0.32600</td>\n",
       "      <td>0.77475</td>\n",
       "      <td>2.32400</td>\n",
       "      <td>4.22850</td>\n",
       "    </tr>\n",
       "    <tr>\n",
       "      <td>Export</td>\n",
       "      <td>5.400491</td>\n",
       "      <td>13.594</td>\n",
       "      <td>0.055499</td>\n",
       "      <td>1.61960</td>\n",
       "      <td>3.92100</td>\n",
       "      <td>7.43500</td>\n",
       "      <td>10.01240</td>\n",
       "    </tr>\n",
       "    <tr>\n",
       "      <td>Hydro</td>\n",
       "      <td>7.213284</td>\n",
       "      <td>16.380</td>\n",
       "      <td>0.000000</td>\n",
       "      <td>3.33000</td>\n",
       "      <td>5.13900</td>\n",
       "      <td>9.06025</td>\n",
       "      <td>12.01930</td>\n",
       "    </tr>\n",
       "    <tr>\n",
       "      <td>Nuclear</td>\n",
       "      <td>46.055824</td>\n",
       "      <td>60.811</td>\n",
       "      <td>0.000000</td>\n",
       "      <td>35.80600</td>\n",
       "      <td>39.45575</td>\n",
       "      <td>52.37925</td>\n",
       "      <td>58.93565</td>\n",
       "    </tr>\n",
       "    <tr>\n",
       "      <td>Load</td>\n",
       "      <td>55.396962</td>\n",
       "      <td>102.098</td>\n",
       "      <td>0.000000</td>\n",
       "      <td>37.56035</td>\n",
       "      <td>45.90450</td>\n",
       "      <td>63.31200</td>\n",
       "      <td>80.30840</td>\n",
       "    </tr>\n",
       "  </tbody>\n",
       "</table>\n",
       "</div>"
      ],
      "text/plain": [
       "               avg      max       off       q05       q25       q75       q95\n",
       "Bio       0.664442    0.799  0.000000   0.56200   0.62400   0.71100   0.74700\n",
       "Oil       0.517325    5.926  0.000000   0.27600   0.29500   0.49200   1.09800\n",
       "Coal      1.986089    5.436  0.142304   0.35300   1.25300   3.28800   4.52765\n",
       "Pump      0.763865    3.376  0.420936   0.04800   0.36300   2.18600   2.92600\n",
       "Solar     0.430648    2.489  0.520719   0.06400   0.36100   1.36400   1.97005\n",
       "Import    0.146497    9.289  0.948372   0.26380   1.04550   4.33450   6.81300\n",
       "Gas       2.850610    8.625  0.000000   0.59100   0.82600   3.96000   7.50800\n",
       "Wind      1.696575    6.198  0.000683   0.32600   0.77475   2.32400   4.22850\n",
       "Export    5.400491   13.594  0.055499   1.61960   3.92100   7.43500  10.01240\n",
       "Hydro     7.213284   16.380  0.000000   3.33000   5.13900   9.06025  12.01930\n",
       "Nuclear  46.055824   60.811  0.000000  35.80600  39.45575  52.37925  58.93565\n",
       "Load     55.396962  102.098  0.000000  37.56035  45.90450  63.31200  80.30840"
      ]
     },
     "execution_count": 202,
     "metadata": {},
     "output_type": "execute_result"
    }
   ],
   "source": [
    "stats_y[2012]"
   ]
  },
  {
   "cell_type": "code",
   "execution_count": 204,
   "metadata": {},
   "outputs": [
    {
     "data": {
      "image/png": "[encoded data removed]",
      "text/plain": [
       "<Figure size 468x324 with 2 Axes>"
      ]
     },
     "metadata": {
      "needs_background": "light"
     },
     "output_type": "display_data"
    },
    {
     "data": {
      "image/png": "[encoded data removed]",
      "text/plain": [
       "<Figure size 468x324 with 2 Axes>"
      ]
     },
     "metadata": {
      "needs_background": "light"
     },
     "output_type": "display_data"
    },
    {
     "data": {
      "image/png": "[encoded data removed]",
      "text/plain": [
       "<Figure size 468x324 with 2 Axes>"
      ]
     },
     "metadata": {
      "needs_background": "light"
     },
     "output_type": "display_data"
    },
    {
     "data": {
      "image/png": "[encoded data removed]",
      "text/plain": [
       "<Figure size 468x324 with 2 Axes>"
      ]
     },
     "metadata": {
      "needs_background": "light"
     },
     "output_type": "display_data"
    },
    {
     "data": {
      "image/png": "[encoded data removed]",
      "text/plain": [
       "<Figure size 468x324 with 2 Axes>"
      ]
     },
     "metadata": {
      "needs_background": "light"
     },
     "output_type": "display_data"
    },
    {
     "data": {
      "image/png": "[encoded data removed]",
      "text/plain": [
       "<Figure size 468x324 with 2 Axes>"
      ]
     },
     "metadata": {
      "needs_background": "light"
     },
     "output_type": "display_data"
    },
    {
     "data": {
      "image/png": "[encoded data removed]",
      "text/plain": [
       "<Figure size 468x324 with 2 Axes>"
      ]
     },
     "metadata": {
      "needs_background": "light"
     },
     "output_type": "display_data"
    }
   ],
   "source": [
    "for year in range(2012, 2019):\n",
    "    dotplot_powersys(stats_y[year], year, 'bymax2018')"
   ]
  },
  {
   "cell_type": "markdown",
   "metadata": {},
   "source": [
    "## Plot with Altair\n",
    "\n",
    "https://altair-viz.github.io/"
   ]
  },
  {
   "cell_type": "code",
   "execution_count": 209,
   "metadata": {},
   "outputs": [],
   "source": [
    "import altair as alt"
   ]
  },
  {
   "cell_type": "markdown",
   "metadata": {},
   "source": [
    "reshaping data to from wide to [long-form](https://altair-viz.github.io/user_guide/data.html#long-form-vs-wide-form-data) with `DataFrame.melt`:"
   ]
  },
  {
   "cell_type": "code",
   "execution_count": 220,
   "metadata": {},
   "outputs": [
    {
     "data": {
      "text/html": [
       "<div>\n",
       "<style scoped>\n",
       "    .dataframe tbody tr th:only-of-type {\n",
       "        vertical-align: middle;\n",
       "    }\n",
       "\n",
       "    .dataframe tbody tr th {\n",
       "        vertical-align: top;\n",
       "    }\n",
       "\n",
       "    .dataframe thead th {\n",
       "        text-align: right;\n",
       "    }\n",
       "</style>\n",
       "<table border=\"1\" class=\"dataframe\">\n",
       "  <thead>\n",
       "    <tr style=\"text-align: right;\">\n",
       "      <th></th>\n",
       "      <th>type</th>\n",
       "      <th>year</th>\n",
       "      <th>stat</th>\n",
       "      <th>value</th>\n",
       "      <th>log2</th>\n",
       "    </tr>\n",
       "  </thead>\n",
       "  <tbody>\n",
       "    <tr>\n",
       "      <td>0</td>\n",
       "      <td>Bio</td>\n",
       "      <td>2012</td>\n",
       "      <td>avg</td>\n",
       "      <td>0.664442</td>\n",
       "      <td>-0.589785</td>\n",
       "    </tr>\n",
       "    <tr>\n",
       "      <td>1</td>\n",
       "      <td>Oil</td>\n",
       "      <td>2012</td>\n",
       "      <td>avg</td>\n",
       "      <td>0.517325</td>\n",
       "      <td>-0.950856</td>\n",
       "    </tr>\n",
       "    <tr>\n",
       "      <td>2</td>\n",
       "      <td>Coal</td>\n",
       "      <td>2012</td>\n",
       "      <td>avg</td>\n",
       "      <td>1.986089</td>\n",
       "      <td>0.989930</td>\n",
       "    </tr>\n",
       "    <tr>\n",
       "      <td>3</td>\n",
       "      <td>Pump</td>\n",
       "      <td>2012</td>\n",
       "      <td>avg</td>\n",
       "      <td>0.763865</td>\n",
       "      <td>-0.388610</td>\n",
       "    </tr>\n",
       "    <tr>\n",
       "      <td>4</td>\n",
       "      <td>Solar</td>\n",
       "      <td>2012</td>\n",
       "      <td>avg</td>\n",
       "      <td>0.430648</td>\n",
       "      <td>-1.215420</td>\n",
       "    </tr>\n",
       "    <tr>\n",
       "      <td>...</td>\n",
       "      <td>...</td>\n",
       "      <td>...</td>\n",
       "      <td>...</td>\n",
       "      <td>...</td>\n",
       "      <td>...</td>\n",
       "    </tr>\n",
       "    <tr>\n",
       "      <td>583</td>\n",
       "      <td>Wind</td>\n",
       "      <td>2018</td>\n",
       "      <td>q95</td>\n",
       "      <td>8.717000</td>\n",
       "      <td>3.123832</td>\n",
       "    </tr>\n",
       "    <tr>\n",
       "      <td>584</td>\n",
       "      <td>Export</td>\n",
       "      <td>2018</td>\n",
       "      <td>q95</td>\n",
       "      <td>13.222000</td>\n",
       "      <td>3.724869</td>\n",
       "    </tr>\n",
       "    <tr>\n",
       "      <td>585</td>\n",
       "      <td>Hydro</td>\n",
       "      <td>2018</td>\n",
       "      <td>q95</td>\n",
       "      <td>12.667150</td>\n",
       "      <td>3.663020</td>\n",
       "    </tr>\n",
       "    <tr>\n",
       "      <td>586</td>\n",
       "      <td>Nuclear</td>\n",
       "      <td>2018</td>\n",
       "      <td>q95</td>\n",
       "      <td>56.469050</td>\n",
       "      <td>5.819388</td>\n",
       "    </tr>\n",
       "    <tr>\n",
       "      <td>587</td>\n",
       "      <td>Load</td>\n",
       "      <td>2018</td>\n",
       "      <td>q95</td>\n",
       "      <td>75.997800</td>\n",
       "      <td>6.247886</td>\n",
       "    </tr>\n",
       "  </tbody>\n",
       "</table>\n",
       "<p>588 rows × 5 columns</p>\n",
       "</div>"
      ],
      "text/plain": [
       "        type  year stat      value      log2\n",
       "0        Bio  2012  avg   0.664442 -0.589785\n",
       "1        Oil  2012  avg   0.517325 -0.950856\n",
       "2       Coal  2012  avg   1.986089  0.989930\n",
       "3       Pump  2012  avg   0.763865 -0.388610\n",
       "4      Solar  2012  avg   0.430648 -1.215420\n",
       "..       ...   ...  ...        ...       ...\n",
       "583     Wind  2018  q95   8.717000  3.123832\n",
       "584   Export  2018  q95  13.222000  3.724869\n",
       "585    Hydro  2018  q95  12.667150  3.663020\n",
       "586  Nuclear  2018  q95  56.469050  5.819388\n",
       "587     Load  2018  q95  75.997800  6.247886\n",
       "\n",
       "[588 rows x 5 columns]"
      ]
     },
     "execution_count": 220,
     "metadata": {},
     "output_type": "execute_result"
    }
   ],
   "source": [
    "stats_yl_full = stats_y.reset_index().melt('index', var_name=['year', 'stat'])\n",
    "stats_yl_full.rename(columns={'index':'type'}, inplace=True)\n",
    "\n",
    "# log2 transform\n",
    "stats_yl_full['log2'] = np.log2(stats_yl.value)\n",
    "stats_yl_full"
   ]
  },
  {
   "cell_type": "markdown",
   "metadata": {},
   "source": [
    "Rows with avg or max stat:"
   ]
  },
  {
   "cell_type": "code",
   "execution_count": 221,
   "metadata": {},
   "outputs": [
    {
     "data": {
      "text/plain": [
       "168"
      ]
     },
     "execution_count": 221,
     "metadata": {},
     "output_type": "execute_result"
    }
   ],
   "source": [
    "avg_max = (stats_yl_full.stat == 'avg') | (stats_yl_full.stat == 'max')\n",
    "avg_max.sum()"
   ]
  },
  {
   "cell_type": "code",
   "execution_count": 222,
   "metadata": {},
   "outputs": [],
   "source": [
    "stats_yl = stats_yl_full[avg_max]"
   ]
  },
  {
   "cell_type": "markdown",
   "metadata": {},
   "source": [
    "short alias for the year column:"
   ]
  },
  {
   "cell_type": "code",
   "execution_count": 223,
   "metadata": {},
   "outputs": [],
   "source": [
    "y = stats_yl.year"
   ]
  },
  {
   "cell_type": "markdown",
   "metadata": {},
   "source": [
    "Use the same sorting as `stats_y`:"
   ]
  },
  {
   "cell_type": "code",
   "execution_count": 224,
   "metadata": {},
   "outputs": [
    {
     "name": "stdout",
     "output_type": "stream",
     "text": [
      "['Load', 'Nuclear', 'Hydro', 'Export', 'Wind', 'Gas', 'Import', 'Solar', 'Pump', 'Coal', 'Oil', 'Bio']\n"
     ]
    }
   ],
   "source": [
    "sorted_types = stats_y.index.values\n",
    "sorted_types = list(sorted_types)\n",
    "sorted_types.reverse()\n",
    "print(sorted_types)"
   ]
  },
  {
   "cell_type": "markdown",
   "metadata": {},
   "source": [
    "### Plot a single year\n",
    "\n",
    "TODO: \n",
    "* find a better way to customize the color and the shape without breaking the legend → DONE"
   ]
  },
  {
   "cell_type": "code",
   "execution_count": 228,
   "metadata": {},
   "outputs": [
    {
     "data": {
      "text/html": [
       "<div>\n",
       "<style scoped>\n",
       "    .dataframe tbody tr th:only-of-type {\n",
       "        vertical-align: middle;\n",
       "    }\n",
       "\n",
       "    .dataframe tbody tr th {\n",
       "        vertical-align: top;\n",
       "    }\n",
       "\n",
       "    .dataframe thead th {\n",
       "        text-align: right;\n",
       "    }\n",
       "</style>\n",
       "<table border=\"1\" class=\"dataframe\">\n",
       "  <thead>\n",
       "    <tr style=\"text-align: right;\">\n",
       "      <th></th>\n",
       "      <th>type</th>\n",
       "      <th>year</th>\n",
       "      <th>stat</th>\n",
       "      <th>value</th>\n",
       "      <th>log2</th>\n",
       "    </tr>\n",
       "  </thead>\n",
       "  <tbody>\n",
       "    <tr>\n",
       "      <td>504</td>\n",
       "      <td>Bio</td>\n",
       "      <td>2018</td>\n",
       "      <td>avg</td>\n",
       "      <td>1.089724</td>\n",
       "      <td>0.123963</td>\n",
       "    </tr>\n",
       "    <tr>\n",
       "      <td>505</td>\n",
       "      <td>Oil</td>\n",
       "      <td>2018</td>\n",
       "      <td>avg</td>\n",
       "      <td>0.234531</td>\n",
       "      <td>-2.092148</td>\n",
       "    </tr>\n",
       "    <tr>\n",
       "      <td>506</td>\n",
       "      <td>Coal</td>\n",
       "      <td>2018</td>\n",
       "      <td>avg</td>\n",
       "      <td>0.656297</td>\n",
       "      <td>-0.607579</td>\n",
       "    </tr>\n",
       "    <tr>\n",
       "      <td>507</td>\n",
       "      <td>Pump</td>\n",
       "      <td>2018</td>\n",
       "      <td>avg</td>\n",
       "      <td>0.844762</td>\n",
       "      <td>-0.243382</td>\n",
       "    </tr>\n",
       "    <tr>\n",
       "      <td>508</td>\n",
       "      <td>Solar</td>\n",
       "      <td>2018</td>\n",
       "      <td>avg</td>\n",
       "      <td>1.208082</td>\n",
       "      <td>0.272719</td>\n",
       "    </tr>\n",
       "    <tr>\n",
       "      <td>509</td>\n",
       "      <td>Import</td>\n",
       "      <td>2018</td>\n",
       "      <td>avg</td>\n",
       "      <td>0.109121</td>\n",
       "      <td>-3.196001</td>\n",
       "    </tr>\n",
       "    <tr>\n",
       "      <td>510</td>\n",
       "      <td>Gas</td>\n",
       "      <td>2018</td>\n",
       "      <td>avg</td>\n",
       "      <td>3.446567</td>\n",
       "      <td>1.785160</td>\n",
       "    </tr>\n",
       "    <tr>\n",
       "      <td>511</td>\n",
       "      <td>Wind</td>\n",
       "      <td>2018</td>\n",
       "      <td>avg</td>\n",
       "      <td>3.211288</td>\n",
       "      <td>1.683152</td>\n",
       "    </tr>\n",
       "    <tr>\n",
       "      <td>512</td>\n",
       "      <td>Export</td>\n",
       "      <td>2018</td>\n",
       "      <td>avg</td>\n",
       "      <td>7.383905</td>\n",
       "      <td>2.884384</td>\n",
       "    </tr>\n",
       "    <tr>\n",
       "      <td>513</td>\n",
       "      <td>Hydro</td>\n",
       "      <td>2018</td>\n",
       "      <td>avg</td>\n",
       "      <td>7.695196</td>\n",
       "      <td>2.943958</td>\n",
       "    </tr>\n",
       "    <tr>\n",
       "      <td>514</td>\n",
       "      <td>Nuclear</td>\n",
       "      <td>2018</td>\n",
       "      <td>avg</td>\n",
       "      <td>44.861127</td>\n",
       "      <td>5.487394</td>\n",
       "    </tr>\n",
       "    <tr>\n",
       "      <td>515</td>\n",
       "      <td>Load</td>\n",
       "      <td>2018</td>\n",
       "      <td>avg</td>\n",
       "      <td>54.283220</td>\n",
       "      <td>5.762434</td>\n",
       "    </tr>\n",
       "    <tr>\n",
       "      <td>516</td>\n",
       "      <td>Bio</td>\n",
       "      <td>2018</td>\n",
       "      <td>max</td>\n",
       "      <td>1.286000</td>\n",
       "      <td>0.362891</td>\n",
       "    </tr>\n",
       "    <tr>\n",
       "      <td>517</td>\n",
       "      <td>Oil</td>\n",
       "      <td>2018</td>\n",
       "      <td>max</td>\n",
       "      <td>2.507000</td>\n",
       "      <td>1.325962</td>\n",
       "    </tr>\n",
       "    <tr>\n",
       "      <td>518</td>\n",
       "      <td>Coal</td>\n",
       "      <td>2018</td>\n",
       "      <td>max</td>\n",
       "      <td>2.931000</td>\n",
       "      <td>1.551393</td>\n",
       "    </tr>\n",
       "    <tr>\n",
       "      <td>519</td>\n",
       "      <td>Pump</td>\n",
       "      <td>2018</td>\n",
       "      <td>max</td>\n",
       "      <td>3.651000</td>\n",
       "      <td>1.868292</td>\n",
       "    </tr>\n",
       "    <tr>\n",
       "      <td>520</td>\n",
       "      <td>Solar</td>\n",
       "      <td>2018</td>\n",
       "      <td>max</td>\n",
       "      <td>6.430000</td>\n",
       "      <td>2.684819</td>\n",
       "    </tr>\n",
       "    <tr>\n",
       "      <td>521</td>\n",
       "      <td>Import</td>\n",
       "      <td>2018</td>\n",
       "      <td>max</td>\n",
       "      <td>9.574000</td>\n",
       "      <td>3.259122</td>\n",
       "    </tr>\n",
       "    <tr>\n",
       "      <td>522</td>\n",
       "      <td>Gas</td>\n",
       "      <td>2018</td>\n",
       "      <td>max</td>\n",
       "      <td>9.700000</td>\n",
       "      <td>3.277985</td>\n",
       "    </tr>\n",
       "    <tr>\n",
       "      <td>523</td>\n",
       "      <td>Wind</td>\n",
       "      <td>2018</td>\n",
       "      <td>max</td>\n",
       "      <td>12.287000</td>\n",
       "      <td>3.619061</td>\n",
       "    </tr>\n",
       "    <tr>\n",
       "      <td>524</td>\n",
       "      <td>Export</td>\n",
       "      <td>2018</td>\n",
       "      <td>max</td>\n",
       "      <td>16.577000</td>\n",
       "      <td>4.051111</td>\n",
       "    </tr>\n",
       "    <tr>\n",
       "      <td>525</td>\n",
       "      <td>Hydro</td>\n",
       "      <td>2018</td>\n",
       "      <td>max</td>\n",
       "      <td>17.434000</td>\n",
       "      <td>4.123832</td>\n",
       "    </tr>\n",
       "    <tr>\n",
       "      <td>526</td>\n",
       "      <td>Nuclear</td>\n",
       "      <td>2018</td>\n",
       "      <td>max</td>\n",
       "      <td>58.640000</td>\n",
       "      <td>5.873813</td>\n",
       "    </tr>\n",
       "    <tr>\n",
       "      <td>527</td>\n",
       "      <td>Load</td>\n",
       "      <td>2018</td>\n",
       "      <td>max</td>\n",
       "      <td>96.272000</td>\n",
       "      <td>6.589044</td>\n",
       "    </tr>\n",
       "  </tbody>\n",
       "</table>\n",
       "</div>"
      ],
      "text/plain": [
       "        type  year stat      value      log2\n",
       "504      Bio  2018  avg   1.089724  0.123963\n",
       "505      Oil  2018  avg   0.234531 -2.092148\n",
       "506     Coal  2018  avg   0.656297 -0.607579\n",
       "507     Pump  2018  avg   0.844762 -0.243382\n",
       "508    Solar  2018  avg   1.208082  0.272719\n",
       "509   Import  2018  avg   0.109121 -3.196001\n",
       "510      Gas  2018  avg   3.446567  1.785160\n",
       "511     Wind  2018  avg   3.211288  1.683152\n",
       "512   Export  2018  avg   7.383905  2.884384\n",
       "513    Hydro  2018  avg   7.695196  2.943958\n",
       "514  Nuclear  2018  avg  44.861127  5.487394\n",
       "515     Load  2018  avg  54.283220  5.762434\n",
       "516      Bio  2018  max   1.286000  0.362891\n",
       "517      Oil  2018  max   2.507000  1.325962\n",
       "518     Coal  2018  max   2.931000  1.551393\n",
       "519     Pump  2018  max   3.651000  1.868292\n",
       "520    Solar  2018  max   6.430000  2.684819\n",
       "521   Import  2018  max   9.574000  3.259122\n",
       "522      Gas  2018  max   9.700000  3.277985\n",
       "523     Wind  2018  max  12.287000  3.619061\n",
       "524   Export  2018  max  16.577000  4.051111\n",
       "525    Hydro  2018  max  17.434000  4.123832\n",
       "526  Nuclear  2018  max  58.640000  5.873813\n",
       "527     Load  2018  max  96.272000  6.589044"
      ]
     },
     "execution_count": 228,
     "metadata": {},
     "output_type": "execute_result"
    }
   ],
   "source": [
    "stats_yl[y==2018]"
   ]
  },
  {
   "cell_type": "code",
   "execution_count": 225,
   "metadata": {},
   "outputs": [
    {
     "data": {
      "text/plain": [
       "{'config': {'view': {'width': 400, 'height': 300}, 'mark': {'tooltip': None}}}"
      ]
     },
     "execution_count": 225,
     "metadata": {},
     "output_type": "execute_result"
    }
   ],
   "source": [
    "alt.themes.get()()"
   ]
  },
  {
   "cell_type": "code",
   "execution_count": 243,
   "metadata": {},
   "outputs": [
    {
     "data": {
      "application/vnd.vegalite.v3+json": {
       "$schema": "https://vega.github.io/schema/vega-lite/v3.4.0.json",
       "config": {
        "mark": {
         "tooltip": null
        },
        "view": {
         "height": 300,
         "width": 400
        }
       },
       "data": {
        "name": "data-db3e594b6992120c694732e2da9673fd"
       },
       "datasets": {
        "data-db3e594b6992120c694732e2da9673fd": [
         {
          "log2": 0.12396282177146306,
          "stat": "avg",
          "type": "Bio",
          "value": 1.0897240296803627,
          "year": 2018
         },
         {
          "log2": -2.0921484548149167,
          "stat": "avg",
          "type": "Oil",
          "value": 0.23453116438356092,
          "year": 2018
         },
         {
          "log2": -0.6075789352729576,
          "stat": "avg",
          "type": "Coal",
          "value": 0.6562971461187298,
          "year": 2018
         },
         {
          "log2": -0.24338230169764996,
          "stat": "avg",
          "type": "Pump",
          "value": 0.8447624999999994,
          "year": 2018
         },
         {
          "log2": 0.2727189524615572,
          "stat": "avg",
          "type": "Solar",
          "value": 1.2080824771688805,
          "year": 2018
         },
         {
          "log2": -3.196000773178091,
          "stat": "avg",
          "type": "Import",
          "value": 0.10912089041095904,
          "year": 2018
         },
         {
          "log2": 1.7851602082268385,
          "stat": "avg",
          "type": "Gas",
          "value": 3.446567351598163,
          "year": 2018
         },
         {
          "log2": 1.6831518580238158,
          "stat": "avg",
          "type": "Wind",
          "value": 3.211287557077641,
          "year": 2018
         },
         {
          "log2": 2.8843840184118323,
          "stat": "avg",
          "type": "Export",
          "value": 7.383905136986285,
          "year": 2018
         },
         {
          "log2": 2.943958148856133,
          "stat": "avg",
          "type": "Hydro",
          "value": 7.695196404109566,
          "year": 2018
         },
         {
          "log2": 5.487393960874129,
          "stat": "avg",
          "type": "Nuclear",
          "value": 44.86112705479438,
          "year": 2018
         },
         {
          "log2": 5.762434383967357,
          "stat": "avg",
          "type": "Load",
          "value": 54.28321952054751,
          "year": 2018
         },
         {
          "log2": 0.36289064266586035,
          "stat": "max",
          "type": "Bio",
          "value": 1.286,
          "year": 2018
         },
         {
          "log2": 1.3259619961718523,
          "stat": "max",
          "type": "Oil",
          "value": 2.507,
          "year": 2018
         },
         {
          "log2": 1.5513929680274543,
          "stat": "max",
          "type": "Coal",
          "value": 2.931,
          "year": 2018
         },
         {
          "log2": 1.8682916687727975,
          "stat": "max",
          "type": "Pump",
          "value": 3.651,
          "year": 2018
         },
         {
          "log2": 2.6848187375532224,
          "stat": "max",
          "type": "Solar",
          "value": 6.43,
          "year": 2018
         },
         {
          "log2": 3.259121806057679,
          "stat": "max",
          "type": "Import",
          "value": 9.574,
          "year": 2018
         },
         {
          "log2": 3.277984747299765,
          "stat": "max",
          "type": "Gas",
          "value": 9.7,
          "year": 2018
         },
         {
          "log2": 3.6190608044585253,
          "stat": "max",
          "type": "Wind",
          "value": 12.287,
          "year": 2018
         },
         {
          "log2": 4.051111035573034,
          "stat": "max",
          "type": "Export",
          "value": 16.577,
          "year": 2018
         },
         {
          "log2": 4.1238317095660175,
          "stat": "max",
          "type": "Hydro",
          "value": 17.434,
          "year": 2018
         },
         {
          "log2": 5.8738131983590876,
          "stat": "max",
          "type": "Nuclear",
          "value": 58.64,
          "year": 2018
         },
         {
          "log2": 6.589044356767767,
          "stat": "max",
          "type": "Load",
          "value": 96.272,
          "year": 2018
         }
        ]
       },
       "encoding": {
        "color": {
         "field": "stat",
         "scale": {
          "domain": [
           "avg",
           "max"
          ],
          "range": [
           "#1f77b4",
           "#d62728"
          ]
         },
         "type": "nominal"
        },
        "shape": {
         "field": "stat",
         "scale": {
          "domain": [
           "avg",
           "max"
          ],
          "range": [
           "circle",
           "triangle-up"
          ]
         },
         "type": "nominal"
        },
        "tooltip": [
         {
          "field": "year",
          "type": "quantitative"
         },
         {
          "field": "value",
          "type": "quantitative"
         }
        ],
        "x": {
         "axis": {
          "title": "log₂ Power (GW)"
         },
         "field": "log2",
         "scale": {
          "clamp": true,
          "domain": [
           -2,
           7
          ]
         },
         "type": "quantitative"
        },
        "y": {
         "field": "type",
         "sort": [
          "Load",
          "Nuclear",
          "Hydro",
          "Export",
          "Wind",
          "Gas",
          "Import",
          "Solar",
          "Pump",
          "Coal",
          "Oil",
          "Bio"
         ],
         "type": "nominal"
        }
       },
       "mark": {
        "filled": true,
        "opacity": 1,
        "size": 50,
        "type": "point"
       },
       "selection": {
        "selector020": {
         "bind": "scales",
         "encodings": [
          "x",
          "y"
         ],
         "type": "interval"
        }
       },
       "title": "French power system data for 2018 (RTE éCO₂mix)"
      },
      "image/png": "[encoded data removed]",
      "text/plain": [
       "<VegaLite 3 object>\n",
       "\n",
       "If you see this message, it means the renderer has not been properly enabled\n",
       "for the frontend that you are using. For more information, see\n",
       "https://altair-viz.github.io/user_guide/troubleshooting.html\n"
      ]
     },
     "execution_count": 243,
     "metadata": {},
     "output_type": "execute_result"
    }
   ],
   "source": [
    "shape_scale = alt.Scale(domain=['avg', 'max'], range=['circle', 'triangle-up'])\n",
    "\n",
    "tab_blue = '#1f77b4' # ( 31, 119, 180)\n",
    "tab_red = '#d62728' # (214,  39,  40)\n",
    "color_scale = alt.Scale(domain=['avg', 'max'], range=[tab_blue, tab_red])\n",
    "\n",
    "alt.Chart(stats_yl[y==2018]).mark_point(filled=True, size=50, opacity=1).encode(\n",
    "    x=alt.X('log2', \n",
    "        scale = alt.Scale(\n",
    "            domain=(-2,7),\n",
    "            clamp=True # nice for interactive charts. otherwise, clip=True may be better\n",
    "        ),\n",
    "        axis=alt.Axis(title='log₂ Power (GW)')\n",
    "    ),\n",
    "    y=alt.Y('type', sort=sorted_types),\n",
    "    color=alt.Color('stat',\n",
    "        scale=color_scale\n",
    "    ),\n",
    "    shape=alt.Shape(\n",
    "        'stat', \n",
    "        scale=shape_scale\n",
    "    ),\n",
    "    tooltip=['year', 'value']\n",
    ").properties(\n",
    "    title='French power system data for 2018 (RTE éCO₂mix)'\n",
    ").interactive()"
   ]
  },
  {
   "cell_type": "markdown",
   "metadata": {},
   "source": [
    "### Plot all years\n",
    "\n",
    "a bit confusing when the coloring function of years is not added"
   ]
  },
  {
   "cell_type": "code",
   "execution_count": 232,
   "metadata": {},
   "outputs": [
    {
     "data": {
      "application/vnd.vegalite.v3+json": {
       "$schema": "https://vega.github.io/schema/vega-lite/v3.4.0.json",
       "config": {
        "mark": {
         "tooltip": null
        },
        "view": {
         "height": 300,
         "width": 400
        }
       },
       "data": {
        "name": "data-7a831517b55962d7905f31c6a5f73b7f"
       },
       "datasets": {
        "data-7a831517b55962d7905f31c6a5f73b7f": [
         {
          "log2": -0.5897849551170196,
          "stat": "avg",
          "type": "Bio",
          "value": 0.6644419398907098,
          "year": 2012
         },
         {
          "log2": -0.950856007990045,
          "stat": "avg",
          "type": "Oil",
          "value": 0.5173254212203923,
          "year": 2012
         },
         {
          "log2": 0.989930003002974,
          "stat": "avg",
          "type": "Coal",
          "value": 1.9860886270491867,
          "year": 2012
         },
         {
          "log2": -0.3886096874868811,
          "stat": "avg",
          "type": "Pump",
          "value": 0.7638653802368495,
          "year": 2012
         },
         {
          "log2": -1.2154195479949157,
          "stat": "avg",
          "type": "Solar",
          "value": 0.43064782559198567,
          "year": 2012
         },
         {
          "log2": -2.771054897466148,
          "stat": "avg",
          "type": "Import",
          "value": 0.1464972108378869,
          "year": 2012
         },
         {
          "log2": 1.5112707173843611,
          "stat": "avg",
          "type": "Gas",
          "value": 2.850610086520972,
          "year": 2012
         },
         {
          "log2": 0.7626251308147131,
          "stat": "avg",
          "type": "Wind",
          "value": 1.6965749089253217,
          "year": 2012
         },
         {
          "log2": 2.43309055098594,
          "stat": "avg",
          "type": "Export",
          "value": 5.400490892531877,
          "year": 2012
         },
         {
          "log2": 2.8506562228844663,
          "stat": "avg",
          "type": "Hydro",
          "value": 7.21328398224045,
          "year": 2012
         },
         {
          "log2": 5.525311700804918,
          "stat": "avg",
          "type": "Nuclear",
          "value": 46.05582405509997,
          "year": 2012
         },
         {
          "log2": 5.791734950074241,
          "stat": "avg",
          "type": "Load",
          "value": 55.396961805555414,
          "year": 2012
         },
         {
          "log2": -0.3237325917341102,
          "stat": "max",
          "type": "Bio",
          "value": 0.799,
          "year": 2012
         },
         {
          "log2": 2.5670586262991955,
          "stat": "max",
          "type": "Oil",
          "value": 5.926,
          "year": 2012
         },
         {
          "log2": 2.442545456105304,
          "stat": "max",
          "type": "Coal",
          "value": 5.436,
          "year": 2012
         },
         {
          "log2": 1.755314904045098,
          "stat": "max",
          "type": "Pump",
          "value": 3.376,
          "year": 2012
         },
         {
          "log2": 1.3155662303189486,
          "stat": "max",
          "type": "Solar",
          "value": 2.489,
          "year": 2012
         },
         {
          "log2": 3.2155232927657105,
          "stat": "max",
          "type": "Import",
          "value": 9.289,
          "year": 2012
         },
         {
          "log2": 3.108524456778169,
          "stat": "max",
          "type": "Gas",
          "value": 8.625,
          "year": 2012
         },
         {
          "log2": 2.631802754924129,
          "stat": "max",
          "type": "Wind",
          "value": 6.198,
          "year": 2012
         },
         {
          "log2": 3.764898122814709,
          "stat": "max",
          "type": "Export",
          "value": 13.594,
          "year": 2012
         },
         {
          "log2": 4.033863451866284,
          "stat": "max",
          "type": "Hydro",
          "value": 16.38,
          "year": 2012
         },
         {
          "log2": 5.9262604088530395,
          "stat": "max",
          "type": "Nuclear",
          "value": 60.811,
          "year": 2012
         },
         {
          "log2": 6.673810795281893,
          "stat": "max",
          "type": "Load",
          "value": 102.098,
          "year": 2012
         },
         {
          "log2": -0.498237005740725,
          "stat": "avg",
          "type": "Bio",
          "value": 0.7079714041095969,
          "year": 2013
         },
         {
          "log2": -1.1395233101320608,
          "stat": "avg",
          "type": "Oil",
          "value": 0.45390953196347467,
          "year": 2013
         },
         {
          "log2": 1.1710855344067048,
          "stat": "avg",
          "type": "Coal",
          "value": 2.2518106735159784,
          "year": 2013
         },
         {
          "log2": -0.28390139417822513,
          "stat": "avg",
          "type": "Pump",
          "value": 0.8213668378995419,
          "year": 2013
         },
         {
          "log2": -0.9461722957452768,
          "stat": "avg",
          "type": "Solar",
          "value": 0.5190076484018286,
          "year": 2013
         },
         {
          "log2": -3.5065548012208914,
          "stat": "avg",
          "type": "Import",
          "value": 0.08798767123287676,
          "year": 2013
         },
         {
          "log2": 1.1907959550637774,
          "stat": "avg",
          "type": "Gas",
          "value": 2.2827865296803282,
          "year": 2013
         },
         {
          "log2": 0.8611430968352228,
          "stat": "avg",
          "type": "Wind",
          "value": 1.8164769977169044,
          "year": 2013
         },
         {
          "log2": 2.5096635395371925,
          "stat": "avg",
          "type": "Export",
          "value": 5.694872488584459,
          "year": 2013
         },
         {
          "log2": 3.0911471095558833,
          "stat": "avg",
          "type": "Hydro",
          "value": 8.521734531963423,
          "year": 2013
         },
         {
          "log2": 5.525384909425805,
          "stat": "avg",
          "type": "Nuclear",
          "value": 46.0581611872143,
          "year": 2013
         },
         {
          "log2": 5.812126718227928,
          "stat": "avg",
          "type": "Load",
          "value": 56.185529851598425,
          "year": 2013
         },
         {
          "log2": -0.26015189730067256,
          "stat": "max",
          "type": "Bio",
          "value": 0.835,
          "year": 2013
         },
         {
          "log2": 1.968643755964717,
          "stat": "max",
          "type": "Oil",
          "value": 3.914,
          "year": 2013
         },
         {
          "log2": 2.6473145095471358,
          "stat": "max",
          "type": "Coal",
          "value": 6.265,
          "year": 2013
         },
         {
          "log2": 1.86274892579353,
          "stat": "max",
          "type": "Pump",
          "value": 3.637,
          "year": 2013
         },
         {
          "log2": 1.560714954474479,
          "stat": "max",
          "type": "Solar",
          "value": 2.95,
          "year": 2013
         },
         {
          "log2": 2.3015876466031866,
          "stat": "max",
          "type": "Import",
          "value": 4.93,
          "year": 2013
         },
         {
          "log2": 3.0581432925122924,
          "stat": "max",
          "type": "Gas",
          "value": 8.329,
          "year": 2013
         },
         {
          "log2": 2.7073039082472756,
          "stat": "max",
          "type": "Wind",
          "value": 6.531,
          "year": 2013
         },
         {
          "log2": 3.722247417751847,
          "stat": "max",
          "type": "Export",
          "value": 13.198,
          "year": 2013
         },
         {
          "log2": 4.070818637533277,
          "stat": "max",
          "type": "Hydro",
          "value": 16.805,
          "year": 2013
         },
         {
          "log2": 5.885257092756531,
          "stat": "max",
          "type": "Nuclear",
          "value": 59.107,
          "year": 2013
         },
         {
          "log2": 6.533392033580457,
          "stat": "max",
          "type": "Load",
          "value": 92.629,
          "year": 2013
         },
         {
          "log2": -0.22211162269519122,
          "stat": "avg",
          "type": "Bio",
          "value": 0.8573097031963467,
          "year": 2014
         },
         {
          "log2": -1.8769476526441389,
          "stat": "avg",
          "type": "Oil",
          "value": 0.2722591324200942,
          "year": 2014
         },
         {
          "log2": -0.07508101355997322,
          "stat": "avg",
          "type": "Coal",
          "value": 0.9492888127853778,
          "year": 2014
         },
         {
          "log2": -0.1321410770685458,
          "stat": "avg",
          "type": "Pump",
          "value": 0.9124762557077692,
          "year": 2014
         },
         {
          "log2": -0.5901826812575697,
          "stat": "avg",
          "type": "Solar",
          "value": 0.6642587899543397,
          "year": 2014
         },
         {
          "log2": -9.323298976909346,
          "stat": "avg",
          "type": "Import",
          "value": 0.0015610159817351598,
          "year": 2014
         },
         {
          "log2": 0.7029094913589558,
          "stat": "avg",
          "type": "Gas",
          "value": 1.6277842465753343,
          "year": 2014
         },
         {
          "log2": 0.9615281467327618,
          "stat": "avg",
          "type": "Wind",
          "value": 1.9473715182648415,
          "year": 2014
         },
         {
          "log2": 2.9540712884000864,
          "stat": "avg",
          "type": "Export",
          "value": 7.749328424657529,
          "year": 2014
         },
         {
          "log2": 2.942894910634129,
          "stat": "avg",
          "type": "Hydro",
          "value": 7.689527283105045,
          "year": 2014
         },
         {
          "log2": 5.5677890085291,
          "stat": "avg",
          "type": "Nuclear",
          "value": 47.43200696347028,
          "year": 2014
         },
         {
          "log2": 5.721905755022298,
          "stat": "avg",
          "type": "Load",
          "value": 52.77949914383524,
          "year": 2014
         },
         {
          "log2": 0.06901467791518046,
          "stat": "max",
          "type": "Bio",
          "value": 1.049,
          "year": 2014
         },
         {
          "log2": 1.005759269288685,
          "stat": "max",
          "type": "Oil",
          "value": 2.008,
          "year": 2014
         },
         {
          "log2": 2.180147861158429,
          "stat": "max",
          "type": "Coal",
          "value": 4.532,
          "year": 2014
         },
         {
          "log2": 1.8539956471763932,
          "stat": "max",
          "type": "Pump",
          "value": 3.615,
          "year": 2014
         },
         {
          "log2": 1.8539956471763932,
          "stat": "max",
          "type": "Solar",
          "value": 3.615,
          "year": 2014
         },
         {
          "log2": 0.9553128034447055,
          "stat": "max",
          "type": "Import",
          "value": 1.939,
          "year": 2014
         },
         {
          "log2": 2.880881397237651,
          "stat": "max",
          "type": "Gas",
          "value": 7.366,
          "year": 2014
         },
         {
          "log2": 2.883425315907177,
          "stat": "max",
          "type": "Wind",
          "value": 7.379,
          "year": 2014
         },
         {
          "log2": 3.7947277666952597,
          "stat": "max",
          "type": "Export",
          "value": 13.878,
          "year": 2014
         },
         {
          "log2": 4.054414387917307,
          "stat": "max",
          "type": "Hydro",
          "value": 16.615,
          "year": 2014
         },
         {
          "log2": 5.9362139010064086,
          "stat": "max",
          "type": "Nuclear",
          "value": 61.232,
          "year": 2014
         },
         {
          "log2": 6.368192133643371,
          "stat": "max",
          "type": "Load",
          "value": 82.607,
          "year": 2014
         },
         {
          "log2": -0.14610221415897182,
          "stat": "avg",
          "type": "Bio",
          "value": 0.903688698630148,
          "year": 2015
         },
         {
          "log2": -1.7226812342976587,
          "stat": "avg",
          "type": "Oil",
          "value": 0.3029851027397236,
          "year": 2015
         },
         {
          "log2": -0.024927769644083102,
          "stat": "avg",
          "type": "Coal",
          "value": 0.982869805936101,
          "year": 2015
         },
         {
          "log2": -0.3460396726128119,
          "stat": "avg",
          "type": "Pump",
          "value": 0.7867408105022444,
          "year": 2015
         },
         {
          "log2": -0.265737840188435,
          "stat": "avg",
          "type": "Solar",
          "value": 0.8317732305935809,
          "year": 2015
         },
         {
          "log2": -9.12784104277106,
          "stat": "avg",
          "type": "Import",
          "value": 0.0017874999999999998,
          "year": 2015
         },
         {
          "log2": 1.3346232587590738,
          "stat": "avg",
          "type": "Gas",
          "value": 2.5220961187214916,
          "year": 2015
         },
         {
          "log2": 1.267848249992301,
          "stat": "avg",
          "type": "Wind",
          "value": 2.408021461187222,
          "year": 2015
         },
         {
          "log2": 2.882551634467401,
          "stat": "avg",
          "type": "Export",
          "value": 7.37453270547945,
          "year": 2015
         },
         {
          "log2": 2.739968398699168,
          "stat": "avg",
          "type": "Hydro",
          "value": 6.6805570205479095,
          "year": 2015
         },
         {
          "log2": 5.571083673293683,
          "stat": "avg",
          "type": "Nuclear",
          "value": 47.54045062785379,
          "year": 2015
         },
         {
          "log2": 5.755231511767753,
          "stat": "avg",
          "type": "Load",
          "value": 54.012877796803664,
          "year": 2015
         },
         {
          "log2": 0.21536797220347947,
          "stat": "max",
          "type": "Bio",
          "value": 1.161,
          "year": 2015
         },
         {
          "log2": 1.7782085763980877,
          "stat": "max",
          "type": "Oil",
          "value": 3.43,
          "year": 2015
         },
         {
          "log2": 1.8399595874895318,
          "stat": "max",
          "type": "Coal",
          "value": 3.58,
          "year": 2015
         },
         {
          "log2": 1.8491986517647032,
          "stat": "max",
          "type": "Pump",
          "value": 3.603,
          "year": 2015
         },
         {
          "log2": 2.127963378123582,
          "stat": "max",
          "type": "Solar",
          "value": 4.371,
          "year": 2015
         },
         {
          "log2": 1.1401242239090708,
          "stat": "max",
          "type": "Import",
          "value": 2.204,
          "year": 2015
         },
         {
          "log2": 3.0093471722592526,
          "stat": "max",
          "type": "Gas",
          "value": 8.052,
          "year": 2015
         },
         {
          "log2": 3.058489677877915,
          "stat": "max",
          "type": "Wind",
          "value": 8.331,
          "year": 2015
         },
         {
          "log2": 4.0146230951696324,
          "stat": "max",
          "type": "Export",
          "value": 16.163,
          "year": 2015
         },
         {
          "log2": 3.967998564113285,
          "stat": "max",
          "type": "Hydro",
          "value": 15.649,
          "year": 2015
         },
         {
          "log2": 5.947479145966675,
          "stat": "max",
          "type": "Nuclear",
          "value": 61.712,
          "year": 2015
         },
         {
          "log2": 6.5225266077605015,
          "stat": "max",
          "type": "Load",
          "value": 91.934,
          "year": 2015
         },
         {
          "log2": -0.011979259234493837,
          "stat": "avg",
          "type": "Bio",
          "value": 0.9917309881602933,
          "year": 2016
         },
         {
          "log2": -2.3503259125861287,
          "stat": "avg",
          "type": "Oil",
          "value": 0.196101719034603,
          "year": 2016
         },
         {
          "log2": -0.266546772260999,
          "stat": "avg",
          "type": "Coal",
          "value": 0.8313069785974607,
          "year": 2016
         },
         {
          "log2": -0.37952810896010253,
          "stat": "avg",
          "type": "Pump",
          "value": 0.7686889799635896,
          "year": 2016
         },
         {
          "log2": -0.08859297094395654,
          "stat": "avg",
          "type": "Solar",
          "value": 0.940439492258585,
          "year": 2016
         },
         {
          "log2": -1.8268606217514298,
          "stat": "avg",
          "type": "Import",
          "value": 0.28187733378870694,
          "year": 2016
         },
         {
          "log2": 2.0095146265954953,
          "stat": "avg",
          "type": "Gas",
          "value": 4.0264673269580955,
          "year": 2016
         },
         {
          "log2": 1.2517875463853592,
          "stat": "avg",
          "type": "Wind",
          "value": 2.381362989526424,
          "year": 2016
         },
         {
          "log2": 2.34849262717694,
          "stat": "avg",
          "type": "Export",
          "value": 5.092918488160295,
          "year": 2016
         },
         {
          "log2": 2.8506125052161937,
          "stat": "avg",
          "type": "Hydro",
          "value": 7.213065403005447,
          "year": 2016
         },
         {
          "log2": 5.448972868816236,
          "stat": "avg",
          "type": "Nuclear",
          "value": 43.68217748178515,
          "year": 2016
         },
         {
          "log2": 5.7729753135609645,
          "stat": "avg",
          "type": "Load",
          "value": 54.68128773907118,
          "year": 2016
         },
         {
          "log2": 0.33456827566613273,
          "stat": "max",
          "type": "Bio",
          "value": 1.261,
          "year": 2016
         },
         {
          "log2": 1.6125884066987175,
          "stat": "max",
          "type": "Oil",
          "value": 3.058,
          "year": 2016
         },
         {
          "log2": 1.488515008957812,
          "stat": "max",
          "type": "Coal",
          "value": 2.806,
          "year": 2016
         },
         {
          "log2": 1.7493197245740804,
          "stat": "max",
          "type": "Pump",
          "value": 3.362,
          "year": 2016
         },
         {
          "log2": 2.387086770015909,
          "stat": "max",
          "type": "Solar",
          "value": 5.231,
          "year": 2016
         },
         {
          "log2": 3.0820212693455025,
          "stat": "max",
          "type": "Import",
          "value": 8.468,
          "year": 2016
         },
         {
          "log2": 3.2485348361386785,
          "stat": "max",
          "type": "Gas",
          "value": 9.504,
          "year": 2016
         },
         {
          "log2": 3.112199689300664,
          "stat": "max",
          "type": "Wind",
          "value": 8.647,
          "year": 2016
         },
         {
          "log2": 4.020324398212567,
          "stat": "max",
          "type": "Export",
          "value": 16.227,
          "year": 2016
         },
         {
          "log2": 4.022634132145764,
          "stat": "max",
          "type": "Hydro",
          "value": 16.253,
          "year": 2016
         },
         {
          "log2": 5.893871821215822,
          "stat": "max",
          "type": "Nuclear",
          "value": 59.461,
          "year": 2016
         },
         {
          "log2": 6.471366322669757,
          "stat": "max",
          "type": "Load",
          "value": 88.731,
          "year": 2016
         },
         {
          "log2": 0.10764621826672242,
          "stat": "avg",
          "type": "Bio",
          "value": 1.07746889269406,
          "year": 2017
         },
         {
          "log2": -1.3324456414358212,
          "stat": "avg",
          "type": "Oil",
          "value": 0.397094520547947,
          "year": 2017
         },
         {
          "log2": 0.1522861204719251,
          "stat": "avg",
          "type": "Coal",
          "value": 1.1113291095890387,
          "year": 2017
         },
         {
          "log2": -0.29086278204830396,
          "stat": "avg",
          "type": "Pump",
          "value": 0.8174130707762784,
          "year": 2017
         },
         {
          "log2": 0.03797731456560675,
          "stat": "avg",
          "type": "Solar",
          "value": 1.026673401826414,
          "year": 2017
         },
         {
          "log2": -1.2681956292721188,
          "stat": "avg",
          "type": "Import",
          "value": 0.41517871004566304,
          "year": 2017
         },
         {
          "log2": 2.174340927293523,
          "stat": "avg",
          "type": "Gas",
          "value": 4.5137950913242,
          "year": 2017
         },
         {
          "log2": 1.4598851967650528,
          "stat": "avg",
          "type": "Wind",
          "value": 2.7508647260274004,
          "year": 2017
         },
         {
          "log2": 2.34855325974723,
          "stat": "avg",
          "type": "Export",
          "value": 5.093132534246612,
          "year": 2017
         },
         {
          "log2": 2.5973619969725124,
          "stat": "avg",
          "type": "Hydro",
          "value": 6.05179029680362,
          "year": 2017
         },
         {
          "log2": 5.434690060722978,
          "stat": "avg",
          "type": "Nuclear",
          "value": 43.251853710045815,
          "year": 2017
         },
         {
          "log2": 5.7730854429767,
          "stat": "avg",
          "type": "Load",
          "value": 54.68546204337916,
          "year": 2017
         },
         {
          "log2": 0.4478436443620855,
          "stat": "max",
          "type": "Bio",
          "value": 1.364,
          "year": 2017
         },
         {
          "log2": 2.0809986856942633,
          "stat": "max",
          "type": "Oil",
          "value": 4.231,
          "year": 2017
         },
         {
          "log2": 1.5612039207699202,
          "stat": "max",
          "type": "Coal",
          "value": 2.951,
          "year": 2017
         },
         {
          "log2": 1.8459917706645732,
          "stat": "max",
          "type": "Pump",
          "value": 3.595,
          "year": 2017
         },
         {
          "log2": 2.4667576157261712,
          "stat": "max",
          "type": "Solar",
          "value": 5.528,
          "year": 2017
         },
         {
          "log2": 3.3235141872413885,
          "stat": "max",
          "type": "Import",
          "value": 10.011,
          "year": 2017
         },
         {
          "log2": 3.2604773686534165,
          "stat": "max",
          "type": "Gas",
          "value": 9.583,
          "year": 2017
         },
         {
          "log2": 3.491724851070611,
          "stat": "max",
          "type": "Wind",
          "value": 11.249,
          "year": 2017
         },
         {
          "log2": 4.106850796450224,
          "stat": "max",
          "type": "Export",
          "value": 17.23,
          "year": 2017
         },
         {
          "log2": 3.9024595330425496,
          "stat": "max",
          "type": "Hydro",
          "value": 14.954,
          "year": 2017
         },
         {
          "log2": 5.829976373455363,
          "stat": "max",
          "type": "Nuclear",
          "value": 56.885,
          "year": 2017
         },
         {
          "log2": 6.558206397822323,
          "stat": "max",
          "type": "Load",
          "value": 94.236,
          "year": 2017
         },
         {
          "log2": 0.12396282177146306,
          "stat": "avg",
          "type": "Bio",
          "value": 1.0897240296803627,
          "year": 2018
         },
         {
          "log2": -2.0921484548149167,
          "stat": "avg",
          "type": "Oil",
          "value": 0.23453116438356092,
          "year": 2018
         },
         {
          "log2": -0.6075789352729576,
          "stat": "avg",
          "type": "Coal",
          "value": 0.6562971461187298,
          "year": 2018
         },
         {
          "log2": -0.24338230169764996,
          "stat": "avg",
          "type": "Pump",
          "value": 0.8447624999999994,
          "year": 2018
         },
         {
          "log2": 0.2727189524615572,
          "stat": "avg",
          "type": "Solar",
          "value": 1.2080824771688805,
          "year": 2018
         },
         {
          "log2": -3.196000773178091,
          "stat": "avg",
          "type": "Import",
          "value": 0.10912089041095904,
          "year": 2018
         },
         {
          "log2": 1.7851602082268385,
          "stat": "avg",
          "type": "Gas",
          "value": 3.446567351598163,
          "year": 2018
         },
         {
          "log2": 1.6831518580238158,
          "stat": "avg",
          "type": "Wind",
          "value": 3.211287557077641,
          "year": 2018
         },
         {
          "log2": 2.8843840184118323,
          "stat": "avg",
          "type": "Export",
          "value": 7.383905136986285,
          "year": 2018
         },
         {
          "log2": 2.943958148856133,
          "stat": "avg",
          "type": "Hydro",
          "value": 7.695196404109566,
          "year": 2018
         },
         {
          "log2": 5.487393960874129,
          "stat": "avg",
          "type": "Nuclear",
          "value": 44.86112705479438,
          "year": 2018
         },
         {
          "log2": 5.762434383967357,
          "stat": "avg",
          "type": "Load",
          "value": 54.28321952054751,
          "year": 2018
         },
         {
          "log2": 0.36289064266586035,
          "stat": "max",
          "type": "Bio",
          "value": 1.286,
          "year": 2018
         },
         {
          "log2": 1.3259619961718523,
          "stat": "max",
          "type": "Oil",
          "value": 2.507,
          "year": 2018
         },
         {
          "log2": 1.5513929680274543,
          "stat": "max",
          "type": "Coal",
          "value": 2.931,
          "year": 2018
         },
         {
          "log2": 1.8682916687727975,
          "stat": "max",
          "type": "Pump",
          "value": 3.651,
          "year": 2018
         },
         {
          "log2": 2.6848187375532224,
          "stat": "max",
          "type": "Solar",
          "value": 6.43,
          "year": 2018
         },
         {
          "log2": 3.259121806057679,
          "stat": "max",
          "type": "Import",
          "value": 9.574,
          "year": 2018
         },
         {
          "log2": 3.277984747299765,
          "stat": "max",
          "type": "Gas",
          "value": 9.7,
          "year": 2018
         },
         {
          "log2": 3.6190608044585253,
          "stat": "max",
          "type": "Wind",
          "value": 12.287,
          "year": 2018
         },
         {
          "log2": 4.051111035573034,
          "stat": "max",
          "type": "Export",
          "value": 16.577,
          "year": 2018
         },
         {
          "log2": 4.1238317095660175,
          "stat": "max",
          "type": "Hydro",
          "value": 17.434,
          "year": 2018
         },
         {
          "log2": 5.8738131983590876,
          "stat": "max",
          "type": "Nuclear",
          "value": 58.64,
          "year": 2018
         },
         {
          "log2": 6.589044356767767,
          "stat": "max",
          "type": "Load",
          "value": 96.272,
          "year": 2018
         }
        ]
       },
       "encoding": {
        "color": {
         "field": "stat",
         "scale": {
          "domain": [
           "avg",
           "max"
          ],
          "range": [
           "#1f77b4",
           "#d62728"
          ]
         },
         "type": "nominal"
        },
        "shape": {
         "field": "stat",
         "scale": {
          "domain": [
           "avg",
           "max"
          ],
          "range": [
           "circle",
           "triangle-up"
          ]
         },
         "type": "nominal"
        },
        "tooltip": [
         {
          "field": "year",
          "type": "quantitative"
         },
         {
          "field": "value",
          "type": "quantitative"
         }
        ],
        "x": {
         "axis": {
          "title": "log₂ Power (GW)"
         },
         "field": "log2",
         "scale": {
          "clamp": true,
          "domain": [
           -2,
           7
          ]
         },
         "type": "quantitative"
        },
        "y": {
         "field": "type",
         "sort": [
          "Load",
          "Nuclear",
          "Hydro",
          "Export",
          "Wind",
          "Gas",
          "Import",
          "Solar",
          "Pump",
          "Coal",
          "Oil",
          "Bio"
         ],
         "type": "nominal"
        }
       },
       "mark": "point",
       "selection": {
        "selector005": {
         "bind": "scales",
         "encodings": [
          "x",
          "y"
         ],
         "type": "interval"
        }
       }
      },
      "image/png": "[encoded data removed]",
      "text/plain": [
       "<VegaLite 3 object>\n",
       "\n",
       "If you see this message, it means the renderer has not been properly enabled\n",
       "for the frontend that you are using. For more information, see\n",
       "https://altair-viz.github.io/user_guide/troubleshooting.html\n"
      ]
     },
     "execution_count": 232,
     "metadata": {},
     "output_type": "execute_result"
    }
   ],
   "source": [
    "alt.Chart(stats_yl).mark_point().encode(\n",
    "    x=alt.X('log2', \n",
    "        scale = alt.Scale(\n",
    "            domain=(-2,7),\n",
    "            clamp=True # nice for interactive charts. otherwise, clip=True may be better\n",
    "        ),\n",
    "        axis=alt.Axis(title='log₂ Power (GW)')\n",
    "    ),\n",
    "    y=alt.Y('type', sort=sorted_types),\n",
    "    color=alt.Color('stat',\n",
    "        scale=color_scale\n",
    "    ),\n",
    "    shape=alt.Shape(\n",
    "        'stat', \n",
    "        scale=shape_scale\n",
    "    ),\n",
    "    tooltip=['year', 'value']\n",
    ").interactive()"
   ]
  },
  {
   "cell_type": "code",
   "execution_count": 235,
   "metadata": {},
   "outputs": [
    {
     "data": {
      "application/vnd.vegalite.v3+json": {
       "$schema": "https://vega.github.io/schema/vega-lite/v3.4.0.json",
       "config": {
        "mark": {
         "tooltip": null
        },
        "view": {
         "height": 300,
         "width": 400
        }
       },
       "data": {
        "name": "data-7a831517b55962d7905f31c6a5f73b7f"
       },
       "datasets": {
        "data-7a831517b55962d7905f31c6a5f73b7f": [
         {
          "log2": -0.5897849551170196,
          "stat": "avg",
          "type": "Bio",
          "value": 0.6644419398907098,
          "year": 2012
         },
         {
          "log2": -0.950856007990045,
          "stat": "avg",
          "type": "Oil",
          "value": 0.5173254212203923,
          "year": 2012
         },
         {
          "log2": 0.989930003002974,
          "stat": "avg",
          "type": "Coal",
          "value": 1.9860886270491867,
          "year": 2012
         },
         {
          "log2": -0.3886096874868811,
          "stat": "avg",
          "type": "Pump",
          "value": 0.7638653802368495,
          "year": 2012
         },
         {
          "log2": -1.2154195479949157,
          "stat": "avg",
          "type": "Solar",
          "value": 0.43064782559198567,
          "year": 2012
         },
         {
          "log2": -2.771054897466148,
          "stat": "avg",
          "type": "Import",
          "value": 0.1464972108378869,
          "year": 2012
         },
         {
          "log2": 1.5112707173843611,
          "stat": "avg",
          "type": "Gas",
          "value": 2.850610086520972,
          "year": 2012
         },
         {
          "log2": 0.7626251308147131,
          "stat": "avg",
          "type": "Wind",
          "value": 1.6965749089253217,
          "year": 2012
         },
         {
          "log2": 2.43309055098594,
          "stat": "avg",
          "type": "Export",
          "value": 5.400490892531877,
          "year": 2012
         },
         {
          "log2": 2.8506562228844663,
          "stat": "avg",
          "type": "Hydro",
          "value": 7.21328398224045,
          "year": 2012
         },
         {
          "log2": 5.525311700804918,
          "stat": "avg",
          "type": "Nuclear",
          "value": 46.05582405509997,
          "year": 2012
         },
         {
          "log2": 5.791734950074241,
          "stat": "avg",
          "type": "Load",
          "value": 55.396961805555414,
          "year": 2012
         },
         {
          "log2": -0.3237325917341102,
          "stat": "max",
          "type": "Bio",
          "value": 0.799,
          "year": 2012
         },
         {
          "log2": 2.5670586262991955,
          "stat": "max",
          "type": "Oil",
          "value": 5.926,
          "year": 2012
         },
         {
          "log2": 2.442545456105304,
          "stat": "max",
          "type": "Coal",
          "value": 5.436,
          "year": 2012
         },
         {
          "log2": 1.755314904045098,
          "stat": "max",
          "type": "Pump",
          "value": 3.376,
          "year": 2012
         },
         {
          "log2": 1.3155662303189486,
          "stat": "max",
          "type": "Solar",
          "value": 2.489,
          "year": 2012
         },
         {
          "log2": 3.2155232927657105,
          "stat": "max",
          "type": "Import",
          "value": 9.289,
          "year": 2012
         },
         {
          "log2": 3.108524456778169,
          "stat": "max",
          "type": "Gas",
          "value": 8.625,
          "year": 2012
         },
         {
          "log2": 2.631802754924129,
          "stat": "max",
          "type": "Wind",
          "value": 6.198,
          "year": 2012
         },
         {
          "log2": 3.764898122814709,
          "stat": "max",
          "type": "Export",
          "value": 13.594,
          "year": 2012
         },
         {
          "log2": 4.033863451866284,
          "stat": "max",
          "type": "Hydro",
          "value": 16.38,
          "year": 2012
         },
         {
          "log2": 5.9262604088530395,
          "stat": "max",
          "type": "Nuclear",
          "value": 60.811,
          "year": 2012
         },
         {
          "log2": 6.673810795281893,
          "stat": "max",
          "type": "Load",
          "value": 102.098,
          "year": 2012
         },
         {
          "log2": -0.498237005740725,
          "stat": "avg",
          "type": "Bio",
          "value": 0.7079714041095969,
          "year": 2013
         },
         {
          "log2": -1.1395233101320608,
          "stat": "avg",
          "type": "Oil",
          "value": 0.45390953196347467,
          "year": 2013
         },
         {
          "log2": 1.1710855344067048,
          "stat": "avg",
          "type": "Coal",
          "value": 2.2518106735159784,
          "year": 2013
         },
         {
          "log2": -0.28390139417822513,
          "stat": "avg",
          "type": "Pump",
          "value": 0.8213668378995419,
          "year": 2013
         },
         {
          "log2": -0.9461722957452768,
          "stat": "avg",
          "type": "Solar",
          "value": 0.5190076484018286,
          "year": 2013
         },
         {
          "log2": -3.5065548012208914,
          "stat": "avg",
          "type": "Import",
          "value": 0.08798767123287676,
          "year": 2013
         },
         {
          "log2": 1.1907959550637774,
          "stat": "avg",
          "type": "Gas",
          "value": 2.2827865296803282,
          "year": 2013
         },
         {
          "log2": 0.8611430968352228,
          "stat": "avg",
          "type": "Wind",
          "value": 1.8164769977169044,
          "year": 2013
         },
         {
          "log2": 2.5096635395371925,
          "stat": "avg",
          "type": "Export",
          "value": 5.694872488584459,
          "year": 2013
         },
         {
          "log2": 3.0911471095558833,
          "stat": "avg",
          "type": "Hydro",
          "value": 8.521734531963423,
          "year": 2013
         },
         {
          "log2": 5.525384909425805,
          "stat": "avg",
          "type": "Nuclear",
          "value": 46.0581611872143,
          "year": 2013
         },
         {
          "log2": 5.812126718227928,
          "stat": "avg",
          "type": "Load",
          "value": 56.185529851598425,
          "year": 2013
         },
         {
          "log2": -0.26015189730067256,
          "stat": "max",
          "type": "Bio",
          "value": 0.835,
          "year": 2013
         },
         {
          "log2": 1.968643755964717,
          "stat": "max",
          "type": "Oil",
          "value": 3.914,
          "year": 2013
         },
         {
          "log2": 2.6473145095471358,
          "stat": "max",
          "type": "Coal",
          "value": 6.265,
          "year": 2013
         },
         {
          "log2": 1.86274892579353,
          "stat": "max",
          "type": "Pump",
          "value": 3.637,
          "year": 2013
         },
         {
          "log2": 1.560714954474479,
          "stat": "max",
          "type": "Solar",
          "value": 2.95,
          "year": 2013
         },
         {
          "log2": 2.3015876466031866,
          "stat": "max",
          "type": "Import",
          "value": 4.93,
          "year": 2013
         },
         {
          "log2": 3.0581432925122924,
          "stat": "max",
          "type": "Gas",
          "value": 8.329,
          "year": 2013
         },
         {
          "log2": 2.7073039082472756,
          "stat": "max",
          "type": "Wind",
          "value": 6.531,
          "year": 2013
         },
         {
          "log2": 3.722247417751847,
          "stat": "max",
          "type": "Export",
          "value": 13.198,
          "year": 2013
         },
         {
          "log2": 4.070818637533277,
          "stat": "max",
          "type": "Hydro",
          "value": 16.805,
          "year": 2013
         },
         {
          "log2": 5.885257092756531,
          "stat": "max",
          "type": "Nuclear",
          "value": 59.107,
          "year": 2013
         },
         {
          "log2": 6.533392033580457,
          "stat": "max",
          "type": "Load",
          "value": 92.629,
          "year": 2013
         },
         {
          "log2": -0.22211162269519122,
          "stat": "avg",
          "type": "Bio",
          "value": 0.8573097031963467,
          "year": 2014
         },
         {
          "log2": -1.8769476526441389,
          "stat": "avg",
          "type": "Oil",
          "value": 0.2722591324200942,
          "year": 2014
         },
         {
          "log2": -0.07508101355997322,
          "stat": "avg",
          "type": "Coal",
          "value": 0.9492888127853778,
          "year": 2014
         },
         {
          "log2": -0.1321410770685458,
          "stat": "avg",
          "type": "Pump",
          "value": 0.9124762557077692,
          "year": 2014
         },
         {
          "log2": -0.5901826812575697,
          "stat": "avg",
          "type": "Solar",
          "value": 0.6642587899543397,
          "year": 2014
         },
         {
          "log2": -9.323298976909346,
          "stat": "avg",
          "type": "Import",
          "value": 0.0015610159817351598,
          "year": 2014
         },
         {
          "log2": 0.7029094913589558,
          "stat": "avg",
          "type": "Gas",
          "value": 1.6277842465753343,
          "year": 2014
         },
         {
          "log2": 0.9615281467327618,
          "stat": "avg",
          "type": "Wind",
          "value": 1.9473715182648415,
          "year": 2014
         },
         {
          "log2": 2.9540712884000864,
          "stat": "avg",
          "type": "Export",
          "value": 7.749328424657529,
          "year": 2014
         },
         {
          "log2": 2.942894910634129,
          "stat": "avg",
          "type": "Hydro",
          "value": 7.689527283105045,
          "year": 2014
         },
         {
          "log2": 5.5677890085291,
          "stat": "avg",
          "type": "Nuclear",
          "value": 47.43200696347028,
          "year": 2014
         },
         {
          "log2": 5.721905755022298,
          "stat": "avg",
          "type": "Load",
          "value": 52.77949914383524,
          "year": 2014
         },
         {
          "log2": 0.06901467791518046,
          "stat": "max",
          "type": "Bio",
          "value": 1.049,
          "year": 2014
         },
         {
          "log2": 1.005759269288685,
          "stat": "max",
          "type": "Oil",
          "value": 2.008,
          "year": 2014
         },
         {
          "log2": 2.180147861158429,
          "stat": "max",
          "type": "Coal",
          "value": 4.532,
          "year": 2014
         },
         {
          "log2": 1.8539956471763932,
          "stat": "max",
          "type": "Pump",
          "value": 3.615,
          "year": 2014
         },
         {
          "log2": 1.8539956471763932,
          "stat": "max",
          "type": "Solar",
          "value": 3.615,
          "year": 2014
         },
         {
          "log2": 0.9553128034447055,
          "stat": "max",
          "type": "Import",
          "value": 1.939,
          "year": 2014
         },
         {
          "log2": 2.880881397237651,
          "stat": "max",
          "type": "Gas",
          "value": 7.366,
          "year": 2014
         },
         {
          "log2": 2.883425315907177,
          "stat": "max",
          "type": "Wind",
          "value": 7.379,
          "year": 2014
         },
         {
          "log2": 3.7947277666952597,
          "stat": "max",
          "type": "Export",
          "value": 13.878,
          "year": 2014
         },
         {
          "log2": 4.054414387917307,
          "stat": "max",
          "type": "Hydro",
          "value": 16.615,
          "year": 2014
         },
         {
          "log2": 5.9362139010064086,
          "stat": "max",
          "type": "Nuclear",
          "value": 61.232,
          "year": 2014
         },
         {
          "log2": 6.368192133643371,
          "stat": "max",
          "type": "Load",
          "value": 82.607,
          "year": 2014
         },
         {
          "log2": -0.14610221415897182,
          "stat": "avg",
          "type": "Bio",
          "value": 0.903688698630148,
          "year": 2015
         },
         {
          "log2": -1.7226812342976587,
          "stat": "avg",
          "type": "Oil",
          "value": 0.3029851027397236,
          "year": 2015
         },
         {
          "log2": -0.024927769644083102,
          "stat": "avg",
          "type": "Coal",
          "value": 0.982869805936101,
          "year": 2015
         },
         {
          "log2": -0.3460396726128119,
          "stat": "avg",
          "type": "Pump",
          "value": 0.7867408105022444,
          "year": 2015
         },
         {
          "log2": -0.265737840188435,
          "stat": "avg",
          "type": "Solar",
          "value": 0.8317732305935809,
          "year": 2015
         },
         {
          "log2": -9.12784104277106,
          "stat": "avg",
          "type": "Import",
          "value": 0.0017874999999999998,
          "year": 2015
         },
         {
          "log2": 1.3346232587590738,
          "stat": "avg",
          "type": "Gas",
          "value": 2.5220961187214916,
          "year": 2015
         },
         {
          "log2": 1.267848249992301,
          "stat": "avg",
          "type": "Wind",
          "value": 2.408021461187222,
          "year": 2015
         },
         {
          "log2": 2.882551634467401,
          "stat": "avg",
          "type": "Export",
          "value": 7.37453270547945,
          "year": 2015
         },
         {
          "log2": 2.739968398699168,
          "stat": "avg",
          "type": "Hydro",
          "value": 6.6805570205479095,
          "year": 2015
         },
         {
          "log2": 5.571083673293683,
          "stat": "avg",
          "type": "Nuclear",
          "value": 47.54045062785379,
          "year": 2015
         },
         {
          "log2": 5.755231511767753,
          "stat": "avg",
          "type": "Load",
          "value": 54.012877796803664,
          "year": 2015
         },
         {
          "log2": 0.21536797220347947,
          "stat": "max",
          "type": "Bio",
          "value": 1.161,
          "year": 2015
         },
         {
          "log2": 1.7782085763980877,
          "stat": "max",
          "type": "Oil",
          "value": 3.43,
          "year": 2015
         },
         {
          "log2": 1.8399595874895318,
          "stat": "max",
          "type": "Coal",
          "value": 3.58,
          "year": 2015
         },
         {
          "log2": 1.8491986517647032,
          "stat": "max",
          "type": "Pump",
          "value": 3.603,
          "year": 2015
         },
         {
          "log2": 2.127963378123582,
          "stat": "max",
          "type": "Solar",
          "value": 4.371,
          "year": 2015
         },
         {
          "log2": 1.1401242239090708,
          "stat": "max",
          "type": "Import",
          "value": 2.204,
          "year": 2015
         },
         {
          "log2": 3.0093471722592526,
          "stat": "max",
          "type": "Gas",
          "value": 8.052,
          "year": 2015
         },
         {
          "log2": 3.058489677877915,
          "stat": "max",
          "type": "Wind",
          "value": 8.331,
          "year": 2015
         },
         {
          "log2": 4.0146230951696324,
          "stat": "max",
          "type": "Export",
          "value": 16.163,
          "year": 2015
         },
         {
          "log2": 3.967998564113285,
          "stat": "max",
          "type": "Hydro",
          "value": 15.649,
          "year": 2015
         },
         {
          "log2": 5.947479145966675,
          "stat": "max",
          "type": "Nuclear",
          "value": 61.712,
          "year": 2015
         },
         {
          "log2": 6.5225266077605015,
          "stat": "max",
          "type": "Load",
          "value": 91.934,
          "year": 2015
         },
         {
          "log2": -0.011979259234493837,
          "stat": "avg",
          "type": "Bio",
          "value": 0.9917309881602933,
          "year": 2016
         },
         {
          "log2": -2.3503259125861287,
          "stat": "avg",
          "type": "Oil",
          "value": 0.196101719034603,
          "year": 2016
         },
         {
          "log2": -0.266546772260999,
          "stat": "avg",
          "type": "Coal",
          "value": 0.8313069785974607,
          "year": 2016
         },
         {
          "log2": -0.37952810896010253,
          "stat": "avg",
          "type": "Pump",
          "value": 0.7686889799635896,
          "year": 2016
         },
         {
          "log2": -0.08859297094395654,
          "stat": "avg",
          "type": "Solar",
          "value": 0.940439492258585,
          "year": 2016
         },
         {
          "log2": -1.8268606217514298,
          "stat": "avg",
          "type": "Import",
          "value": 0.28187733378870694,
          "year": 2016
         },
         {
          "log2": 2.0095146265954953,
          "stat": "avg",
          "type": "Gas",
          "value": 4.0264673269580955,
          "year": 2016
         },
         {
          "log2": 1.2517875463853592,
          "stat": "avg",
          "type": "Wind",
          "value": 2.381362989526424,
          "year": 2016
         },
         {
          "log2": 2.34849262717694,
          "stat": "avg",
          "type": "Export",
          "value": 5.092918488160295,
          "year": 2016
         },
         {
          "log2": 2.8506125052161937,
          "stat": "avg",
          "type": "Hydro",
          "value": 7.213065403005447,
          "year": 2016
         },
         {
          "log2": 5.448972868816236,
          "stat": "avg",
          "type": "Nuclear",
          "value": 43.68217748178515,
          "year": 2016
         },
         {
          "log2": 5.7729753135609645,
          "stat": "avg",
          "type": "Load",
          "value": 54.68128773907118,
          "year": 2016
         },
         {
          "log2": 0.33456827566613273,
          "stat": "max",
          "type": "Bio",
          "value": 1.261,
          "year": 2016
         },
         {
          "log2": 1.6125884066987175,
          "stat": "max",
          "type": "Oil",
          "value": 3.058,
          "year": 2016
         },
         {
          "log2": 1.488515008957812,
          "stat": "max",
          "type": "Coal",
          "value": 2.806,
          "year": 2016
         },
         {
          "log2": 1.7493197245740804,
          "stat": "max",
          "type": "Pump",
          "value": 3.362,
          "year": 2016
         },
         {
          "log2": 2.387086770015909,
          "stat": "max",
          "type": "Solar",
          "value": 5.231,
          "year": 2016
         },
         {
          "log2": 3.0820212693455025,
          "stat": "max",
          "type": "Import",
          "value": 8.468,
          "year": 2016
         },
         {
          "log2": 3.2485348361386785,
          "stat": "max",
          "type": "Gas",
          "value": 9.504,
          "year": 2016
         },
         {
          "log2": 3.112199689300664,
          "stat": "max",
          "type": "Wind",
          "value": 8.647,
          "year": 2016
         },
         {
          "log2": 4.020324398212567,
          "stat": "max",
          "type": "Export",
          "value": 16.227,
          "year": 2016
         },
         {
          "log2": 4.022634132145764,
          "stat": "max",
          "type": "Hydro",
          "value": 16.253,
          "year": 2016
         },
         {
          "log2": 5.893871821215822,
          "stat": "max",
          "type": "Nuclear",
          "value": 59.461,
          "year": 2016
         },
         {
          "log2": 6.471366322669757,
          "stat": "max",
          "type": "Load",
          "value": 88.731,
          "year": 2016
         },
         {
          "log2": 0.10764621826672242,
          "stat": "avg",
          "type": "Bio",
          "value": 1.07746889269406,
          "year": 2017
         },
         {
          "log2": -1.3324456414358212,
          "stat": "avg",
          "type": "Oil",
          "value": 0.397094520547947,
          "year": 2017
         },
         {
          "log2": 0.1522861204719251,
          "stat": "avg",
          "type": "Coal",
          "value": 1.1113291095890387,
          "year": 2017
         },
         {
          "log2": -0.29086278204830396,
          "stat": "avg",
          "type": "Pump",
          "value": 0.8174130707762784,
          "year": 2017
         },
         {
          "log2": 0.03797731456560675,
          "stat": "avg",
          "type": "Solar",
          "value": 1.026673401826414,
          "year": 2017
         },
         {
          "log2": -1.2681956292721188,
          "stat": "avg",
          "type": "Import",
          "value": 0.41517871004566304,
          "year": 2017
         },
         {
          "log2": 2.174340927293523,
          "stat": "avg",
          "type": "Gas",
          "value": 4.5137950913242,
          "year": 2017
         },
         {
          "log2": 1.4598851967650528,
          "stat": "avg",
          "type": "Wind",
          "value": 2.7508647260274004,
          "year": 2017
         },
         {
          "log2": 2.34855325974723,
          "stat": "avg",
          "type": "Export",
          "value": 5.093132534246612,
          "year": 2017
         },
         {
          "log2": 2.5973619969725124,
          "stat": "avg",
          "type": "Hydro",
          "value": 6.05179029680362,
          "year": 2017
         },
         {
          "log2": 5.434690060722978,
          "stat": "avg",
          "type": "Nuclear",
          "value": 43.251853710045815,
          "year": 2017
         },
         {
          "log2": 5.7730854429767,
          "stat": "avg",
          "type": "Load",
          "value": 54.68546204337916,
          "year": 2017
         },
         {
          "log2": 0.4478436443620855,
          "stat": "max",
          "type": "Bio",
          "value": 1.364,
          "year": 2017
         },
         {
          "log2": 2.0809986856942633,
          "stat": "max",
          "type": "Oil",
          "value": 4.231,
          "year": 2017
         },
         {
          "log2": 1.5612039207699202,
          "stat": "max",
          "type": "Coal",
          "value": 2.951,
          "year": 2017
         },
         {
          "log2": 1.8459917706645732,
          "stat": "max",
          "type": "Pump",
          "value": 3.595,
          "year": 2017
         },
         {
          "log2": 2.4667576157261712,
          "stat": "max",
          "type": "Solar",
          "value": 5.528,
          "year": 2017
         },
         {
          "log2": 3.3235141872413885,
          "stat": "max",
          "type": "Import",
          "value": 10.011,
          "year": 2017
         },
         {
          "log2": 3.2604773686534165,
          "stat": "max",
          "type": "Gas",
          "value": 9.583,
          "year": 2017
         },
         {
          "log2": 3.491724851070611,
          "stat": "max",
          "type": "Wind",
          "value": 11.249,
          "year": 2017
         },
         {
          "log2": 4.106850796450224,
          "stat": "max",
          "type": "Export",
          "value": 17.23,
          "year": 2017
         },
         {
          "log2": 3.9024595330425496,
          "stat": "max",
          "type": "Hydro",
          "value": 14.954,
          "year": 2017
         },
         {
          "log2": 5.829976373455363,
          "stat": "max",
          "type": "Nuclear",
          "value": 56.885,
          "year": 2017
         },
         {
          "log2": 6.558206397822323,
          "stat": "max",
          "type": "Load",
          "value": 94.236,
          "year": 2017
         },
         {
          "log2": 0.12396282177146306,
          "stat": "avg",
          "type": "Bio",
          "value": 1.0897240296803627,
          "year": 2018
         },
         {
          "log2": -2.0921484548149167,
          "stat": "avg",
          "type": "Oil",
          "value": 0.23453116438356092,
          "year": 2018
         },
         {
          "log2": -0.6075789352729576,
          "stat": "avg",
          "type": "Coal",
          "value": 0.6562971461187298,
          "year": 2018
         },
         {
          "log2": -0.24338230169764996,
          "stat": "avg",
          "type": "Pump",
          "value": 0.8447624999999994,
          "year": 2018
         },
         {
          "log2": 0.2727189524615572,
          "stat": "avg",
          "type": "Solar",
          "value": 1.2080824771688805,
          "year": 2018
         },
         {
          "log2": -3.196000773178091,
          "stat": "avg",
          "type": "Import",
          "value": 0.10912089041095904,
          "year": 2018
         },
         {
          "log2": 1.7851602082268385,
          "stat": "avg",
          "type": "Gas",
          "value": 3.446567351598163,
          "year": 2018
         },
         {
          "log2": 1.6831518580238158,
          "stat": "avg",
          "type": "Wind",
          "value": 3.211287557077641,
          "year": 2018
         },
         {
          "log2": 2.8843840184118323,
          "stat": "avg",
          "type": "Export",
          "value": 7.383905136986285,
          "year": 2018
         },
         {
          "log2": 2.943958148856133,
          "stat": "avg",
          "type": "Hydro",
          "value": 7.695196404109566,
          "year": 2018
         },
         {
          "log2": 5.487393960874129,
          "stat": "avg",
          "type": "Nuclear",
          "value": 44.86112705479438,
          "year": 2018
         },
         {
          "log2": 5.762434383967357,
          "stat": "avg",
          "type": "Load",
          "value": 54.28321952054751,
          "year": 2018
         },
         {
          "log2": 0.36289064266586035,
          "stat": "max",
          "type": "Bio",
          "value": 1.286,
          "year": 2018
         },
         {
          "log2": 1.3259619961718523,
          "stat": "max",
          "type": "Oil",
          "value": 2.507,
          "year": 2018
         },
         {
          "log2": 1.5513929680274543,
          "stat": "max",
          "type": "Coal",
          "value": 2.931,
          "year": 2018
         },
         {
          "log2": 1.8682916687727975,
          "stat": "max",
          "type": "Pump",
          "value": 3.651,
          "year": 2018
         },
         {
          "log2": 2.6848187375532224,
          "stat": "max",
          "type": "Solar",
          "value": 6.43,
          "year": 2018
         },
         {
          "log2": 3.259121806057679,
          "stat": "max",
          "type": "Import",
          "value": 9.574,
          "year": 2018
         },
         {
          "log2": 3.277984747299765,
          "stat": "max",
          "type": "Gas",
          "value": 9.7,
          "year": 2018
         },
         {
          "log2": 3.6190608044585253,
          "stat": "max",
          "type": "Wind",
          "value": 12.287,
          "year": 2018
         },
         {
          "log2": 4.051111035573034,
          "stat": "max",
          "type": "Export",
          "value": 16.577,
          "year": 2018
         },
         {
          "log2": 4.1238317095660175,
          "stat": "max",
          "type": "Hydro",
          "value": 17.434,
          "year": 2018
         },
         {
          "log2": 5.8738131983590876,
          "stat": "max",
          "type": "Nuclear",
          "value": 58.64,
          "year": 2018
         },
         {
          "log2": 6.589044356767767,
          "stat": "max",
          "type": "Load",
          "value": 96.272,
          "year": 2018
         }
        ]
       },
       "encoding": {
        "color": {
         "field": "year",
         "type": "ordinal"
        },
        "shape": {
         "field": "stat",
         "scale": {
          "domain": [
           "avg",
           "max"
          ],
          "range": [
           "circle",
           "triangle-up"
          ]
         },
         "type": "nominal"
        },
        "tooltip": [
         {
          "field": "year",
          "type": "quantitative"
         },
         {
          "field": "value",
          "type": "quantitative"
         }
        ],
        "x": {
         "axis": {
          "title": "log₂ Power (GW)"
         },
         "field": "log2",
         "scale": {
          "clamp": true,
          "domain": [
           -2,
           7
          ]
         },
         "type": "quantitative"
        },
        "y": {
         "field": "type",
         "sort": [
          "Load",
          "Nuclear",
          "Hydro",
          "Export",
          "Wind",
          "Gas",
          "Import",
          "Solar",
          "Pump",
          "Coal",
          "Oil",
          "Bio"
         ],
         "type": "nominal"
        }
       },
       "mark": "point",
       "selection": {
        "selector008": {
         "bind": "scales",
         "encodings": [
          "x",
          "y"
         ],
         "type": "interval"
        }
       }
      },
      "image/png": "[encoded data removed]",
      "text/plain": [
       "<VegaLite 3 object>\n",
       "\n",
       "If you see this message, it means the renderer has not been properly enabled\n",
       "for the frontend that you are using. For more information, see\n",
       "https://altair-viz.github.io/user_guide/troubleshooting.html\n"
      ]
     },
     "execution_count": 235,
     "metadata": {},
     "output_type": "execute_result"
    }
   ],
   "source": [
    "alt.Chart(stats_yl).mark_point().encode(\n",
    "    x=alt.X('log2', \n",
    "        scale = alt.Scale(\n",
    "            domain=(-2,7),\n",
    "            clamp=True # nice for interactive charts. otherwise, clip=True may be better\n",
    "        ),\n",
    "        axis=alt.Axis(title='log₂ Power (GW)')\n",
    "    ),\n",
    "    y=alt.Y('type', sort=sorted_types),\n",
    "    color='year:O',\n",
    "    shape=alt.Shape(\n",
    "        'stat', \n",
    "        scale=shape_scale\n",
    "    ),\n",
    "    tooltip=['year', 'value']\n",
    ").interactive()"
   ]
  },
  {
   "cell_type": "markdown",
   "metadata": {},
   "source": [
    "### All years - with interactive selection\n",
    "\n",
    "TODO: try a layerd chart so that the selected points are drawn **over** the others"
   ]
  },
  {
   "cell_type": "code",
   "execution_count": 244,
   "metadata": {},
   "outputs": [
    {
     "data": {
      "application/vnd.vegalite.v3+json": {
       "$schema": "https://vega.github.io/schema/vega-lite/v3.4.0.json",
       "config": {
        "mark": {
         "tooltip": null
        },
        "view": {
         "height": 300,
         "width": 400
        }
       },
       "data": {
        "name": "data-7a831517b55962d7905f31c6a5f73b7f"
       },
       "datasets": {
        "data-7a831517b55962d7905f31c6a5f73b7f": [
         {
          "log2": -0.5897849551170196,
          "stat": "avg",
          "type": "Bio",
          "value": 0.6644419398907098,
          "year": 2012
         },
         {
          "log2": -0.950856007990045,
          "stat": "avg",
          "type": "Oil",
          "value": 0.5173254212203923,
          "year": 2012
         },
         {
          "log2": 0.989930003002974,
          "stat": "avg",
          "type": "Coal",
          "value": 1.9860886270491867,
          "year": 2012
         },
         {
          "log2": -0.3886096874868811,
          "stat": "avg",
          "type": "Pump",
          "value": 0.7638653802368495,
          "year": 2012
         },
         {
          "log2": -1.2154195479949157,
          "stat": "avg",
          "type": "Solar",
          "value": 0.43064782559198567,
          "year": 2012
         },
         {
          "log2": -2.771054897466148,
          "stat": "avg",
          "type": "Import",
          "value": 0.1464972108378869,
          "year": 2012
         },
         {
          "log2": 1.5112707173843611,
          "stat": "avg",
          "type": "Gas",
          "value": 2.850610086520972,
          "year": 2012
         },
         {
          "log2": 0.7626251308147131,
          "stat": "avg",
          "type": "Wind",
          "value": 1.6965749089253217,
          "year": 2012
         },
         {
          "log2": 2.43309055098594,
          "stat": "avg",
          "type": "Export",
          "value": 5.400490892531877,
          "year": 2012
         },
         {
          "log2": 2.8506562228844663,
          "stat": "avg",
          "type": "Hydro",
          "value": 7.21328398224045,
          "year": 2012
         },
         {
          "log2": 5.525311700804918,
          "stat": "avg",
          "type": "Nuclear",
          "value": 46.05582405509997,
          "year": 2012
         },
         {
          "log2": 5.791734950074241,
          "stat": "avg",
          "type": "Load",
          "value": 55.396961805555414,
          "year": 2012
         },
         {
          "log2": -0.3237325917341102,
          "stat": "max",
          "type": "Bio",
          "value": 0.799,
          "year": 2012
         },
         {
          "log2": 2.5670586262991955,
          "stat": "max",
          "type": "Oil",
          "value": 5.926,
          "year": 2012
         },
         {
          "log2": 2.442545456105304,
          "stat": "max",
          "type": "Coal",
          "value": 5.436,
          "year": 2012
         },
         {
          "log2": 1.755314904045098,
          "stat": "max",
          "type": "Pump",
          "value": 3.376,
          "year": 2012
         },
         {
          "log2": 1.3155662303189486,
          "stat": "max",
          "type": "Solar",
          "value": 2.489,
          "year": 2012
         },
         {
          "log2": 3.2155232927657105,
          "stat": "max",
          "type": "Import",
          "value": 9.289,
          "year": 2012
         },
         {
          "log2": 3.108524456778169,
          "stat": "max",
          "type": "Gas",
          "value": 8.625,
          "year": 2012
         },
         {
          "log2": 2.631802754924129,
          "stat": "max",
          "type": "Wind",
          "value": 6.198,
          "year": 2012
         },
         {
          "log2": 3.764898122814709,
          "stat": "max",
          "type": "Export",
          "value": 13.594,
          "year": 2012
         },
         {
          "log2": 4.033863451866284,
          "stat": "max",
          "type": "Hydro",
          "value": 16.38,
          "year": 2012
         },
         {
          "log2": 5.9262604088530395,
          "stat": "max",
          "type": "Nuclear",
          "value": 60.811,
          "year": 2012
         },
         {
          "log2": 6.673810795281893,
          "stat": "max",
          "type": "Load",
          "value": 102.098,
          "year": 2012
         },
         {
          "log2": -0.498237005740725,
          "stat": "avg",
          "type": "Bio",
          "value": 0.7079714041095969,
          "year": 2013
         },
         {
          "log2": -1.1395233101320608,
          "stat": "avg",
          "type": "Oil",
          "value": 0.45390953196347467,
          "year": 2013
         },
         {
          "log2": 1.1710855344067048,
          "stat": "avg",
          "type": "Coal",
          "value": 2.2518106735159784,
          "year": 2013
         },
         {
          "log2": -0.28390139417822513,
          "stat": "avg",
          "type": "Pump",
          "value": 0.8213668378995419,
          "year": 2013
         },
         {
          "log2": -0.9461722957452768,
          "stat": "avg",
          "type": "Solar",
          "value": 0.5190076484018286,
          "year": 2013
         },
         {
          "log2": -3.5065548012208914,
          "stat": "avg",
          "type": "Import",
          "value": 0.08798767123287676,
          "year": 2013
         },
         {
          "log2": 1.1907959550637774,
          "stat": "avg",
          "type": "Gas",
          "value": 2.2827865296803282,
          "year": 2013
         },
         {
          "log2": 0.8611430968352228,
          "stat": "avg",
          "type": "Wind",
          "value": 1.8164769977169044,
          "year": 2013
         },
         {
          "log2": 2.5096635395371925,
          "stat": "avg",
          "type": "Export",
          "value": 5.694872488584459,
          "year": 2013
         },
         {
          "log2": 3.0911471095558833,
          "stat": "avg",
          "type": "Hydro",
          "value": 8.521734531963423,
          "year": 2013
         },
         {
          "log2": 5.525384909425805,
          "stat": "avg",
          "type": "Nuclear",
          "value": 46.0581611872143,
          "year": 2013
         },
         {
          "log2": 5.812126718227928,
          "stat": "avg",
          "type": "Load",
          "value": 56.185529851598425,
          "year": 2013
         },
         {
          "log2": -0.26015189730067256,
          "stat": "max",
          "type": "Bio",
          "value": 0.835,
          "year": 2013
         },
         {
          "log2": 1.968643755964717,
          "stat": "max",
          "type": "Oil",
          "value": 3.914,
          "year": 2013
         },
         {
          "log2": 2.6473145095471358,
          "stat": "max",
          "type": "Coal",
          "value": 6.265,
          "year": 2013
         },
         {
          "log2": 1.86274892579353,
          "stat": "max",
          "type": "Pump",
          "value": 3.637,
          "year": 2013
         },
         {
          "log2": 1.560714954474479,
          "stat": "max",
          "type": "Solar",
          "value": 2.95,
          "year": 2013
         },
         {
          "log2": 2.3015876466031866,
          "stat": "max",
          "type": "Import",
          "value": 4.93,
          "year": 2013
         },
         {
          "log2": 3.0581432925122924,
          "stat": "max",
          "type": "Gas",
          "value": 8.329,
          "year": 2013
         },
         {
          "log2": 2.7073039082472756,
          "stat": "max",
          "type": "Wind",
          "value": 6.531,
          "year": 2013
         },
         {
          "log2": 3.722247417751847,
          "stat": "max",
          "type": "Export",
          "value": 13.198,
          "year": 2013
         },
         {
          "log2": 4.070818637533277,
          "stat": "max",
          "type": "Hydro",
          "value": 16.805,
          "year": 2013
         },
         {
          "log2": 5.885257092756531,
          "stat": "max",
          "type": "Nuclear",
          "value": 59.107,
          "year": 2013
         },
         {
          "log2": 6.533392033580457,
          "stat": "max",
          "type": "Load",
          "value": 92.629,
          "year": 2013
         },
         {
          "log2": -0.22211162269519122,
          "stat": "avg",
          "type": "Bio",
          "value": 0.8573097031963467,
          "year": 2014
         },
         {
          "log2": -1.8769476526441389,
          "stat": "avg",
          "type": "Oil",
          "value": 0.2722591324200942,
          "year": 2014
         },
         {
          "log2": -0.07508101355997322,
          "stat": "avg",
          "type": "Coal",
          "value": 0.9492888127853778,
          "year": 2014
         },
         {
          "log2": -0.1321410770685458,
          "stat": "avg",
          "type": "Pump",
          "value": 0.9124762557077692,
          "year": 2014
         },
         {
          "log2": -0.5901826812575697,
          "stat": "avg",
          "type": "Solar",
          "value": 0.6642587899543397,
          "year": 2014
         },
         {
          "log2": -9.323298976909346,
          "stat": "avg",
          "type": "Import",
          "value": 0.0015610159817351598,
          "year": 2014
         },
         {
          "log2": 0.7029094913589558,
          "stat": "avg",
          "type": "Gas",
          "value": 1.6277842465753343,
          "year": 2014
         },
         {
          "log2": 0.9615281467327618,
          "stat": "avg",
          "type": "Wind",
          "value": 1.9473715182648415,
          "year": 2014
         },
         {
          "log2": 2.9540712884000864,
          "stat": "avg",
          "type": "Export",
          "value": 7.749328424657529,
          "year": 2014
         },
         {
          "log2": 2.942894910634129,
          "stat": "avg",
          "type": "Hydro",
          "value": 7.689527283105045,
          "year": 2014
         },
         {
          "log2": 5.5677890085291,
          "stat": "avg",
          "type": "Nuclear",
          "value": 47.43200696347028,
          "year": 2014
         },
         {
          "log2": 5.721905755022298,
          "stat": "avg",
          "type": "Load",
          "value": 52.77949914383524,
          "year": 2014
         },
         {
          "log2": 0.06901467791518046,
          "stat": "max",
          "type": "Bio",
          "value": 1.049,
          "year": 2014
         },
         {
          "log2": 1.005759269288685,
          "stat": "max",
          "type": "Oil",
          "value": 2.008,
          "year": 2014
         },
         {
          "log2": 2.180147861158429,
          "stat": "max",
          "type": "Coal",
          "value": 4.532,
          "year": 2014
         },
         {
          "log2": 1.8539956471763932,
          "stat": "max",
          "type": "Pump",
          "value": 3.615,
          "year": 2014
         },
         {
          "log2": 1.8539956471763932,
          "stat": "max",
          "type": "Solar",
          "value": 3.615,
          "year": 2014
         },
         {
          "log2": 0.9553128034447055,
          "stat": "max",
          "type": "Import",
          "value": 1.939,
          "year": 2014
         },
         {
          "log2": 2.880881397237651,
          "stat": "max",
          "type": "Gas",
          "value": 7.366,
          "year": 2014
         },
         {
          "log2": 2.883425315907177,
          "stat": "max",
          "type": "Wind",
          "value": 7.379,
          "year": 2014
         },
         {
          "log2": 3.7947277666952597,
          "stat": "max",
          "type": "Export",
          "value": 13.878,
          "year": 2014
         },
         {
          "log2": 4.054414387917307,
          "stat": "max",
          "type": "Hydro",
          "value": 16.615,
          "year": 2014
         },
         {
          "log2": 5.9362139010064086,
          "stat": "max",
          "type": "Nuclear",
          "value": 61.232,
          "year": 2014
         },
         {
          "log2": 6.368192133643371,
          "stat": "max",
          "type": "Load",
          "value": 82.607,
          "year": 2014
         },
         {
          "log2": -0.14610221415897182,
          "stat": "avg",
          "type": "Bio",
          "value": 0.903688698630148,
          "year": 2015
         },
         {
          "log2": -1.7226812342976587,
          "stat": "avg",
          "type": "Oil",
          "value": 0.3029851027397236,
          "year": 2015
         },
         {
          "log2": -0.024927769644083102,
          "stat": "avg",
          "type": "Coal",
          "value": 0.982869805936101,
          "year": 2015
         },
         {
          "log2": -0.3460396726128119,
          "stat": "avg",
          "type": "Pump",
          "value": 0.7867408105022444,
          "year": 2015
         },
         {
          "log2": -0.265737840188435,
          "stat": "avg",
          "type": "Solar",
          "value": 0.8317732305935809,
          "year": 2015
         },
         {
          "log2": -9.12784104277106,
          "stat": "avg",
          "type": "Import",
          "value": 0.0017874999999999998,
          "year": 2015
         },
         {
          "log2": 1.3346232587590738,
          "stat": "avg",
          "type": "Gas",
          "value": 2.5220961187214916,
          "year": 2015
         },
         {
          "log2": 1.267848249992301,
          "stat": "avg",
          "type": "Wind",
          "value": 2.408021461187222,
          "year": 2015
         },
         {
          "log2": 2.882551634467401,
          "stat": "avg",
          "type": "Export",
          "value": 7.37453270547945,
          "year": 2015
         },
         {
          "log2": 2.739968398699168,
          "stat": "avg",
          "type": "Hydro",
          "value": 6.6805570205479095,
          "year": 2015
         },
         {
          "log2": 5.571083673293683,
          "stat": "avg",
          "type": "Nuclear",
          "value": 47.54045062785379,
          "year": 2015
         },
         {
          "log2": 5.755231511767753,
          "stat": "avg",
          "type": "Load",
          "value": 54.012877796803664,
          "year": 2015
         },
         {
          "log2": 0.21536797220347947,
          "stat": "max",
          "type": "Bio",
          "value": 1.161,
          "year": 2015
         },
         {
          "log2": 1.7782085763980877,
          "stat": "max",
          "type": "Oil",
          "value": 3.43,
          "year": 2015
         },
         {
          "log2": 1.8399595874895318,
          "stat": "max",
          "type": "Coal",
          "value": 3.58,
          "year": 2015
         },
         {
          "log2": 1.8491986517647032,
          "stat": "max",
          "type": "Pump",
          "value": 3.603,
          "year": 2015
         },
         {
          "log2": 2.127963378123582,
          "stat": "max",
          "type": "Solar",
          "value": 4.371,
          "year": 2015
         },
         {
          "log2": 1.1401242239090708,
          "stat": "max",
          "type": "Import",
          "value": 2.204,
          "year": 2015
         },
         {
          "log2": 3.0093471722592526,
          "stat": "max",
          "type": "Gas",
          "value": 8.052,
          "year": 2015
         },
         {
          "log2": 3.058489677877915,
          "stat": "max",
          "type": "Wind",
          "value": 8.331,
          "year": 2015
         },
         {
          "log2": 4.0146230951696324,
          "stat": "max",
          "type": "Export",
          "value": 16.163,
          "year": 2015
         },
         {
          "log2": 3.967998564113285,
          "stat": "max",
          "type": "Hydro",
          "value": 15.649,
          "year": 2015
         },
         {
          "log2": 5.947479145966675,
          "stat": "max",
          "type": "Nuclear",
          "value": 61.712,
          "year": 2015
         },
         {
          "log2": 6.5225266077605015,
          "stat": "max",
          "type": "Load",
          "value": 91.934,
          "year": 2015
         },
         {
          "log2": -0.011979259234493837,
          "stat": "avg",
          "type": "Bio",
          "value": 0.9917309881602933,
          "year": 2016
         },
         {
          "log2": -2.3503259125861287,
          "stat": "avg",
          "type": "Oil",
          "value": 0.196101719034603,
          "year": 2016
         },
         {
          "log2": -0.266546772260999,
          "stat": "avg",
          "type": "Coal",
          "value": 0.8313069785974607,
          "year": 2016
         },
         {
          "log2": -0.37952810896010253,
          "stat": "avg",
          "type": "Pump",
          "value": 0.7686889799635896,
          "year": 2016
         },
         {
          "log2": -0.08859297094395654,
          "stat": "avg",
          "type": "Solar",
          "value": 0.940439492258585,
          "year": 2016
         },
         {
          "log2": -1.8268606217514298,
          "stat": "avg",
          "type": "Import",
          "value": 0.28187733378870694,
          "year": 2016
         },
         {
          "log2": 2.0095146265954953,
          "stat": "avg",
          "type": "Gas",
          "value": 4.0264673269580955,
          "year": 2016
         },
         {
          "log2": 1.2517875463853592,
          "stat": "avg",
          "type": "Wind",
          "value": 2.381362989526424,
          "year": 2016
         },
         {
          "log2": 2.34849262717694,
          "stat": "avg",
          "type": "Export",
          "value": 5.092918488160295,
          "year": 2016
         },
         {
          "log2": 2.8506125052161937,
          "stat": "avg",
          "type": "Hydro",
          "value": 7.213065403005447,
          "year": 2016
         },
         {
          "log2": 5.448972868816236,
          "stat": "avg",
          "type": "Nuclear",
          "value": 43.68217748178515,
          "year": 2016
         },
         {
          "log2": 5.7729753135609645,
          "stat": "avg",
          "type": "Load",
          "value": 54.68128773907118,
          "year": 2016
         },
         {
          "log2": 0.33456827566613273,
          "stat": "max",
          "type": "Bio",
          "value": 1.261,
          "year": 2016
         },
         {
          "log2": 1.6125884066987175,
          "stat": "max",
          "type": "Oil",
          "value": 3.058,
          "year": 2016
         },
         {
          "log2": 1.488515008957812,
          "stat": "max",
          "type": "Coal",
          "value": 2.806,
          "year": 2016
         },
         {
          "log2": 1.7493197245740804,
          "stat": "max",
          "type": "Pump",
          "value": 3.362,
          "year": 2016
         },
         {
          "log2": 2.387086770015909,
          "stat": "max",
          "type": "Solar",
          "value": 5.231,
          "year": 2016
         },
         {
          "log2": 3.0820212693455025,
          "stat": "max",
          "type": "Import",
          "value": 8.468,
          "year": 2016
         },
         {
          "log2": 3.2485348361386785,
          "stat": "max",
          "type": "Gas",
          "value": 9.504,
          "year": 2016
         },
         {
          "log2": 3.112199689300664,
          "stat": "max",
          "type": "Wind",
          "value": 8.647,
          "year": 2016
         },
         {
          "log2": 4.020324398212567,
          "stat": "max",
          "type": "Export",
          "value": 16.227,
          "year": 2016
         },
         {
          "log2": 4.022634132145764,
          "stat": "max",
          "type": "Hydro",
          "value": 16.253,
          "year": 2016
         },
         {
          "log2": 5.893871821215822,
          "stat": "max",
          "type": "Nuclear",
          "value": 59.461,
          "year": 2016
         },
         {
          "log2": 6.471366322669757,
          "stat": "max",
          "type": "Load",
          "value": 88.731,
          "year": 2016
         },
         {
          "log2": 0.10764621826672242,
          "stat": "avg",
          "type": "Bio",
          "value": 1.07746889269406,
          "year": 2017
         },
         {
          "log2": -1.3324456414358212,
          "stat": "avg",
          "type": "Oil",
          "value": 0.397094520547947,
          "year": 2017
         },
         {
          "log2": 0.1522861204719251,
          "stat": "avg",
          "type": "Coal",
          "value": 1.1113291095890387,
          "year": 2017
         },
         {
          "log2": -0.29086278204830396,
          "stat": "avg",
          "type": "Pump",
          "value": 0.8174130707762784,
          "year": 2017
         },
         {
          "log2": 0.03797731456560675,
          "stat": "avg",
          "type": "Solar",
          "value": 1.026673401826414,
          "year": 2017
         },
         {
          "log2": -1.2681956292721188,
          "stat": "avg",
          "type": "Import",
          "value": 0.41517871004566304,
          "year": 2017
         },
         {
          "log2": 2.174340927293523,
          "stat": "avg",
          "type": "Gas",
          "value": 4.5137950913242,
          "year": 2017
         },
         {
          "log2": 1.4598851967650528,
          "stat": "avg",
          "type": "Wind",
          "value": 2.7508647260274004,
          "year": 2017
         },
         {
          "log2": 2.34855325974723,
          "stat": "avg",
          "type": "Export",
          "value": 5.093132534246612,
          "year": 2017
         },
         {
          "log2": 2.5973619969725124,
          "stat": "avg",
          "type": "Hydro",
          "value": 6.05179029680362,
          "year": 2017
         },
         {
          "log2": 5.434690060722978,
          "stat": "avg",
          "type": "Nuclear",
          "value": 43.251853710045815,
          "year": 2017
         },
         {
          "log2": 5.7730854429767,
          "stat": "avg",
          "type": "Load",
          "value": 54.68546204337916,
          "year": 2017
         },
         {
          "log2": 0.4478436443620855,
          "stat": "max",
          "type": "Bio",
          "value": 1.364,
          "year": 2017
         },
         {
          "log2": 2.0809986856942633,
          "stat": "max",
          "type": "Oil",
          "value": 4.231,
          "year": 2017
         },
         {
          "log2": 1.5612039207699202,
          "stat": "max",
          "type": "Coal",
          "value": 2.951,
          "year": 2017
         },
         {
          "log2": 1.8459917706645732,
          "stat": "max",
          "type": "Pump",
          "value": 3.595,
          "year": 2017
         },
         {
          "log2": 2.4667576157261712,
          "stat": "max",
          "type": "Solar",
          "value": 5.528,
          "year": 2017
         },
         {
          "log2": 3.3235141872413885,
          "stat": "max",
          "type": "Import",
          "value": 10.011,
          "year": 2017
         },
         {
          "log2": 3.2604773686534165,
          "stat": "max",
          "type": "Gas",
          "value": 9.583,
          "year": 2017
         },
         {
          "log2": 3.491724851070611,
          "stat": "max",
          "type": "Wind",
          "value": 11.249,
          "year": 2017
         },
         {
          "log2": 4.106850796450224,
          "stat": "max",
          "type": "Export",
          "value": 17.23,
          "year": 2017
         },
         {
          "log2": 3.9024595330425496,
          "stat": "max",
          "type": "Hydro",
          "value": 14.954,
          "year": 2017
         },
         {
          "log2": 5.829976373455363,
          "stat": "max",
          "type": "Nuclear",
          "value": 56.885,
          "year": 2017
         },
         {
          "log2": 6.558206397822323,
          "stat": "max",
          "type": "Load",
          "value": 94.236,
          "year": 2017
         },
         {
          "log2": 0.12396282177146306,
          "stat": "avg",
          "type": "Bio",
          "value": 1.0897240296803627,
          "year": 2018
         },
         {
          "log2": -2.0921484548149167,
          "stat": "avg",
          "type": "Oil",
          "value": 0.23453116438356092,
          "year": 2018
         },
         {
          "log2": -0.6075789352729576,
          "stat": "avg",
          "type": "Coal",
          "value": 0.6562971461187298,
          "year": 2018
         },
         {
          "log2": -0.24338230169764996,
          "stat": "avg",
          "type": "Pump",
          "value": 0.8447624999999994,
          "year": 2018
         },
         {
          "log2": 0.2727189524615572,
          "stat": "avg",
          "type": "Solar",
          "value": 1.2080824771688805,
          "year": 2018
         },
         {
          "log2": -3.196000773178091,
          "stat": "avg",
          "type": "Import",
          "value": 0.10912089041095904,
          "year": 2018
         },
         {
          "log2": 1.7851602082268385,
          "stat": "avg",
          "type": "Gas",
          "value": 3.446567351598163,
          "year": 2018
         },
         {
          "log2": 1.6831518580238158,
          "stat": "avg",
          "type": "Wind",
          "value": 3.211287557077641,
          "year": 2018
         },
         {
          "log2": 2.8843840184118323,
          "stat": "avg",
          "type": "Export",
          "value": 7.383905136986285,
          "year": 2018
         },
         {
          "log2": 2.943958148856133,
          "stat": "avg",
          "type": "Hydro",
          "value": 7.695196404109566,
          "year": 2018
         },
         {
          "log2": 5.487393960874129,
          "stat": "avg",
          "type": "Nuclear",
          "value": 44.86112705479438,
          "year": 2018
         },
         {
          "log2": 5.762434383967357,
          "stat": "avg",
          "type": "Load",
          "value": 54.28321952054751,
          "year": 2018
         },
         {
          "log2": 0.36289064266586035,
          "stat": "max",
          "type": "Bio",
          "value": 1.286,
          "year": 2018
         },
         {
          "log2": 1.3259619961718523,
          "stat": "max",
          "type": "Oil",
          "value": 2.507,
          "year": 2018
         },
         {
          "log2": 1.5513929680274543,
          "stat": "max",
          "type": "Coal",
          "value": 2.931,
          "year": 2018
         },
         {
          "log2": 1.8682916687727975,
          "stat": "max",
          "type": "Pump",
          "value": 3.651,
          "year": 2018
         },
         {
          "log2": 2.6848187375532224,
          "stat": "max",
          "type": "Solar",
          "value": 6.43,
          "year": 2018
         },
         {
          "log2": 3.259121806057679,
          "stat": "max",
          "type": "Import",
          "value": 9.574,
          "year": 2018
         },
         {
          "log2": 3.277984747299765,
          "stat": "max",
          "type": "Gas",
          "value": 9.7,
          "year": 2018
         },
         {
          "log2": 3.6190608044585253,
          "stat": "max",
          "type": "Wind",
          "value": 12.287,
          "year": 2018
         },
         {
          "log2": 4.051111035573034,
          "stat": "max",
          "type": "Export",
          "value": 16.577,
          "year": 2018
         },
         {
          "log2": 4.1238317095660175,
          "stat": "max",
          "type": "Hydro",
          "value": 17.434,
          "year": 2018
         },
         {
          "log2": 5.8738131983590876,
          "stat": "max",
          "type": "Nuclear",
          "value": 58.64,
          "year": 2018
         },
         {
          "log2": 6.589044356767767,
          "stat": "max",
          "type": "Load",
          "value": 96.272,
          "year": 2018
         }
        ]
       },
       "vconcat": [
        {
         "encoding": {
          "fill": {
           "condition": {
            "field": "stat",
            "scale": {
             "domain": [
              "avg",
              "max"
             ],
             "range": [
              "#1f77b4",
              "#d62728"
             ]
            },
            "selection": "selector021",
            "type": "nominal"
           },
           "value": "lightgray"
          },
          "fillOpacity": {
           "condition": {
            "selection": "selector021",
            "value": 1
           },
           "value": 0
          },
          "opacity": {
           "condition": {
            "selection": "selector021",
            "value": 1
           },
           "value": 0.7
          },
          "shape": {
           "field": "stat",
           "scale": {
            "domain": [
             "avg",
             "max"
            ],
            "range": [
             "circle",
             "triangle-up"
            ]
           },
           "type": "nominal"
          },
          "size": {
           "condition": {
            "selection": "selector021",
            "value": 50
           },
           "value": 25
          },
          "stroke": {
           "condition": {
            "field": "stat",
            "scale": {
             "domain": [
              "avg",
              "max"
             ],
             "range": [
              "#1f77b4",
              "#d62728"
             ]
            },
            "selection": "selector021",
            "type": "nominal"
           },
           "value": "lightgray"
          },
          "tooltip": [
           {
            "field": "year",
            "type": "quantitative"
           },
           {
            "field": "value",
            "type": "quantitative"
           }
          ],
          "x": {
           "axis": {
            "title": "log₂ Power (GW)"
           },
           "field": "log2",
           "scale": {
            "clamp": true,
            "domain": [
             -2,
             7
            ]
           },
           "type": "quantitative"
          },
          "y": {
           "field": "type",
           "sort": [
            "Load",
            "Nuclear",
            "Hydro",
            "Export",
            "Wind",
            "Gas",
            "Import",
            "Solar",
            "Pump",
            "Coal",
            "Oil",
            "Bio"
           ],
           "type": "nominal"
          }
         },
         "mark": "point",
         "selection": {
          "selector021": {
           "empty": "none",
           "fields": [
            "year"
           ],
           "nearest": true,
           "on": "mouseover",
           "type": "single"
          },
          "selector022": {
           "bind": "scales",
           "encodings": [
            "x",
            "y"
           ],
           "type": "interval"
          }
         },
         "title": "French power system data for 2012 – 2018 (RTE éCO₂mix)",
         "width": 400
        },
        {
         "encoding": {
          "color": {
           "condition": {
            "selection": "selector021",
            "value": "green"
           },
           "value": "lightgray"
          },
          "x": {
           "field": "year",
           "type": "ordinal"
          }
         },
         "mark": {
          "filled": true,
          "size": 100,
          "type": "point"
         },
         "selection": {
          "selector021": {
           "empty": "none",
           "fields": [
            "year"
           ],
           "nearest": true,
           "on": "mouseover",
           "type": "single"
          }
         },
         "width": 400
        }
       ]
      },
      "image/png": "[encoded data removed]",
      "text/plain": [
       "<VegaLite 3 object>\n",
       "\n",
       "If you see this message, it means the renderer has not been properly enabled\n",
       "for the frontend that you are using. For more information, see\n",
       "https://altair-viz.github.io/user_guide/troubleshooting.html\n"
      ]
     },
     "execution_count": 244,
     "metadata": {},
     "output_type": "execute_result"
    }
   ],
   "source": [
    "selector = alt.selection_single(\n",
    "    fields=['year'],\n",
    "    empty='none',\n",
    "    on='mouseover',\n",
    "    nearest=True\n",
    ")\n",
    "\n",
    "base = alt.Chart(stats_yl).properties(\n",
    "    width=400,\n",
    ").add_selection(selector)\n",
    "\n",
    "# The Dot plot\n",
    "values  = base.mark_point().encode(\n",
    "    x=alt.X('log2', \n",
    "        scale = alt.Scale(\n",
    "            domain=(-2,7),\n",
    "            clamp=True # nice for interactive charts. otherwise, clip=True may be better\n",
    "        ),\n",
    "        axis=alt.Axis(title='log₂ Power (GW)')\n",
    "    ),\n",
    "    y=alt.Y('type', sort=sorted_types),\n",
    "    shape=alt.Shape(\n",
    "        'stat', \n",
    "        scale=shape_scale\n",
    "    ),\n",
    "    # Make color, size, etc... interactive\n",
    "    fill=alt.condition(\n",
    "        selector,\n",
    "        alt.Color('stat:N',scale=color_scale),\n",
    "        alt.value('lightgray')\n",
    "    ),\n",
    "    stroke=alt.condition(\n",
    "        selector,\n",
    "        alt.Color('stat:N',scale=color_scale),\n",
    "        alt.value('lightgray')\n",
    "    ),\n",
    "    fillOpacity=alt.condition(selector,\n",
    "                        alt.value(1),\n",
    "                        alt.value(0)),\n",
    "    opacity=alt.condition(selector,\n",
    "                        alt.value(1),\n",
    "                        alt.value(0.7)),\n",
    "    size=alt.condition(selector,\n",
    "                       alt.value(50),\n",
    "                       alt.value(25)),\n",
    "    tooltip=['year', 'value']\n",
    ").properties(\n",
    "    title='French power system data for 2012 – 2018 (RTE éCO₂mix)'\n",
    ").interactive()\n",
    "\n",
    "# Year selector\n",
    "years = base.mark_point(filled=True, size=100).encode(\n",
    "    x='year:O',\n",
    "    color=alt.condition(selector,\n",
    "                        alt.value('green'),\n",
    "                        alt.value('lightgray')),\n",
    ")\n",
    "\n",
    "chart = values & years\n",
    "chart"
   ]
  },
  {
   "cell_type": "code",
   "execution_count": 245,
   "metadata": {},
   "outputs": [],
   "source": [
    "chart.save('Dotplot_Powersys_interactive.html')\n",
    "chart.save('Dotplot_Powersys_interactive.json')"
   ]
  }
 ],
 "metadata": {
  "kernelspec": {
   "display_name": "Python 3",
   "language": "python",
   "name": "python3"
  },
  "language_info": {
   "codemirror_mode": {
    "name": "ipython",
    "version": 3
   },
   "file_extension": ".py",
   "mimetype": "text/x-python",
   "name": "python",
   "nbconvert_exporter": "python",
   "pygments_lexer": "ipython3",
   "version": "3.7.4"
  },
  "toc-autonumbering": false,
  "toc-showtags": false
 },
 "nbformat": 4,
 "nbformat_minor": 4
}
