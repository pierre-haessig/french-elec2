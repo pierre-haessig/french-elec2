{
 "cells": [
  {
   "cell_type": "markdown",
   "metadata": {},
   "source": [
    "# Étude de la complémentarité Conso-Éolien-PV\n",
    "\n",
    "Voici une question proche, qui m'a déjà interpellée, et pour laquelle je n'ai pas encore cherché de réponse : il y a une corrélation positive entre la production éolienne et la consommation elec française (toutes deux plus fortes en hiver).\n",
    "Cependant, comme tu l'as remarqué, en cas d'anticyclone hivernal, on a une chute de la prod éolienne. C'est le cette semaine, mais aussi lors des vagues de grand froid. Ainsi, localement, l'éolien et la consommation seraient corrélées négativement.\n",
    "On arrive alors à la question : lors de ces anticyclones, y a-t-il toujours une augmentation de la production solaire (qui compenserait la chute de l'éolien). Autrement dit, y a-t-il une corrélation négative en hiver entre éolien et solaire ?\n",
    "(Il faut préciser \"en hiver\", car sur l'année entière, la corrélation négative est évidente)\n",
    "\n",
    "Recherche rapide de la production de ces derniers jours, avec 3 cas de figure : ce mercredi vent - et PV +. On a aussi l'inverse (tempête et nuages). Et enfin le cas plus embêtant : peu d'éolien et solaire assez moyen. Il faudrait quantifier tout ça.\n",
    "\n",
    "PH, 28 fév 2019\n",
    "\n",
    "![Screenshot RTE eCO2mix](Screenshot_RTE_eCO2mix.png)"
   ]
  },
  {
   "cell_type": "code",
   "execution_count": 1,
   "metadata": {},
   "outputs": [],
   "source": [
    "import matplotlib.pyplot as plt\n",
    "%matplotlib inline"
   ]
  },
  {
   "cell_type": "code",
   "execution_count": 2,
   "metadata": {},
   "outputs": [],
   "source": [
    "import pandas as pd"
   ]
  },
  {
   "cell_type": "code",
   "execution_count": 4,
   "metadata": {},
   "outputs": [
    {
     "data": {
      "text/html": [
       "<div>\n",
       "<style scoped>\n",
       "    .dataframe tbody tr th:only-of-type {\n",
       "        vertical-align: middle;\n",
       "    }\n",
       "\n",
       "    .dataframe tbody tr th {\n",
       "        vertical-align: top;\n",
       "    }\n",
       "\n",
       "    .dataframe thead th {\n",
       "        text-align: right;\n",
       "    }\n",
       "</style>\n",
       "<table border=\"1\" class=\"dataframe\">\n",
       "  <thead>\n",
       "    <tr style=\"text-align: right;\">\n",
       "      <th></th>\n",
       "      <th>P_wind</th>\n",
       "      <th>P_sol</th>\n",
       "    </tr>\n",
       "  </thead>\n",
       "  <tbody>\n",
       "    <tr>\n",
       "      <th>2001</th>\n",
       "      <td>94.0</td>\n",
       "      <td>0.0</td>\n",
       "    </tr>\n",
       "    <tr>\n",
       "      <th>2002</th>\n",
       "      <td>129.0</td>\n",
       "      <td>0.0</td>\n",
       "    </tr>\n",
       "    <tr>\n",
       "      <th>2003</th>\n",
       "      <td>219.0</td>\n",
       "      <td>0.0</td>\n",
       "    </tr>\n",
       "  </tbody>\n",
       "</table>\n",
       "</div>"
      ],
      "text/plain": [
       "      P_wind  P_sol\n",
       "2001    94.0    0.0\n",
       "2002   129.0    0.0\n",
       "2003   219.0    0.0"
      ]
     },
     "execution_count": 4,
     "metadata": {},
     "output_type": "execute_result"
    }
   ],
   "source": [
    "df = pd.read_csv('parc-national-annuel-prod-eolien-solaire.csv', sep=';', index_col=0)\n",
    "df.index.name = None\n",
    "df.rename(columns={'Parc installé éolien (MW)':'P_wind', 'Parc installé solaire (MW)': 'P_sol'}, inplace=True)\n",
    "df.sort_index(inplace=True)\n",
    "df.head(3)\n"
   ]
  },
  {
   "cell_type": "code",
   "execution_count": 5,
   "metadata": {},
   "outputs": [
    {
     "data": {
      "text/html": [
       "<div>\n",
       "<style scoped>\n",
       "    .dataframe tbody tr th:only-of-type {\n",
       "        vertical-align: middle;\n",
       "    }\n",
       "\n",
       "    .dataframe tbody tr th {\n",
       "        vertical-align: top;\n",
       "    }\n",
       "\n",
       "    .dataframe thead th {\n",
       "        text-align: right;\n",
       "    }\n",
       "</style>\n",
       "<table border=\"1\" class=\"dataframe\">\n",
       "  <thead>\n",
       "    <tr style=\"text-align: right;\">\n",
       "      <th></th>\n",
       "      <th>P_wind</th>\n",
       "      <th>P_sol</th>\n",
       "    </tr>\n",
       "  </thead>\n",
       "  <tbody>\n",
       "    <tr>\n",
       "      <th>2016-12-31</th>\n",
       "      <td>11761.0</td>\n",
       "      <td>6773.0</td>\n",
       "    </tr>\n",
       "    <tr>\n",
       "      <th>2017-12-31</th>\n",
       "      <td>13550.0</td>\n",
       "      <td>7654.0</td>\n",
       "    </tr>\n",
       "    <tr>\n",
       "      <th>2018-12-31</th>\n",
       "      <td>15108.0</td>\n",
       "      <td>8527.0</td>\n",
       "    </tr>\n",
       "  </tbody>\n",
       "</table>\n",
       "</div>"
      ],
      "text/plain": [
       "             P_wind   P_sol\n",
       "2016-12-31  11761.0  6773.0\n",
       "2017-12-31  13550.0  7654.0\n",
       "2018-12-31  15108.0  8527.0"
      ]
     },
     "execution_count": 5,
     "metadata": {},
     "output_type": "execute_result"
    }
   ],
   "source": [
    "# TODO: convert index to dates (2001 into date 2001-12-31). Parsing not good because it generates 2001-01-01\n",
    "df.index = pd.date_range(str(df.index[0]),periods=len(df), freq='Y')\n",
    "df.tail(3)"
   ]
  },
  {
   "cell_type": "code",
   "execution_count": 6,
   "metadata": {},
   "outputs": [
    {
     "data": {
      "text/plain": [
       "DatetimeIndex(['2001-12-31', '2002-12-31', '2003-12-31', '2004-12-31',\n",
       "               '2005-12-31', '2006-12-31', '2007-12-31', '2008-12-31',\n",
       "               '2009-12-31', '2010-12-31', '2011-12-31', '2012-12-31',\n",
       "               '2013-12-31', '2014-12-31', '2015-12-31', '2016-12-31',\n",
       "               '2017-12-31', '2018-12-31'],\n",
       "              dtype='datetime64[ns]', freq='A-DEC')"
      ]
     },
     "execution_count": 6,
     "metadata": {},
     "output_type": "execute_result"
    }
   ],
   "source": [
    "df.index"
   ]
  },
  {
   "cell_type": "markdown",
   "metadata": {},
   "source": [
    "NB, plot anchoring is wrong"
   ]
  },
  {
   "cell_type": "code",
   "execution_count": 7,
   "metadata": {},
   "outputs": [
    {
     "name": "stderr",
     "output_type": "stream",
     "text": [
      "/home/pierre/Programmes/bin/miniconda3.7/lib/python3.7/site-packages/pandas/plotting/_converter.py:129: FutureWarning: Using an implicitly registered datetime converter for a matplotlib plotting method. The converter was registered by pandas on import. Future versions of pandas will require you to explicitly register matplotlib converters.\n",
      "\n",
      "To register the converters:\n",
      "\t>>> from pandas.plotting import register_matplotlib_converters\n",
      "\t>>> register_matplotlib_converters()\n",
      "  warnings.warn(msg, FutureWarning)\n",
      "/home/pierre/Programmes/bin/miniconda3.7/lib/python3.7/site-packages/matplotlib/axes/_base.py:3604: MatplotlibDeprecationWarning: \n",
      "The `ymin` argument was deprecated in Matplotlib 3.0 and will be removed in 3.2. Use `bottom` instead.\n",
      "  alternative='`bottom`', obj_type='argument')\n"
     ]
    },
    {
     "data": {
      "image/png": "[encoded data removed]",
      "text/plain": [
       "<Figure size 432x288 with 1 Axes>"
      ]
     },
     "metadata": {
      "needs_background": "light"
     },
     "output_type": "display_data"
    }
   ],
   "source": [
    "plt.plot(df.index, df/1e3, '-+')\n",
    "\n",
    "plt.grid()\n",
    "plt.xlim('2010','2020')\n",
    "plt.ylim(ymin=0);"
   ]
  },
  {
   "cell_type": "code",
   "execution_count": 18,
   "metadata": {},
   "outputs": [],
   "source": [
    "df = pd.read_csv('eCO2mix_RTE_Annuel-Definitif_2015.xls.xz', compression='xz', encoding='windows-1252',\n",
    "                 sep='\\t', skipfooter=2,engine='python',\n",
    "                 index_col=False, parse_dates={'date':[2,3]})"
   ]
  },
  {
   "cell_type": "code",
   "execution_count": 19,
   "metadata": {},
   "outputs": [
    {
     "data": {
      "text/html": [
       "<div>\n",
       "<style scoped>\n",
       "    .dataframe tbody tr th:only-of-type {\n",
       "        vertical-align: middle;\n",
       "    }\n",
       "\n",
       "    .dataframe tbody tr th {\n",
       "        vertical-align: top;\n",
       "    }\n",
       "\n",
       "    .dataframe thead th {\n",
       "        text-align: right;\n",
       "    }\n",
       "</style>\n",
       "<table border=\"1\" class=\"dataframe\">\n",
       "  <thead>\n",
       "    <tr style=\"text-align: right;\">\n",
       "      <th></th>\n",
       "      <th>date</th>\n",
       "      <th>Périmètre</th>\n",
       "      <th>Nature</th>\n",
       "      <th>Consommation</th>\n",
       "      <th>Prévision J-1</th>\n",
       "      <th>Prévision J</th>\n",
       "      <th>Fioul</th>\n",
       "      <th>Charbon</th>\n",
       "      <th>Gaz</th>\n",
       "      <th>Nucléaire</th>\n",
       "      <th>...</th>\n",
       "      <th>Gaz - TAC</th>\n",
       "      <th>Gaz - Cogén.</th>\n",
       "      <th>Gaz - CCG</th>\n",
       "      <th>Gaz - Autres</th>\n",
       "      <th>Hydraulique - Fil de l?eau + éclusée</th>\n",
       "      <th>Hydraulique - Lacs</th>\n",
       "      <th>Hydraulique - STEP turbinage</th>\n",
       "      <th>Bioénergies - Déchets</th>\n",
       "      <th>Bioénergies - Biomasse</th>\n",
       "      <th>Bioénergies - Biogaz</th>\n",
       "    </tr>\n",
       "  </thead>\n",
       "  <tbody>\n",
       "    <tr>\n",
       "      <th>0</th>\n",
       "      <td>2015-01-01 00:00:00</td>\n",
       "      <td>France</td>\n",
       "      <td>Données définitives</td>\n",
       "      <td>74494.0</td>\n",
       "      <td>72900</td>\n",
       "      <td>73700</td>\n",
       "      <td>269.0</td>\n",
       "      <td>2487.0</td>\n",
       "      <td>3476.0</td>\n",
       "      <td>57982.0</td>\n",
       "      <td>...</td>\n",
       "      <td>3.0</td>\n",
       "      <td>2056.0</td>\n",
       "      <td>1350.0</td>\n",
       "      <td>66.0</td>\n",
       "      <td>4810.0</td>\n",
       "      <td>3093.0</td>\n",
       "      <td>1418.0</td>\n",
       "      <td>560.0</td>\n",
       "      <td>181.0</td>\n",
       "      <td>197.0</td>\n",
       "    </tr>\n",
       "    <tr>\n",
       "      <th>1</th>\n",
       "      <td>2015-01-01 00:15:00</td>\n",
       "      <td>France</td>\n",
       "      <td>Données définitives</td>\n",
       "      <td>NaN</td>\n",
       "      <td>72250</td>\n",
       "      <td>73050</td>\n",
       "      <td>NaN</td>\n",
       "      <td>NaN</td>\n",
       "      <td>NaN</td>\n",
       "      <td>NaN</td>\n",
       "      <td>...</td>\n",
       "      <td>NaN</td>\n",
       "      <td>NaN</td>\n",
       "      <td>NaN</td>\n",
       "      <td>NaN</td>\n",
       "      <td>NaN</td>\n",
       "      <td>NaN</td>\n",
       "      <td>NaN</td>\n",
       "      <td>NaN</td>\n",
       "      <td>NaN</td>\n",
       "      <td>NaN</td>\n",
       "    </tr>\n",
       "    <tr>\n",
       "      <th>2</th>\n",
       "      <td>2015-01-01 00:30:00</td>\n",
       "      <td>France</td>\n",
       "      <td>Données définitives</td>\n",
       "      <td>73481.0</td>\n",
       "      <td>71600</td>\n",
       "      <td>72400</td>\n",
       "      <td>319.0</td>\n",
       "      <td>2087.0</td>\n",
       "      <td>2691.0</td>\n",
       "      <td>57856.0</td>\n",
       "      <td>...</td>\n",
       "      <td>9.0</td>\n",
       "      <td>1926.0</td>\n",
       "      <td>670.0</td>\n",
       "      <td>86.0</td>\n",
       "      <td>4616.0</td>\n",
       "      <td>3561.0</td>\n",
       "      <td>1487.0</td>\n",
       "      <td>507.0</td>\n",
       "      <td>180.0</td>\n",
       "      <td>210.0</td>\n",
       "    </tr>\n",
       "    <tr>\n",
       "      <th>3</th>\n",
       "      <td>2015-01-01 00:45:00</td>\n",
       "      <td>France</td>\n",
       "      <td>Données définitives</td>\n",
       "      <td>NaN</td>\n",
       "      <td>70750</td>\n",
       "      <td>71500</td>\n",
       "      <td>NaN</td>\n",
       "      <td>NaN</td>\n",
       "      <td>NaN</td>\n",
       "      <td>NaN</td>\n",
       "      <td>...</td>\n",
       "      <td>NaN</td>\n",
       "      <td>NaN</td>\n",
       "      <td>NaN</td>\n",
       "      <td>NaN</td>\n",
       "      <td>NaN</td>\n",
       "      <td>NaN</td>\n",
       "      <td>NaN</td>\n",
       "      <td>NaN</td>\n",
       "      <td>NaN</td>\n",
       "      <td>NaN</td>\n",
       "    </tr>\n",
       "    <tr>\n",
       "      <th>4</th>\n",
       "      <td>2015-01-01 01:00:00</td>\n",
       "      <td>France</td>\n",
       "      <td>Données définitives</td>\n",
       "      <td>71506.0</td>\n",
       "      <td>69900</td>\n",
       "      <td>70600</td>\n",
       "      <td>320.0</td>\n",
       "      <td>1716.0</td>\n",
       "      <td>2436.0</td>\n",
       "      <td>57787.0</td>\n",
       "      <td>...</td>\n",
       "      <td>9.0</td>\n",
       "      <td>1919.0</td>\n",
       "      <td>422.0</td>\n",
       "      <td>86.0</td>\n",
       "      <td>4492.0</td>\n",
       "      <td>2805.0</td>\n",
       "      <td>1182.0</td>\n",
       "      <td>508.0</td>\n",
       "      <td>174.0</td>\n",
       "      <td>212.0</td>\n",
       "    </tr>\n",
       "  </tbody>\n",
       "</table>\n",
       "<p>5 rows × 35 columns</p>\n",
       "</div>"
      ],
      "text/plain": [
       "                 date Périmètre               Nature  Consommation  \\\n",
       "0 2015-01-01 00:00:00    France  Données définitives       74494.0   \n",
       "1 2015-01-01 00:15:00    France  Données définitives           NaN   \n",
       "2 2015-01-01 00:30:00    France  Données définitives       73481.0   \n",
       "3 2015-01-01 00:45:00    France  Données définitives           NaN   \n",
       "4 2015-01-01 01:00:00    France  Données définitives       71506.0   \n",
       "\n",
       "   Prévision J-1  Prévision J  Fioul  Charbon     Gaz  Nucléaire  ...  \\\n",
       "0          72900        73700  269.0   2487.0  3476.0    57982.0  ...   \n",
       "1          72250        73050    NaN      NaN     NaN        NaN  ...   \n",
       "2          71600        72400  319.0   2087.0  2691.0    57856.0  ...   \n",
       "3          70750        71500    NaN      NaN     NaN        NaN  ...   \n",
       "4          69900        70600  320.0   1716.0  2436.0    57787.0  ...   \n",
       "\n",
       "   Gaz - TAC  Gaz - Cogén.  Gaz - CCG  Gaz - Autres  \\\n",
       "0        3.0        2056.0     1350.0          66.0   \n",
       "1        NaN           NaN        NaN           NaN   \n",
       "2        9.0        1926.0      670.0          86.0   \n",
       "3        NaN           NaN        NaN           NaN   \n",
       "4        9.0        1919.0      422.0          86.0   \n",
       "\n",
       "   Hydraulique - Fil de l?eau + éclusée  Hydraulique - Lacs  \\\n",
       "0                                4810.0              3093.0   \n",
       "1                                   NaN                 NaN   \n",
       "2                                4616.0              3561.0   \n",
       "3                                   NaN                 NaN   \n",
       "4                                4492.0              2805.0   \n",
       "\n",
       "   Hydraulique - STEP turbinage Bioénergies - Déchets Bioénergies - Biomasse  \\\n",
       "0                        1418.0                 560.0                  181.0   \n",
       "1                           NaN                   NaN                    NaN   \n",
       "2                        1487.0                 507.0                  180.0   \n",
       "3                           NaN                   NaN                    NaN   \n",
       "4                        1182.0                 508.0                  174.0   \n",
       "\n",
       "  Bioénergies - Biogaz  \n",
       "0                197.0  \n",
       "1                  NaN  \n",
       "2                210.0  \n",
       "3                  NaN  \n",
       "4                212.0  \n",
       "\n",
       "[5 rows x 35 columns]"
      ]
     },
     "execution_count": 19,
     "metadata": {},
     "output_type": "execute_result"
    }
   ],
   "source": [
    "df.head()"
   ]
  },
  {
   "cell_type": "markdown",
   "metadata": {},
   "source": [
    "keep only data every 30 minutes"
   ]
  },
  {
   "cell_type": "code",
   "execution_count": 20,
   "metadata": {},
   "outputs": [
    {
     "data": {
      "text/html": [
       "<div>\n",
       "<style scoped>\n",
       "    .dataframe tbody tr th:only-of-type {\n",
       "        vertical-align: middle;\n",
       "    }\n",
       "\n",
       "    .dataframe tbody tr th {\n",
       "        vertical-align: top;\n",
       "    }\n",
       "\n",
       "    .dataframe thead th {\n",
       "        text-align: right;\n",
       "    }\n",
       "</style>\n",
       "<table border=\"1\" class=\"dataframe\">\n",
       "  <thead>\n",
       "    <tr style=\"text-align: right;\">\n",
       "      <th></th>\n",
       "      <th>date</th>\n",
       "      <th>Périmètre</th>\n",
       "      <th>Nature</th>\n",
       "      <th>Consommation</th>\n",
       "      <th>Prévision J-1</th>\n",
       "      <th>Prévision J</th>\n",
       "      <th>Fioul</th>\n",
       "      <th>Charbon</th>\n",
       "      <th>Gaz</th>\n",
       "      <th>Nucléaire</th>\n",
       "      <th>...</th>\n",
       "      <th>Gaz - TAC</th>\n",
       "      <th>Gaz - Cogén.</th>\n",
       "      <th>Gaz - CCG</th>\n",
       "      <th>Gaz - Autres</th>\n",
       "      <th>Hydraulique - Fil de l?eau + éclusée</th>\n",
       "      <th>Hydraulique - Lacs</th>\n",
       "      <th>Hydraulique - STEP turbinage</th>\n",
       "      <th>Bioénergies - Déchets</th>\n",
       "      <th>Bioénergies - Biomasse</th>\n",
       "      <th>Bioénergies - Biogaz</th>\n",
       "    </tr>\n",
       "  </thead>\n",
       "  <tbody>\n",
       "    <tr>\n",
       "      <th>0</th>\n",
       "      <td>2015-01-01 00:00:00</td>\n",
       "      <td>France</td>\n",
       "      <td>Données définitives</td>\n",
       "      <td>74494.0</td>\n",
       "      <td>72900</td>\n",
       "      <td>73700</td>\n",
       "      <td>269.0</td>\n",
       "      <td>2487.0</td>\n",
       "      <td>3476.0</td>\n",
       "      <td>57982.0</td>\n",
       "      <td>...</td>\n",
       "      <td>3.0</td>\n",
       "      <td>2056.0</td>\n",
       "      <td>1350.0</td>\n",
       "      <td>66.0</td>\n",
       "      <td>4810.0</td>\n",
       "      <td>3093.0</td>\n",
       "      <td>1418.0</td>\n",
       "      <td>560.0</td>\n",
       "      <td>181.0</td>\n",
       "      <td>197.0</td>\n",
       "    </tr>\n",
       "    <tr>\n",
       "      <th>2</th>\n",
       "      <td>2015-01-01 00:30:00</td>\n",
       "      <td>France</td>\n",
       "      <td>Données définitives</td>\n",
       "      <td>73481.0</td>\n",
       "      <td>71600</td>\n",
       "      <td>72400</td>\n",
       "      <td>319.0</td>\n",
       "      <td>2087.0</td>\n",
       "      <td>2691.0</td>\n",
       "      <td>57856.0</td>\n",
       "      <td>...</td>\n",
       "      <td>9.0</td>\n",
       "      <td>1926.0</td>\n",
       "      <td>670.0</td>\n",
       "      <td>86.0</td>\n",
       "      <td>4616.0</td>\n",
       "      <td>3561.0</td>\n",
       "      <td>1487.0</td>\n",
       "      <td>507.0</td>\n",
       "      <td>180.0</td>\n",
       "      <td>210.0</td>\n",
       "    </tr>\n",
       "    <tr>\n",
       "      <th>4</th>\n",
       "      <td>2015-01-01 01:00:00</td>\n",
       "      <td>France</td>\n",
       "      <td>Données définitives</td>\n",
       "      <td>71506.0</td>\n",
       "      <td>69900</td>\n",
       "      <td>70600</td>\n",
       "      <td>320.0</td>\n",
       "      <td>1716.0</td>\n",
       "      <td>2436.0</td>\n",
       "      <td>57787.0</td>\n",
       "      <td>...</td>\n",
       "      <td>9.0</td>\n",
       "      <td>1919.0</td>\n",
       "      <td>422.0</td>\n",
       "      <td>86.0</td>\n",
       "      <td>4492.0</td>\n",
       "      <td>2805.0</td>\n",
       "      <td>1182.0</td>\n",
       "      <td>508.0</td>\n",
       "      <td>174.0</td>\n",
       "      <td>212.0</td>\n",
       "    </tr>\n",
       "    <tr>\n",
       "      <th>6</th>\n",
       "      <td>2015-01-01 01:30:00</td>\n",
       "      <td>France</td>\n",
       "      <td>Données définitives</td>\n",
       "      <td>71505.0</td>\n",
       "      <td>70600</td>\n",
       "      <td>71300</td>\n",
       "      <td>320.0</td>\n",
       "      <td>1589.0</td>\n",
       "      <td>2440.0</td>\n",
       "      <td>58156.0</td>\n",
       "      <td>...</td>\n",
       "      <td>10.0</td>\n",
       "      <td>1924.0</td>\n",
       "      <td>420.0</td>\n",
       "      <td>86.0</td>\n",
       "      <td>4369.0</td>\n",
       "      <td>2623.0</td>\n",
       "      <td>1301.0</td>\n",
       "      <td>512.0</td>\n",
       "      <td>180.0</td>\n",
       "      <td>212.0</td>\n",
       "    </tr>\n",
       "    <tr>\n",
       "      <th>8</th>\n",
       "      <td>2015-01-01 02:00:00</td>\n",
       "      <td>France</td>\n",
       "      <td>Données définitives</td>\n",
       "      <td>71134.0</td>\n",
       "      <td>70500</td>\n",
       "      <td>71100</td>\n",
       "      <td>320.0</td>\n",
       "      <td>1490.0</td>\n",
       "      <td>2441.0</td>\n",
       "      <td>57974.0</td>\n",
       "      <td>...</td>\n",
       "      <td>9.0</td>\n",
       "      <td>1927.0</td>\n",
       "      <td>419.0</td>\n",
       "      <td>86.0</td>\n",
       "      <td>4318.0</td>\n",
       "      <td>2670.0</td>\n",
       "      <td>1115.0</td>\n",
       "      <td>509.0</td>\n",
       "      <td>182.0</td>\n",
       "      <td>211.0</td>\n",
       "    </tr>\n",
       "  </tbody>\n",
       "</table>\n",
       "<p>5 rows × 35 columns</p>\n",
       "</div>"
      ],
      "text/plain": [
       "                 date Périmètre               Nature  Consommation  \\\n",
       "0 2015-01-01 00:00:00    France  Données définitives       74494.0   \n",
       "2 2015-01-01 00:30:00    France  Données définitives       73481.0   \n",
       "4 2015-01-01 01:00:00    France  Données définitives       71506.0   \n",
       "6 2015-01-01 01:30:00    France  Données définitives       71505.0   \n",
       "8 2015-01-01 02:00:00    France  Données définitives       71134.0   \n",
       "\n",
       "   Prévision J-1  Prévision J  Fioul  Charbon     Gaz  Nucléaire  ...  \\\n",
       "0          72900        73700  269.0   2487.0  3476.0    57982.0  ...   \n",
       "2          71600        72400  319.0   2087.0  2691.0    57856.0  ...   \n",
       "4          69900        70600  320.0   1716.0  2436.0    57787.0  ...   \n",
       "6          70600        71300  320.0   1589.0  2440.0    58156.0  ...   \n",
       "8          70500        71100  320.0   1490.0  2441.0    57974.0  ...   \n",
       "\n",
       "   Gaz - TAC  Gaz - Cogén.  Gaz - CCG  Gaz - Autres  \\\n",
       "0        3.0        2056.0     1350.0          66.0   \n",
       "2        9.0        1926.0      670.0          86.0   \n",
       "4        9.0        1919.0      422.0          86.0   \n",
       "6       10.0        1924.0      420.0          86.0   \n",
       "8        9.0        1927.0      419.0          86.0   \n",
       "\n",
       "   Hydraulique - Fil de l?eau + éclusée  Hydraulique - Lacs  \\\n",
       "0                                4810.0              3093.0   \n",
       "2                                4616.0              3561.0   \n",
       "4                                4492.0              2805.0   \n",
       "6                                4369.0              2623.0   \n",
       "8                                4318.0              2670.0   \n",
       "\n",
       "   Hydraulique - STEP turbinage Bioénergies - Déchets Bioénergies - Biomasse  \\\n",
       "0                        1418.0                 560.0                  181.0   \n",
       "2                        1487.0                 507.0                  180.0   \n",
       "4                        1182.0                 508.0                  174.0   \n",
       "6                        1301.0                 512.0                  180.0   \n",
       "8                        1115.0                 509.0                  182.0   \n",
       "\n",
       "  Bioénergies - Biogaz  \n",
       "0                197.0  \n",
       "2                210.0  \n",
       "4                212.0  \n",
       "6                212.0  \n",
       "8                211.0  \n",
       "\n",
       "[5 rows x 35 columns]"
      ]
     },
     "execution_count": 20,
     "metadata": {},
     "output_type": "execute_result"
    }
   ],
   "source": [
    "df = df.iloc[::2,:]\n",
    "df.head()"
   ]
  },
  {
   "cell_type": "code",
   "execution_count": 22,
   "metadata": {},
   "outputs": [
    {
     "data": {
      "text/html": [
       "<div>\n",
       "<style scoped>\n",
       "    .dataframe tbody tr th:only-of-type {\n",
       "        vertical-align: middle;\n",
       "    }\n",
       "\n",
       "    .dataframe tbody tr th {\n",
       "        vertical-align: top;\n",
       "    }\n",
       "\n",
       "    .dataframe thead th {\n",
       "        text-align: right;\n",
       "    }\n",
       "</style>\n",
       "<table border=\"1\" class=\"dataframe\">\n",
       "  <thead>\n",
       "    <tr style=\"text-align: right;\">\n",
       "      <th></th>\n",
       "      <th>Périmètre</th>\n",
       "      <th>Nature</th>\n",
       "      <th>Consommation</th>\n",
       "      <th>Prévision J-1</th>\n",
       "      <th>Prévision J</th>\n",
       "      <th>Fioul</th>\n",
       "      <th>Charbon</th>\n",
       "      <th>Gaz</th>\n",
       "      <th>Nucléaire</th>\n",
       "      <th>Eolien</th>\n",
       "      <th>...</th>\n",
       "      <th>Gaz - TAC</th>\n",
       "      <th>Gaz - Cogén.</th>\n",
       "      <th>Gaz - CCG</th>\n",
       "      <th>Gaz - Autres</th>\n",
       "      <th>Hydraulique - Fil de l?eau + éclusée</th>\n",
       "      <th>Hydraulique - Lacs</th>\n",
       "      <th>Hydraulique - STEP turbinage</th>\n",
       "      <th>Bioénergies - Déchets</th>\n",
       "      <th>Bioénergies - Biomasse</th>\n",
       "      <th>Bioénergies - Biogaz</th>\n",
       "    </tr>\n",
       "    <tr>\n",
       "      <th>date</th>\n",
       "      <th></th>\n",
       "      <th></th>\n",
       "      <th></th>\n",
       "      <th></th>\n",
       "      <th></th>\n",
       "      <th></th>\n",
       "      <th></th>\n",
       "      <th></th>\n",
       "      <th></th>\n",
       "      <th></th>\n",
       "      <th></th>\n",
       "      <th></th>\n",
       "      <th></th>\n",
       "      <th></th>\n",
       "      <th></th>\n",
       "      <th></th>\n",
       "      <th></th>\n",
       "      <th></th>\n",
       "      <th></th>\n",
       "      <th></th>\n",
       "      <th></th>\n",
       "    </tr>\n",
       "  </thead>\n",
       "  <tbody>\n",
       "    <tr>\n",
       "      <th>2015-01-01 00:00:00</th>\n",
       "      <td>France</td>\n",
       "      <td>Données définitives</td>\n",
       "      <td>74494.0</td>\n",
       "      <td>72900</td>\n",
       "      <td>73700</td>\n",
       "      <td>269.0</td>\n",
       "      <td>2487.0</td>\n",
       "      <td>3476.0</td>\n",
       "      <td>57982.0</td>\n",
       "      <td>1268.0</td>\n",
       "      <td>...</td>\n",
       "      <td>3.0</td>\n",
       "      <td>2056.0</td>\n",
       "      <td>1350.0</td>\n",
       "      <td>66.0</td>\n",
       "      <td>4810.0</td>\n",
       "      <td>3093.0</td>\n",
       "      <td>1418.0</td>\n",
       "      <td>560.0</td>\n",
       "      <td>181.0</td>\n",
       "      <td>197.0</td>\n",
       "    </tr>\n",
       "    <tr>\n",
       "      <th>2015-01-01 00:30:00</th>\n",
       "      <td>France</td>\n",
       "      <td>Données définitives</td>\n",
       "      <td>73481.0</td>\n",
       "      <td>71600</td>\n",
       "      <td>72400</td>\n",
       "      <td>319.0</td>\n",
       "      <td>2087.0</td>\n",
       "      <td>2691.0</td>\n",
       "      <td>57856.0</td>\n",
       "      <td>1343.0</td>\n",
       "      <td>...</td>\n",
       "      <td>9.0</td>\n",
       "      <td>1926.0</td>\n",
       "      <td>670.0</td>\n",
       "      <td>86.0</td>\n",
       "      <td>4616.0</td>\n",
       "      <td>3561.0</td>\n",
       "      <td>1487.0</td>\n",
       "      <td>507.0</td>\n",
       "      <td>180.0</td>\n",
       "      <td>210.0</td>\n",
       "    </tr>\n",
       "    <tr>\n",
       "      <th>2015-01-01 01:00:00</th>\n",
       "      <td>France</td>\n",
       "      <td>Données définitives</td>\n",
       "      <td>71506.0</td>\n",
       "      <td>69900</td>\n",
       "      <td>70600</td>\n",
       "      <td>320.0</td>\n",
       "      <td>1716.0</td>\n",
       "      <td>2436.0</td>\n",
       "      <td>57787.0</td>\n",
       "      <td>1356.0</td>\n",
       "      <td>...</td>\n",
       "      <td>9.0</td>\n",
       "      <td>1919.0</td>\n",
       "      <td>422.0</td>\n",
       "      <td>86.0</td>\n",
       "      <td>4492.0</td>\n",
       "      <td>2805.0</td>\n",
       "      <td>1182.0</td>\n",
       "      <td>508.0</td>\n",
       "      <td>174.0</td>\n",
       "      <td>212.0</td>\n",
       "    </tr>\n",
       "    <tr>\n",
       "      <th>2015-01-01 01:30:00</th>\n",
       "      <td>France</td>\n",
       "      <td>Données définitives</td>\n",
       "      <td>71505.0</td>\n",
       "      <td>70600</td>\n",
       "      <td>71300</td>\n",
       "      <td>320.0</td>\n",
       "      <td>1589.0</td>\n",
       "      <td>2440.0</td>\n",
       "      <td>58156.0</td>\n",
       "      <td>1412.0</td>\n",
       "      <td>...</td>\n",
       "      <td>10.0</td>\n",
       "      <td>1924.0</td>\n",
       "      <td>420.0</td>\n",
       "      <td>86.0</td>\n",
       "      <td>4369.0</td>\n",
       "      <td>2623.0</td>\n",
       "      <td>1301.0</td>\n",
       "      <td>512.0</td>\n",
       "      <td>180.0</td>\n",
       "      <td>212.0</td>\n",
       "    </tr>\n",
       "    <tr>\n",
       "      <th>2015-01-01 02:00:00</th>\n",
       "      <td>France</td>\n",
       "      <td>Données définitives</td>\n",
       "      <td>71134.0</td>\n",
       "      <td>70500</td>\n",
       "      <td>71100</td>\n",
       "      <td>320.0</td>\n",
       "      <td>1490.0</td>\n",
       "      <td>2441.0</td>\n",
       "      <td>57974.0</td>\n",
       "      <td>1447.0</td>\n",
       "      <td>...</td>\n",
       "      <td>9.0</td>\n",
       "      <td>1927.0</td>\n",
       "      <td>419.0</td>\n",
       "      <td>86.0</td>\n",
       "      <td>4318.0</td>\n",
       "      <td>2670.0</td>\n",
       "      <td>1115.0</td>\n",
       "      <td>509.0</td>\n",
       "      <td>182.0</td>\n",
       "      <td>211.0</td>\n",
       "    </tr>\n",
       "  </tbody>\n",
       "</table>\n",
       "<p>5 rows × 34 columns</p>\n",
       "</div>"
      ],
      "text/plain": [
       "                    Périmètre               Nature  Consommation  \\\n",
       "date                                                               \n",
       "2015-01-01 00:00:00    France  Données définitives       74494.0   \n",
       "2015-01-01 00:30:00    France  Données définitives       73481.0   \n",
       "2015-01-01 01:00:00    France  Données définitives       71506.0   \n",
       "2015-01-01 01:30:00    France  Données définitives       71505.0   \n",
       "2015-01-01 02:00:00    France  Données définitives       71134.0   \n",
       "\n",
       "                     Prévision J-1  Prévision J  Fioul  Charbon     Gaz  \\\n",
       "date                                                                      \n",
       "2015-01-01 00:00:00          72900        73700  269.0   2487.0  3476.0   \n",
       "2015-01-01 00:30:00          71600        72400  319.0   2087.0  2691.0   \n",
       "2015-01-01 01:00:00          69900        70600  320.0   1716.0  2436.0   \n",
       "2015-01-01 01:30:00          70600        71300  320.0   1589.0  2440.0   \n",
       "2015-01-01 02:00:00          70500        71100  320.0   1490.0  2441.0   \n",
       "\n",
       "                     Nucléaire  Eolien  ...  Gaz - TAC  Gaz - Cogén.  \\\n",
       "date                                    ...                            \n",
       "2015-01-01 00:00:00    57982.0  1268.0  ...        3.0        2056.0   \n",
       "2015-01-01 00:30:00    57856.0  1343.0  ...        9.0        1926.0   \n",
       "2015-01-01 01:00:00    57787.0  1356.0  ...        9.0        1919.0   \n",
       "2015-01-01 01:30:00    58156.0  1412.0  ...       10.0        1924.0   \n",
       "2015-01-01 02:00:00    57974.0  1447.0  ...        9.0        1927.0   \n",
       "\n",
       "                     Gaz - CCG  Gaz - Autres  \\\n",
       "date                                           \n",
       "2015-01-01 00:00:00     1350.0          66.0   \n",
       "2015-01-01 00:30:00      670.0          86.0   \n",
       "2015-01-01 01:00:00      422.0          86.0   \n",
       "2015-01-01 01:30:00      420.0          86.0   \n",
       "2015-01-01 02:00:00      419.0          86.0   \n",
       "\n",
       "                     Hydraulique - Fil de l?eau + éclusée  Hydraulique - Lacs  \\\n",
       "date                                                                            \n",
       "2015-01-01 00:00:00                                4810.0              3093.0   \n",
       "2015-01-01 00:30:00                                4616.0              3561.0   \n",
       "2015-01-01 01:00:00                                4492.0              2805.0   \n",
       "2015-01-01 01:30:00                                4369.0              2623.0   \n",
       "2015-01-01 02:00:00                                4318.0              2670.0   \n",
       "\n",
       "                    Hydraulique - STEP turbinage Bioénergies - Déchets  \\\n",
       "date                                                                     \n",
       "2015-01-01 00:00:00                       1418.0                 560.0   \n",
       "2015-01-01 00:30:00                       1487.0                 507.0   \n",
       "2015-01-01 01:00:00                       1182.0                 508.0   \n",
       "2015-01-01 01:30:00                       1301.0                 512.0   \n",
       "2015-01-01 02:00:00                       1115.0                 509.0   \n",
       "\n",
       "                    Bioénergies - Biomasse Bioénergies - Biogaz  \n",
       "date                                                             \n",
       "2015-01-01 00:00:00                  181.0                197.0  \n",
       "2015-01-01 00:30:00                  180.0                210.0  \n",
       "2015-01-01 01:00:00                  174.0                212.0  \n",
       "2015-01-01 01:30:00                  180.0                212.0  \n",
       "2015-01-01 02:00:00                  182.0                211.0  \n",
       "\n",
       "[5 rows x 34 columns]"
      ]
     },
     "execution_count": 22,
     "metadata": {},
     "output_type": "execute_result"
    }
   ],
   "source": [
    "df.set_index('date', verify_integrity=True, inplace=True)\n",
    "df.head()"
   ]
  },
  {
   "cell_type": "code",
   "execution_count": 42,
   "metadata": {},
   "outputs": [],
   "source": [
    "df.index.name = ''"
   ]
  },
  {
   "cell_type": "code",
   "execution_count": 43,
   "metadata": {},
   "outputs": [
    {
     "data": {
      "text/plain": [
       "\n",
       "2015-01-01 00:00:00    1268.0\n",
       "2015-01-01 00:30:00    1343.0\n",
       "2015-01-01 01:00:00    1356.0\n",
       "2015-01-01 01:30:00    1412.0\n",
       "2015-01-01 02:00:00    1447.0\n",
       "2015-01-01 02:30:00    1507.0\n",
       "2015-01-01 03:00:00    1533.0\n",
       "2015-01-01 03:30:00    1570.0\n",
       "2015-01-01 04:00:00    1569.0\n",
       "2015-01-01 04:30:00    1616.0\n",
       "2015-01-01 05:00:00    1610.0\n",
       "2015-01-01 05:30:00    1462.0\n",
       "2015-01-01 06:00:00    1396.0\n",
       "2015-01-01 06:30:00    1300.0\n",
       "2015-01-01 07:00:00    1370.0\n",
       "2015-01-01 07:30:00    1531.0\n",
       "2015-01-01 08:00:00    1656.0\n",
       "2015-01-01 08:30:00    1806.0\n",
       "2015-01-01 09:00:00    1932.0\n",
       "2015-01-01 09:30:00    1983.0\n",
       "2015-01-01 10:00:00    1998.0\n",
       "2015-01-01 10:30:00    2030.0\n",
       "2015-01-01 11:00:00    1965.0\n",
       "2015-01-01 11:30:00    1883.0\n",
       "2015-01-01 12:00:00    1820.0\n",
       "2015-01-01 12:30:00    1788.0\n",
       "2015-01-01 13:00:00    1745.0\n",
       "2015-01-01 13:30:00    1754.0\n",
       "2015-01-01 14:00:00    1756.0\n",
       "2015-01-01 14:30:00    1695.0\n",
       "                        ...  \n",
       "2015-12-31 09:00:00    4075.0\n",
       "2015-12-31 09:30:00    3955.0\n",
       "2015-12-31 10:00:00    3675.0\n",
       "2015-12-31 10:30:00    3398.0\n",
       "2015-12-31 11:00:00    3042.0\n",
       "2015-12-31 11:30:00    2680.0\n",
       "2015-12-31 12:00:00    2478.0\n",
       "2015-12-31 12:30:00    2431.0\n",
       "2015-12-31 13:00:00    2455.0\n",
       "2015-12-31 13:30:00    2575.0\n",
       "2015-12-31 14:00:00    2605.0\n",
       "2015-12-31 14:30:00    2519.0\n",
       "2015-12-31 15:00:00    2355.0\n",
       "2015-12-31 15:30:00    2237.0\n",
       "2015-12-31 16:00:00    2219.0\n",
       "2015-12-31 16:30:00    2293.0\n",
       "2015-12-31 17:00:00    2443.0\n",
       "2015-12-31 17:30:00    2726.0\n",
       "2015-12-31 18:00:00    2933.0\n",
       "2015-12-31 18:30:00    3173.0\n",
       "2015-12-31 19:00:00    3333.0\n",
       "2015-12-31 19:30:00    3449.0\n",
       "2015-12-31 20:00:00    3619.0\n",
       "2015-12-31 20:30:00    3631.0\n",
       "2015-12-31 21:00:00    3605.0\n",
       "2015-12-31 21:30:00    3570.0\n",
       "2015-12-31 22:00:00    3404.0\n",
       "2015-12-31 22:30:00    3179.0\n",
       "2015-12-31 23:00:00    2971.0\n",
       "2015-12-31 23:30:00    2777.0\n",
       "Name: Eolien, Length: 17520, dtype: float64"
      ]
     },
     "execution_count": 43,
     "metadata": {},
     "output_type": "execute_result"
    }
   ],
   "source": [
    "df.Eolien"
   ]
  },
  {
   "cell_type": "code",
   "execution_count": 44,
   "metadata": {},
   "outputs": [
    {
     "data": {
      "text/plain": [
       "<matplotlib.axes._subplots.AxesSubplot at 0x7fd1db219b00>"
      ]
     },
     "execution_count": 44,
     "metadata": {},
     "output_type": "execute_result"
    },
    {
     "data": {
      "image/png": "[encoded data removed]",
      "text/plain": [
       "<Figure size 432x288 with 1 Axes>"
      ]
     },
     "metadata": {
      "needs_background": "light"
     },
     "output_type": "display_data"
    }
   ],
   "source": [
    "df.Solaire.plot()"
   ]
  },
  {
   "cell_type": "code",
   "execution_count": 45,
   "metadata": {},
   "outputs": [],
   "source": [
    "df1M = df.resample('1M').mean()"
   ]
  },
  {
   "cell_type": "code",
   "execution_count": 46,
   "metadata": {},
   "outputs": [],
   "source": [
    "df1M /= 1e3 # MW -> GW"
   ]
  },
  {
   "cell_type": "code",
   "execution_count": 47,
   "metadata": {},
   "outputs": [
    {
     "name": "stderr",
     "output_type": "stream",
     "text": [
      "/home/pierre/Programmes/bin/miniconda3.7/lib/python3.7/site-packages/matplotlib/axes/_base.py:3604: MatplotlibDeprecationWarning: \n",
      "The `ymin` argument was deprecated in Matplotlib 3.0 and will be removed in 3.2. Use `bottom` instead.\n",
      "  alternative='`bottom`', obj_type='argument')\n"
     ]
    },
    {
     "data": {
      "text/plain": [
       "Text(0, 0.5, 'GW')"
      ]
     },
     "execution_count": 47,
     "metadata": {},
     "output_type": "execute_result"
    },
    {
     "data": {
      "image/png": "[encoded data removed]",
      "text/plain": [
       "<Figure size 432x288 with 1 Axes>"
      ]
     },
     "metadata": {
      "needs_background": "light"
     },
     "output_type": "display_data"
    }
   ],
   "source": [
    "df1M.Eolien.plot(drawstyle='steps-post')\n",
    "df1M.Solaire.plot(drawstyle='steps-post')\n",
    "plt.ylim(ymin=0)\n",
    "plt.ylabel('GW')"
   ]
  },
  {
   "cell_type": "code",
   "execution_count": 51,
   "metadata": {},
   "outputs": [
    {
     "data": {
      "text/plain": [
       "<matplotlib.axes._subplots.AxesSubplot at 0x7fd1db194b00>"
      ]
     },
     "execution_count": 51,
     "metadata": {},
     "output_type": "execute_result"
    },
    {
     "data": {
      "image/png": "[encoded data removed]",
      "text/plain": [
       "<Figure size 432x288 with 1 Axes>"
      ]
     },
     "metadata": {
      "needs_background": "light"
     },
     "output_type": "display_data"
    }
   ],
   "source": [
    "df1M.Consommation.plot(drawstyle='steps-post',color='C2')"
   ]
  },
  {
   "cell_type": "code",
   "execution_count": 53,
   "metadata": {},
   "outputs": [
    {
     "data": {
      "text/plain": [
       "<matplotlib.axes._subplots.AxesSubplot at 0x7fd1db1a9518>"
      ]
     },
     "execution_count": 53,
     "metadata": {},
     "output_type": "execute_result"
    },
    {
     "data": {
      "image/png": "[encoded data removed]",
      "text/plain": [
       "<Figure size 432x288 with 1 Axes>"
      ]
     },
     "metadata": {
      "needs_background": "light"
     },
     "output_type": "display_data"
    }
   ],
   "source": [
    "df1M.Consommation.plot.bar(color='C2')"
   ]
  },
  {
   "cell_type": "code",
   "execution_count": 48,
   "metadata": {},
   "outputs": [
    {
     "data": {
      "image/png": "[encoded data removed]",
      "text/plain": [
       "<Figure size 432x288 with 1 Axes>"
      ]
     },
     "metadata": {
      "needs_background": "light"
     },
     "output_type": "display_data"
    }
   ],
   "source": [
    "plt.plot(df1M.Eolien, df1M.Solaire, 'd')\n",
    "ax = plt.gca()\n",
    "ax.set(\n",
    "    xlim=(0,4),\n",
    "    xlabel='solaire (GW)',\n",
    "    ylim=(0,1.5),\n",
    "    ylabel='éolien (GW)',\n",
    ")\n",
    "ax.grid();"
   ]
  },
  {
   "cell_type": "code",
   "execution_count": null,
   "metadata": {},
   "outputs": [],
   "source": [
    "²"
   ]
  }
 ],
 "metadata": {
  "kernelspec": {
   "display_name": "Python 3",
   "language": "python",
   "name": "python3"
  },
  "language_info": {
   "codemirror_mode": {
    "name": "ipython",
    "version": 3
   },
   "file_extension": ".py",
   "mimetype": "text/x-python",
   "name": "python",
   "nbconvert_exporter": "python",
   "pygments_lexer": "ipython3",
   "version": "3.7.1"
  }
 },
 "nbformat": 4,
 "nbformat_minor": 2
}
