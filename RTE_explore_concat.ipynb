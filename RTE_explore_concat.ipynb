{
 "cells": [
  {
   "cell_type": "markdown",
   "metadata": {},
   "source": [
    "# Exploration and concatenation of RTE eCO2mix data\n",
    "\n",
    "Explore the structure of RTE data:\n",
    "\n",
    "1. Installed wind and solar power (`parc-national-annuel-prod-eolien-solaire.csv`)\n",
    "2. Production data, at 30 min timestep\n",
    "\n",
    "Export a self-contained file for analysis of the complementarity of solar and wind production [REn_Complementarity.ipynb](./REn_Complementarity.ipynb)\n",
    "\n",
    "PH, march 2019"
   ]
  },
  {
   "cell_type": "code",
   "execution_count": 1,
   "metadata": {},
   "outputs": [],
   "source": [
    "import pandas as pd\n",
    "import matplotlib.pyplot as plt\n",
    "%matplotlib inline"
   ]
  },
  {
   "cell_type": "markdown",
   "metadata": {},
   "source": [
    "## Dataset 1: Installed solar & wind power"
   ]
  },
  {
   "cell_type": "code",
   "execution_count": 2,
   "metadata": {},
   "outputs": [
    {
     "data": {
      "text/html": [
       "<div>\n",
       "<style scoped>\n",
       "    .dataframe tbody tr th:only-of-type {\n",
       "        vertical-align: middle;\n",
       "    }\n",
       "\n",
       "    .dataframe tbody tr th {\n",
       "        vertical-align: top;\n",
       "    }\n",
       "\n",
       "    .dataframe thead th {\n",
       "        text-align: right;\n",
       "    }\n",
       "</style>\n",
       "<table border=\"1\" class=\"dataframe\">\n",
       "  <thead>\n",
       "    <tr style=\"text-align: right;\">\n",
       "      <th></th>\n",
       "      <th>P_wind</th>\n",
       "      <th>P_sol</th>\n",
       "    </tr>\n",
       "  </thead>\n",
       "  <tbody>\n",
       "    <tr>\n",
       "      <th>2001</th>\n",
       "      <td>94.0</td>\n",
       "      <td>0.0</td>\n",
       "    </tr>\n",
       "    <tr>\n",
       "      <th>2002</th>\n",
       "      <td>129.0</td>\n",
       "      <td>0.0</td>\n",
       "    </tr>\n",
       "    <tr>\n",
       "      <th>2003</th>\n",
       "      <td>219.0</td>\n",
       "      <td>0.0</td>\n",
       "    </tr>\n",
       "  </tbody>\n",
       "</table>\n",
       "</div>"
      ],
      "text/plain": [
       "      P_wind  P_sol\n",
       "2001    94.0    0.0\n",
       "2002   129.0    0.0\n",
       "2003   219.0    0.0"
      ]
     },
     "execution_count": 2,
     "metadata": {},
     "output_type": "execute_result"
    }
   ],
   "source": [
    "df = pd.read_csv('parc-national-annuel-prod-eolien-solaire.csv', sep=';', index_col=0)\n",
    "df.index.name = None\n",
    "df.rename(columns={'Parc installé éolien (MW)':'P_wind', 'Parc installé solaire (MW)': 'P_sol'}, inplace=True)\n",
    "df.sort_index(inplace=True)\n",
    "df.head(3)"
   ]
  },
  {
   "cell_type": "markdown",
   "metadata": {},
   "source": [
    "convert index to dates (2001 into date 2001-12-31).\n",
    "* date parsing not good because it generates 2001-01-01\n",
    "* easier to regenerate the index from scratch"
   ]
  },
  {
   "cell_type": "code",
   "execution_count": 3,
   "metadata": {},
   "outputs": [
    {
     "data": {
      "text/html": [
       "<div>\n",
       "<style scoped>\n",
       "    .dataframe tbody tr th:only-of-type {\n",
       "        vertical-align: middle;\n",
       "    }\n",
       "\n",
       "    .dataframe tbody tr th {\n",
       "        vertical-align: top;\n",
       "    }\n",
       "\n",
       "    .dataframe thead th {\n",
       "        text-align: right;\n",
       "    }\n",
       "</style>\n",
       "<table border=\"1\" class=\"dataframe\">\n",
       "  <thead>\n",
       "    <tr style=\"text-align: right;\">\n",
       "      <th></th>\n",
       "      <th>P_wind</th>\n",
       "      <th>P_sol</th>\n",
       "    </tr>\n",
       "  </thead>\n",
       "  <tbody>\n",
       "    <tr>\n",
       "      <th>2016-12-31</th>\n",
       "      <td>11761.0</td>\n",
       "      <td>6773.0</td>\n",
       "    </tr>\n",
       "    <tr>\n",
       "      <th>2017-12-31</th>\n",
       "      <td>13550.0</td>\n",
       "      <td>7654.0</td>\n",
       "    </tr>\n",
       "    <tr>\n",
       "      <th>2018-12-31</th>\n",
       "      <td>15108.0</td>\n",
       "      <td>8527.0</td>\n",
       "    </tr>\n",
       "  </tbody>\n",
       "</table>\n",
       "</div>"
      ],
      "text/plain": [
       "             P_wind   P_sol\n",
       "2016-12-31  11761.0  6773.0\n",
       "2017-12-31  13550.0  7654.0\n",
       "2018-12-31  15108.0  8527.0"
      ]
     },
     "execution_count": 3,
     "metadata": {},
     "output_type": "execute_result"
    }
   ],
   "source": [
    "df.index = pd.date_range(str(df.index[0]),periods=len(df), freq='Y')\n",
    "df.tail(3)"
   ]
  },
  {
   "cell_type": "code",
   "execution_count": 4,
   "metadata": {},
   "outputs": [
    {
     "data": {
      "text/plain": [
       "DatetimeIndex(['2001-12-31', '2002-12-31', '2003-12-31', '2004-12-31',\n",
       "               '2005-12-31', '2006-12-31', '2007-12-31', '2008-12-31',\n",
       "               '2009-12-31', '2010-12-31', '2011-12-31', '2012-12-31',\n",
       "               '2013-12-31', '2014-12-31', '2015-12-31', '2016-12-31',\n",
       "               '2017-12-31', '2018-12-31'],\n",
       "              dtype='datetime64[ns]', freq='A-DEC')"
      ]
     },
     "execution_count": 4,
     "metadata": {},
     "output_type": "execute_result"
    }
   ],
   "source": [
    "df.index"
   ]
  },
  {
   "cell_type": "markdown",
   "metadata": {},
   "source": [
    "Plot. (NB, plot anchoring using the DataFrame plot method is wrong)"
   ]
  },
  {
   "cell_type": "code",
   "execution_count": 5,
   "metadata": {},
   "outputs": [
    {
     "data": {
      "image/png": "[encoded data removed]",
      "text/plain": [
       "<Figure size 432x288 with 1 Axes>"
      ]
     },
     "metadata": {
      "needs_background": "light"
     },
     "output_type": "display_data"
    }
   ],
   "source": [
    "plt.plot(df.index, df/1e3, '-+')\n",
    "\n",
    "plt.grid()\n",
    "plt.xlim('2010','2020')\n",
    "plt.ylim(ymin=0);"
   ]
  },
  {
   "cell_type": "markdown",
   "metadata": {},
   "source": [
    "### Hourly interpolation"
   ]
  },
  {
   "cell_type": "code",
   "execution_count": null,
   "metadata": {},
   "outputs": [],
   "source": [
    "inspow = df['2012':].resample('30T').interpolate()"
   ]
  },
  {
   "cell_type": "code",
   "execution_count": 25,
   "metadata": {},
   "outputs": [
    {
     "data": {
      "text/html": [
       "<div>\n",
       "<style scoped>\n",
       "    .dataframe tbody tr th:only-of-type {\n",
       "        vertical-align: middle;\n",
       "    }\n",
       "\n",
       "    .dataframe tbody tr th {\n",
       "        vertical-align: top;\n",
       "    }\n",
       "\n",
       "    .dataframe thead th {\n",
       "        text-align: right;\n",
       "    }\n",
       "</style>\n",
       "<table border=\"1\" class=\"dataframe\">\n",
       "  <thead>\n",
       "    <tr style=\"text-align: right;\">\n",
       "      <th></th>\n",
       "      <th>P_wind</th>\n",
       "      <th>P_sol</th>\n",
       "    </tr>\n",
       "  </thead>\n",
       "  <tbody>\n",
       "    <tr>\n",
       "      <th>2012-12-31 00:00:00</th>\n",
       "      <td>7536.000000</td>\n",
       "      <td>3727.000000</td>\n",
       "    </tr>\n",
       "    <tr>\n",
       "      <th>2012-12-31 00:30:00</th>\n",
       "      <td>7536.035445</td>\n",
       "      <td>3727.036473</td>\n",
       "    </tr>\n",
       "    <tr>\n",
       "      <th>2012-12-31 01:00:00</th>\n",
       "      <td>7536.070890</td>\n",
       "      <td>3727.072945</td>\n",
       "    </tr>\n",
       "  </tbody>\n",
       "</table>\n",
       "</div>"
      ],
      "text/plain": [
       "                          P_wind        P_sol\n",
       "2012-12-31 00:00:00  7536.000000  3727.000000\n",
       "2012-12-31 00:30:00  7536.035445  3727.036473\n",
       "2012-12-31 01:00:00  7536.070890  3727.072945"
      ]
     },
     "execution_count": 25,
     "metadata": {},
     "output_type": "execute_result"
    }
   ],
   "source": [
    "inspow.head(3)"
   ]
  },
  {
   "cell_type": "markdown",
   "metadata": {},
   "source": [
    "NB : last index is `2018-12-31 00:00:00`, and not `2018-12-31 23:30:00` as we may whish"
   ]
  },
  {
   "cell_type": "code",
   "execution_count": 26,
   "metadata": {},
   "outputs": [
    {
     "data": {
      "text/html": [
       "<div>\n",
       "<style scoped>\n",
       "    .dataframe tbody tr th:only-of-type {\n",
       "        vertical-align: middle;\n",
       "    }\n",
       "\n",
       "    .dataframe tbody tr th {\n",
       "        vertical-align: top;\n",
       "    }\n",
       "\n",
       "    .dataframe thead th {\n",
       "        text-align: right;\n",
       "    }\n",
       "</style>\n",
       "<table border=\"1\" class=\"dataframe\">\n",
       "  <thead>\n",
       "    <tr style=\"text-align: right;\">\n",
       "      <th></th>\n",
       "      <th>P_wind</th>\n",
       "      <th>P_sol</th>\n",
       "    </tr>\n",
       "  </thead>\n",
       "  <tbody>\n",
       "    <tr>\n",
       "      <th>2018-12-30 23:00:00</th>\n",
       "      <td>15107.822146</td>\n",
       "      <td>8526.900342</td>\n",
       "    </tr>\n",
       "    <tr>\n",
       "      <th>2018-12-30 23:30:00</th>\n",
       "      <td>15107.911073</td>\n",
       "      <td>8526.950171</td>\n",
       "    </tr>\n",
       "    <tr>\n",
       "      <th>2018-12-31 00:00:00</th>\n",
       "      <td>15108.000000</td>\n",
       "      <td>8527.000000</td>\n",
       "    </tr>\n",
       "  </tbody>\n",
       "</table>\n",
       "</div>"
      ],
      "text/plain": [
       "                           P_wind        P_sol\n",
       "2018-12-30 23:00:00  15107.822146  8526.900342\n",
       "2018-12-30 23:30:00  15107.911073  8526.950171\n",
       "2018-12-31 00:00:00  15108.000000  8527.000000"
      ]
     },
     "execution_count": 26,
     "metadata": {},
     "output_type": "execute_result"
    }
   ],
   "source": [
    "inspow.tail(3)"
   ]
  },
  {
   "cell_type": "markdown",
   "metadata": {},
   "source": [
    "Fix the last day of 2018"
   ]
  },
  {
   "cell_type": "code",
   "execution_count": 79,
   "metadata": {},
   "outputs": [
    {
     "data": {
      "text/html": [
       "<div>\n",
       "<style scoped>\n",
       "    .dataframe tbody tr th:only-of-type {\n",
       "        vertical-align: middle;\n",
       "    }\n",
       "\n",
       "    .dataframe tbody tr th {\n",
       "        vertical-align: top;\n",
       "    }\n",
       "\n",
       "    .dataframe thead th {\n",
       "        text-align: right;\n",
       "    }\n",
       "</style>\n",
       "<table border=\"1\" class=\"dataframe\">\n",
       "  <thead>\n",
       "    <tr style=\"text-align: right;\">\n",
       "      <th></th>\n",
       "    </tr>\n",
       "  </thead>\n",
       "  <tbody>\n",
       "    <tr>\n",
       "      <th>2018-12-31 22:30:00</th>\n",
       "    </tr>\n",
       "    <tr>\n",
       "      <th>2018-12-31 23:00:00</th>\n",
       "    </tr>\n",
       "    <tr>\n",
       "      <th>2018-12-31 23:30:00</th>\n",
       "    </tr>\n",
       "  </tbody>\n",
       "</table>\n",
       "</div>"
      ],
      "text/plain": [
       "Empty DataFrame\n",
       "Columns: []\n",
       "Index: [2018-12-31 22:30:00, 2018-12-31 23:00:00, 2018-12-31 23:30:00]"
      ]
     },
     "execution_count": 79,
     "metadata": {},
     "output_type": "execute_result"
    }
   ],
   "source": [
    "last_day = pd.date_range('2018-12-31 00:30','2018-12-31 23:30',freq='30T')\n",
    "last_day\n",
    "last_day = pd.DataFrame(index=last_day)\n",
    "last_day.tail(3)"
   ]
  },
  {
   "cell_type": "code",
   "execution_count": 82,
   "metadata": {},
   "outputs": [
    {
     "data": {
      "text/html": [
       "<div>\n",
       "<style scoped>\n",
       "    .dataframe tbody tr th:only-of-type {\n",
       "        vertical-align: middle;\n",
       "    }\n",
       "\n",
       "    .dataframe tbody tr th {\n",
       "        vertical-align: top;\n",
       "    }\n",
       "\n",
       "    .dataframe thead th {\n",
       "        text-align: right;\n",
       "    }\n",
       "</style>\n",
       "<table border=\"1\" class=\"dataframe\">\n",
       "  <thead>\n",
       "    <tr style=\"text-align: right;\">\n",
       "      <th></th>\n",
       "      <th>P_wind</th>\n",
       "      <th>P_sol</th>\n",
       "    </tr>\n",
       "  </thead>\n",
       "  <tbody>\n",
       "    <tr>\n",
       "      <th>2018-12-31 21:30:00</th>\n",
       "      <td>NaN</td>\n",
       "      <td>NaN</td>\n",
       "    </tr>\n",
       "    <tr>\n",
       "      <th>2018-12-31 22:00:00</th>\n",
       "      <td>NaN</td>\n",
       "      <td>NaN</td>\n",
       "    </tr>\n",
       "    <tr>\n",
       "      <th>2018-12-31 22:30:00</th>\n",
       "      <td>NaN</td>\n",
       "      <td>NaN</td>\n",
       "    </tr>\n",
       "    <tr>\n",
       "      <th>2018-12-31 23:00:00</th>\n",
       "      <td>NaN</td>\n",
       "      <td>NaN</td>\n",
       "    </tr>\n",
       "    <tr>\n",
       "      <th>2018-12-31 23:30:00</th>\n",
       "      <td>NaN</td>\n",
       "      <td>NaN</td>\n",
       "    </tr>\n",
       "  </tbody>\n",
       "</table>\n",
       "</div>"
      ],
      "text/plain": [
       "                     P_wind  P_sol\n",
       "2018-12-31 21:30:00     NaN    NaN\n",
       "2018-12-31 22:00:00     NaN    NaN\n",
       "2018-12-31 22:30:00     NaN    NaN\n",
       "2018-12-31 23:00:00     NaN    NaN\n",
       "2018-12-31 23:30:00     NaN    NaN"
      ]
     },
     "execution_count": 82,
     "metadata": {},
     "output_type": "execute_result"
    }
   ],
   "source": [
    "inspow = pd.concat([inspow, last_day], sort=False)\n",
    "inspow.tail(3)"
   ]
  },
  {
   "cell_type": "code",
   "execution_count": 84,
   "metadata": {},
   "outputs": [
    {
     "data": {
      "text/html": [
       "<div>\n",
       "<style scoped>\n",
       "    .dataframe tbody tr th:only-of-type {\n",
       "        vertical-align: middle;\n",
       "    }\n",
       "\n",
       "    .dataframe tbody tr th {\n",
       "        vertical-align: top;\n",
       "    }\n",
       "\n",
       "    .dataframe thead th {\n",
       "        text-align: right;\n",
       "    }\n",
       "</style>\n",
       "<table border=\"1\" class=\"dataframe\">\n",
       "  <thead>\n",
       "    <tr style=\"text-align: right;\">\n",
       "      <th></th>\n",
       "      <th>P_wind</th>\n",
       "      <th>P_sol</th>\n",
       "    </tr>\n",
       "  </thead>\n",
       "  <tbody>\n",
       "    <tr>\n",
       "      <th>2018-12-31 21:30:00</th>\n",
       "      <td>15108.0</td>\n",
       "      <td>8527.0</td>\n",
       "    </tr>\n",
       "    <tr>\n",
       "      <th>2018-12-31 22:00:00</th>\n",
       "      <td>15108.0</td>\n",
       "      <td>8527.0</td>\n",
       "    </tr>\n",
       "    <tr>\n",
       "      <th>2018-12-31 22:30:00</th>\n",
       "      <td>15108.0</td>\n",
       "      <td>8527.0</td>\n",
       "    </tr>\n",
       "    <tr>\n",
       "      <th>2018-12-31 23:00:00</th>\n",
       "      <td>15108.0</td>\n",
       "      <td>8527.0</td>\n",
       "    </tr>\n",
       "    <tr>\n",
       "      <th>2018-12-31 23:30:00</th>\n",
       "      <td>15108.0</td>\n",
       "      <td>8527.0</td>\n",
       "    </tr>\n",
       "  </tbody>\n",
       "</table>\n",
       "</div>"
      ],
      "text/plain": [
       "                      P_wind   P_sol\n",
       "2018-12-31 21:30:00  15108.0  8527.0\n",
       "2018-12-31 22:00:00  15108.0  8527.0\n",
       "2018-12-31 22:30:00  15108.0  8527.0\n",
       "2018-12-31 23:00:00  15108.0  8527.0\n",
       "2018-12-31 23:30:00  15108.0  8527.0"
      ]
     },
     "execution_count": 84,
     "metadata": {},
     "output_type": "execute_result"
    }
   ],
   "source": [
    "inspow = inspow.ffill()\n",
    "inspow.tail(3)"
   ]
  },
  {
   "cell_type": "code",
   "execution_count": 85,
   "metadata": {},
   "outputs": [
    {
     "data": {
      "image/png": "[encoded data removed]",
      "text/plain": [
       "<Figure size 432x288 with 1 Axes>"
      ]
     },
     "metadata": {
      "needs_background": "light"
     },
     "output_type": "display_data"
    }
   ],
   "source": [
    "(inspow/1e3).plot()\n",
    "plt.grid()\n",
    "plt.xlim('2010','2020')\n",
    "plt.ylim(ymin=0);"
   ]
  },
  {
   "cell_type": "markdown",
   "metadata": {},
   "source": [
    "## Dataset 2: Production data"
   ]
  },
  {
   "cell_type": "code",
   "execution_count": 34,
   "metadata": {},
   "outputs": [],
   "source": [
    "df = pd.read_csv('eCO2mix_RTE_Annuel-Definitif_2015.xls.xz', compression='xz', encoding='windows-1252',\n",
    "                 sep='\\t', skipfooter=2,engine='python',\n",
    "                 index_col=False, parse_dates={'date':[2,3]})"
   ]
  },
  {
   "cell_type": "code",
   "execution_count": 35,
   "metadata": {},
   "outputs": [
    {
     "data": {
      "text/html": [
       "<div>\n",
       "<style scoped>\n",
       "    .dataframe tbody tr th:only-of-type {\n",
       "        vertical-align: middle;\n",
       "    }\n",
       "\n",
       "    .dataframe tbody tr th {\n",
       "        vertical-align: top;\n",
       "    }\n",
       "\n",
       "    .dataframe thead th {\n",
       "        text-align: right;\n",
       "    }\n",
       "</style>\n",
       "<table border=\"1\" class=\"dataframe\">\n",
       "  <thead>\n",
       "    <tr style=\"text-align: right;\">\n",
       "      <th></th>\n",
       "      <th>date</th>\n",
       "      <th>Périmètre</th>\n",
       "      <th>Nature</th>\n",
       "      <th>Consommation</th>\n",
       "      <th>Prévision J-1</th>\n",
       "      <th>Prévision J</th>\n",
       "      <th>Fioul</th>\n",
       "      <th>Charbon</th>\n",
       "      <th>Gaz</th>\n",
       "      <th>Nucléaire</th>\n",
       "      <th>...</th>\n",
       "      <th>Gaz - TAC</th>\n",
       "      <th>Gaz - Cogén.</th>\n",
       "      <th>Gaz - CCG</th>\n",
       "      <th>Gaz - Autres</th>\n",
       "      <th>Hydraulique - Fil de l?eau + éclusée</th>\n",
       "      <th>Hydraulique - Lacs</th>\n",
       "      <th>Hydraulique - STEP turbinage</th>\n",
       "      <th>Bioénergies - Déchets</th>\n",
       "      <th>Bioénergies - Biomasse</th>\n",
       "      <th>Bioénergies - Biogaz</th>\n",
       "    </tr>\n",
       "  </thead>\n",
       "  <tbody>\n",
       "    <tr>\n",
       "      <th>0</th>\n",
       "      <td>2015-01-01 00:00:00</td>\n",
       "      <td>France</td>\n",
       "      <td>Données définitives</td>\n",
       "      <td>74494.0</td>\n",
       "      <td>72900</td>\n",
       "      <td>73700</td>\n",
       "      <td>269.0</td>\n",
       "      <td>2487.0</td>\n",
       "      <td>3476.0</td>\n",
       "      <td>57982.0</td>\n",
       "      <td>...</td>\n",
       "      <td>3.0</td>\n",
       "      <td>2056.0</td>\n",
       "      <td>1350.0</td>\n",
       "      <td>66.0</td>\n",
       "      <td>4810.0</td>\n",
       "      <td>3093.0</td>\n",
       "      <td>1418.0</td>\n",
       "      <td>560.0</td>\n",
       "      <td>181.0</td>\n",
       "      <td>197.0</td>\n",
       "    </tr>\n",
       "    <tr>\n",
       "      <th>1</th>\n",
       "      <td>2015-01-01 00:15:00</td>\n",
       "      <td>France</td>\n",
       "      <td>Données définitives</td>\n",
       "      <td>NaN</td>\n",
       "      <td>72250</td>\n",
       "      <td>73050</td>\n",
       "      <td>NaN</td>\n",
       "      <td>NaN</td>\n",
       "      <td>NaN</td>\n",
       "      <td>NaN</td>\n",
       "      <td>...</td>\n",
       "      <td>NaN</td>\n",
       "      <td>NaN</td>\n",
       "      <td>NaN</td>\n",
       "      <td>NaN</td>\n",
       "      <td>NaN</td>\n",
       "      <td>NaN</td>\n",
       "      <td>NaN</td>\n",
       "      <td>NaN</td>\n",
       "      <td>NaN</td>\n",
       "      <td>NaN</td>\n",
       "    </tr>\n",
       "    <tr>\n",
       "      <th>2</th>\n",
       "      <td>2015-01-01 00:30:00</td>\n",
       "      <td>France</td>\n",
       "      <td>Données définitives</td>\n",
       "      <td>73481.0</td>\n",
       "      <td>71600</td>\n",
       "      <td>72400</td>\n",
       "      <td>319.0</td>\n",
       "      <td>2087.0</td>\n",
       "      <td>2691.0</td>\n",
       "      <td>57856.0</td>\n",
       "      <td>...</td>\n",
       "      <td>9.0</td>\n",
       "      <td>1926.0</td>\n",
       "      <td>670.0</td>\n",
       "      <td>86.0</td>\n",
       "      <td>4616.0</td>\n",
       "      <td>3561.0</td>\n",
       "      <td>1487.0</td>\n",
       "      <td>507.0</td>\n",
       "      <td>180.0</td>\n",
       "      <td>210.0</td>\n",
       "    </tr>\n",
       "    <tr>\n",
       "      <th>3</th>\n",
       "      <td>2015-01-01 00:45:00</td>\n",
       "      <td>France</td>\n",
       "      <td>Données définitives</td>\n",
       "      <td>NaN</td>\n",
       "      <td>70750</td>\n",
       "      <td>71500</td>\n",
       "      <td>NaN</td>\n",
       "      <td>NaN</td>\n",
       "      <td>NaN</td>\n",
       "      <td>NaN</td>\n",
       "      <td>...</td>\n",
       "      <td>NaN</td>\n",
       "      <td>NaN</td>\n",
       "      <td>NaN</td>\n",
       "      <td>NaN</td>\n",
       "      <td>NaN</td>\n",
       "      <td>NaN</td>\n",
       "      <td>NaN</td>\n",
       "      <td>NaN</td>\n",
       "      <td>NaN</td>\n",
       "      <td>NaN</td>\n",
       "    </tr>\n",
       "    <tr>\n",
       "      <th>4</th>\n",
       "      <td>2015-01-01 01:00:00</td>\n",
       "      <td>France</td>\n",
       "      <td>Données définitives</td>\n",
       "      <td>71506.0</td>\n",
       "      <td>69900</td>\n",
       "      <td>70600</td>\n",
       "      <td>320.0</td>\n",
       "      <td>1716.0</td>\n",
       "      <td>2436.0</td>\n",
       "      <td>57787.0</td>\n",
       "      <td>...</td>\n",
       "      <td>9.0</td>\n",
       "      <td>1919.0</td>\n",
       "      <td>422.0</td>\n",
       "      <td>86.0</td>\n",
       "      <td>4492.0</td>\n",
       "      <td>2805.0</td>\n",
       "      <td>1182.0</td>\n",
       "      <td>508.0</td>\n",
       "      <td>174.0</td>\n",
       "      <td>212.0</td>\n",
       "    </tr>\n",
       "  </tbody>\n",
       "</table>\n",
       "<p>5 rows × 35 columns</p>\n",
       "</div>"
      ],
      "text/plain": [
       "                 date Périmètre               Nature  Consommation  \\\n",
       "0 2015-01-01 00:00:00    France  Données définitives       74494.0   \n",
       "1 2015-01-01 00:15:00    France  Données définitives           NaN   \n",
       "2 2015-01-01 00:30:00    France  Données définitives       73481.0   \n",
       "3 2015-01-01 00:45:00    France  Données définitives           NaN   \n",
       "4 2015-01-01 01:00:00    France  Données définitives       71506.0   \n",
       "\n",
       "   Prévision J-1  Prévision J  Fioul  Charbon     Gaz  Nucléaire  \\\n",
       "0          72900        73700  269.0   2487.0  3476.0    57982.0   \n",
       "1          72250        73050    NaN      NaN     NaN        NaN   \n",
       "2          71600        72400  319.0   2087.0  2691.0    57856.0   \n",
       "3          70750        71500    NaN      NaN     NaN        NaN   \n",
       "4          69900        70600  320.0   1716.0  2436.0    57787.0   \n",
       "\n",
       "          ...           Gaz - TAC  Gaz - Cogén.  Gaz - CCG  Gaz - Autres  \\\n",
       "0         ...                 3.0        2056.0     1350.0          66.0   \n",
       "1         ...                 NaN           NaN        NaN           NaN   \n",
       "2         ...                 9.0        1926.0      670.0          86.0   \n",
       "3         ...                 NaN           NaN        NaN           NaN   \n",
       "4         ...                 9.0        1919.0      422.0          86.0   \n",
       "\n",
       "   Hydraulique - Fil de l?eau + éclusée  Hydraulique - Lacs  \\\n",
       "0                                4810.0              3093.0   \n",
       "1                                   NaN                 NaN   \n",
       "2                                4616.0              3561.0   \n",
       "3                                   NaN                 NaN   \n",
       "4                                4492.0              2805.0   \n",
       "\n",
       "   Hydraulique - STEP turbinage Bioénergies - Déchets Bioénergies - Biomasse  \\\n",
       "0                        1418.0                 560.0                  181.0   \n",
       "1                           NaN                   NaN                    NaN   \n",
       "2                        1487.0                 507.0                  180.0   \n",
       "3                           NaN                   NaN                    NaN   \n",
       "4                        1182.0                 508.0                  174.0   \n",
       "\n",
       "  Bioénergies - Biogaz  \n",
       "0                197.0  \n",
       "1                  NaN  \n",
       "2                210.0  \n",
       "3                  NaN  \n",
       "4                212.0  \n",
       "\n",
       "[5 rows x 35 columns]"
      ]
     },
     "execution_count": 35,
     "metadata": {},
     "output_type": "execute_result"
    }
   ],
   "source": [
    "df.head()"
   ]
  },
  {
   "cell_type": "markdown",
   "metadata": {},
   "source": [
    "keep only data every 30 minutes"
   ]
  },
  {
   "cell_type": "code",
   "execution_count": 36,
   "metadata": {},
   "outputs": [
    {
     "data": {
      "text/html": [
       "<div>\n",
       "<style scoped>\n",
       "    .dataframe tbody tr th:only-of-type {\n",
       "        vertical-align: middle;\n",
       "    }\n",
       "\n",
       "    .dataframe tbody tr th {\n",
       "        vertical-align: top;\n",
       "    }\n",
       "\n",
       "    .dataframe thead th {\n",
       "        text-align: right;\n",
       "    }\n",
       "</style>\n",
       "<table border=\"1\" class=\"dataframe\">\n",
       "  <thead>\n",
       "    <tr style=\"text-align: right;\">\n",
       "      <th></th>\n",
       "      <th>date</th>\n",
       "      <th>Périmètre</th>\n",
       "      <th>Nature</th>\n",
       "      <th>Consommation</th>\n",
       "      <th>Prévision J-1</th>\n",
       "      <th>Prévision J</th>\n",
       "      <th>Fioul</th>\n",
       "      <th>Charbon</th>\n",
       "      <th>Gaz</th>\n",
       "      <th>Nucléaire</th>\n",
       "      <th>...</th>\n",
       "      <th>Gaz - TAC</th>\n",
       "      <th>Gaz - Cogén.</th>\n",
       "      <th>Gaz - CCG</th>\n",
       "      <th>Gaz - Autres</th>\n",
       "      <th>Hydraulique - Fil de l?eau + éclusée</th>\n",
       "      <th>Hydraulique - Lacs</th>\n",
       "      <th>Hydraulique - STEP turbinage</th>\n",
       "      <th>Bioénergies - Déchets</th>\n",
       "      <th>Bioénergies - Biomasse</th>\n",
       "      <th>Bioénergies - Biogaz</th>\n",
       "    </tr>\n",
       "  </thead>\n",
       "  <tbody>\n",
       "    <tr>\n",
       "      <th>0</th>\n",
       "      <td>2015-01-01 00:00:00</td>\n",
       "      <td>France</td>\n",
       "      <td>Données définitives</td>\n",
       "      <td>74494.0</td>\n",
       "      <td>72900</td>\n",
       "      <td>73700</td>\n",
       "      <td>269.0</td>\n",
       "      <td>2487.0</td>\n",
       "      <td>3476.0</td>\n",
       "      <td>57982.0</td>\n",
       "      <td>...</td>\n",
       "      <td>3.0</td>\n",
       "      <td>2056.0</td>\n",
       "      <td>1350.0</td>\n",
       "      <td>66.0</td>\n",
       "      <td>4810.0</td>\n",
       "      <td>3093.0</td>\n",
       "      <td>1418.0</td>\n",
       "      <td>560.0</td>\n",
       "      <td>181.0</td>\n",
       "      <td>197.0</td>\n",
       "    </tr>\n",
       "    <tr>\n",
       "      <th>2</th>\n",
       "      <td>2015-01-01 00:30:00</td>\n",
       "      <td>France</td>\n",
       "      <td>Données définitives</td>\n",
       "      <td>73481.0</td>\n",
       "      <td>71600</td>\n",
       "      <td>72400</td>\n",
       "      <td>319.0</td>\n",
       "      <td>2087.0</td>\n",
       "      <td>2691.0</td>\n",
       "      <td>57856.0</td>\n",
       "      <td>...</td>\n",
       "      <td>9.0</td>\n",
       "      <td>1926.0</td>\n",
       "      <td>670.0</td>\n",
       "      <td>86.0</td>\n",
       "      <td>4616.0</td>\n",
       "      <td>3561.0</td>\n",
       "      <td>1487.0</td>\n",
       "      <td>507.0</td>\n",
       "      <td>180.0</td>\n",
       "      <td>210.0</td>\n",
       "    </tr>\n",
       "    <tr>\n",
       "      <th>4</th>\n",
       "      <td>2015-01-01 01:00:00</td>\n",
       "      <td>France</td>\n",
       "      <td>Données définitives</td>\n",
       "      <td>71506.0</td>\n",
       "      <td>69900</td>\n",
       "      <td>70600</td>\n",
       "      <td>320.0</td>\n",
       "      <td>1716.0</td>\n",
       "      <td>2436.0</td>\n",
       "      <td>57787.0</td>\n",
       "      <td>...</td>\n",
       "      <td>9.0</td>\n",
       "      <td>1919.0</td>\n",
       "      <td>422.0</td>\n",
       "      <td>86.0</td>\n",
       "      <td>4492.0</td>\n",
       "      <td>2805.0</td>\n",
       "      <td>1182.0</td>\n",
       "      <td>508.0</td>\n",
       "      <td>174.0</td>\n",
       "      <td>212.0</td>\n",
       "    </tr>\n",
       "    <tr>\n",
       "      <th>6</th>\n",
       "      <td>2015-01-01 01:30:00</td>\n",
       "      <td>France</td>\n",
       "      <td>Données définitives</td>\n",
       "      <td>71505.0</td>\n",
       "      <td>70600</td>\n",
       "      <td>71300</td>\n",
       "      <td>320.0</td>\n",
       "      <td>1589.0</td>\n",
       "      <td>2440.0</td>\n",
       "      <td>58156.0</td>\n",
       "      <td>...</td>\n",
       "      <td>10.0</td>\n",
       "      <td>1924.0</td>\n",
       "      <td>420.0</td>\n",
       "      <td>86.0</td>\n",
       "      <td>4369.0</td>\n",
       "      <td>2623.0</td>\n",
       "      <td>1301.0</td>\n",
       "      <td>512.0</td>\n",
       "      <td>180.0</td>\n",
       "      <td>212.0</td>\n",
       "    </tr>\n",
       "    <tr>\n",
       "      <th>8</th>\n",
       "      <td>2015-01-01 02:00:00</td>\n",
       "      <td>France</td>\n",
       "      <td>Données définitives</td>\n",
       "      <td>71134.0</td>\n",
       "      <td>70500</td>\n",
       "      <td>71100</td>\n",
       "      <td>320.0</td>\n",
       "      <td>1490.0</td>\n",
       "      <td>2441.0</td>\n",
       "      <td>57974.0</td>\n",
       "      <td>...</td>\n",
       "      <td>9.0</td>\n",
       "      <td>1927.0</td>\n",
       "      <td>419.0</td>\n",
       "      <td>86.0</td>\n",
       "      <td>4318.0</td>\n",
       "      <td>2670.0</td>\n",
       "      <td>1115.0</td>\n",
       "      <td>509.0</td>\n",
       "      <td>182.0</td>\n",
       "      <td>211.0</td>\n",
       "    </tr>\n",
       "  </tbody>\n",
       "</table>\n",
       "<p>5 rows × 35 columns</p>\n",
       "</div>"
      ],
      "text/plain": [
       "                 date Périmètre               Nature  Consommation  \\\n",
       "0 2015-01-01 00:00:00    France  Données définitives       74494.0   \n",
       "2 2015-01-01 00:30:00    France  Données définitives       73481.0   \n",
       "4 2015-01-01 01:00:00    France  Données définitives       71506.0   \n",
       "6 2015-01-01 01:30:00    France  Données définitives       71505.0   \n",
       "8 2015-01-01 02:00:00    France  Données définitives       71134.0   \n",
       "\n",
       "   Prévision J-1  Prévision J  Fioul  Charbon     Gaz  Nucléaire  \\\n",
       "0          72900        73700  269.0   2487.0  3476.0    57982.0   \n",
       "2          71600        72400  319.0   2087.0  2691.0    57856.0   \n",
       "4          69900        70600  320.0   1716.0  2436.0    57787.0   \n",
       "6          70600        71300  320.0   1589.0  2440.0    58156.0   \n",
       "8          70500        71100  320.0   1490.0  2441.0    57974.0   \n",
       "\n",
       "          ...           Gaz - TAC  Gaz - Cogén.  Gaz - CCG  Gaz - Autres  \\\n",
       "0         ...                 3.0        2056.0     1350.0          66.0   \n",
       "2         ...                 9.0        1926.0      670.0          86.0   \n",
       "4         ...                 9.0        1919.0      422.0          86.0   \n",
       "6         ...                10.0        1924.0      420.0          86.0   \n",
       "8         ...                 9.0        1927.0      419.0          86.0   \n",
       "\n",
       "   Hydraulique - Fil de l?eau + éclusée  Hydraulique - Lacs  \\\n",
       "0                                4810.0              3093.0   \n",
       "2                                4616.0              3561.0   \n",
       "4                                4492.0              2805.0   \n",
       "6                                4369.0              2623.0   \n",
       "8                                4318.0              2670.0   \n",
       "\n",
       "   Hydraulique - STEP turbinage Bioénergies - Déchets Bioénergies - Biomasse  \\\n",
       "0                        1418.0                 560.0                  181.0   \n",
       "2                        1487.0                 507.0                  180.0   \n",
       "4                        1182.0                 508.0                  174.0   \n",
       "6                        1301.0                 512.0                  180.0   \n",
       "8                        1115.0                 509.0                  182.0   \n",
       "\n",
       "  Bioénergies - Biogaz  \n",
       "0                197.0  \n",
       "2                210.0  \n",
       "4                212.0  \n",
       "6                212.0  \n",
       "8                211.0  \n",
       "\n",
       "[5 rows x 35 columns]"
      ]
     },
     "execution_count": 36,
     "metadata": {},
     "output_type": "execute_result"
    }
   ],
   "source": [
    "df = df.iloc[::2,:]\n",
    "df.head()"
   ]
  },
  {
   "cell_type": "code",
   "execution_count": 37,
   "metadata": {},
   "outputs": [
    {
     "data": {
      "text/html": [
       "<div>\n",
       "<style scoped>\n",
       "    .dataframe tbody tr th:only-of-type {\n",
       "        vertical-align: middle;\n",
       "    }\n",
       "\n",
       "    .dataframe tbody tr th {\n",
       "        vertical-align: top;\n",
       "    }\n",
       "\n",
       "    .dataframe thead th {\n",
       "        text-align: right;\n",
       "    }\n",
       "</style>\n",
       "<table border=\"1\" class=\"dataframe\">\n",
       "  <thead>\n",
       "    <tr style=\"text-align: right;\">\n",
       "      <th></th>\n",
       "      <th>Périmètre</th>\n",
       "      <th>Nature</th>\n",
       "      <th>Consommation</th>\n",
       "      <th>Prévision J-1</th>\n",
       "      <th>Prévision J</th>\n",
       "      <th>Fioul</th>\n",
       "      <th>Charbon</th>\n",
       "      <th>Gaz</th>\n",
       "      <th>Nucléaire</th>\n",
       "      <th>Eolien</th>\n",
       "      <th>...</th>\n",
       "      <th>Gaz - TAC</th>\n",
       "      <th>Gaz - Cogén.</th>\n",
       "      <th>Gaz - CCG</th>\n",
       "      <th>Gaz - Autres</th>\n",
       "      <th>Hydraulique - Fil de l?eau + éclusée</th>\n",
       "      <th>Hydraulique - Lacs</th>\n",
       "      <th>Hydraulique - STEP turbinage</th>\n",
       "      <th>Bioénergies - Déchets</th>\n",
       "      <th>Bioénergies - Biomasse</th>\n",
       "      <th>Bioénergies - Biogaz</th>\n",
       "    </tr>\n",
       "    <tr>\n",
       "      <th></th>\n",
       "      <th></th>\n",
       "      <th></th>\n",
       "      <th></th>\n",
       "      <th></th>\n",
       "      <th></th>\n",
       "      <th></th>\n",
       "      <th></th>\n",
       "      <th></th>\n",
       "      <th></th>\n",
       "      <th></th>\n",
       "      <th></th>\n",
       "      <th></th>\n",
       "      <th></th>\n",
       "      <th></th>\n",
       "      <th></th>\n",
       "      <th></th>\n",
       "      <th></th>\n",
       "      <th></th>\n",
       "      <th></th>\n",
       "      <th></th>\n",
       "      <th></th>\n",
       "    </tr>\n",
       "  </thead>\n",
       "  <tbody>\n",
       "    <tr>\n",
       "      <th>2015-01-01 00:00:00</th>\n",
       "      <td>France</td>\n",
       "      <td>Données définitives</td>\n",
       "      <td>74494.0</td>\n",
       "      <td>72900</td>\n",
       "      <td>73700</td>\n",
       "      <td>269.0</td>\n",
       "      <td>2487.0</td>\n",
       "      <td>3476.0</td>\n",
       "      <td>57982.0</td>\n",
       "      <td>1268.0</td>\n",
       "      <td>...</td>\n",
       "      <td>3.0</td>\n",
       "      <td>2056.0</td>\n",
       "      <td>1350.0</td>\n",
       "      <td>66.0</td>\n",
       "      <td>4810.0</td>\n",
       "      <td>3093.0</td>\n",
       "      <td>1418.0</td>\n",
       "      <td>560.0</td>\n",
       "      <td>181.0</td>\n",
       "      <td>197.0</td>\n",
       "    </tr>\n",
       "    <tr>\n",
       "      <th>2015-01-01 00:30:00</th>\n",
       "      <td>France</td>\n",
       "      <td>Données définitives</td>\n",
       "      <td>73481.0</td>\n",
       "      <td>71600</td>\n",
       "      <td>72400</td>\n",
       "      <td>319.0</td>\n",
       "      <td>2087.0</td>\n",
       "      <td>2691.0</td>\n",
       "      <td>57856.0</td>\n",
       "      <td>1343.0</td>\n",
       "      <td>...</td>\n",
       "      <td>9.0</td>\n",
       "      <td>1926.0</td>\n",
       "      <td>670.0</td>\n",
       "      <td>86.0</td>\n",
       "      <td>4616.0</td>\n",
       "      <td>3561.0</td>\n",
       "      <td>1487.0</td>\n",
       "      <td>507.0</td>\n",
       "      <td>180.0</td>\n",
       "      <td>210.0</td>\n",
       "    </tr>\n",
       "    <tr>\n",
       "      <th>2015-01-01 01:00:00</th>\n",
       "      <td>France</td>\n",
       "      <td>Données définitives</td>\n",
       "      <td>71506.0</td>\n",
       "      <td>69900</td>\n",
       "      <td>70600</td>\n",
       "      <td>320.0</td>\n",
       "      <td>1716.0</td>\n",
       "      <td>2436.0</td>\n",
       "      <td>57787.0</td>\n",
       "      <td>1356.0</td>\n",
       "      <td>...</td>\n",
       "      <td>9.0</td>\n",
       "      <td>1919.0</td>\n",
       "      <td>422.0</td>\n",
       "      <td>86.0</td>\n",
       "      <td>4492.0</td>\n",
       "      <td>2805.0</td>\n",
       "      <td>1182.0</td>\n",
       "      <td>508.0</td>\n",
       "      <td>174.0</td>\n",
       "      <td>212.0</td>\n",
       "    </tr>\n",
       "    <tr>\n",
       "      <th>2015-01-01 01:30:00</th>\n",
       "      <td>France</td>\n",
       "      <td>Données définitives</td>\n",
       "      <td>71505.0</td>\n",
       "      <td>70600</td>\n",
       "      <td>71300</td>\n",
       "      <td>320.0</td>\n",
       "      <td>1589.0</td>\n",
       "      <td>2440.0</td>\n",
       "      <td>58156.0</td>\n",
       "      <td>1412.0</td>\n",
       "      <td>...</td>\n",
       "      <td>10.0</td>\n",
       "      <td>1924.0</td>\n",
       "      <td>420.0</td>\n",
       "      <td>86.0</td>\n",
       "      <td>4369.0</td>\n",
       "      <td>2623.0</td>\n",
       "      <td>1301.0</td>\n",
       "      <td>512.0</td>\n",
       "      <td>180.0</td>\n",
       "      <td>212.0</td>\n",
       "    </tr>\n",
       "    <tr>\n",
       "      <th>2015-01-01 02:00:00</th>\n",
       "      <td>France</td>\n",
       "      <td>Données définitives</td>\n",
       "      <td>71134.0</td>\n",
       "      <td>70500</td>\n",
       "      <td>71100</td>\n",
       "      <td>320.0</td>\n",
       "      <td>1490.0</td>\n",
       "      <td>2441.0</td>\n",
       "      <td>57974.0</td>\n",
       "      <td>1447.0</td>\n",
       "      <td>...</td>\n",
       "      <td>9.0</td>\n",
       "      <td>1927.0</td>\n",
       "      <td>419.0</td>\n",
       "      <td>86.0</td>\n",
       "      <td>4318.0</td>\n",
       "      <td>2670.0</td>\n",
       "      <td>1115.0</td>\n",
       "      <td>509.0</td>\n",
       "      <td>182.0</td>\n",
       "      <td>211.0</td>\n",
       "    </tr>\n",
       "  </tbody>\n",
       "</table>\n",
       "<p>5 rows × 34 columns</p>\n",
       "</div>"
      ],
      "text/plain": [
       "                    Périmètre               Nature  Consommation  \\\n",
       "                                                                   \n",
       "2015-01-01 00:00:00    France  Données définitives       74494.0   \n",
       "2015-01-01 00:30:00    France  Données définitives       73481.0   \n",
       "2015-01-01 01:00:00    France  Données définitives       71506.0   \n",
       "2015-01-01 01:30:00    France  Données définitives       71505.0   \n",
       "2015-01-01 02:00:00    France  Données définitives       71134.0   \n",
       "\n",
       "                     Prévision J-1  Prévision J  Fioul  Charbon     Gaz  \\\n",
       "                                                                          \n",
       "2015-01-01 00:00:00          72900        73700  269.0   2487.0  3476.0   \n",
       "2015-01-01 00:30:00          71600        72400  319.0   2087.0  2691.0   \n",
       "2015-01-01 01:00:00          69900        70600  320.0   1716.0  2436.0   \n",
       "2015-01-01 01:30:00          70600        71300  320.0   1589.0  2440.0   \n",
       "2015-01-01 02:00:00          70500        71100  320.0   1490.0  2441.0   \n",
       "\n",
       "                     Nucléaire  Eolien         ...           Gaz - TAC  \\\n",
       "                                               ...                       \n",
       "2015-01-01 00:00:00    57982.0  1268.0         ...                 3.0   \n",
       "2015-01-01 00:30:00    57856.0  1343.0         ...                 9.0   \n",
       "2015-01-01 01:00:00    57787.0  1356.0         ...                 9.0   \n",
       "2015-01-01 01:30:00    58156.0  1412.0         ...                10.0   \n",
       "2015-01-01 02:00:00    57974.0  1447.0         ...                 9.0   \n",
       "\n",
       "                     Gaz - Cogén.  Gaz - CCG  Gaz - Autres  \\\n",
       "                                                             \n",
       "2015-01-01 00:00:00        2056.0     1350.0          66.0   \n",
       "2015-01-01 00:30:00        1926.0      670.0          86.0   \n",
       "2015-01-01 01:00:00        1919.0      422.0          86.0   \n",
       "2015-01-01 01:30:00        1924.0      420.0          86.0   \n",
       "2015-01-01 02:00:00        1927.0      419.0          86.0   \n",
       "\n",
       "                     Hydraulique - Fil de l?eau + éclusée  Hydraulique - Lacs  \\\n",
       "                                                                                \n",
       "2015-01-01 00:00:00                                4810.0              3093.0   \n",
       "2015-01-01 00:30:00                                4616.0              3561.0   \n",
       "2015-01-01 01:00:00                                4492.0              2805.0   \n",
       "2015-01-01 01:30:00                                4369.0              2623.0   \n",
       "2015-01-01 02:00:00                                4318.0              2670.0   \n",
       "\n",
       "                    Hydraulique - STEP turbinage Bioénergies - Déchets  \\\n",
       "                                                                         \n",
       "2015-01-01 00:00:00                       1418.0                 560.0   \n",
       "2015-01-01 00:30:00                       1487.0                 507.0   \n",
       "2015-01-01 01:00:00                       1182.0                 508.0   \n",
       "2015-01-01 01:30:00                       1301.0                 512.0   \n",
       "2015-01-01 02:00:00                       1115.0                 509.0   \n",
       "\n",
       "                    Bioénergies - Biomasse Bioénergies - Biogaz  \n",
       "                                                                 \n",
       "2015-01-01 00:00:00                  181.0                197.0  \n",
       "2015-01-01 00:30:00                  180.0                210.0  \n",
       "2015-01-01 01:00:00                  174.0                212.0  \n",
       "2015-01-01 01:30:00                  180.0                212.0  \n",
       "2015-01-01 02:00:00                  182.0                211.0  \n",
       "\n",
       "[5 rows x 34 columns]"
      ]
     },
     "execution_count": 37,
     "metadata": {},
     "output_type": "execute_result"
    }
   ],
   "source": [
    "df.set_index('date', verify_integrity=True, inplace=True)\n",
    "df.index.name = ''\n",
    "df.head()"
   ]
  },
  {
   "cell_type": "code",
   "execution_count": 39,
   "metadata": {},
   "outputs": [
    {
     "data": {
      "image/png": "[encoded data removed]",
      "text/plain": [
       "<Figure size 432x288 with 1 Axes>"
      ]
     },
     "metadata": {
      "needs_background": "light"
     },
     "output_type": "display_data"
    }
   ],
   "source": [
    "df.Solaire.plot()\n",
    "plt.ylabel('MW');"
   ]
  },
  {
   "cell_type": "markdown",
   "metadata": {},
   "source": [
    "### File reading automation"
   ]
  },
  {
   "cell_type": "code",
   "execution_count": 46,
   "metadata": {},
   "outputs": [],
   "source": [
    "def read_eCO2mix(fname):\n",
    "    \"\"\"read eCO2mix data file. keep only wind, sun and load\"\"\"\n",
    "    df = pd.read_csv(fname, compression='xz', encoding='windows-1252',\n",
    "                 sep='\\t', skipfooter=2,engine='python',\n",
    "                 index_col=False, parse_dates={'date':[2,3]})\n",
    "    # keep only data at 30 min step\n",
    "    df = df.iloc[::2,:]\n",
    "    # set date as the index\n",
    "    df.set_index('date', verify_integrity=True, inplace=True)\n",
    "    df.index.name = ''\n",
    "    return df.loc[:,['Consommation','Eolien','Solaire']]"
   ]
  },
  {
   "cell_type": "code",
   "execution_count": 47,
   "metadata": {},
   "outputs": [],
   "source": [
    "df = read_eCO2mix('eCO2mix_RTE_Annuel-Definitif_2015.xls.xz')"
   ]
  },
  {
   "cell_type": "markdown",
   "metadata": {},
   "source": [
    "### Data concatenation\n",
    "\n",
    "2015 - 2018"
   ]
  },
  {
   "cell_type": "code",
   "execution_count": 64,
   "metadata": {},
   "outputs": [
    {
     "name": "stdout",
     "output_type": "stream",
     "text": [
      "eCO2mix_RTE_Annuel-Definitif_2015.xls.xz\r\n",
      "eCO2mix_RTE_Annuel-Definitif_2016.xls.xz\r\n",
      "eCO2mix_RTE_Annuel-Definitif_2017.xls.xz\r\n",
      "eCO2mix_RTE_En-cours-Consolide.xls.xz\r\n"
     ]
    }
   ],
   "source": [
    "!ls eCO2mix*.xz"
   ]
  },
  {
   "cell_type": "code",
   "execution_count": null,
   "metadata": {},
   "outputs": [],
   "source": [
    "fname_list = [\n",
    "    'eCO2mix_RTE_Annuel-Definitif_2015.xls.xz',\n",
    "    'eCO2mix_RTE_Annuel-Definitif_2016.xls.xz',\n",
    "    'eCO2mix_RTE_Annuel-Definitif_2017.xls.xz',\n",
    "    'eCO2mix_RTE_En-cours-Consolide.xls.xz'\n",
    "]"
   ]
  },
  {
   "cell_type": "code",
   "execution_count": 56,
   "metadata": {},
   "outputs": [
    {
     "name": "stdout",
     "output_type": "stream",
     "text": [
      "reading eCO2mix_RTE_Annuel-Definitif_2015.xls.xz...\n",
      "reading eCO2mix_RTE_Annuel-Definitif_2016.xls.xz...\n",
      "reading eCO2mix_RTE_Annuel-Definitif_2017.xls.xz...\n",
      "reading eCO2mix_RTE_En-cours-Consolide.xls.xz...\n"
     ]
    }
   ],
   "source": [
    "fname = fname_list[0]\n",
    "print(f'reading {fname}...')\n",
    "df = read_eCO2mix(fname)\n",
    "\n",
    "for fname in fname_list[1:]:\n",
    "    print(f'reading {fname}...')\n",
    "    df =  pd.concat([df, read_eCO2mix(fname)])"
   ]
  },
  {
   "cell_type": "code",
   "execution_count": 63,
   "metadata": {},
   "outputs": [
    {
     "data": {
      "image/png": "[encoded data removed]",
      "text/plain": [
       "<Figure size 432x288 with 1 Axes>"
      ]
     },
     "metadata": {
      "needs_background": "light"
     },
     "output_type": "display_data"
    }
   ],
   "source": [
    "(df/1e3).resample('1W').mean().Consommation.plot()\n",
    "plt.title('Weekly mean consumption')\n",
    "plt.ylabel('GW');"
   ]
  },
  {
   "cell_type": "code",
   "execution_count": 143,
   "metadata": {},
   "outputs": [
    {
     "data": {
      "image/png": "[encoded data removed]",
      "text/plain": [
       "<Figure size 432x288 with 1 Axes>"
      ]
     },
     "metadata": {
      "needs_background": "light"
     },
     "output_type": "display_data"
    }
   ],
   "source": [
    "(df/1e3).resample('1M').mean().Eolien.plot()\n",
    "plt.title('Monthly mean wind production')\n",
    "plt.ylabel('GW');"
   ]
  },
  {
   "cell_type": "code",
   "execution_count": 69,
   "metadata": {},
   "outputs": [
    {
     "data": {
      "text/plain": [
       "\n",
       "2018-12-31 21:30:00    1416.0\n",
       "2018-12-31 22:00:00    1460.0\n",
       "2018-12-31 22:30:00    1551.0\n",
       "2018-12-31 23:00:00    1533.0\n",
       "2018-12-31 23:30:00    1535.0\n",
       "Name: Eolien, dtype: float64"
      ]
     },
     "execution_count": 69,
     "metadata": {},
     "output_type": "execute_result"
    }
   ],
   "source": [
    "df.Eolien.tail()"
   ]
  },
  {
   "cell_type": "markdown",
   "metadata": {},
   "source": [
    "### Compute capacity factor at each instant"
   ]
  },
  {
   "cell_type": "code",
   "execution_count": 88,
   "metadata": {},
   "outputs": [],
   "source": [
    "wind_cf = (df.Eolien/inspow.P_wind).dropna()\n",
    "solar_cf = (df.Solaire/inspow.P_sol).dropna()"
   ]
  },
  {
   "cell_type": "code",
   "execution_count": 144,
   "metadata": {},
   "outputs": [
    {
     "data": {
      "image/png": "[encoded data removed]",
      "text/plain": [
       "<Figure size 432x288 with 1 Axes>"
      ]
     },
     "metadata": {
      "needs_background": "light"
     },
     "output_type": "display_data"
    }
   ],
   "source": [
    "wind_cf.resample('1M').mean().plot()\n",
    "solar_cf.resample('1M').mean().plot()\n",
    "plt.ylim(0,0.45)\n",
    "plt.title('Monthly capacity factors')\n",
    "plt.grid()"
   ]
  },
  {
   "cell_type": "markdown",
   "metadata": {},
   "source": [
    "Comparaison avec RTE's [Panorama de l’électricité renouvelable](https://www.rte-france.com/fr/article/panorama-de-l-electricite-renouvelable), December 2018.\n",
    "\n",
    "→ coherent\n",
    "\n",
    "![Production éolienne (GWh) et facteur de charge mensuels (%), Panorama de l’Électricité Renouvelable en 2018 p16](wind_cf.png)\n",
    "![Production solaire (GWh) et facteur de charge (%) mensuels, Panorama de l’Électricité Renouvelable en 2018, p24](solar_cf.png)"
   ]
  },
  {
   "cell_type": "markdown",
   "metadata": {},
   "source": [
    "## Export load/wind cf/solar cf"
   ]
  },
  {
   "cell_type": "code",
   "execution_count": 97,
   "metadata": {},
   "outputs": [
    {
     "data": {
      "text/html": [
       "<div>\n",
       "<style scoped>\n",
       "    .dataframe tbody tr th:only-of-type {\n",
       "        vertical-align: middle;\n",
       "    }\n",
       "\n",
       "    .dataframe tbody tr th {\n",
       "        vertical-align: top;\n",
       "    }\n",
       "\n",
       "    .dataframe thead th {\n",
       "        text-align: right;\n",
       "    }\n",
       "</style>\n",
       "<table border=\"1\" class=\"dataframe\">\n",
       "  <thead>\n",
       "    <tr style=\"text-align: right;\">\n",
       "      <th></th>\n",
       "      <th>load</th>\n",
       "      <th>wind_cf</th>\n",
       "      <th>solar_cf</th>\n",
       "    </tr>\n",
       "  </thead>\n",
       "  <tbody>\n",
       "    <tr>\n",
       "      <th>2015-01-01 00:00:00</th>\n",
       "      <td>74494.0</td>\n",
       "      <td>0.136113</td>\n",
       "      <td>0.000000</td>\n",
       "    </tr>\n",
       "    <tr>\n",
       "      <th>2015-01-01 00:30:00</th>\n",
       "      <td>73481.0</td>\n",
       "      <td>0.144163</td>\n",
       "      <td>-0.000189</td>\n",
       "    </tr>\n",
       "    <tr>\n",
       "      <th>2015-01-01 01:00:00</th>\n",
       "      <td>71506.0</td>\n",
       "      <td>0.145558</td>\n",
       "      <td>-0.000189</td>\n",
       "    </tr>\n",
       "  </tbody>\n",
       "</table>\n",
       "</div>"
      ],
      "text/plain": [
       "                        load   wind_cf  solar_cf\n",
       "2015-01-01 00:00:00  74494.0  0.136113  0.000000\n",
       "2015-01-01 00:30:00  73481.0  0.144163 -0.000189\n",
       "2015-01-01 01:00:00  71506.0  0.145558 -0.000189"
      ]
     },
     "execution_count": 97,
     "metadata": {},
     "output_type": "execute_result"
    }
   ],
   "source": [
    "lws = pd.DataFrame({'load': df.Consommation, 'wind_cf': wind_cf, 'solar_cf': solar_cf})\n",
    "lws.head(3)"
   ]
  },
  {
   "cell_type": "code",
   "execution_count": 129,
   "metadata": {},
   "outputs": [
    {
     "data": {
      "image/png": "[encoded data removed]",
      "text/plain": [
       "<Figure size 432x288 with 1 Axes>"
      ]
     },
     "metadata": {
      "needs_background": "light"
     },
     "output_type": "display_data"
    }
   ],
   "source": [
    "plt.plot(lws.resample('1M').mean().solar_cf, lws.resample('1M').mean().wind_cf, 'd')\n",
    "ax = plt.gca()\n",
    "ax.grid(True)\n",
    "ax.set(\n",
    "    title='Monthly averaged capacity factors',\n",
    "    xlim=(0, 0.24),\n",
    "    xlabel='solar CF',\n",
    "    ylim=(0, 0.41),\n",
    "    ylabel='wind CF'\n",
    ");"
   ]
  },
  {
   "cell_type": "code",
   "execution_count": 141,
   "metadata": {},
   "outputs": [
    {
     "data": {
      "image/png": "[encoded data removed]",
      "text/plain": [
       "<Figure size 432x288 with 1 Axes>"
      ]
     },
     "metadata": {
      "needs_background": "light"
     },
     "output_type": "display_data"
    }
   ],
   "source": [
    "plt.plot(lws.resample('1D').mean().solar_cf, lws.resample('1D').mean().wind_cf, 'o', alpha=0.2)\n",
    "ax = plt.gca()\n",
    "ax.grid(True)\n",
    "ax.set(\n",
    "    title='Daily averaged capacity factors',\n",
    "    xlim=(0, 0.3),\n",
    "    xlabel='solar CF',\n",
    "    ylim=(0, 0.8),\n",
    "    ylabel='wind CF'\n",
    ");"
   ]
  },
  {
   "cell_type": "code",
   "execution_count": 106,
   "metadata": {},
   "outputs": [],
   "source": [
    "lws.round(6).to_csv('load_wind_solar.csv')"
   ]
  },
  {
   "cell_type": "code",
   "execution_count": 107,
   "metadata": {},
   "outputs": [
    {
     "name": "stdout",
     "output_type": "stream",
     "text": [
      ",load,wind_cf,solar_cf\r\n",
      "2015-01-01 00:00:00,74494.0,0.136113,0.0\r\n",
      "2015-01-01 00:30:00,73481.0,0.144163,-0.000189\r\n",
      "2015-01-01 01:00:00,71506.0,0.145558,-0.000189\r\n",
      "2015-01-01 01:30:00,71505.0,0.151568,-0.000189\r\n",
      "2015-01-01 02:00:00,71134.0,0.155324,-0.000189\r\n",
      "2015-01-01 02:30:00,70856.0,0.161764,0.0\r\n",
      "2015-01-01 03:00:00,68840.0,0.164554,0.0\r\n",
      "2015-01-01 03:30:00,67315.0,0.168524,0.0\r\n",
      "2015-01-01 04:00:00,65749.0,0.168416,0.0\r\n"
     ]
    }
   ],
   "source": [
    "!head load_wind_solar.csv"
   ]
  },
  {
   "cell_type": "code",
   "execution_count": 118,
   "metadata": {},
   "outputs": [
    {
     "name": "stdout",
     "output_type": "stream",
     "text": [
      "-rw-r--r-- 1 pierre pierre 3,1M mars   4 15:23 load_wind_solar.csv\r\n"
     ]
    }
   ],
   "source": [
    "!ls -hl load_wind_solar.csv"
   ]
  },
  {
   "cell_type": "markdown",
   "metadata": {},
   "source": [
    "CSV file compression: 3.1 MB to 0.6 MB"
   ]
  },
  {
   "cell_type": "code",
   "execution_count": 120,
   "metadata": {},
   "outputs": [],
   "source": [
    "!xz load_wind_solar.csv"
   ]
  },
  {
   "cell_type": "code",
   "execution_count": 121,
   "metadata": {},
   "outputs": [
    {
     "name": "stdout",
     "output_type": "stream",
     "text": [
      "-rw-r--r-- 1 pierre pierre 558K mars   4 15:23 load_wind_solar.csv.xz\r\n"
     ]
    }
   ],
   "source": [
    "!ls -hl load_wind_solar.csv.xz"
   ]
  }
 ],
 "metadata": {
  "kernelspec": {
   "display_name": "Python 3",
   "language": "python",
   "name": "python3"
  },
  "language_info": {
   "codemirror_mode": {
    "name": "ipython",
    "version": 3
   },
   "file_extension": ".py",
   "mimetype": "text/x-python",
   "name": "python",
   "nbconvert_exporter": "python",
   "pygments_lexer": "ipython3",
   "version": "3.6.6"
  }
 },
 "nbformat": 4,
 "nbformat_minor": 2
}
